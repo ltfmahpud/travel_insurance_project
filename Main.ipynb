{
 "cells": [
  {
   "cell_type": "markdown",
   "metadata": {
    "id": "ilEmVO2Iw_MC"
   },
   "source": [
    "#**Travel Insurance Claim Prediction with ML Classification Model**"
   ]
  },
  {
   "cell_type": "markdown",
   "metadata": {
    "id": "ZwamWFzxkk1z"
   },
   "source": [
    "**Contents:**\n",
    "\n",
    "1. Business Problem\n",
    "1. Exploratory Data Analysis (EDA)\n",
    "1. Data Cleaning and Modifying\n",
    "1. Modelling Process and Evaluation\n",
    "1. Explain AI\n",
    "1. Conclusion and Recommendation"
   ]
  },
  {
   "cell_type": "markdown",
   "metadata": {
    "id": "3eR4V-C4yRtJ"
   },
   "source": [
    "#Business Problem"
   ]
  },
  {
   "cell_type": "markdown",
   "metadata": {
    "id": "aY_bLE3CEjIA"
   },
   "source": [
    "**Context**"
   ]
  },
  {
   "cell_type": "markdown",
   "metadata": {
    "id": "lXDDvN4qyvWw"
   },
   "source": [
    "When someone plans a trip, especially abroad, they will face various risks that could occur. These risks include illness during the trip, ticket cancellations, or even a broken rental car. To protect themselves from these risks, many travelers choose to buy travel insurance. The insurance provides various types of coverage depending on their needs.\n",
    "\n",
    "However, out of the many insurance policies sold, only a small number are claimed by the insured. When a claim is made, the insurance company needs to ensure that there is enough liquidity available to fulfill its obligations. However, if the liquidity set aside for claims is too large and unused, the insurance company will face a problem, as the liquidity remains idle and does not generate maximum profit.\n",
    "\n",
    "To address this issue, the insurance company must predict the claims that are likely to occur. With accurate predictions, **the company can allocate enough liquidity for the expected claims, while the remaining liquidity can be invested in other products**. This way, the company not only fulfills its obligations to the claims but also maximizes profit through more efficient liquidity allocation."
   ]
  },
  {
   "cell_type": "markdown",
   "metadata": {
    "id": "Ds_UDh_I1LvS"
   },
   "source": [
    "**Data source and Dataset Info**"
   ]
  },
  {
   "cell_type": "markdown",
   "metadata": {
    "id": "GDR53MhP1PFL"
   },
   "source": [
    "The dataset was taken from Kaggle* and it belongs to a travel insurance company. The dataset consist of 11 columns and 44327 rows. The rows indicates the number of insured and the columns are as follows:\n",
    "1. Agency: Name of agency.\n",
    "1. Agency Type: Type of travel insurance agencies.\n",
    "1. Distribution Channel: Channel of travel insurance agencies.\n",
    "1. Product Name: Name of the travel insurance products.\n",
    "1. Gender: Gender of insured.\n",
    "1. Duration: Duration of travel\n",
    "1. Destination: Destination of travel.\n",
    "1. Net Sales: Amount of sales of travel insurance policies.\n",
    "1. Commision (in value): Commission received for travel insurance agency.\n",
    "1. Age: Age of insured.\n",
    "1. Claim: Claim status.\n",
    "\n",
    "*Source: https://www.kaggle.com/datasets/mhdzahier/travel-insurance"
   ]
  },
  {
   "cell_type": "markdown",
   "metadata": {
    "id": "CVoTGFGBchL1"
   },
   "source": [
    "**Goal**"
   ]
  },
  {
   "cell_type": "markdown",
   "metadata": {
    "id": "z8YOX6ylhRmo"
   },
   "source": [
    "The purpose is to create machine learning model which can predict insured who are likely to claim."
   ]
  },
  {
   "cell_type": "markdown",
   "metadata": {
    "id": "gbZqgrFpckDu"
   },
   "source": [
    "**Analytic Approach**"
   ]
  },
  {
   "cell_type": "markdown",
   "metadata": {
    "id": "-jvxtXVrhne0"
   },
   "source": [
    "\n",
    "\n",
    "*   Exploratory Data Analysis (EDA)\n",
    "*   Data Cleaning and Modifying\n",
    "    - Remove unused features\n",
    "    - Duplicate\n",
    "    - Handling missing value\n",
    "    - Remove Outlier\n",
    "    - Feature Modifying\n",
    "*   Modelling Process and Optimalization\n",
    "    - Encoding and Scaling\n",
    "    - Handling Imbalance Classification   \n",
    "    - Data Splitting\n",
    "    - Compare performance from some candidate algorithms\n",
    "    - Hyperparameter Tuning\n",
    "*   Explain AI\n",
    "    - Confusion Matrix\n",
    "    - Feature Coefficient\n",
    "\n"
   ]
  },
  {
   "cell_type": "markdown",
   "metadata": {
    "id": "B1LlsvMscpod"
   },
   "source": [
    "**Metric Evaluation**"
   ]
  },
  {
   "cell_type": "markdown",
   "metadata": {
    "id": "epWc4jHTmiJo"
   },
   "source": [
    "Primary Metric: Recall.\n",
    ">Our goal is to calculate the number of predictions that make a claim, whether or not the claim is valid. This aims to avoid situations where we predict no claim, but in reality, there is a claim. If liquidity cannot cover the claim submission, the company's reputation in the eyes of customers will be severely damaged.\n",
    "\n",
    "Second-hand Metric: Accuracy and ROC_AUC.\n",
    ">Other metric will be used for us to understand more about the model."
   ]
  },
  {
   "cell_type": "markdown",
   "metadata": {
    "id": "XLikeZl-reow"
   },
   "source": [
    "#Exploratory Data Analysis (EDA)"
   ]
  },
  {
   "cell_type": "markdown",
   "metadata": {
    "id": "ThOnFk4prszV"
   },
   "source": [
    "**Import Library and Dataset**"
   ]
  },
  {
   "cell_type": "code",
   "execution_count": null,
   "metadata": {
    "id": "vp-oCdrj7kJ2"
   },
   "outputs": [],
   "source": [
    "# Library for Data handling\n",
    "import numpy as np\n",
    "import pandas as pd\n",
    "\n",
    "# Library for Data Visualization\n",
    "import matplotlib.pyplot as plt\n",
    "import seaborn as sns\n",
    "import plotly.express as px\n",
    "\n",
    "# Library ignone warning\n",
    "import sys\n",
    "import warnings\n",
    "if not sys.warnoptions:\n",
    "    warnings.simplefilter(\"ignore\")\n",
    "\n",
    "# # Set max columns\n",
    "# pd.set_option('display.max_columns', None)"
   ]
  },
  {
   "cell_type": "code",
   "execution_count": null,
   "metadata": {
    "colab": {
     "base_uri": "https://localhost:8080/",
     "height": 265
    },
    "id": "HKjSOeoZ7-h0",
    "outputId": "b72da8b0-f398-4a9c-fb7b-e96985e2ef67"
   },
   "outputs": [
    {
     "data": {
      "application/vnd.google.colaboratory.intrinsic+json": {
       "summary": "{\n  \"name\": \"travel\",\n  \"rows\": 3,\n  \"fields\": [\n    {\n      \"column\": \"Agency\",\n      \"properties\": {\n        \"dtype\": \"string\",\n        \"num_unique_values\": 2,\n        \"samples\": [\n          \"CWT\",\n          \"JZI\"\n        ],\n        \"semantic_type\": \"\",\n        \"description\": \"\"\n      }\n    },\n    {\n      \"column\": \"Agency Type\",\n      \"properties\": {\n        \"dtype\": \"string\",\n        \"num_unique_values\": 2,\n        \"samples\": [\n          \"Travel Agency\",\n          \"Airlines\"\n        ],\n        \"semantic_type\": \"\",\n        \"description\": \"\"\n      }\n    },\n    {\n      \"column\": \"Distribution Channel\",\n      \"properties\": {\n        \"dtype\": \"category\",\n        \"num_unique_values\": 1,\n        \"samples\": [\n          \"Online\"\n        ],\n        \"semantic_type\": \"\",\n        \"description\": \"\"\n      }\n    },\n    {\n      \"column\": \"Product Name\",\n      \"properties\": {\n        \"dtype\": \"string\",\n        \"num_unique_values\": 2,\n        \"samples\": [\n          \"Rental Vehicle Excess Insurance\"\n        ],\n        \"semantic_type\": \"\",\n        \"description\": \"\"\n      }\n    },\n    {\n      \"column\": \"Gender\",\n      \"properties\": {\n        \"dtype\": \"category\",\n        \"num_unique_values\": 1,\n        \"samples\": [\n          \"F\"\n        ],\n        \"semantic_type\": \"\",\n        \"description\": \"\"\n      }\n    },\n    {\n      \"column\": \"Duration\",\n      \"properties\": {\n        \"dtype\": \"number\",\n        \"std\": 7,\n        \"min\": 6,\n        \"max\": 20,\n        \"num_unique_values\": 3,\n        \"samples\": [\n          11\n        ],\n        \"semantic_type\": \"\",\n        \"description\": \"\"\n      }\n    },\n    {\n      \"column\": \"Destination\",\n      \"properties\": {\n        \"dtype\": \"string\",\n        \"num_unique_values\": 3,\n        \"samples\": [\n          \"VIET NAM\"\n        ],\n        \"semantic_type\": \"\",\n        \"description\": \"\"\n      }\n    },\n    {\n      \"column\": \"Net Sales\",\n      \"properties\": {\n        \"dtype\": \"number\",\n        \"std\": 25.379584971652573,\n        \"min\": 22.0,\n        \"max\": 69.3,\n        \"num_unique_values\": 3,\n        \"samples\": [\n          22.0\n        ],\n        \"semantic_type\": \"\",\n        \"description\": \"\"\n      }\n    },\n    {\n      \"column\": \"Commision (in value)\",\n      \"properties\": {\n        \"dtype\": \"number\",\n        \"std\": 17.391599504741745,\n        \"min\": 7.7,\n        \"max\": 41.58,\n        \"num_unique_values\": 3,\n        \"samples\": [\n          7.7\n        ],\n        \"semantic_type\": \"\",\n        \"description\": \"\"\n      }\n    },\n    {\n      \"column\": \"Age\",\n      \"properties\": {\n        \"dtype\": \"number\",\n        \"std\": 17,\n        \"min\": 24,\n        \"max\": 57,\n        \"num_unique_values\": 3,\n        \"samples\": [\n          24\n        ],\n        \"semantic_type\": \"\",\n        \"description\": \"\"\n      }\n    },\n    {\n      \"column\": \"Claim\",\n      \"properties\": {\n        \"dtype\": \"category\",\n        \"num_unique_values\": 1,\n        \"samples\": [\n          \"No\"\n        ],\n        \"semantic_type\": \"\",\n        \"description\": \"\"\n      }\n    }\n  ]\n}",
       "type": "dataframe"
      },
      "text/html": [
       "\n",
       "  <div id=\"df-cb116746-7bce-4a5a-88b4-86752a3a6a73\" class=\"colab-df-container\">\n",
       "    <div>\n",
       "<style scoped>\n",
       "    .dataframe tbody tr th:only-of-type {\n",
       "        vertical-align: middle;\n",
       "    }\n",
       "\n",
       "    .dataframe tbody tr th {\n",
       "        vertical-align: top;\n",
       "    }\n",
       "\n",
       "    .dataframe thead th {\n",
       "        text-align: right;\n",
       "    }\n",
       "</style>\n",
       "<table border=\"1\" class=\"dataframe\">\n",
       "  <thead>\n",
       "    <tr style=\"text-align: right;\">\n",
       "      <th></th>\n",
       "      <th>Agency</th>\n",
       "      <th>Agency Type</th>\n",
       "      <th>Distribution Channel</th>\n",
       "      <th>Product Name</th>\n",
       "      <th>Gender</th>\n",
       "      <th>Duration</th>\n",
       "      <th>Destination</th>\n",
       "      <th>Net Sales</th>\n",
       "      <th>Commision (in value)</th>\n",
       "      <th>Age</th>\n",
       "      <th>Claim</th>\n",
       "    </tr>\n",
       "  </thead>\n",
       "  <tbody>\n",
       "    <tr>\n",
       "      <th>44026</th>\n",
       "      <td>JZI</td>\n",
       "      <td>Airlines</td>\n",
       "      <td>Online</td>\n",
       "      <td>Basic Plan</td>\n",
       "      <td>F</td>\n",
       "      <td>11</td>\n",
       "      <td>VIET NAM</td>\n",
       "      <td>22.0</td>\n",
       "      <td>7.70</td>\n",
       "      <td>24</td>\n",
       "      <td>No</td>\n",
       "    </tr>\n",
       "    <tr>\n",
       "      <th>4554</th>\n",
       "      <td>CWT</td>\n",
       "      <td>Travel Agency</td>\n",
       "      <td>Online</td>\n",
       "      <td>Rental Vehicle Excess Insurance</td>\n",
       "      <td>NaN</td>\n",
       "      <td>6</td>\n",
       "      <td>CANADA</td>\n",
       "      <td>29.7</td>\n",
       "      <td>17.82</td>\n",
       "      <td>57</td>\n",
       "      <td>No</td>\n",
       "    </tr>\n",
       "    <tr>\n",
       "      <th>3561</th>\n",
       "      <td>CWT</td>\n",
       "      <td>Travel Agency</td>\n",
       "      <td>Online</td>\n",
       "      <td>Rental Vehicle Excess Insurance</td>\n",
       "      <td>NaN</td>\n",
       "      <td>20</td>\n",
       "      <td>KOREA, REPUBLIC OF</td>\n",
       "      <td>69.3</td>\n",
       "      <td>41.58</td>\n",
       "      <td>48</td>\n",
       "      <td>No</td>\n",
       "    </tr>\n",
       "  </tbody>\n",
       "</table>\n",
       "</div>\n",
       "    <div class=\"colab-df-buttons\">\n",
       "\n",
       "  <div class=\"colab-df-container\">\n",
       "    <button class=\"colab-df-convert\" onclick=\"convertToInteractive('df-cb116746-7bce-4a5a-88b4-86752a3a6a73')\"\n",
       "            title=\"Convert this dataframe to an interactive table.\"\n",
       "            style=\"display:none;\">\n",
       "\n",
       "  <svg xmlns=\"http://www.w3.org/2000/svg\" height=\"24px\" viewBox=\"0 -960 960 960\">\n",
       "    <path d=\"M120-120v-720h720v720H120Zm60-500h600v-160H180v160Zm220 220h160v-160H400v160Zm0 220h160v-160H400v160ZM180-400h160v-160H180v160Zm440 0h160v-160H620v160ZM180-180h160v-160H180v160Zm440 0h160v-160H620v160Z\"/>\n",
       "  </svg>\n",
       "    </button>\n",
       "\n",
       "  <style>\n",
       "    .colab-df-container {\n",
       "      display:flex;\n",
       "      gap: 12px;\n",
       "    }\n",
       "\n",
       "    .colab-df-convert {\n",
       "      background-color: #E8F0FE;\n",
       "      border: none;\n",
       "      border-radius: 50%;\n",
       "      cursor: pointer;\n",
       "      display: none;\n",
       "      fill: #1967D2;\n",
       "      height: 32px;\n",
       "      padding: 0 0 0 0;\n",
       "      width: 32px;\n",
       "    }\n",
       "\n",
       "    .colab-df-convert:hover {\n",
       "      background-color: #E2EBFA;\n",
       "      box-shadow: 0px 1px 2px rgba(60, 64, 67, 0.3), 0px 1px 3px 1px rgba(60, 64, 67, 0.15);\n",
       "      fill: #174EA6;\n",
       "    }\n",
       "\n",
       "    .colab-df-buttons div {\n",
       "      margin-bottom: 4px;\n",
       "    }\n",
       "\n",
       "    [theme=dark] .colab-df-convert {\n",
       "      background-color: #3B4455;\n",
       "      fill: #D2E3FC;\n",
       "    }\n",
       "\n",
       "    [theme=dark] .colab-df-convert:hover {\n",
       "      background-color: #434B5C;\n",
       "      box-shadow: 0px 1px 3px 1px rgba(0, 0, 0, 0.15);\n",
       "      filter: drop-shadow(0px 1px 2px rgba(0, 0, 0, 0.3));\n",
       "      fill: #FFFFFF;\n",
       "    }\n",
       "  </style>\n",
       "\n",
       "    <script>\n",
       "      const buttonEl =\n",
       "        document.querySelector('#df-cb116746-7bce-4a5a-88b4-86752a3a6a73 button.colab-df-convert');\n",
       "      buttonEl.style.display =\n",
       "        google.colab.kernel.accessAllowed ? 'block' : 'none';\n",
       "\n",
       "      async function convertToInteractive(key) {\n",
       "        const element = document.querySelector('#df-cb116746-7bce-4a5a-88b4-86752a3a6a73');\n",
       "        const dataTable =\n",
       "          await google.colab.kernel.invokeFunction('convertToInteractive',\n",
       "                                                    [key], {});\n",
       "        if (!dataTable) return;\n",
       "\n",
       "        const docLinkHtml = 'Like what you see? Visit the ' +\n",
       "          '<a target=\"_blank\" href=https://colab.research.google.com/notebooks/data_table.ipynb>data table notebook</a>'\n",
       "          + ' to learn more about interactive tables.';\n",
       "        element.innerHTML = '';\n",
       "        dataTable['output_type'] = 'display_data';\n",
       "        await google.colab.output.renderOutput(dataTable, element);\n",
       "        const docLink = document.createElement('div');\n",
       "        docLink.innerHTML = docLinkHtml;\n",
       "        element.appendChild(docLink);\n",
       "      }\n",
       "    </script>\n",
       "  </div>\n",
       "\n",
       "\n",
       "<div id=\"df-015288bf-4116-48f8-bd30-58dece0e3e47\">\n",
       "  <button class=\"colab-df-quickchart\" onclick=\"quickchart('df-015288bf-4116-48f8-bd30-58dece0e3e47')\"\n",
       "            title=\"Suggest charts\"\n",
       "            style=\"display:none;\">\n",
       "\n",
       "<svg xmlns=\"http://www.w3.org/2000/svg\" height=\"24px\"viewBox=\"0 0 24 24\"\n",
       "     width=\"24px\">\n",
       "    <g>\n",
       "        <path d=\"M19 3H5c-1.1 0-2 .9-2 2v14c0 1.1.9 2 2 2h14c1.1 0 2-.9 2-2V5c0-1.1-.9-2-2-2zM9 17H7v-7h2v7zm4 0h-2V7h2v10zm4 0h-2v-4h2v4z\"/>\n",
       "    </g>\n",
       "</svg>\n",
       "  </button>\n",
       "\n",
       "<style>\n",
       "  .colab-df-quickchart {\n",
       "      --bg-color: #E8F0FE;\n",
       "      --fill-color: #1967D2;\n",
       "      --hover-bg-color: #E2EBFA;\n",
       "      --hover-fill-color: #174EA6;\n",
       "      --disabled-fill-color: #AAA;\n",
       "      --disabled-bg-color: #DDD;\n",
       "  }\n",
       "\n",
       "  [theme=dark] .colab-df-quickchart {\n",
       "      --bg-color: #3B4455;\n",
       "      --fill-color: #D2E3FC;\n",
       "      --hover-bg-color: #434B5C;\n",
       "      --hover-fill-color: #FFFFFF;\n",
       "      --disabled-bg-color: #3B4455;\n",
       "      --disabled-fill-color: #666;\n",
       "  }\n",
       "\n",
       "  .colab-df-quickchart {\n",
       "    background-color: var(--bg-color);\n",
       "    border: none;\n",
       "    border-radius: 50%;\n",
       "    cursor: pointer;\n",
       "    display: none;\n",
       "    fill: var(--fill-color);\n",
       "    height: 32px;\n",
       "    padding: 0;\n",
       "    width: 32px;\n",
       "  }\n",
       "\n",
       "  .colab-df-quickchart:hover {\n",
       "    background-color: var(--hover-bg-color);\n",
       "    box-shadow: 0 1px 2px rgba(60, 64, 67, 0.3), 0 1px 3px 1px rgba(60, 64, 67, 0.15);\n",
       "    fill: var(--button-hover-fill-color);\n",
       "  }\n",
       "\n",
       "  .colab-df-quickchart-complete:disabled,\n",
       "  .colab-df-quickchart-complete:disabled:hover {\n",
       "    background-color: var(--disabled-bg-color);\n",
       "    fill: var(--disabled-fill-color);\n",
       "    box-shadow: none;\n",
       "  }\n",
       "\n",
       "  .colab-df-spinner {\n",
       "    border: 2px solid var(--fill-color);\n",
       "    border-color: transparent;\n",
       "    border-bottom-color: var(--fill-color);\n",
       "    animation:\n",
       "      spin 1s steps(1) infinite;\n",
       "  }\n",
       "\n",
       "  @keyframes spin {\n",
       "    0% {\n",
       "      border-color: transparent;\n",
       "      border-bottom-color: var(--fill-color);\n",
       "      border-left-color: var(--fill-color);\n",
       "    }\n",
       "    20% {\n",
       "      border-color: transparent;\n",
       "      border-left-color: var(--fill-color);\n",
       "      border-top-color: var(--fill-color);\n",
       "    }\n",
       "    30% {\n",
       "      border-color: transparent;\n",
       "      border-left-color: var(--fill-color);\n",
       "      border-top-color: var(--fill-color);\n",
       "      border-right-color: var(--fill-color);\n",
       "    }\n",
       "    40% {\n",
       "      border-color: transparent;\n",
       "      border-right-color: var(--fill-color);\n",
       "      border-top-color: var(--fill-color);\n",
       "    }\n",
       "    60% {\n",
       "      border-color: transparent;\n",
       "      border-right-color: var(--fill-color);\n",
       "    }\n",
       "    80% {\n",
       "      border-color: transparent;\n",
       "      border-right-color: var(--fill-color);\n",
       "      border-bottom-color: var(--fill-color);\n",
       "    }\n",
       "    90% {\n",
       "      border-color: transparent;\n",
       "      border-bottom-color: var(--fill-color);\n",
       "    }\n",
       "  }\n",
       "</style>\n",
       "\n",
       "  <script>\n",
       "    async function quickchart(key) {\n",
       "      const quickchartButtonEl =\n",
       "        document.querySelector('#' + key + ' button');\n",
       "      quickchartButtonEl.disabled = true;  // To prevent multiple clicks.\n",
       "      quickchartButtonEl.classList.add('colab-df-spinner');\n",
       "      try {\n",
       "        const charts = await google.colab.kernel.invokeFunction(\n",
       "            'suggestCharts', [key], {});\n",
       "      } catch (error) {\n",
       "        console.error('Error during call to suggestCharts:', error);\n",
       "      }\n",
       "      quickchartButtonEl.classList.remove('colab-df-spinner');\n",
       "      quickchartButtonEl.classList.add('colab-df-quickchart-complete');\n",
       "    }\n",
       "    (() => {\n",
       "      let quickchartButtonEl =\n",
       "        document.querySelector('#df-015288bf-4116-48f8-bd30-58dece0e3e47 button');\n",
       "      quickchartButtonEl.style.display =\n",
       "        google.colab.kernel.accessAllowed ? 'block' : 'none';\n",
       "    })();\n",
       "  </script>\n",
       "</div>\n",
       "\n",
       "    </div>\n",
       "  </div>\n"
      ],
      "text/plain": [
       "      Agency    Agency Type Distribution Channel  \\\n",
       "44026    JZI       Airlines               Online   \n",
       "4554     CWT  Travel Agency               Online   \n",
       "3561     CWT  Travel Agency               Online   \n",
       "\n",
       "                          Product Name Gender  Duration         Destination  \\\n",
       "44026                       Basic Plan      F        11            VIET NAM   \n",
       "4554   Rental Vehicle Excess Insurance    NaN         6              CANADA   \n",
       "3561   Rental Vehicle Excess Insurance    NaN        20  KOREA, REPUBLIC OF   \n",
       "\n",
       "       Net Sales  Commision (in value)  Age Claim  \n",
       "44026       22.0                  7.70   24    No  \n",
       "4554        29.7                 17.82   57    No  \n",
       "3561        69.3                 41.58   48    No  "
      ]
     },
     "execution_count": 2,
     "metadata": {},
     "output_type": "execute_result"
    }
   ],
   "source": [
    "# Load dataset\n",
    "travel = pd.read_csv('/content/data_travel_insurance.csv')\n",
    "\n",
    "travel.sample(3)"
   ]
  },
  {
   "cell_type": "code",
   "execution_count": null,
   "metadata": {
    "colab": {
     "base_uri": "https://localhost:8080/"
    },
    "id": "E2go1u3RpvIt",
    "outputId": "f4de65e8-84a7-4244-aa6e-e9e3c9b46df7"
   },
   "outputs": [
    {
     "name": "stdout",
     "output_type": "stream",
     "text": [
      "<class 'pandas.core.frame.DataFrame'>\n",
      "RangeIndex: 44328 entries, 0 to 44327\n",
      "Data columns (total 11 columns):\n",
      " #   Column                Non-Null Count  Dtype  \n",
      "---  ------                --------------  -----  \n",
      " 0   Agency                44328 non-null  object \n",
      " 1   Agency Type           44328 non-null  object \n",
      " 2   Distribution Channel  44328 non-null  object \n",
      " 3   Product Name          44328 non-null  object \n",
      " 4   Gender                12681 non-null  object \n",
      " 5   Duration              44328 non-null  int64  \n",
      " 6   Destination           44328 non-null  object \n",
      " 7   Net Sales             44328 non-null  float64\n",
      " 8   Commision (in value)  44328 non-null  float64\n",
      " 9   Age                   44328 non-null  int64  \n",
      " 10  Claim                 44328 non-null  object \n",
      "dtypes: float64(2), int64(2), object(7)\n",
      "memory usage: 3.7+ MB\n"
     ]
    }
   ],
   "source": [
    "# Summary from dataset\n",
    "travel.info()"
   ]
  },
  {
   "cell_type": "code",
   "execution_count": null,
   "metadata": {
    "colab": {
     "base_uri": "https://localhost:8080/",
     "height": 300
    },
    "id": "JD0v2pMmpzZN",
    "outputId": "5f9886ae-6360-444e-e342-32878c6e8d89"
   },
   "outputs": [
    {
     "data": {
      "application/vnd.google.colaboratory.intrinsic+json": {
       "summary": "{\n  \"name\": \"travel\",\n  \"rows\": 8,\n  \"fields\": [\n    {\n      \"column\": \"Duration\",\n      \"properties\": {\n        \"dtype\": \"number\",\n        \"std\": 15506.4204037112,\n        \"min\": -1.0,\n        \"max\": 44328.0,\n        \"num_unique_values\": 8,\n        \"samples\": [\n          49.42429164410756,\n          22.0,\n          44328.0\n        ],\n        \"semantic_type\": \"\",\n        \"description\": \"\"\n      }\n    },\n    {\n      \"column\": \"Net Sales\",\n      \"properties\": {\n        \"dtype\": \"number\",\n        \"std\": 15643.632931432532,\n        \"min\": -357.5,\n        \"max\": 44328.0,\n        \"num_unique_values\": 8,\n        \"samples\": [\n          40.55094815917705,\n          26.5,\n          44328.0\n        ],\n        \"semantic_type\": \"\",\n        \"description\": \"\"\n      }\n    },\n    {\n      \"column\": \"Commision (in value)\",\n      \"properties\": {\n        \"dtype\": \"number\",\n        \"std\": 15656.231766741528,\n        \"min\": 0.0,\n        \"max\": 44328.0,\n        \"num_unique_values\": 6,\n        \"samples\": [\n          44328.0,\n          9.707691526800216,\n          283.5\n        ],\n        \"semantic_type\": \"\",\n        \"description\": \"\"\n      }\n    },\n    {\n      \"column\": \"Age\",\n      \"properties\": {\n        \"dtype\": \"number\",\n        \"std\": 15657.913904295174,\n        \"min\": 0.0,\n        \"max\": 44328.0,\n        \"num_unique_values\": 8,\n        \"samples\": [\n          39.925600072189134,\n          36.0,\n          44328.0\n        ],\n        \"semantic_type\": \"\",\n        \"description\": \"\"\n      }\n    }\n  ]\n}",
       "type": "dataframe"
      },
      "text/html": [
       "\n",
       "  <div id=\"df-5002e178-5578-4e3e-9eaf-0d3ebd203fc5\" class=\"colab-df-container\">\n",
       "    <div>\n",
       "<style scoped>\n",
       "    .dataframe tbody tr th:only-of-type {\n",
       "        vertical-align: middle;\n",
       "    }\n",
       "\n",
       "    .dataframe tbody tr th {\n",
       "        vertical-align: top;\n",
       "    }\n",
       "\n",
       "    .dataframe thead th {\n",
       "        text-align: right;\n",
       "    }\n",
       "</style>\n",
       "<table border=\"1\" class=\"dataframe\">\n",
       "  <thead>\n",
       "    <tr style=\"text-align: right;\">\n",
       "      <th></th>\n",
       "      <th>Duration</th>\n",
       "      <th>Net Sales</th>\n",
       "      <th>Commision (in value)</th>\n",
       "      <th>Age</th>\n",
       "    </tr>\n",
       "  </thead>\n",
       "  <tbody>\n",
       "    <tr>\n",
       "      <th>count</th>\n",
       "      <td>44328.000000</td>\n",
       "      <td>44328.000000</td>\n",
       "      <td>44328.000000</td>\n",
       "      <td>44328.000000</td>\n",
       "    </tr>\n",
       "    <tr>\n",
       "      <th>mean</th>\n",
       "      <td>49.424292</td>\n",
       "      <td>40.550948</td>\n",
       "      <td>9.707692</td>\n",
       "      <td>39.925600</td>\n",
       "    </tr>\n",
       "    <tr>\n",
       "      <th>std</th>\n",
       "      <td>109.153961</td>\n",
       "      <td>48.661970</td>\n",
       "      <td>19.625637</td>\n",
       "      <td>13.954926</td>\n",
       "    </tr>\n",
       "    <tr>\n",
       "      <th>min</th>\n",
       "      <td>-1.000000</td>\n",
       "      <td>-357.500000</td>\n",
       "      <td>0.000000</td>\n",
       "      <td>0.000000</td>\n",
       "    </tr>\n",
       "    <tr>\n",
       "      <th>25%</th>\n",
       "      <td>9.000000</td>\n",
       "      <td>18.000000</td>\n",
       "      <td>0.000000</td>\n",
       "      <td>35.000000</td>\n",
       "    </tr>\n",
       "    <tr>\n",
       "      <th>50%</th>\n",
       "      <td>22.000000</td>\n",
       "      <td>26.500000</td>\n",
       "      <td>0.000000</td>\n",
       "      <td>36.000000</td>\n",
       "    </tr>\n",
       "    <tr>\n",
       "      <th>75%</th>\n",
       "      <td>53.000000</td>\n",
       "      <td>48.000000</td>\n",
       "      <td>11.550000</td>\n",
       "      <td>43.000000</td>\n",
       "    </tr>\n",
       "    <tr>\n",
       "      <th>max</th>\n",
       "      <td>4881.000000</td>\n",
       "      <td>810.000000</td>\n",
       "      <td>283.500000</td>\n",
       "      <td>118.000000</td>\n",
       "    </tr>\n",
       "  </tbody>\n",
       "</table>\n",
       "</div>\n",
       "    <div class=\"colab-df-buttons\">\n",
       "\n",
       "  <div class=\"colab-df-container\">\n",
       "    <button class=\"colab-df-convert\" onclick=\"convertToInteractive('df-5002e178-5578-4e3e-9eaf-0d3ebd203fc5')\"\n",
       "            title=\"Convert this dataframe to an interactive table.\"\n",
       "            style=\"display:none;\">\n",
       "\n",
       "  <svg xmlns=\"http://www.w3.org/2000/svg\" height=\"24px\" viewBox=\"0 -960 960 960\">\n",
       "    <path d=\"M120-120v-720h720v720H120Zm60-500h600v-160H180v160Zm220 220h160v-160H400v160Zm0 220h160v-160H400v160ZM180-400h160v-160H180v160Zm440 0h160v-160H620v160ZM180-180h160v-160H180v160Zm440 0h160v-160H620v160Z\"/>\n",
       "  </svg>\n",
       "    </button>\n",
       "\n",
       "  <style>\n",
       "    .colab-df-container {\n",
       "      display:flex;\n",
       "      gap: 12px;\n",
       "    }\n",
       "\n",
       "    .colab-df-convert {\n",
       "      background-color: #E8F0FE;\n",
       "      border: none;\n",
       "      border-radius: 50%;\n",
       "      cursor: pointer;\n",
       "      display: none;\n",
       "      fill: #1967D2;\n",
       "      height: 32px;\n",
       "      padding: 0 0 0 0;\n",
       "      width: 32px;\n",
       "    }\n",
       "\n",
       "    .colab-df-convert:hover {\n",
       "      background-color: #E2EBFA;\n",
       "      box-shadow: 0px 1px 2px rgba(60, 64, 67, 0.3), 0px 1px 3px 1px rgba(60, 64, 67, 0.15);\n",
       "      fill: #174EA6;\n",
       "    }\n",
       "\n",
       "    .colab-df-buttons div {\n",
       "      margin-bottom: 4px;\n",
       "    }\n",
       "\n",
       "    [theme=dark] .colab-df-convert {\n",
       "      background-color: #3B4455;\n",
       "      fill: #D2E3FC;\n",
       "    }\n",
       "\n",
       "    [theme=dark] .colab-df-convert:hover {\n",
       "      background-color: #434B5C;\n",
       "      box-shadow: 0px 1px 3px 1px rgba(0, 0, 0, 0.15);\n",
       "      filter: drop-shadow(0px 1px 2px rgba(0, 0, 0, 0.3));\n",
       "      fill: #FFFFFF;\n",
       "    }\n",
       "  </style>\n",
       "\n",
       "    <script>\n",
       "      const buttonEl =\n",
       "        document.querySelector('#df-5002e178-5578-4e3e-9eaf-0d3ebd203fc5 button.colab-df-convert');\n",
       "      buttonEl.style.display =\n",
       "        google.colab.kernel.accessAllowed ? 'block' : 'none';\n",
       "\n",
       "      async function convertToInteractive(key) {\n",
       "        const element = document.querySelector('#df-5002e178-5578-4e3e-9eaf-0d3ebd203fc5');\n",
       "        const dataTable =\n",
       "          await google.colab.kernel.invokeFunction('convertToInteractive',\n",
       "                                                    [key], {});\n",
       "        if (!dataTable) return;\n",
       "\n",
       "        const docLinkHtml = 'Like what you see? Visit the ' +\n",
       "          '<a target=\"_blank\" href=https://colab.research.google.com/notebooks/data_table.ipynb>data table notebook</a>'\n",
       "          + ' to learn more about interactive tables.';\n",
       "        element.innerHTML = '';\n",
       "        dataTable['output_type'] = 'display_data';\n",
       "        await google.colab.output.renderOutput(dataTable, element);\n",
       "        const docLink = document.createElement('div');\n",
       "        docLink.innerHTML = docLinkHtml;\n",
       "        element.appendChild(docLink);\n",
       "      }\n",
       "    </script>\n",
       "  </div>\n",
       "\n",
       "\n",
       "<div id=\"df-e5c0dd83-f3d8-46d6-9e4a-72178f1495b7\">\n",
       "  <button class=\"colab-df-quickchart\" onclick=\"quickchart('df-e5c0dd83-f3d8-46d6-9e4a-72178f1495b7')\"\n",
       "            title=\"Suggest charts\"\n",
       "            style=\"display:none;\">\n",
       "\n",
       "<svg xmlns=\"http://www.w3.org/2000/svg\" height=\"24px\"viewBox=\"0 0 24 24\"\n",
       "     width=\"24px\">\n",
       "    <g>\n",
       "        <path d=\"M19 3H5c-1.1 0-2 .9-2 2v14c0 1.1.9 2 2 2h14c1.1 0 2-.9 2-2V5c0-1.1-.9-2-2-2zM9 17H7v-7h2v7zm4 0h-2V7h2v10zm4 0h-2v-4h2v4z\"/>\n",
       "    </g>\n",
       "</svg>\n",
       "  </button>\n",
       "\n",
       "<style>\n",
       "  .colab-df-quickchart {\n",
       "      --bg-color: #E8F0FE;\n",
       "      --fill-color: #1967D2;\n",
       "      --hover-bg-color: #E2EBFA;\n",
       "      --hover-fill-color: #174EA6;\n",
       "      --disabled-fill-color: #AAA;\n",
       "      --disabled-bg-color: #DDD;\n",
       "  }\n",
       "\n",
       "  [theme=dark] .colab-df-quickchart {\n",
       "      --bg-color: #3B4455;\n",
       "      --fill-color: #D2E3FC;\n",
       "      --hover-bg-color: #434B5C;\n",
       "      --hover-fill-color: #FFFFFF;\n",
       "      --disabled-bg-color: #3B4455;\n",
       "      --disabled-fill-color: #666;\n",
       "  }\n",
       "\n",
       "  .colab-df-quickchart {\n",
       "    background-color: var(--bg-color);\n",
       "    border: none;\n",
       "    border-radius: 50%;\n",
       "    cursor: pointer;\n",
       "    display: none;\n",
       "    fill: var(--fill-color);\n",
       "    height: 32px;\n",
       "    padding: 0;\n",
       "    width: 32px;\n",
       "  }\n",
       "\n",
       "  .colab-df-quickchart:hover {\n",
       "    background-color: var(--hover-bg-color);\n",
       "    box-shadow: 0 1px 2px rgba(60, 64, 67, 0.3), 0 1px 3px 1px rgba(60, 64, 67, 0.15);\n",
       "    fill: var(--button-hover-fill-color);\n",
       "  }\n",
       "\n",
       "  .colab-df-quickchart-complete:disabled,\n",
       "  .colab-df-quickchart-complete:disabled:hover {\n",
       "    background-color: var(--disabled-bg-color);\n",
       "    fill: var(--disabled-fill-color);\n",
       "    box-shadow: none;\n",
       "  }\n",
       "\n",
       "  .colab-df-spinner {\n",
       "    border: 2px solid var(--fill-color);\n",
       "    border-color: transparent;\n",
       "    border-bottom-color: var(--fill-color);\n",
       "    animation:\n",
       "      spin 1s steps(1) infinite;\n",
       "  }\n",
       "\n",
       "  @keyframes spin {\n",
       "    0% {\n",
       "      border-color: transparent;\n",
       "      border-bottom-color: var(--fill-color);\n",
       "      border-left-color: var(--fill-color);\n",
       "    }\n",
       "    20% {\n",
       "      border-color: transparent;\n",
       "      border-left-color: var(--fill-color);\n",
       "      border-top-color: var(--fill-color);\n",
       "    }\n",
       "    30% {\n",
       "      border-color: transparent;\n",
       "      border-left-color: var(--fill-color);\n",
       "      border-top-color: var(--fill-color);\n",
       "      border-right-color: var(--fill-color);\n",
       "    }\n",
       "    40% {\n",
       "      border-color: transparent;\n",
       "      border-right-color: var(--fill-color);\n",
       "      border-top-color: var(--fill-color);\n",
       "    }\n",
       "    60% {\n",
       "      border-color: transparent;\n",
       "      border-right-color: var(--fill-color);\n",
       "    }\n",
       "    80% {\n",
       "      border-color: transparent;\n",
       "      border-right-color: var(--fill-color);\n",
       "      border-bottom-color: var(--fill-color);\n",
       "    }\n",
       "    90% {\n",
       "      border-color: transparent;\n",
       "      border-bottom-color: var(--fill-color);\n",
       "    }\n",
       "  }\n",
       "</style>\n",
       "\n",
       "  <script>\n",
       "    async function quickchart(key) {\n",
       "      const quickchartButtonEl =\n",
       "        document.querySelector('#' + key + ' button');\n",
       "      quickchartButtonEl.disabled = true;  // To prevent multiple clicks.\n",
       "      quickchartButtonEl.classList.add('colab-df-spinner');\n",
       "      try {\n",
       "        const charts = await google.colab.kernel.invokeFunction(\n",
       "            'suggestCharts', [key], {});\n",
       "      } catch (error) {\n",
       "        console.error('Error during call to suggestCharts:', error);\n",
       "      }\n",
       "      quickchartButtonEl.classList.remove('colab-df-spinner');\n",
       "      quickchartButtonEl.classList.add('colab-df-quickchart-complete');\n",
       "    }\n",
       "    (() => {\n",
       "      let quickchartButtonEl =\n",
       "        document.querySelector('#df-e5c0dd83-f3d8-46d6-9e4a-72178f1495b7 button');\n",
       "      quickchartButtonEl.style.display =\n",
       "        google.colab.kernel.accessAllowed ? 'block' : 'none';\n",
       "    })();\n",
       "  </script>\n",
       "</div>\n",
       "\n",
       "    </div>\n",
       "  </div>\n"
      ],
      "text/plain": [
       "           Duration     Net Sales  Commision (in value)           Age\n",
       "count  44328.000000  44328.000000          44328.000000  44328.000000\n",
       "mean      49.424292     40.550948              9.707692     39.925600\n",
       "std      109.153961     48.661970             19.625637     13.954926\n",
       "min       -1.000000   -357.500000              0.000000      0.000000\n",
       "25%        9.000000     18.000000              0.000000     35.000000\n",
       "50%       22.000000     26.500000              0.000000     36.000000\n",
       "75%       53.000000     48.000000             11.550000     43.000000\n",
       "max     4881.000000    810.000000            283.500000    118.000000"
      ]
     },
     "execution_count": 4,
     "metadata": {},
     "output_type": "execute_result"
    }
   ],
   "source": [
    "# Descriptive Statistics - Numerical Data\n",
    "travel.describe()"
   ]
  },
  {
   "cell_type": "code",
   "execution_count": null,
   "metadata": {
    "colab": {
     "base_uri": "https://localhost:8080/",
     "height": 175
    },
    "id": "LFvRnMvUp5IT",
    "outputId": "f5740a9e-4568-4254-84ba-8e2448288cf6"
   },
   "outputs": [
    {
     "data": {
      "application/vnd.google.colaboratory.intrinsic+json": {
       "summary": "{\n  \"name\": \"travel\",\n  \"rows\": 4,\n  \"fields\": [\n    {\n      \"column\": \"Agency\",\n      \"properties\": {\n        \"dtype\": \"string\",\n        \"num_unique_values\": 4,\n        \"samples\": [\n          16,\n          \"24656\",\n          \"44328\"\n        ],\n        \"semantic_type\": \"\",\n        \"description\": \"\"\n      }\n    },\n    {\n      \"column\": \"Agency Type\",\n      \"properties\": {\n        \"dtype\": \"string\",\n        \"num_unique_values\": 4,\n        \"samples\": [\n          2,\n          \"32113\",\n          \"44328\"\n        ],\n        \"semantic_type\": \"\",\n        \"description\": \"\"\n      }\n    },\n    {\n      \"column\": \"Distribution Channel\",\n      \"properties\": {\n        \"dtype\": \"string\",\n        \"num_unique_values\": 4,\n        \"samples\": [\n          2,\n          \"43572\",\n          \"44328\"\n        ],\n        \"semantic_type\": \"\",\n        \"description\": \"\"\n      }\n    },\n    {\n      \"column\": \"Product Name\",\n      \"properties\": {\n        \"dtype\": \"string\",\n        \"num_unique_values\": 4,\n        \"samples\": [\n          26,\n          \"12979\",\n          \"44328\"\n        ],\n        \"semantic_type\": \"\",\n        \"description\": \"\"\n      }\n    },\n    {\n      \"column\": \"Gender\",\n      \"properties\": {\n        \"dtype\": \"string\",\n        \"num_unique_values\": 4,\n        \"samples\": [\n          2,\n          \"6504\",\n          \"12681\"\n        ],\n        \"semantic_type\": \"\",\n        \"description\": \"\"\n      }\n    },\n    {\n      \"column\": \"Destination\",\n      \"properties\": {\n        \"dtype\": \"string\",\n        \"num_unique_values\": 4,\n        \"samples\": [\n          138,\n          \"9267\",\n          \"44328\"\n        ],\n        \"semantic_type\": \"\",\n        \"description\": \"\"\n      }\n    },\n    {\n      \"column\": \"Claim\",\n      \"properties\": {\n        \"dtype\": \"string\",\n        \"num_unique_values\": 4,\n        \"samples\": [\n          2,\n          \"43651\",\n          \"44328\"\n        ],\n        \"semantic_type\": \"\",\n        \"description\": \"\"\n      }\n    }\n  ]\n}",
       "type": "dataframe"
      },
      "text/html": [
       "\n",
       "  <div id=\"df-dd47363e-9bca-4fd7-badb-13555f62c036\" class=\"colab-df-container\">\n",
       "    <div>\n",
       "<style scoped>\n",
       "    .dataframe tbody tr th:only-of-type {\n",
       "        vertical-align: middle;\n",
       "    }\n",
       "\n",
       "    .dataframe tbody tr th {\n",
       "        vertical-align: top;\n",
       "    }\n",
       "\n",
       "    .dataframe thead th {\n",
       "        text-align: right;\n",
       "    }\n",
       "</style>\n",
       "<table border=\"1\" class=\"dataframe\">\n",
       "  <thead>\n",
       "    <tr style=\"text-align: right;\">\n",
       "      <th></th>\n",
       "      <th>Agency</th>\n",
       "      <th>Agency Type</th>\n",
       "      <th>Distribution Channel</th>\n",
       "      <th>Product Name</th>\n",
       "      <th>Gender</th>\n",
       "      <th>Destination</th>\n",
       "      <th>Claim</th>\n",
       "    </tr>\n",
       "  </thead>\n",
       "  <tbody>\n",
       "    <tr>\n",
       "      <th>count</th>\n",
       "      <td>44328</td>\n",
       "      <td>44328</td>\n",
       "      <td>44328</td>\n",
       "      <td>44328</td>\n",
       "      <td>12681</td>\n",
       "      <td>44328</td>\n",
       "      <td>44328</td>\n",
       "    </tr>\n",
       "    <tr>\n",
       "      <th>unique</th>\n",
       "      <td>16</td>\n",
       "      <td>2</td>\n",
       "      <td>2</td>\n",
       "      <td>26</td>\n",
       "      <td>2</td>\n",
       "      <td>138</td>\n",
       "      <td>2</td>\n",
       "    </tr>\n",
       "    <tr>\n",
       "      <th>top</th>\n",
       "      <td>EPX</td>\n",
       "      <td>Travel Agency</td>\n",
       "      <td>Online</td>\n",
       "      <td>Cancellation Plan</td>\n",
       "      <td>M</td>\n",
       "      <td>SINGAPORE</td>\n",
       "      <td>No</td>\n",
       "    </tr>\n",
       "    <tr>\n",
       "      <th>freq</th>\n",
       "      <td>24656</td>\n",
       "      <td>32113</td>\n",
       "      <td>43572</td>\n",
       "      <td>12979</td>\n",
       "      <td>6504</td>\n",
       "      <td>9267</td>\n",
       "      <td>43651</td>\n",
       "    </tr>\n",
       "  </tbody>\n",
       "</table>\n",
       "</div>\n",
       "    <div class=\"colab-df-buttons\">\n",
       "\n",
       "  <div class=\"colab-df-container\">\n",
       "    <button class=\"colab-df-convert\" onclick=\"convertToInteractive('df-dd47363e-9bca-4fd7-badb-13555f62c036')\"\n",
       "            title=\"Convert this dataframe to an interactive table.\"\n",
       "            style=\"display:none;\">\n",
       "\n",
       "  <svg xmlns=\"http://www.w3.org/2000/svg\" height=\"24px\" viewBox=\"0 -960 960 960\">\n",
       "    <path d=\"M120-120v-720h720v720H120Zm60-500h600v-160H180v160Zm220 220h160v-160H400v160Zm0 220h160v-160H400v160ZM180-400h160v-160H180v160Zm440 0h160v-160H620v160ZM180-180h160v-160H180v160Zm440 0h160v-160H620v160Z\"/>\n",
       "  </svg>\n",
       "    </button>\n",
       "\n",
       "  <style>\n",
       "    .colab-df-container {\n",
       "      display:flex;\n",
       "      gap: 12px;\n",
       "    }\n",
       "\n",
       "    .colab-df-convert {\n",
       "      background-color: #E8F0FE;\n",
       "      border: none;\n",
       "      border-radius: 50%;\n",
       "      cursor: pointer;\n",
       "      display: none;\n",
       "      fill: #1967D2;\n",
       "      height: 32px;\n",
       "      padding: 0 0 0 0;\n",
       "      width: 32px;\n",
       "    }\n",
       "\n",
       "    .colab-df-convert:hover {\n",
       "      background-color: #E2EBFA;\n",
       "      box-shadow: 0px 1px 2px rgba(60, 64, 67, 0.3), 0px 1px 3px 1px rgba(60, 64, 67, 0.15);\n",
       "      fill: #174EA6;\n",
       "    }\n",
       "\n",
       "    .colab-df-buttons div {\n",
       "      margin-bottom: 4px;\n",
       "    }\n",
       "\n",
       "    [theme=dark] .colab-df-convert {\n",
       "      background-color: #3B4455;\n",
       "      fill: #D2E3FC;\n",
       "    }\n",
       "\n",
       "    [theme=dark] .colab-df-convert:hover {\n",
       "      background-color: #434B5C;\n",
       "      box-shadow: 0px 1px 3px 1px rgba(0, 0, 0, 0.15);\n",
       "      filter: drop-shadow(0px 1px 2px rgba(0, 0, 0, 0.3));\n",
       "      fill: #FFFFFF;\n",
       "    }\n",
       "  </style>\n",
       "\n",
       "    <script>\n",
       "      const buttonEl =\n",
       "        document.querySelector('#df-dd47363e-9bca-4fd7-badb-13555f62c036 button.colab-df-convert');\n",
       "      buttonEl.style.display =\n",
       "        google.colab.kernel.accessAllowed ? 'block' : 'none';\n",
       "\n",
       "      async function convertToInteractive(key) {\n",
       "        const element = document.querySelector('#df-dd47363e-9bca-4fd7-badb-13555f62c036');\n",
       "        const dataTable =\n",
       "          await google.colab.kernel.invokeFunction('convertToInteractive',\n",
       "                                                    [key], {});\n",
       "        if (!dataTable) return;\n",
       "\n",
       "        const docLinkHtml = 'Like what you see? Visit the ' +\n",
       "          '<a target=\"_blank\" href=https://colab.research.google.com/notebooks/data_table.ipynb>data table notebook</a>'\n",
       "          + ' to learn more about interactive tables.';\n",
       "        element.innerHTML = '';\n",
       "        dataTable['output_type'] = 'display_data';\n",
       "        await google.colab.output.renderOutput(dataTable, element);\n",
       "        const docLink = document.createElement('div');\n",
       "        docLink.innerHTML = docLinkHtml;\n",
       "        element.appendChild(docLink);\n",
       "      }\n",
       "    </script>\n",
       "  </div>\n",
       "\n",
       "\n",
       "<div id=\"df-ce3f6249-deaa-4c58-963e-5e633e02c200\">\n",
       "  <button class=\"colab-df-quickchart\" onclick=\"quickchart('df-ce3f6249-deaa-4c58-963e-5e633e02c200')\"\n",
       "            title=\"Suggest charts\"\n",
       "            style=\"display:none;\">\n",
       "\n",
       "<svg xmlns=\"http://www.w3.org/2000/svg\" height=\"24px\"viewBox=\"0 0 24 24\"\n",
       "     width=\"24px\">\n",
       "    <g>\n",
       "        <path d=\"M19 3H5c-1.1 0-2 .9-2 2v14c0 1.1.9 2 2 2h14c1.1 0 2-.9 2-2V5c0-1.1-.9-2-2-2zM9 17H7v-7h2v7zm4 0h-2V7h2v10zm4 0h-2v-4h2v4z\"/>\n",
       "    </g>\n",
       "</svg>\n",
       "  </button>\n",
       "\n",
       "<style>\n",
       "  .colab-df-quickchart {\n",
       "      --bg-color: #E8F0FE;\n",
       "      --fill-color: #1967D2;\n",
       "      --hover-bg-color: #E2EBFA;\n",
       "      --hover-fill-color: #174EA6;\n",
       "      --disabled-fill-color: #AAA;\n",
       "      --disabled-bg-color: #DDD;\n",
       "  }\n",
       "\n",
       "  [theme=dark] .colab-df-quickchart {\n",
       "      --bg-color: #3B4455;\n",
       "      --fill-color: #D2E3FC;\n",
       "      --hover-bg-color: #434B5C;\n",
       "      --hover-fill-color: #FFFFFF;\n",
       "      --disabled-bg-color: #3B4455;\n",
       "      --disabled-fill-color: #666;\n",
       "  }\n",
       "\n",
       "  .colab-df-quickchart {\n",
       "    background-color: var(--bg-color);\n",
       "    border: none;\n",
       "    border-radius: 50%;\n",
       "    cursor: pointer;\n",
       "    display: none;\n",
       "    fill: var(--fill-color);\n",
       "    height: 32px;\n",
       "    padding: 0;\n",
       "    width: 32px;\n",
       "  }\n",
       "\n",
       "  .colab-df-quickchart:hover {\n",
       "    background-color: var(--hover-bg-color);\n",
       "    box-shadow: 0 1px 2px rgba(60, 64, 67, 0.3), 0 1px 3px 1px rgba(60, 64, 67, 0.15);\n",
       "    fill: var(--button-hover-fill-color);\n",
       "  }\n",
       "\n",
       "  .colab-df-quickchart-complete:disabled,\n",
       "  .colab-df-quickchart-complete:disabled:hover {\n",
       "    background-color: var(--disabled-bg-color);\n",
       "    fill: var(--disabled-fill-color);\n",
       "    box-shadow: none;\n",
       "  }\n",
       "\n",
       "  .colab-df-spinner {\n",
       "    border: 2px solid var(--fill-color);\n",
       "    border-color: transparent;\n",
       "    border-bottom-color: var(--fill-color);\n",
       "    animation:\n",
       "      spin 1s steps(1) infinite;\n",
       "  }\n",
       "\n",
       "  @keyframes spin {\n",
       "    0% {\n",
       "      border-color: transparent;\n",
       "      border-bottom-color: var(--fill-color);\n",
       "      border-left-color: var(--fill-color);\n",
       "    }\n",
       "    20% {\n",
       "      border-color: transparent;\n",
       "      border-left-color: var(--fill-color);\n",
       "      border-top-color: var(--fill-color);\n",
       "    }\n",
       "    30% {\n",
       "      border-color: transparent;\n",
       "      border-left-color: var(--fill-color);\n",
       "      border-top-color: var(--fill-color);\n",
       "      border-right-color: var(--fill-color);\n",
       "    }\n",
       "    40% {\n",
       "      border-color: transparent;\n",
       "      border-right-color: var(--fill-color);\n",
       "      border-top-color: var(--fill-color);\n",
       "    }\n",
       "    60% {\n",
       "      border-color: transparent;\n",
       "      border-right-color: var(--fill-color);\n",
       "    }\n",
       "    80% {\n",
       "      border-color: transparent;\n",
       "      border-right-color: var(--fill-color);\n",
       "      border-bottom-color: var(--fill-color);\n",
       "    }\n",
       "    90% {\n",
       "      border-color: transparent;\n",
       "      border-bottom-color: var(--fill-color);\n",
       "    }\n",
       "  }\n",
       "</style>\n",
       "\n",
       "  <script>\n",
       "    async function quickchart(key) {\n",
       "      const quickchartButtonEl =\n",
       "        document.querySelector('#' + key + ' button');\n",
       "      quickchartButtonEl.disabled = true;  // To prevent multiple clicks.\n",
       "      quickchartButtonEl.classList.add('colab-df-spinner');\n",
       "      try {\n",
       "        const charts = await google.colab.kernel.invokeFunction(\n",
       "            'suggestCharts', [key], {});\n",
       "      } catch (error) {\n",
       "        console.error('Error during call to suggestCharts:', error);\n",
       "      }\n",
       "      quickchartButtonEl.classList.remove('colab-df-spinner');\n",
       "      quickchartButtonEl.classList.add('colab-df-quickchart-complete');\n",
       "    }\n",
       "    (() => {\n",
       "      let quickchartButtonEl =\n",
       "        document.querySelector('#df-ce3f6249-deaa-4c58-963e-5e633e02c200 button');\n",
       "      quickchartButtonEl.style.display =\n",
       "        google.colab.kernel.accessAllowed ? 'block' : 'none';\n",
       "    })();\n",
       "  </script>\n",
       "</div>\n",
       "\n",
       "    </div>\n",
       "  </div>\n"
      ],
      "text/plain": [
       "       Agency    Agency Type Distribution Channel       Product Name Gender  \\\n",
       "count   44328          44328                44328              44328  12681   \n",
       "unique     16              2                    2                 26      2   \n",
       "top       EPX  Travel Agency               Online  Cancellation Plan      M   \n",
       "freq    24656          32113                43572              12979   6504   \n",
       "\n",
       "       Destination  Claim  \n",
       "count        44328  44328  \n",
       "unique         138      2  \n",
       "top      SINGAPORE     No  \n",
       "freq          9267  43651  "
      ]
     },
     "execution_count": 5,
     "metadata": {},
     "output_type": "execute_result"
    }
   ],
   "source": [
    "# Descriptive Statistics - Categorical Data\n",
    "travel.describe(include='object')"
   ]
  },
  {
   "cell_type": "code",
   "execution_count": null,
   "metadata": {
    "colab": {
     "base_uri": "https://localhost:8080/",
     "height": 394
    },
    "id": "IXcFJPDaqAv_",
    "outputId": "4cb7c5fd-79df-4d41-aba1-e59eccc71f85"
   },
   "outputs": [
    {
     "data": {
      "application/vnd.google.colaboratory.intrinsic+json": {
       "summary": "{\n  \"name\": \"table_unique\",\n  \"rows\": 11,\n  \"fields\": [\n    {\n      \"column\": \"Column Name\",\n      \"properties\": {\n        \"dtype\": \"string\",\n        \"num_unique_values\": 11,\n        \"samples\": [\n          \"Duration\",\n          \"Agency\",\n          \"Age\"\n        ],\n        \"semantic_type\": \"\",\n        \"description\": \"\"\n      }\n    },\n    {\n      \"column\": \"Number of Unique\",\n      \"properties\": {\n        \"dtype\": \"number\",\n        \"std\": 379,\n        \"min\": 2,\n        \"max\": 1006,\n        \"num_unique_values\": 8,\n        \"samples\": [\n          2,\n          1006,\n          16\n        ],\n        \"semantic_type\": \"\",\n        \"description\": \"\"\n      }\n    },\n    {\n      \"column\": \"Unique Value\",\n      \"properties\": {\n        \"dtype\": \"object\",\n        \"semantic_type\": \"\",\n        \"description\": \"\"\n      }\n    },\n    {\n      \"column\": \"Dtype\",\n      \"properties\": {\n        \"dtype\": \"category\",\n        \"num_unique_values\": 3,\n        \"samples\": [\n          \"object\",\n          \"int64\",\n          \"float64\"\n        ],\n        \"semantic_type\": \"\",\n        \"description\": \"\"\n      }\n    }\n  ]\n}",
       "type": "dataframe",
       "variable_name": "table_unique"
      },
      "text/html": [
       "\n",
       "  <div id=\"df-c7b4b8b1-b792-465a-9020-2b5ab7353011\" class=\"colab-df-container\">\n",
       "    <div>\n",
       "<style scoped>\n",
       "    .dataframe tbody tr th:only-of-type {\n",
       "        vertical-align: middle;\n",
       "    }\n",
       "\n",
       "    .dataframe tbody tr th {\n",
       "        vertical-align: top;\n",
       "    }\n",
       "\n",
       "    .dataframe thead th {\n",
       "        text-align: right;\n",
       "    }\n",
       "</style>\n",
       "<table border=\"1\" class=\"dataframe\">\n",
       "  <thead>\n",
       "    <tr style=\"text-align: right;\">\n",
       "      <th></th>\n",
       "      <th>Column Name</th>\n",
       "      <th>Number of Unique</th>\n",
       "      <th>Unique Value</th>\n",
       "      <th>Dtype</th>\n",
       "    </tr>\n",
       "  </thead>\n",
       "  <tbody>\n",
       "    <tr>\n",
       "      <th>0</th>\n",
       "      <td>Agency</td>\n",
       "      <td>16</td>\n",
       "      <td>[C2B, EPX, JZI, CWT, LWC, ART, CSR, SSI, RAB, ...</td>\n",
       "      <td>object</td>\n",
       "    </tr>\n",
       "    <tr>\n",
       "      <th>1</th>\n",
       "      <td>Agency Type</td>\n",
       "      <td>2</td>\n",
       "      <td>[Airlines, Travel Agency]</td>\n",
       "      <td>object</td>\n",
       "    </tr>\n",
       "    <tr>\n",
       "      <th>2</th>\n",
       "      <td>Distribution Channel</td>\n",
       "      <td>2</td>\n",
       "      <td>[Online, Offline]</td>\n",
       "      <td>object</td>\n",
       "    </tr>\n",
       "    <tr>\n",
       "      <th>3</th>\n",
       "      <td>Product Name</td>\n",
       "      <td>26</td>\n",
       "      <td>[Annual Silver Plan, Cancellation Plan, Basic ...</td>\n",
       "      <td>object</td>\n",
       "    </tr>\n",
       "    <tr>\n",
       "      <th>4</th>\n",
       "      <td>Gender</td>\n",
       "      <td>2</td>\n",
       "      <td>[F, nan, M]</td>\n",
       "      <td>object</td>\n",
       "    </tr>\n",
       "    <tr>\n",
       "      <th>5</th>\n",
       "      <td>Duration</td>\n",
       "      <td>437</td>\n",
       "      <td>[365, 4, 19, 20, 8, 2, 25, 90, 24, 43, 103, 37...</td>\n",
       "      <td>int64</td>\n",
       "    </tr>\n",
       "    <tr>\n",
       "      <th>6</th>\n",
       "      <td>Destination</td>\n",
       "      <td>138</td>\n",
       "      <td>[SINGAPORE, MALAYSIA, INDIA, UNITED STATES, KO...</td>\n",
       "      <td>object</td>\n",
       "    </tr>\n",
       "    <tr>\n",
       "      <th>7</th>\n",
       "      <td>Net Sales</td>\n",
       "      <td>1006</td>\n",
       "      <td>[216.0, 10.0, 22.0, 112.0, 16.0, 50.0, 78.0, 8...</td>\n",
       "      <td>float64</td>\n",
       "    </tr>\n",
       "    <tr>\n",
       "      <th>8</th>\n",
       "      <td>Commision (in value)</td>\n",
       "      <td>915</td>\n",
       "      <td>[54.0, 0.0, 7.7, 4.0, 9.1, 63.21, 10.5, 11.88,...</td>\n",
       "      <td>float64</td>\n",
       "    </tr>\n",
       "    <tr>\n",
       "      <th>9</th>\n",
       "      <td>Age</td>\n",
       "      <td>89</td>\n",
       "      <td>[57, 33, 26, 59, 28, 36, 22, 39, 27, 48, 43, 5...</td>\n",
       "      <td>int64</td>\n",
       "    </tr>\n",
       "    <tr>\n",
       "      <th>10</th>\n",
       "      <td>Claim</td>\n",
       "      <td>2</td>\n",
       "      <td>[No, Yes]</td>\n",
       "      <td>object</td>\n",
       "    </tr>\n",
       "  </tbody>\n",
       "</table>\n",
       "</div>\n",
       "    <div class=\"colab-df-buttons\">\n",
       "\n",
       "  <div class=\"colab-df-container\">\n",
       "    <button class=\"colab-df-convert\" onclick=\"convertToInteractive('df-c7b4b8b1-b792-465a-9020-2b5ab7353011')\"\n",
       "            title=\"Convert this dataframe to an interactive table.\"\n",
       "            style=\"display:none;\">\n",
       "\n",
       "  <svg xmlns=\"http://www.w3.org/2000/svg\" height=\"24px\" viewBox=\"0 -960 960 960\">\n",
       "    <path d=\"M120-120v-720h720v720H120Zm60-500h600v-160H180v160Zm220 220h160v-160H400v160Zm0 220h160v-160H400v160ZM180-400h160v-160H180v160Zm440 0h160v-160H620v160ZM180-180h160v-160H180v160Zm440 0h160v-160H620v160Z\"/>\n",
       "  </svg>\n",
       "    </button>\n",
       "\n",
       "  <style>\n",
       "    .colab-df-container {\n",
       "      display:flex;\n",
       "      gap: 12px;\n",
       "    }\n",
       "\n",
       "    .colab-df-convert {\n",
       "      background-color: #E8F0FE;\n",
       "      border: none;\n",
       "      border-radius: 50%;\n",
       "      cursor: pointer;\n",
       "      display: none;\n",
       "      fill: #1967D2;\n",
       "      height: 32px;\n",
       "      padding: 0 0 0 0;\n",
       "      width: 32px;\n",
       "    }\n",
       "\n",
       "    .colab-df-convert:hover {\n",
       "      background-color: #E2EBFA;\n",
       "      box-shadow: 0px 1px 2px rgba(60, 64, 67, 0.3), 0px 1px 3px 1px rgba(60, 64, 67, 0.15);\n",
       "      fill: #174EA6;\n",
       "    }\n",
       "\n",
       "    .colab-df-buttons div {\n",
       "      margin-bottom: 4px;\n",
       "    }\n",
       "\n",
       "    [theme=dark] .colab-df-convert {\n",
       "      background-color: #3B4455;\n",
       "      fill: #D2E3FC;\n",
       "    }\n",
       "\n",
       "    [theme=dark] .colab-df-convert:hover {\n",
       "      background-color: #434B5C;\n",
       "      box-shadow: 0px 1px 3px 1px rgba(0, 0, 0, 0.15);\n",
       "      filter: drop-shadow(0px 1px 2px rgba(0, 0, 0, 0.3));\n",
       "      fill: #FFFFFF;\n",
       "    }\n",
       "  </style>\n",
       "\n",
       "    <script>\n",
       "      const buttonEl =\n",
       "        document.querySelector('#df-c7b4b8b1-b792-465a-9020-2b5ab7353011 button.colab-df-convert');\n",
       "      buttonEl.style.display =\n",
       "        google.colab.kernel.accessAllowed ? 'block' : 'none';\n",
       "\n",
       "      async function convertToInteractive(key) {\n",
       "        const element = document.querySelector('#df-c7b4b8b1-b792-465a-9020-2b5ab7353011');\n",
       "        const dataTable =\n",
       "          await google.colab.kernel.invokeFunction('convertToInteractive',\n",
       "                                                    [key], {});\n",
       "        if (!dataTable) return;\n",
       "\n",
       "        const docLinkHtml = 'Like what you see? Visit the ' +\n",
       "          '<a target=\"_blank\" href=https://colab.research.google.com/notebooks/data_table.ipynb>data table notebook</a>'\n",
       "          + ' to learn more about interactive tables.';\n",
       "        element.innerHTML = '';\n",
       "        dataTable['output_type'] = 'display_data';\n",
       "        await google.colab.output.renderOutput(dataTable, element);\n",
       "        const docLink = document.createElement('div');\n",
       "        docLink.innerHTML = docLinkHtml;\n",
       "        element.appendChild(docLink);\n",
       "      }\n",
       "    </script>\n",
       "  </div>\n",
       "\n",
       "\n",
       "<div id=\"df-cda923d0-6d4e-46c6-947e-b823057c8ca7\">\n",
       "  <button class=\"colab-df-quickchart\" onclick=\"quickchart('df-cda923d0-6d4e-46c6-947e-b823057c8ca7')\"\n",
       "            title=\"Suggest charts\"\n",
       "            style=\"display:none;\">\n",
       "\n",
       "<svg xmlns=\"http://www.w3.org/2000/svg\" height=\"24px\"viewBox=\"0 0 24 24\"\n",
       "     width=\"24px\">\n",
       "    <g>\n",
       "        <path d=\"M19 3H5c-1.1 0-2 .9-2 2v14c0 1.1.9 2 2 2h14c1.1 0 2-.9 2-2V5c0-1.1-.9-2-2-2zM9 17H7v-7h2v7zm4 0h-2V7h2v10zm4 0h-2v-4h2v4z\"/>\n",
       "    </g>\n",
       "</svg>\n",
       "  </button>\n",
       "\n",
       "<style>\n",
       "  .colab-df-quickchart {\n",
       "      --bg-color: #E8F0FE;\n",
       "      --fill-color: #1967D2;\n",
       "      --hover-bg-color: #E2EBFA;\n",
       "      --hover-fill-color: #174EA6;\n",
       "      --disabled-fill-color: #AAA;\n",
       "      --disabled-bg-color: #DDD;\n",
       "  }\n",
       "\n",
       "  [theme=dark] .colab-df-quickchart {\n",
       "      --bg-color: #3B4455;\n",
       "      --fill-color: #D2E3FC;\n",
       "      --hover-bg-color: #434B5C;\n",
       "      --hover-fill-color: #FFFFFF;\n",
       "      --disabled-bg-color: #3B4455;\n",
       "      --disabled-fill-color: #666;\n",
       "  }\n",
       "\n",
       "  .colab-df-quickchart {\n",
       "    background-color: var(--bg-color);\n",
       "    border: none;\n",
       "    border-radius: 50%;\n",
       "    cursor: pointer;\n",
       "    display: none;\n",
       "    fill: var(--fill-color);\n",
       "    height: 32px;\n",
       "    padding: 0;\n",
       "    width: 32px;\n",
       "  }\n",
       "\n",
       "  .colab-df-quickchart:hover {\n",
       "    background-color: var(--hover-bg-color);\n",
       "    box-shadow: 0 1px 2px rgba(60, 64, 67, 0.3), 0 1px 3px 1px rgba(60, 64, 67, 0.15);\n",
       "    fill: var(--button-hover-fill-color);\n",
       "  }\n",
       "\n",
       "  .colab-df-quickchart-complete:disabled,\n",
       "  .colab-df-quickchart-complete:disabled:hover {\n",
       "    background-color: var(--disabled-bg-color);\n",
       "    fill: var(--disabled-fill-color);\n",
       "    box-shadow: none;\n",
       "  }\n",
       "\n",
       "  .colab-df-spinner {\n",
       "    border: 2px solid var(--fill-color);\n",
       "    border-color: transparent;\n",
       "    border-bottom-color: var(--fill-color);\n",
       "    animation:\n",
       "      spin 1s steps(1) infinite;\n",
       "  }\n",
       "\n",
       "  @keyframes spin {\n",
       "    0% {\n",
       "      border-color: transparent;\n",
       "      border-bottom-color: var(--fill-color);\n",
       "      border-left-color: var(--fill-color);\n",
       "    }\n",
       "    20% {\n",
       "      border-color: transparent;\n",
       "      border-left-color: var(--fill-color);\n",
       "      border-top-color: var(--fill-color);\n",
       "    }\n",
       "    30% {\n",
       "      border-color: transparent;\n",
       "      border-left-color: var(--fill-color);\n",
       "      border-top-color: var(--fill-color);\n",
       "      border-right-color: var(--fill-color);\n",
       "    }\n",
       "    40% {\n",
       "      border-color: transparent;\n",
       "      border-right-color: var(--fill-color);\n",
       "      border-top-color: var(--fill-color);\n",
       "    }\n",
       "    60% {\n",
       "      border-color: transparent;\n",
       "      border-right-color: var(--fill-color);\n",
       "    }\n",
       "    80% {\n",
       "      border-color: transparent;\n",
       "      border-right-color: var(--fill-color);\n",
       "      border-bottom-color: var(--fill-color);\n",
       "    }\n",
       "    90% {\n",
       "      border-color: transparent;\n",
       "      border-bottom-color: var(--fill-color);\n",
       "    }\n",
       "  }\n",
       "</style>\n",
       "\n",
       "  <script>\n",
       "    async function quickchart(key) {\n",
       "      const quickchartButtonEl =\n",
       "        document.querySelector('#' + key + ' button');\n",
       "      quickchartButtonEl.disabled = true;  // To prevent multiple clicks.\n",
       "      quickchartButtonEl.classList.add('colab-df-spinner');\n",
       "      try {\n",
       "        const charts = await google.colab.kernel.invokeFunction(\n",
       "            'suggestCharts', [key], {});\n",
       "      } catch (error) {\n",
       "        console.error('Error during call to suggestCharts:', error);\n",
       "      }\n",
       "      quickchartButtonEl.classList.remove('colab-df-spinner');\n",
       "      quickchartButtonEl.classList.add('colab-df-quickchart-complete');\n",
       "    }\n",
       "    (() => {\n",
       "      let quickchartButtonEl =\n",
       "        document.querySelector('#df-cda923d0-6d4e-46c6-947e-b823057c8ca7 button');\n",
       "      quickchartButtonEl.style.display =\n",
       "        google.colab.kernel.accessAllowed ? 'block' : 'none';\n",
       "    })();\n",
       "  </script>\n",
       "</div>\n",
       "\n",
       "  <div id=\"id_ce668cd2-4472-4fdb-907b-0c8ae057bd24\">\n",
       "    <style>\n",
       "      .colab-df-generate {\n",
       "        background-color: #E8F0FE;\n",
       "        border: none;\n",
       "        border-radius: 50%;\n",
       "        cursor: pointer;\n",
       "        display: none;\n",
       "        fill: #1967D2;\n",
       "        height: 32px;\n",
       "        padding: 0 0 0 0;\n",
       "        width: 32px;\n",
       "      }\n",
       "\n",
       "      .colab-df-generate:hover {\n",
       "        background-color: #E2EBFA;\n",
       "        box-shadow: 0px 1px 2px rgba(60, 64, 67, 0.3), 0px 1px 3px 1px rgba(60, 64, 67, 0.15);\n",
       "        fill: #174EA6;\n",
       "      }\n",
       "\n",
       "      [theme=dark] .colab-df-generate {\n",
       "        background-color: #3B4455;\n",
       "        fill: #D2E3FC;\n",
       "      }\n",
       "\n",
       "      [theme=dark] .colab-df-generate:hover {\n",
       "        background-color: #434B5C;\n",
       "        box-shadow: 0px 1px 3px 1px rgba(0, 0, 0, 0.15);\n",
       "        filter: drop-shadow(0px 1px 2px rgba(0, 0, 0, 0.3));\n",
       "        fill: #FFFFFF;\n",
       "      }\n",
       "    </style>\n",
       "    <button class=\"colab-df-generate\" onclick=\"generateWithVariable('table_unique')\"\n",
       "            title=\"Generate code using this dataframe.\"\n",
       "            style=\"display:none;\">\n",
       "\n",
       "  <svg xmlns=\"http://www.w3.org/2000/svg\" height=\"24px\"viewBox=\"0 0 24 24\"\n",
       "       width=\"24px\">\n",
       "    <path d=\"M7,19H8.4L18.45,9,17,7.55,7,17.6ZM5,21V16.75L18.45,3.32a2,2,0,0,1,2.83,0l1.4,1.43a1.91,1.91,0,0,1,.58,1.4,1.91,1.91,0,0,1-.58,1.4L9.25,21ZM18.45,9,17,7.55Zm-12,3A5.31,5.31,0,0,0,4.9,8.1,5.31,5.31,0,0,0,1,6.5,5.31,5.31,0,0,0,4.9,4.9,5.31,5.31,0,0,0,6.5,1,5.31,5.31,0,0,0,8.1,4.9,5.31,5.31,0,0,0,12,6.5,5.46,5.46,0,0,0,6.5,12Z\"/>\n",
       "  </svg>\n",
       "    </button>\n",
       "    <script>\n",
       "      (() => {\n",
       "      const buttonEl =\n",
       "        document.querySelector('#id_ce668cd2-4472-4fdb-907b-0c8ae057bd24 button.colab-df-generate');\n",
       "      buttonEl.style.display =\n",
       "        google.colab.kernel.accessAllowed ? 'block' : 'none';\n",
       "\n",
       "      buttonEl.onclick = () => {\n",
       "        google.colab.notebook.generateWithVariable('table_unique');\n",
       "      }\n",
       "      })();\n",
       "    </script>\n",
       "  </div>\n",
       "\n",
       "    </div>\n",
       "  </div>\n"
      ],
      "text/plain": [
       "             Column Name  Number of Unique  \\\n",
       "0                 Agency                16   \n",
       "1            Agency Type                 2   \n",
       "2   Distribution Channel                 2   \n",
       "3           Product Name                26   \n",
       "4                 Gender                 2   \n",
       "5               Duration               437   \n",
       "6            Destination               138   \n",
       "7              Net Sales              1006   \n",
       "8   Commision (in value)               915   \n",
       "9                    Age                89   \n",
       "10                 Claim                 2   \n",
       "\n",
       "                                         Unique Value    Dtype  \n",
       "0   [C2B, EPX, JZI, CWT, LWC, ART, CSR, SSI, RAB, ...   object  \n",
       "1                           [Airlines, Travel Agency]   object  \n",
       "2                                   [Online, Offline]   object  \n",
       "3   [Annual Silver Plan, Cancellation Plan, Basic ...   object  \n",
       "4                                         [F, nan, M]   object  \n",
       "5   [365, 4, 19, 20, 8, 2, 25, 90, 24, 43, 103, 37...    int64  \n",
       "6   [SINGAPORE, MALAYSIA, INDIA, UNITED STATES, KO...   object  \n",
       "7   [216.0, 10.0, 22.0, 112.0, 16.0, 50.0, 78.0, 8...  float64  \n",
       "8   [54.0, 0.0, 7.7, 4.0, 9.1, 63.21, 10.5, 11.88,...  float64  \n",
       "9   [57, 33, 26, 59, 28, 36, 22, 39, 27, 48, 43, 5...    int64  \n",
       "10                                          [No, Yes]   object  "
      ]
     },
     "execution_count": 6,
     "metadata": {},
     "output_type": "execute_result"
    }
   ],
   "source": [
    "# Show Unique data and n-unique in every Column\n",
    "show_unique = []\n",
    "\n",
    "for x in travel.columns:\n",
    "  show_unique.append([x, travel[x].nunique(), travel[x].unique(), travel[x].dtype])\n",
    "\n",
    "table_unique = pd.DataFrame(columns=['Column Name','Number of Unique','Unique Value','Dtype'],\n",
    "              data=show_unique)\n",
    "\n",
    "table_unique"
   ]
  },
  {
   "cell_type": "markdown",
   "metadata": {
    "id": "oxjvydu0sczJ"
   },
   "source": [
    "#Data Cleaning and Modifying"
   ]
  },
  {
   "cell_type": "markdown",
   "metadata": {
    "id": "fP-tURg9BG19"
   },
   "source": [
    "##Remove Unused Features"
   ]
  },
  {
   "cell_type": "code",
   "execution_count": null,
   "metadata": {
    "id": "zGS8L9ZaBS2Z"
   },
   "outputs": [],
   "source": [
    "# Drop feature/column gender\n",
    "travel = travel.drop(columns=['Gender'])"
   ]
  },
  {
   "cell_type": "markdown",
   "metadata": {
    "id": "rIzmr84csk92"
   },
   "source": [
    "##Duplicate"
   ]
  },
  {
   "cell_type": "code",
   "execution_count": null,
   "metadata": {
    "colab": {
     "base_uri": "https://localhost:8080/"
    },
    "id": "dSSubtpjsckf",
    "outputId": "66146fb3-e082-44b4-d12c-c159403049c6"
   },
   "outputs": [
    {
     "data": {
      "text/plain": [
       "5004"
      ]
     },
     "execution_count": 8,
     "metadata": {},
     "output_type": "execute_result"
    }
   ],
   "source": [
    "# Check for identical duplicate data\n",
    "travel.duplicated().sum()"
   ]
  },
  {
   "cell_type": "code",
   "execution_count": null,
   "metadata": {
    "colab": {
     "base_uri": "https://localhost:8080/"
    },
    "id": "iBEZ5tWCstmh",
    "outputId": "bbaa6594-de36-47b0-cc7e-b212ce4a7054"
   },
   "outputs": [
    {
     "name": "stdout",
     "output_type": "stream",
     "text": [
      "The data has 39324 rows and 10 columns remaining\n"
     ]
    }
   ],
   "source": [
    "# Remove identical duplicate data from dataframe\n",
    "travel.drop_duplicates(inplace=True)\n",
    "\n",
    "# Check the current data count\n",
    "row, column = travel.shape\n",
    "print(f\"The data has {row} rows and {column} columns remaining\")"
   ]
  },
  {
   "cell_type": "markdown",
   "metadata": {
    "id": "mdBgtzjIuM7R"
   },
   "source": [
    "##**Missing** Value"
   ]
  },
  {
   "cell_type": "code",
   "execution_count": null,
   "metadata": {
    "colab": {
     "base_uri": "https://localhost:8080/",
     "height": 398
    },
    "id": "nJorrcZhHFvX",
    "outputId": "29091057-1352-4d30-9489-3812bc3bbfd7"
   },
   "outputs": [
    {
     "data": {
      "text/html": [
       "<div>\n",
       "<style scoped>\n",
       "    .dataframe tbody tr th:only-of-type {\n",
       "        vertical-align: middle;\n",
       "    }\n",
       "\n",
       "    .dataframe tbody tr th {\n",
       "        vertical-align: top;\n",
       "    }\n",
       "\n",
       "    .dataframe thead th {\n",
       "        text-align: right;\n",
       "    }\n",
       "</style>\n",
       "<table border=\"1\" class=\"dataframe\">\n",
       "  <thead>\n",
       "    <tr style=\"text-align: right;\">\n",
       "      <th></th>\n",
       "      <th>0</th>\n",
       "    </tr>\n",
       "  </thead>\n",
       "  <tbody>\n",
       "    <tr>\n",
       "      <th>Agency</th>\n",
       "      <td>0</td>\n",
       "    </tr>\n",
       "    <tr>\n",
       "      <th>Agency Type</th>\n",
       "      <td>0</td>\n",
       "    </tr>\n",
       "    <tr>\n",
       "      <th>Distribution Channel</th>\n",
       "      <td>0</td>\n",
       "    </tr>\n",
       "    <tr>\n",
       "      <th>Product Name</th>\n",
       "      <td>0</td>\n",
       "    </tr>\n",
       "    <tr>\n",
       "      <th>Duration</th>\n",
       "      <td>0</td>\n",
       "    </tr>\n",
       "    <tr>\n",
       "      <th>Destination</th>\n",
       "      <td>0</td>\n",
       "    </tr>\n",
       "    <tr>\n",
       "      <th>Net Sales</th>\n",
       "      <td>0</td>\n",
       "    </tr>\n",
       "    <tr>\n",
       "      <th>Commision (in value)</th>\n",
       "      <td>0</td>\n",
       "    </tr>\n",
       "    <tr>\n",
       "      <th>Age</th>\n",
       "      <td>0</td>\n",
       "    </tr>\n",
       "    <tr>\n",
       "      <th>Claim</th>\n",
       "      <td>0</td>\n",
       "    </tr>\n",
       "  </tbody>\n",
       "</table>\n",
       "</div><br><label><b>dtype:</b> int64</label>"
      ],
      "text/plain": [
       "Agency                  0\n",
       "Agency Type             0\n",
       "Distribution Channel    0\n",
       "Product Name            0\n",
       "Duration                0\n",
       "Destination             0\n",
       "Net Sales               0\n",
       "Commision (in value)    0\n",
       "Age                     0\n",
       "Claim                   0\n",
       "dtype: int64"
      ]
     },
     "execution_count": 10,
     "metadata": {},
     "output_type": "execute_result"
    }
   ],
   "source": [
    "# Check missing value\n",
    "travel.isnull().sum()"
   ]
  },
  {
   "cell_type": "markdown",
   "metadata": {
    "id": "uW_3o13LA93d"
   },
   "source": [
    "There is no missing value"
   ]
  },
  {
   "cell_type": "markdown",
   "metadata": {
    "id": "xtaKJK3PJO5b"
   },
   "source": [
    "##Outlier"
   ]
  },
  {
   "cell_type": "markdown",
   "metadata": {
    "id": "4JUSgnq2okiq"
   },
   "source": [
    "###**Duration**"
   ]
  },
  {
   "cell_type": "code",
   "execution_count": null,
   "metadata": {
    "colab": {
     "base_uri": "https://localhost:8080/",
     "height": 287
    },
    "id": "VxZ-mlGzogUo",
    "outputId": "5743a46a-baf1-4a28-d60b-1ba39c1f5ea8"
   },
   "outputs": [
    {
     "data": {
      "text/html": [
       "<html>\n",
       "<head><meta charset=\"utf-8\" /></head>\n",
       "<body>\n",
       "    <div>            <script src=\"https://cdnjs.cloudflare.com/ajax/libs/mathjax/2.7.5/MathJax.js?config=TeX-AMS-MML_SVG\"></script><script type=\"text/javascript\">if (window.MathJax && window.MathJax.Hub && window.MathJax.Hub.Config) {window.MathJax.Hub.Config({SVG: {font: \"STIX-Web\"}});}</script>                <script type=\"text/javascript\">window.PlotlyConfig = {MathJaxConfig: 'local'};</script>\n",
       "        <script charset=\"utf-8\" src=\"https://cdn.plot.ly/plotly-2.35.2.min.js\"></script>                <div id=\"5bf46e12-1934-4e68-87b4-a65a31846074\" class=\"plotly-graph-div\" style=\"height:250px; width:1000px;\"></div>            <script type=\"text/javascript\">                                    window.PLOTLYENV=window.PLOTLYENV || {};                                    if (document.getElementById(\"5bf46e12-1934-4e68-87b4-a65a31846074\")) {                    Plotly.newPlot(                        \"5bf46e12-1934-4e68-87b4-a65a31846074\",                        [{\"alignmentgroup\":\"True\",\"hovertemplate\":\"Duration=%{x}\\u003cextra\\u003e\\u003c\\u002fextra\\u003e\",\"legendgroup\":\"\",\"marker\":{\"color\":\"#636efa\"},\"name\":\"\",\"notched\":false,\"offsetgroup\":\"\",\"orientation\":\"h\",\"showlegend\":false,\"x\":[365,4,19,20,8,2,25,90,4,24,43,365,103,376,6,16,8,27,34,3,14,12,31,43,5,7,56,29,30,8,58,19,9,2,24,38,12,4,42,11,2,30,8,13,34,24,3,40,5,79,370,43,25,366,16,30,26,6,83,9,14,55,18,100,8,20,26,29,18,55,1,18,35,36,75,23,8,42,73,9,32,232,42,37,10,35,7,4736,15,3,17,99,6,26,365,173,74,23,2,7,82,66,156,16,10,16,32,73,3,8,39,95,98,9,111,8,430,31,13,13,53,77,40,18,20,95,37,87,9,70,25,151,19,45,20,3,11,37,23,54,23,10,14,31,38,4,38,114,13,118,62,3,2,11,58,19,2,28,14,36,42,11,12,3,20,112,326,74,22,24,59,3,4,19,43,44,29,11,18,27,19,6,16,21,23,7,97,16,17,63,6,4,21,35,74,16,21,60,11,29,45,5,43,24,17,14,18,9,38,7,20,39,17,5,10,51,38,7,180,23,4,39,7,2,160,25,368,73,39,9,6,26,25,65,11,14,5,93,71,13,25,57,0,2,34,5,8,9,8,40,28,76,69,19,10,17,15,110,5,11,13,2,146,6,6,16,116,2,129,62,6,11,84,63,17,12,33,43,19,149,73,6,17,38,5,14,39,13,70,7,4,33,3,62,100,13,68,4,64,8,5,14,13,9,31,44,24,25,77,6,26,101,145,88,222,12,176,38,6,165,14,16,13,19,2,21,69,69,8,38,365,8,45,56,169,2,4,387,10,19,10,34,39,18,40,18,49,40,13,13,6,13,8,21,29,35,5,109,13,14,41,12,381,15,41,20,15,50,365,161,154,6,13,7,90,6,2,20,4,18,49,23,4,3,9,27,17,8,13,35,10,88,4,29,13,4,330,34,8,28,65,9,46,9,78,10,23,6,15,15,93,13,28,6,3,13,30,9,3,8,59,35,21,4,17,14,5,40,11,9,16,75,47,22,4,121,2,106,7,29,11,20,5,13,2,140,91,4,104,5,63,5,23,6,42,365,29,11,24,17,134,18,82,62,393,22,27,69,14,26,11,99,35,78,8,1,4,118,56,29,35,7,47,77,7,23,33,12,5,5,18,24,71,33,11,10,49,74,3,282,29,24,44,123,17,13,172,86,30,63,8,31,6,3,18,35,2,50,13,19,91,12,56,10,14,102,47,5,20,47,49,87,16,17,10,13,3,44,69,90,21,7,2,9,16,62,78,40,314,101,102,9,1,5,9,10,18,19,20,29,11,11,14,386,23,54,9,22,54,12,26,65,4,20,383,25,18,81,283,17,47,115,144,8,2,10,109,8,6,13,37,6,31,61,3,3,39,15,206,27,23,4,15,3,366,55,51,20,9,8,47,7,11,2,71,55,7,8,176,8,42,47,27,30,6,2,18,213,21,34,30,79,18,42,13,8,10,39,19,31,3,33,271,56,9,51,6,20,47,174,55,8,49,13,11,44,35,152,23,37,5,11,8,34,28,13,9,122,22,145,17,6,10,14,6,20,94,27,5,215,58,11,1,20,94,33,76,42,62,370,20,12,228,6,30,70,8,84,28,63,32,5,108,4,9,124,40,8,48,11,19,14,159,14,6,135,101,1,7,179,3,76,2,369,29,3,5,12,33,31,66,13,111,53,372,35,9,6,18,150,51,114,107,19,81,85,17,70,118,60,3,142,91,4,88,14,24,54,24,4,45,36,55,6,45,20,18,52,71,34,137,3,7,20,13,80,1,278,15,25,92,19,89,12,6,12,17,276,22,17,226,6,55,5,44,38,38,2,87,2,3,9,5,16,39,35,17,8,373,11,58,43,25,24,11,8,15,6,22,4,27,16,32,13,13,9,29,23,3,23,6,8,11,29,95,54,30,9,87,16,8,13,47,6,31,7,20,58,51,27,366,27,121,113,49,6,8,3,4,20,2,1,15,4,21,88,85,137,21,1,49,19,27,132,18,23,11,41,12,79,46,9,35,187,4,2,9,1,4,57,53,23,9,39,102,120,74,158,11,9,38,171,13,183,379,11,28,10,5,8,26,34,1,163,74,1,93,266,72,22,4,27,531,8,21,50,59,364,7,81,25,204,52,5,199,22,30,50,66,35,2,168,9,19,7,5,140,70,67,58,99,26,12,67,93,1,13,34,7,15,4,16,39,25,14,26,20,16,8,181,17,40,43,7,2,66,92,7,17,59,34,6,23,37,26,33,60,24,18,52,64,21,148,256,77,24,11,8,157,11,36,39,10,377,48,51,30,19,19,12,18,14,32,15,8,88,20,6,5,45,9,15,90,3,77,14,7,15,11,45,39,39,224,87,6,10,93,21,9,117,13,177,84,86,38,5,5,86,13,1,21,23,5,3,32,12,2,138,2,128,7,19,79,32,75,81,10,3,25,9,16,6,28,69,41,21,53,5,16,364,10,35,52,5,95,21,6,9,4,2,392,1,10,105,42,17,25,26,1,14,43,52,16,11,48,6,30,5,21,44,39,41,10,23,5,10,13,5,48,3,10,8,6,8,111,217,378,7,7,23,35,99,3,387,9,40,5,3,38,23,32,17,13,15,52,5,4,4,10,11,245,40,73,110,20,388,15,15,5,74,185,4,107,119,1,50,76,4,12,6,224,19,47,50,65,142,141,27,18,39,45,8,5,5,16,23,34,189,365,90,71,5,39,37,164,15,1,96,44,147,11,7,5,97,53,14,22,23,64,8,15,25,39,159,21,16,13,132,10,1,7,35,30,15,7,15,7,6,14,10,97,9,1,30,21,93,5,11,2,45,48,3,15,14,6,3,31,29,36,18,15,42,18,115,487,17,76,28,16,4,8,67,6,16,11,6,6,1,120,6,3,33,16,13,84,7,103,15,31,1,5,52,13,1,30,19,32,14,13,158,13,18,17,26,4,7,10,17,51,16,17,192,6,90,35,55,3,17,21,97,8,152,22,9,40,3,7,4,30,110,45,94,168,4,23,4,5,253,7,95,374,144,22,1,11,102,4,19,28,105,17,8,6,212,6,19,96,14,7,2,75,44,43,48,6,30,92,6,3,27,6,9,6,7,100,15,7,30,43,17,31,80,16,33,29,37,32,162,34,15,14,7,5,102,28,5,1,41,35,17,36,16,15,11,6,20,7,76,90,89,12,41,62,14,33,14,67,6,110,91,168,9,9,58,154,7,87,27,62,11,24,10,11,46,16,2,8,177,88,12,61,2,12,5,43,43,78,39,16,24,5,10,9,7,24,11,47,2,8,59,10,21,47,79,25,19,12,95,94,12,6,13,4,9,30,94,11,2,4,21,95,136,28,3,58,2,6,18,73,45,43,61,39,48,425,40,365,33,5,95,45,22,23,61,41,11,76,3,370,46,8,6,20,28,65,34,232,1,5,13,14,20,7,4,9,40,23,96,5,50,13,24,40,5,13,71,51,72,36,35,11,155,126,12,195,41,36,83,131,15,28,23,41,12,9,5,40,11,16,26,2,43,22,13,14,20,3,5,3,130,30,72,61,6,200,21,42,90,14,9,64,18,3,10,17,15,7,15,18,28,11,19,35,5,31,14,50,39,9,28,368,55,56,4,32,125,9,35,20,59,15,10,92,11,38,33,9,40,13,22,5,19,55,35,13,374,3,26,85,18,79,13,37,42,213,22,3,6,5,48,22,61,14,57,52,124,9,5,5,50,12,117,58,1,42,3,3,27,18,9,374,9,17,137,11,22,5,198,30,22,366,7,372,5,24,143,13,8,112,41,7,190,9,20,156,20,7,8,43,101,103,31,91,11,8,15,31,4,29,18,17,14,6,18,12,153,83,28,49,116,276,13,38,15,3,95,22,41,31,11,111,7,14,13,70,49,5,22,3,14,29,19,52,10,46,8,21,5,28,20,143,4,81,96,55,58,19,3,82,88,22,9,2,6,13,22,33,24,28,39,1,32,2,4,26,51,26,71,98,14,13,106,25,0,235,20,5,4,88,20,14,35,25,32,5,24,60,137,34,28,5,55,151,16,45,24,12,27,10,12,54,18,52,21,39,21,31,31,4,115,200,117,203,9,4,44,26,7,91,4,83,1,11,2,381,92,6,33,4,64,420,371,83,3,10,24,95,67,365,46,62,33,0,63,166,38,11,14,14,38,38,47,19,10,51,33,10,9,19,23,25,5,9,366,39,27,16,17,19,18,7,30,88,15,45,5,48,389,29,46,26,57,4,11,11,41,3,6,5,21,48,53,6,15,4,56,34,9,21,25,20,16,5,18,18,61,2,28,21,158,10,7,4,24,11,50,14,37,17,18,12,53,67,52,10,98,2,18,48,69,32,55,257,133,13,4,15,8,69,19,17,40,16,192,2,2,7,4,65,64,19,10,21,158,8,62,34,5,6,36,166,75,34,23,35,20,14,16,12,21,169,145,2,6,2,1,35,20,42,15,12,21,79,15,6,2,22,12,108,44,8,366,4,8,369,18,11,46,23,22,4,373,81,8,46,131,41,29,17,40,9,6,25,55,45,16,10,241,17,7,13,4,36,105,4,69,5,15,27,57,7,20,2,11,40,3,44,71,40,6,7,7,16,7,13,72,15,82,169,50,4,4,15,15,10,116,31,32,15,7,5,149,7,43,2,36,12,1,19,15,11,121,17,6,15,9,180,24,7,61,19,374,61,21,26,9,4,40,20,34,7,5,67,11,59,12,51,5,364,100,9,9,17,26,40,63,9,20,4,153,12,365,2,40,19,173,3,11,16,48,3,117,6,137,29,151,132,40,136,5,158,8,7,63,28,20,16,29,57,13,14,44,18,55,70,23,5,46,375,35,5,50,19,12,35,13,6,364,196,4,39,25,4,42,17,17,37,28,7,26,58,6,71,61,38,48,40,80,10,40,20,6,67,53,6,37,93,17,19,11,40,5,73,9,7,13,6,8,17,121,51,22,86,53,10,145,62,5,32,12,5,12,6,16,6,79,14,41,46,12,50,22,11,14,2,90,16,11,9,180,5,17,19,39,49,16,21,24,13,11,38,31,4,42,12,34,5,94,3,116,11,185,44,11,16,84,33,6,61,13,215,23,11,60,71,18,52,18,18,41,9,7,135,52,25,10,50,8,81,22,20,159,9,14,44,12,13,15,66,81,8,3,10,5,12,4,2,19,41,25,66,80,28,42,39,68,12,2,13,6,5,102,182,56,8,33,74,46,2,46,9,36,30,12,22,70,79,29,36,5,24,11,113,4,12,42,82,63,14,6,20,103,15,20,40,63,32,103,364,289,5,56,11,30,14,53,182,105,12,11,22,42,69,22,31,6,13,80,48,4,7,85,48,40,31,6,18,8,3,84,129,13,9,91,9,30,67,14,9,6,10,43,15,35,71,52,1,6,6,13,15,102,39,92,100,8,17,2,3,49,31,30,11,8,5,2,4,15,127,6,365,52,12,8,83,11,14,15,51,158,15,8,22,31,54,42,53,60,10,1,9,35,19,27,18,5,3,104,36,8,34,16,102,25,16,61,3,39,2,29,20,5,11,47,13,48,8,33,126,10,34,3,9,78,39,113,1,2,37,35,52,6,5,43,7,367,10,4,9,88,11,18,5,96,24,41,9,110,39,2,25,11,24,14,90,14,10,77,19,141,11,3,71,73,66,4,19,8,8,24,1,11,14,6,10,365,37,0,34,30,5,9,11,20,43,10,49,366,54,34,9,39,11,154,73,26,2,391,13,41,55,19,123,27,4,7,16,2,10,7,21,39,8,64,13,15,37,22,107,9,8,34,365,384,7,15,12,41,23,14,41,10,9,17,36,6,69,35,6,9,12,65,47,7,18,183,19,161,9,60,4,32,5,83,10,47,5,65,25,17,120,23,52,93,81,20,47,12,5,6,16,7,9,25,2,1,78,44,4,34,17,11,6,4,108,5,17,5,11,34,304,11,65,20,6,15,315,49,71,6,95,39,131,267,21,53,45,1,38,41,44,103,16,18,2,117,66,5,56,6,41,27,167,15,6,53,32,21,59,14,61,5,5,20,20,9,9,29,24,92,38,16,55,56,113,40,22,13,14,101,24,81,3,2,17,8,8,8,18,57,38,62,19,16,7,56,11,8,26,8,56,159,96,148,47,11,77,6,27,6,46,7,6,14,365,73,49,25,19,13,57,123,62,7,40,4,72,11,9,10,35,20,23,89,29,2,21,25,13,112,39,31,8,29,16,28,9,111,364,29,364,195,10,138,83,10,36,3,21,11,75,31,6,14,2,11,13,39,82,8,10,25,19,16,7,16,24,10,23,11,58,365,31,17,2,1,3,7,9,11,11,26,30,59,45,278,10,7,5,9,17,8,66,34,22,6,38,22,104,61,44,18,51,10,20,18,59,20,76,24,5,29,3,111,34,232,7,3,3,252,22,1,93,19,45,13,16,7,7,3,37,3,61,35,12,37,9,93,27,41,9,10,97,21,8,9,38,29,124,32,20,100,13,8,1,74,65,365,53,94,12,3,7,1,14,10,83,5,366,21,19,3,5,4,16,5,18,32,6,11,380,28,30,22,433,68,75,114,118,162,46,5,113,3,43,149,44,6,18,4,141,15,5,7,5,6,112,12,5,138,7,17,4,3,154,4,18,93,23,17,13,138,230,46,13,365,18,25,7,8,73,100,52,160,4,51,17,7,17,263,58,15,6,23,9,2,377,24,24,29,72,4,12,122,2,328,13,16,22,23,6,5,7,38,15,48,57,59,34,3,27,30,94,31,33,41,59,18,22,35,3,19,213,37,116,5,26,402,19,61,380,27,16,22,73,7,48,1,20,80,18,32,28,69,6,6,7,25,109,40,75,29,75,365,6,52,19,27,26,31,20,3,13,101,24,38,207,2,7,14,68,30,25,8,6,49,6,112,29,24,9,7,29,83,79,27,67,16,22,85,17,126,79,278,39,6,20,10,13,13,16,3,21,5,39,100,14,12,12,33,10,12,2,2,15,9,2,14,81,71,4,6,2,6,22,30,4,249,44,119,58,65,28,28,30,19,2,254,111,16,33,152,110,14,77,27,5,92,9,8,38,84,8,419,20,29,36,101,39,67,59,41,5,28,43,9,122,11,27,204,59,28,7,84,32,2,17,33,12,69,23,10,4,9,38,57,11,55,104,8,21,0,80,13,7,22,24,122,8,15,43,50,37,9,11,51,12,10,127,275,68,26,21,4,94,39,66,4,127,8,8,25,17,19,15,74,6,365,7,65,199,36,23,8,11,7,27,1,30,8,139,26,12,18,372,28,10,90,40,105,15,5,5,20,26,14,283,65,20,2,15,1,21,19,106,27,28,104,10,25,25,3,65,9,11,6,32,11,19,18,15,6,70,32,2,3,27,227,41,2,18,8,12,17,47,8,18,125,31,10,11,8,4,23,69,8,1,12,7,9,39,4,8,19,37,369,2,24,38,87,27,30,1,1,3,9,12,3,6,365,7,10,15,15,45,25,14,24,35,19,2,10,244,4,116,28,22,69,4,49,36,55,8,48,7,12,39,0,3,4,18,9,3,17,5,237,38,10,8,28,18,5,98,92,5,90,11,23,37,3,11,26,34,70,57,108,364,42,65,13,64,20,5,2,373,28,32,2,20,45,85,5,6,78,8,6,18,35,53,55,4,4,31,3,101,4,26,11,52,62,24,7,49,145,30,3,2,23,22,22,7,8,14,364,24,35,10,10,13,33,44,5,8,29,18,15,108,71,87,117,89,10,18,23,34,81,49,7,20,3,22,20,5,26,50,54,45,11,10,26,9,60,16,32,13,112,8,13,41,14,92,187,1,28,85,4,3,131,7,6,62,12,44,31,20,8,0,58,8,5,369,38,23,10,28,13,10,10,20,5,204,2,12,38,12,27,9,15,75,55,10,20,80,25,7,26,22,8,39,72,23,26,4,105,5,0,56,4,18,16,41,228,47,90,8,30,234,32,23,16,39,85,128,28,15,22,9,27,23,28,151,42,28,143,52,30,51,44,38,10,10,109,34,93,7,19,8,4,47,33,24,41,17,33,2,8,15,38,10,6,44,37,25,18,45,18,396,397,36,9,40,4,37,131,75,22,90,61,108,43,4,72,7,52,34,5,60,14,20,49,24,3,17,159,12,9,76,36,10,8,9,87,24,31,16,14,82,1,19,62,4,10,32,38,60,237,13,6,6,72,14,17,2,43,85,12,9,17,170,60,20,215,40,102,48,8,30,36,30,6,14,35,19,110,3,10,1,112,16,74,75,12,4,8,9,370,16,5,14,0,1,10,35,6,8,41,24,365,12,5,6,2,6,9,62,32,48,17,21,364,52,15,5,22,6,10,35,24,28,16,5,14,47,40,44,57,25,63,10,13,31,21,52,63,67,397,6,150,173,54,136,4,11,28,10,7,5,94,13,16,14,13,3,33,27,60,115,67,19,32,6,21,17,37,8,42,34,12,12,94,13,6,17,57,5,6,59,12,39,43,78,10,45,24,44,91,168,8,40,365,25,38,25,32,4,15,16,89,10,96,20,24,5,101,24,12,299,42,29,31,147,21,39,1,80,9,30,4,26,12,1,63,27,4,12,13,18,11,364,130,6,27,70,171,5,6,98,91,17,2,99,12,4,42,58,60,62,4,32,50,21,69,9,18,2,58,81,17,36,24,31,152,40,29,3,35,139,8,23,10,12,282,97,39,62,258,40,30,10,10,78,26,9,28,15,54,27,65,13,39,169,8,368,39,7,16,11,19,1,4,5,35,21,25,100,99,11,26,70,44,2,118,18,120,3,4,71,69,26,82,11,20,85,64,106,5,53,13,31,149,34,77,3,10,95,14,128,8,26,55,9,22,17,53,19,82,20,39,11,19,48,9,368,364,5,16,7,14,15,5,119,100,26,367,14,98,147,3,5,10,14,34,5,8,78,6,8,8,5,48,13,16,7,67,62,2,37,17,3,3,31,64,9,212,5,138,9,35,84,11,35,1,10,39,63,62,8,37,178,12,31,6,18,13,14,319,306,97,72,16,33,20,47,59,39,29,389,156,6,8,11,23,365,392,11,4,44,3,121,367,10,128,70,80,87,16,22,39,4,11,43,22,34,46,12,40,53,5,21,5,101,15,51,25,103,18,81,211,15,20,6,4,35,14,7,366,7,22,40,116,42,367,117,7,11,231,11,38,97,111,365,29,25,7,2,21,19,17,155,11,57,9,70,56,13,16,2,15,68,9,24,6,9,31,6,39,7,29,6,12,183,4,148,156,32,10,75,19,5,24,33,364,6,24,22,9,32,154,6,68,25,14,49,6,7,85,79,8,47,4,34,45,17,37,29,8,31,13,3,76,20,26,1,20,11,16,31,30,18,16,71,61,55,23,37,30,6,37,6,9,14,37,108,10,16,115,97,69,4,113,7,10,1,86,18,11,364,6,56,42,1,3,85,29,25,23,52,116,19,4,125,47,11,39,94,23,147,10,7,28,6,269,4,8,6,116,153,73,68,5,63,23,21,28,21,32,4,41,76,123,17,136,13,29,36,372,17,54,45,11,26,2,365,179,53,133,41,163,14,5,19,156,22,8,113,10,18,12,65,7,20,14,18,26,110,25,20,8,107,19,54,41,8,54,55,10,11,45,12,214,2,122,5,34,15,8,27,28,2,34,21,7,113,60,49,33,23,21,6,22,18,6,1,109,29,18,72,18,2,9,14,86,4,46,13,8,5,18,70,42,11,12,100,8,257,12,32,32,62,17,41,4,21,89,11,7,105,73,45,26,9,82,9,10,7,14,19,6,28,23,8,9,5,191,52,8,34,364,49,76,37,14,42,1,6,16,62,24,5,23,19,8,4,19,8,12,94,82,14,21,13,6,15,27,8,27,52,6,372,7,5,57,4,23,9,5,174,105,28,257,36,72,15,97,16,13,29,16,12,13,74,22,5,13,12,4,16,16,96,408,64,8,41,43,8,24,3,26,22,11,4,135,20,50,4,12,18,36,13,27,6,25,89,31,43,14,7,6,59,20,10,13,5,3,86,2,91,88,38,15,125,16,70,56,8,29,16,35,7,69,159,7,77,17,36,23,148,40,29,365,7,7,241,6,4,79,16,49,6,15,24,163,5,19,22,33,63,40,7,95,76,26,4,20,381,8,1,9,16,40,16,2,37,17,34,20,20,8,48,6,58,39,28,30,24,37,34,15,238,83,180,2,1,4,13,24,21,70,307,111,17,76,137,9,78,112,15,51,17,8,31,6,95,31,34,44,11,36,99,370,6,12,2,42,44,13,4857,8,10,92,11,6,17,32,62,4,107,9,28,39,16,8,41,54,19,19,5,34,237,42,2,8,59,15,23,10,72,89,26,15,30,8,10,42,29,16,12,24,64,60,34,7,72,193,12,6,4,23,18,7,77,16,12,131,158,137,36,12,54,5,13,31,25,7,33,70,13,5,13,47,50,17,364,8,15,104,20,6,10,11,28,47,1,56,50,28,10,22,17,7,78,103,58,365,9,113,3,9,34,89,41,41,25,79,28,28,14,383,87,32,5,2,24,17,18,369,11,16,86,16,14,194,55,9,30,125,2,8,37,39,28,17,7,21,32,4,81,8,24,20,12,190,5,96,14,40,101,10,38,17,16,10,7,366,148,22,58,50,7,2,39,33,8,94,54,58,110,35,91,34,8,104,6,61,11,148,39,3,4,49,5,84,134,8,126,13,72,7,9,51,4,52,18,14,16,44,22,45,6,61,14,47,1,7,9,17,90,13,12,230,8,57,38,63,22,93,5,46,25,12,26,29,15,15,66,3,39,11,39,65,98,48,18,83,365,21,11,1,20,8,27,13,7,51,143,85,0,12,10,24,7,73,16,22,68,45,15,21,11,3,305,60,12,24,106,16,140,365,35,10,172,18,16,9,3,164,42,7,13,28,7,25,66,31,14,8,5,54,9,6,44,50,65,14,27,36,44,11,28,45,25,63,6,2,6,58,15,57,4,5,120,38,22,35,19,369,10,18,41,251,28,41,23,20,22,2,80,65,9,55,39,36,106,17,8,27,27,8,64,109,75,4,3,9,2,2,16,7,7,29,5,8,1,10,22,110,3,2,21,13,24,44,4,11,8,1,9,178,13,2,91,68,50,10,17,94,9,368,4,10,77,20,149,52,8,32,16,64,126,5,25,3,47,28,18,19,9,7,34,5,6,5,8,29,37,402,7,76,27,96,5,15,367,45,29,185,112,16,43,14,9,6,367,34,20,233,24,125,54,18,7,42,32,21,2,11,5,71,6,84,17,100,212,4,50,74,18,15,13,22,80,19,16,17,5,18,63,64,12,8,1,7,17,20,81,46,19,17,368,365,149,12,70,54,8,45,40,27,9,376,22,12,60,11,16,14,17,6,15,24,59,200,84,44,1,73,7,20,18,59,12,147,10,128,6,45,19,113,19,9,47,36,22,9,20,107,5,16,5,20,17,97,13,2,63,4,20,24,23,54,4,5,4,2,6,2,5,52,9,9,18,63,86,2,40,9,5,116,17,159,60,25,75,40,328,43,273,37,26,41,22,6,5,109,20,21,6,47,11,14,81,6,18,23,100,5,14,4,3,5,8,14,2,2,4,26,11,4,10,170,28,29,2,63,79,5,28,57,42,13,4,33,1,17,9,21,85,29,33,7,294,43,31,8,93,23,23,38,101,30,58,8,4,31,20,20,50,9,19,4,195,18,29,4,25,5,14,8,17,34,364,13,39,43,45,2,123,49,18,26,108,4,13,19,75,10,61,240,76,149,18,7,100,51,13,3,26,25,20,3,26,8,7,10,92,7,91,15,8,14,25,32,14,4,13,47,45,8,383,15,44,59,33,50,4,59,34,59,50,32,388,22,53,8,17,8,27,13,76,49,46,86,227,6,30,163,38,74,118,4,198,60,257,26,41,12,9,43,9,36,49,15,26,365,34,19,36,72,47,16,70,7,7,5,36,17,34,6,55,365,94,204,98,20,26,7,4,6,3,178,28,9,366,12,23,6,5,7,58,366,7,368,35,37,14,13,26,39,11,62,15,365,5,62,36,8,36,183,6,14,43,19,36,118,5,43,97,11,49,65,64,17,4,377,26,15,84,273,73,9,20,2,5,53,21,28,13,24,12,34,42,7,52,32,54,3,15,27,62,90,29,7,2,37,10,9,5,9,6,67,36,3,103,3,39,7,13,38,40,6,13,21,30,31,24,11,45,13,9,40,14,27,39,60,19,95,59,67,82,38,8,168,71,9,5,13,5,14,61,71,25,56,74,11,126,9,51,32,33,6,29,19,26,35,9,56,121,34,69,10,74,5,18,9,70,16,38,30,11,6,13,1,3,44,110,60,26,14,27,22,90,195,13,24,2,24,66,28,149,8,3,22,172,49,61,6,47,2,6,21,103,5,38,4,21,34,23,26,21,27,16,8,366,31,17,7,8,116,35,9,5,39,9,6,35,13,35,16,6,64,61,41,97,61,39,16,10,15,287,51,26,42,255,4,64,29,31,110,8,13,40,25,8,16,145,30,23,47,13,27,139,27,22,8,6,106,22,72,103,8,21,21,23,26,8,91,6,20,9,91,26,6,9,28,81,11,38,241,6,12,21,59,91,141,202,5,3,18,68,10,128,99,12,41,12,365,13,44,15,9,79,10,62,379,24,13,92,73,5,4,9,22,15,4,12,9,15,44,11,53,6,80,40,12,12,16,6,16,49,107,103,63,103,34,18,73,78,4,9,78,22,13,34,19,41,113,25,28,30,5,119,14,5,15,2,79,41,6,4,133,4,9,12,20,3,4,55,31,34,5,41,20,38,41,60,4,48,47,6,8,9,85,139,5,102,7,10,48,11,47,41,50,12,5,21,29,29,10,125,8,12,26,6,80,66,24,368,7,76,31,144,38,43,6,15,26,13,12,45,54,41,2,34,27,5,19,10,21,23,14,25,21,316,97,3,42,389,42,4,23,60,4,16,22,6,3,364,25,82,3,22,17,14,63,17,19,51,33,8,10,16,128,26,11,36,369,12,65,214,13,40,366,12,2,14,49,93,6,43,34,67,94,27,59,68,34,35,16,4,2,96,3,18,33,10,7,6,2,93,67,27,260,11,49,366,9,4,196,38,59,42,51,17,9,15,95,30,38,364,11,38,77,94,24,115,6,86,21,32,55,10,27,87,100,21,31,150,23,32,29,68,116,10,5,41,12,3,8,3,73,22,195,9,4,22,59,368,20,18,36,117,177,37,30,378,13,28,16,56,5,366,7,91,3,8,91,63,43,7,19,13,124,6,1,34,3,42,8,15,6,4,11,9,12,24,11,39,50,22,5,18,121,24,41,173,17,7,5,20,3,37,2,56,64,0,19,5,32,225,5,75,7,59,145,17,227,28,7,15,279,73,41,25,121,6,56,39,127,5,23,26,408,53,4,10,44,118,60,41,33,18,23,124,5,35,7,370,23,10,364,38,4,25,3,11,3,38,19,30,26,90,11,8,38,55,48,3,9,31,44,42,43,275,55,11,5,10,17,7,99,74,9,50,4,6,5,161,81,48,8,14,14,75,54,17,22,3,8,37,3,369,6,101,29,19,168,22,7,30,59,9,12,116,47,7,11,20,31,1,73,10,39,22,18,19,64,37,230,10,149,7,165,11,15,7,7,58,7,17,5,2,16,71,64,229,33,14,8,110,39,78,12,6,18,53,11,15,90,19,90,12,8,22,30,38,29,12,388,32,16,4,17,19,10,4,23,27,35,1,15,21,43,35,70,56,61,8,370,35,28,16,41,42,10,47,13,11,6,8,180,41,14,86,18,3,52,21,25,40,81,9,51,56,65,48,42,141,52,21,35,33,95,15,9,367,5,19,85,36,32,8,27,29,15,19,16,155,2,34,7,11,13,38,46,127,70,2,23,3,25,309,136,245,73,8,49,20,4,28,13,19,33,10,3,95,91,59,15,12,11,53,27,45,30,5,10,5,31,43,37,5,3,57,322,30,8,10,24,1,10,5,28,41,5,2,14,280,39,8,13,3,10,6,15,3,14,50,98,36,10,7,15,39,44,2,8,9,14,257,33,199,12,73,30,18,44,1,11,123,24,88,31,106,44,118,11,30,6,215,4,35,50,124,28,6,21,90,7,14,33,54,11,6,43,41,418,37,21,218,254,121,80,75,28,12,36,375,14,101,1,64,4,118,99,35,14,105,8,81,8,149,73,20,17,0,81,39,30,4,9,36,2,7,45,21,371,89,30,30,122,46,19,23,38,81,26,373,3,14,4,23,45,30,11,48,49,4,20,8,15,18,2,12,5,27,24,46,53,4,13,10,88,18,27,41,66,3,94,36,134,6,18,80,3,17,18,19,9,4,30,366,6,10,65,17,4,32,14,130,7,59,11,14,60,7,80,24,26,81,11,7,47,17,15,24,27,6,55,57,117,36,367,13,70,10,43,78,66,38,32,40,149,21,19,2,13,10,21,9,13,30,17,28,24,37,30,211,21,3,7,48,177,68,78,53,25,41,10,7,30,382,77,26,3,21,364,33,28,88,69,27,5,89,40,5,51,44,90,5,27,8,83,27,48,16,15,98,13,34,84,203,97,41,7,17,9,11,4,56,21,12,11,32,17,10,10,11,21,50,22,18,72,18,5,55,21,5,21,34,5,366,135,54,55,4,10,33,2,36,75,46,52,6,151,5,27,55,10,30,35,143,18,5,5,40,197,17,23,46,30,20,9,8,183,10,11,7,12,31,34,2,12,7,68,37,78,12,3,7,2,8,5,134,52,13,81,73,365,50,5,6,6,141,6,62,53,11,8,11,27,19,36,2,20,56,8,48,78,5,34,34,30,14,3,14,10,11,33,28,27,40,36,50,10,365,124,5,22,22,52,106,90,6,23,37,25,11,15,368,95,19,21,17,14,73,5,3,4,29,126,14,40,111,10,6,8,2,62,10,213,245,16,86,9,367,67,13,11,154,5,35,7,5,428,3,58,3,29,25,14,9,29,375,23,67,2,66,104,40,10,25,20,20,40,18,91,30,21,36,53,5,61,176,9,6,52,86,71,15,25,6,12,15,96,13,9,12,6,11,7,18,8,100,6,31,8,18,12,3,52,64,366,53,55,15,94,7,2,3,31,19,364,14,11,18,10,55,12,42,56,61,137,11,24,389,28,7,53,31,151,6,2,55,33,3,18,53,24,35,14,1,36,4,14,11,16,21,99,243,120,47,13,26,59,10,32,52,6,24,23,45,34,65,8,21,91,18,3,4,16,81,9,27,31,4,20,9,30,382,90,33,9,6,23,127,102,70,91,38,12,62,24,13,9,16,5,6,8,28,69,4,36,5,237,6,139,55,7,30,10,5,9,13,22,236,18,159,93,6,10,44,11,29,3,112,29,373,46,62,11,119,57,6,6,15,5,56,44,66,26,17,7,39,9,41,7,27,20,8,16,5,10,365,35,6,10,8,88,57,7,39,15,45,80,43,64,20,21,25,46,27,43,131,11,6,20,4,2,6,375,3,6,19,4,94,53,416,30,11,83,31,12,49,45,41,2,109,233,12,7,11,6,5,43,18,55,3,23,99,6,48,23,19,10,13,16,19,4,100,111,4,28,4,22,15,67,0,3,34,377,13,74,8,84,7,55,390,16,20,54,11,91,40,71,183,71,41,82,30,18,28,45,80,12,168,139,9,31,119,79,99,72,126,95,3,8,2,209,10,296,17,38,11,6,4,10,79,32,56,28,41,17,82,43,8,12,32,9,13,22,12,4,61,10,144,13,89,3,37,34,26,72,10,12,6,48,84,10,50,34,37,27,43,378,46,39,2,3,41,6,64,26,56,30,5,15,3,57,31,11,27,12,81,20,17,28,50,11,10,5,365,386,51,16,29,46,8,16,50,62,14,71,3,33,14,13,11,4,68,3,387,78,42,163,432,8,125,95,38,45,365,19,5,17,27,17,14,43,48,6,141,58,4,14,19,28,9,14,6,5,20,16,6,8,33,1,8,325,27,23,17,10,39,11,6,116,17,2,7,17,18,3,28,14,38,86,40,25,6,22,7,35,58,77,23,38,44,4,2,65,6,161,20,50,67,47,6,5,6,11,10,14,13,72,52,122,164,74,20,7,8,43,57,71,26,98,109,91,6,50,20,80,7,122,6,12,95,162,117,28,8,7,8,18,13,65,22,15,52,2,58,27,46,49,5,29,84,8,368,4,51,76,9,96,47,177,21,66,83,25,445,19,85,9,21,22,74,25,129,74,19,59,7,13,8,8,14,3,40,370,20,270,42,51,4,23,42,78,24,25,5,93,42,149,370,57,14,42,8,27,57,10,26,3,43,24,52,27,37,31,56,62,6,19,14,8,11,6,173,9,5,5,7,4,4,17,41,5,4,3,393,14,25,2,7,22,36,3,124,67,11,27,28,15,11,41,45,28,14,249,8,34,11,18,46,8,128,7,23,84,6,32,111,5,29,23,92,23,79,28,51,53,4,61,372,70,16,7,47,33,44,5,3,36,34,6,9,9,33,11,114,71,7,9,23,34,111,2,3,11,23,34,123,11,19,141,43,48,5,51,121,45,31,364,9,19,3,8,30,34,9,42,28,73,89,13,42,106,4,9,5,305,4,55,67,42,216,94,3,19,10,25,24,72,42,23,9,9,32,3,386,51,2,2,10,62,6,25,14,282,13,10,369,21,68,9,23,59,367,13,5,63,83,183,10,31,11,18,35,25,39,25,26,40,25,23,9,34,61,72,60,116,74,6,24,36,69,89,26,57,22,83,5,365,7,30,12,19,22,5,28,32,10,8,166,15,3,49,9,1,96,94,5,118,3,19,279,31,17,51,7,2,281,364,151,5,32,18,5,83,5,6,22,35,10,51,29,49,55,71,3,22,7,93,7,22,15,13,24,132,53,77,11,18,9,58,109,21,20,10,9,43,25,19,368,2,365,18,10,119,22,60,39,18,8,367,11,80,365,46,15,19,34,12,67,89,34,34,365,40,63,19,36,7,162,7,31,30,10,10,18,20,57,8,5,21,13,21,397,16,2,72,17,43,6,10,27,50,46,168,15,9,10,371,22,57,8,9,7,43,367,8,36,10,207,21,33,365,29,15,18,57,9,94,1,10,118,80,6,1,15,234,5,123,32,93,4,21,31,3,26,3,18,24,15,7,23,170,38,42,8,19,45,15,39,13,78,40,33,156,16,158,34,3,21,271,4,5,48,5,18,40,27,37,33,8,21,373,6,26,7,9,76,143,5,80,123,14,11,3,6,7,364,4,6,64,32,39,29,40,71,46,33,54,51,218,16,42,7,229,2,18,70,61,5,49,17,80,14,13,7,4,40,36,52,2,52,12,24,21,13,106,3,27,7,15,114,13,15,372,120,7,31,28,98,49,51,49,6,20,11,122,9,13,71,13,27,20,24,3,75,25,34,36,16,11,5,7,12,120,16,67,17,48,67,75,39,3,17,16,9,84,6,53,29,73,7,6,16,8,30,365,4,14,52,17,51,10,23,54,13,65,20,13,19,39,11,30,13,54,10,14,148,9,7,28,6,2,10,6,131,4,15,3,8,186,54,82,11,82,23,56,18,153,12,112,145,12,21,208,18,20,49,4,169,64,5,10,10,47,382,15,43,62,76,4,32,81,4,29,12,60,215,4,1,44,83,69,124,22,1,24,72,8,7,10,74,8,12,10,13,415,3,14,8,3,6,14,36,15,40,3,86,7,25,12,19,13,65,16,43,57,81,66,2,9,3,118,159,16,4,17,3,17,62,39,36,18,18,172,22,29,29,25,12,74,22,50,46,46,22,178,88,365,44,3,8,57,20,25,11,129,2,12,9,41,113,10,14,7,52,29,66,33,4,25,16,9,74,32,3,27,8,18,26,186,19,75,8,10,232,69,132,365,81,42,74,3,47,99,7,45,12,5,28,6,28,108,106,39,238,69,66,51,7,37,42,19,59,24,11,6,11,25,120,8,12,3,17,72,230,6,10,54,24,19,7,61,16,40,53,60,53,30,59,34,25,3,83,13,52,0,8,21,52,82,83,36,3,365,43,10,6,13,85,28,2,27,27,27,39,16,23,8,16,200,37,20,35,9,19,8,8,66,11,10,36,8,67,20,15,115,21,35,12,11,29,6,44,31,7,119,31,8,11,23,399,13,152,40,108,16,112,3,32,55,9,26,22,35,96,201,2,67,276,10,31,34,23,6,40,62,103,12,34,5,59,61,8,49,364,12,7,6,30,6,44,79,4,55,82,67,159,8,149,65,190,5,77,16,12,7,7,46,33,364,71,11,46,11,33,14,51,19,39,14,53,6,30,22,366,0,10,33,142,41,113,34,52,17,63,35,8,14,6,31,1,72,16,136,5,131,22,23,30,254,27,11,30,3,38,11,29,36,141,11,365,18,39,8,97,16,5,17,21,56,29,5,10,27,62,17,27,364,93,184,402,3,8,10,68,11,40,13,9,62,21,13,100,364,3,136,36,71,31,18,12,6,32,29,10,29,27,4,3,3,56,2,10,82,6,48,364,11,52,20,70,25,61,30,12,5,45,53,7,50,4,29,14,125,10,62,12,10,373,366,67,49,8,30,73,40,12,366,9,100,7,98,66,50,11,13,14,17,153,77,34,116,17,2,109,9,22,36,30,11,4,6,17,380,42,14,21,16,32,21,27,14,11,21,60,7,84,57,7,30,27,51,36,110,54,35,3,16,14,3,30,2,20,36,14,31,13,70,15,33,74,17,19,411,28,7,23,19,17,7,3,26,81,25,9,10,27,1,10,26,32,4,417,3,3,24,24,84,11,7,114,23,23,36,10,40,15,17,17,12,7,132,6,11,18,1,22,12,10,5,18,4,42,11,18,17,80,13,62,56,4,2,377,13,213,27,367,45,16,97,11,11,381,11,67,138,12,6,42,6,5,16,9,59,6,15,3,10,16,2,130,3,20,53,38,119,35,110,55,6,13,27,10,0,88,55,46,30,13,365,62,44,87,97,12,55,21,70,70,25,53,30,20,21,5,8,39,36,170,7,10,76,41,57,47,366,61,10,30,11,19,7,21,29,9,24,9,23,19,60,22,11,22,20,2,47,138,18,132,46,7,191,1,20,364,9,106,6,11,1,196,39,77,42,7,14,20,38,8,35,20,105,81,78,12,240,7,63,35,368,41,69,34,43,48,14,1,15,52,26,7,35,18,16,3,40,25,51,47,102,41,10,12,10,44,44,33,70,197,37,497,35,64,47,53,53,27,31,37,15,35,89,1,365,59,32,2,10,54,6,204,426,21,11,6,12,11,11,1,20,105,55,2,11,25,88,53,7,3,32,6,2,48,8,3,102,3,9,51,99,7,1,3,56,3,56,14,5,9,95,5,22,12,22,364,27,274,6,7,128,14,66,88,30,2,8,6,27,31,72,5,74,72,33,65,6,10,17,26,21,4,17,22,54,5,30,46,114,25,123,106,3,103,13,97,14,11,7,9,21,86,27,69,4,59,27,5,44,22,142,25,112,154,66,17,187,364,4,3,19,47,46,10,10,62,148,11,4,7,84,9,369,3,4,39,80,70,7,42,8,3,11,41,53,32,6,45,68,53,55,386,15,54,61,3,60,6,6,6,16,138,202,22,9,40,8,18,7,82,29,24,4,97,4,12,17,3,92,150,10,48,3,105,149,29,8,91,43,98,76,29,13,3,190,28,18,12,39,17,77,7,106,21,6,87,13,11,20,7,8,10,19,82,14,29,71,40,16,118,17,9,8,103,35,16,21,8,20,10,51,8,108,16,7,49,3,15,14,12,4,53,9,7,102,8,46,22,16,16,222,140,26,3,23,25,16,365,16,39,18,7,61,19,49,56,18,3,13,5,6,56,109,14,120,90,28,14,18,48,4,36,35,93,2,41,54,93,11,24,83,7,157,57,21,36,10,9,374,14,36,57,199,24,74,29,77,21,13,108,27,29,9,38,30,19,32,7,40,5,73,59,62,58,26,14,11,6,46,7,218,4,8,80,14,3,35,5,25,12,3,62,9,5,78,22,6,66,38,42,19,105,68,34,4,7,23,331,21,43,20,80,381,8,20,70,81,57,34,91,1,23,21,25,13,19,22,18,27,1,17,47,29,4,15,208,40,47,80,21,102,9,123,5,3,58,52,7,32,21,10,13,85,18,7,27,15,12,105,25,29,12,32,48,1,24,6,2,11,32,28,17,5,46,28,49,16,50,2,6,32,11,5,67,25,30,25,18,10,12,38,75,36,20,22,78,68,61,31,22,131,11,78,10,4,10,26,92,99,19,6,74,18,36,11,2,70,21,14,14,29,273,29,51,49,8,1,15,8,59,20,67,2,50,33,367,43,10,6,22,27,11,135,67,35,13,12,8,23,12,16,56,10,20,48,10,48,41,369,26,366,8,172,188,419,4,13,116,36,13,11,1,7,365,41,90,31,9,60,20,35,368,13,53,21,10,11,4,18,26,39,40,6,112,18,54,7,102,22,22,488,12,22,4,9,163,32,14,5,69,21,42,59,6,66,64,1,17,7,39,23,9,11,101,10,77,39,29,37,18,8,10,36,4,133,8,6,13,27,98,29,6,53,3,15,5,30,34,243,82,60,4,7,54,20,15,10,2,19,198,224,10,12,47,226,36,2,12,22,21,75,74,16,364,19,50,4,2,23,15,103,8,10,57,8,20,8,5,28,62,10,8,8,66,180,15,45,21,30,16,9,37,19,16,3,52,18,17,211,48,219,15,200,9,49,35,30,23,28,98,66,34,77,377,9,7,17,18,13,7,4,98,35,26,45,147,6,12,153,31,22,19,16,57,375,88,24,92,3,6,17,19,6,18,4,8,11,15,12,7,35,10,22,52,12,11,8,6,24,30,43,13,11,11,25,3,114,55,64,70,4,20,41,6,2,9,72,4,17,129,58,44,7,5,117,11,60,35,17,36,11,9,97,109,20,26,380,166,37,4,33,24,80,49,83,199,14,22,93,76,43,5,6,66,15,27,8,5,13,4,17,43,99,38,11,13,24,7,8,177,11,27,10,72,133,84,367,25,22,14,26,7,103,28,6,9,49,31,77,56,49,3,25,65,40,10,11,25,4,105,13,65,54,30,3,45,230,2,365,7,13,28,20,18,117,11,368,67,37,45,21,8,20,35,172,53,27,36,15,35,102,66,17,85,23,7,371,26,6,19,80,14,50,159,19,26,52,70,100,151,42,195,2,44,48,29,45,408,128,10,6,413,40,36,3,34,10,4,364,121,20,33,37,17,22,18,4,49,5,16,82,24,2,60,8,29,48,2,24,205,25,12,136,4,86,23,155,29,138,37,83,38,61,52,154,11,52,39,46,31,15,87,106,18,99,13,1,83,26,11,2,2,42,7,34,22,6,8,20,80,12,11,83,10,3,23,22,155,6,8,61,4,13,44,10,114,137,11,10,162,27,65,3,32,7,24,6,23,461,92,30,33,5,3,18,54,307,27,11,23,2,22,29,7,64,143,7,6,17,22,127,71,8,24,61,62,66,54,8,49,444,58,20,39,3,34,2,101,45,56,3,6,1,52,73,10,16,13,6,375,4,5,108,85,53,64,38,7,40,3,3,34,8,406,56,69,11,15,13,25,18,21,13,4,35,83,40,138,41,15,46,18,25,15,10,12,2,370,111,28,7,76,69,59,12,10,3,25,7,11,12,73,2,405,68,10,5,30,457,8,99,13,30,2,385,6,13,69,69,34,22,27,23,27,48,167,28,27,33,51,1,16,5,10,14,5,147,8,10,130,48,61,18,54,4,78,36,124,11,8,18,11,22,49,7,5,54,79,21,34,10,59,373,138,82,79,35,32,16,5,95,12,15,31,61,158,13,1,367,368,95,14,49,373,380,4,40,4815,21,9,9,9,5,118,82,2,2,16,199,15,10,156,6,98,10,27,12,23,29,5,8,6,3,365,19,73,57,8,93,66,50,81,27,60,41,39,365,63,3,28,74,8,365,154,2,1,9,8,10,403,35,17,25,12,24,90,24,3,5,40,32,51,6,4,18,5,24,68,70,10,3,21,10,5,16,20,72,5,36,4,33,13,4,17,61,51,131,8,11,10,69,221,7,12,14,34,18,27,9,141,26,32,30,19,22,19,45,37,9,22,52,22,11,366,113,15,46,7,39,38,145,55,10,113,32,30,13,108,30,87,135,165,21,24,44,3,45,21,20,365,48,17,5,51,1,40,108,12,16,22,31,57,73,12,64,56,9,5,14,75,32,5,14,26,13,1,7,39,9,28,50,108,21,15,7,365,4,18,15,52,24,7,54,4,106,9,47,2,6,19,23,22,20,47,73,31,81,4,93,50,271,3,15,92,58,13,43,7,364,22,6,4,48,86,2,15,12,6,15,9,51,67,10,36,4,53,18,27,16,7,9,7,17,7,23,233,38,93,4,7,12,38,15,366,51,55,63,6,98,66,37,10,90,14,92,84,9,8,19,40,1,7,62,70,2,7,264,29,4,17,44,100,68,21,9,5,3,14,13,151,15,73,88,37,6,13,20,9,11,11,7,4,8,34,25,45,4,8,9,36,76,364,29,50,43,10,38,87,58,24,66,66,96,34,19,85,5,21,1,24,16,2,364,47,66,21,104,5,4,59,13,20,19,5,23,138,74,12,20,2,8,17,112,42,48,23,37,17,10,53,10,12,30,30,2,14,6,6,33,14,36,61,158,85,8,68,34,40,3,16,2,5,12,34,37,47,17,50,66,43,52,38,102,34,30,46,10,20,33,21,35,17,3,20,7,32,10,14,17,41,22,17,34,4,19,9,375,90,4,1,95,209,10,89,17,45,6,7,35,4,5,7,6,13,159,90,20,68,14,23,57,12,7,19,60,365,71,69,31,18,25,6,56,131,5,18,18,91,12,59,5,6,116,22,28,10,4,237,66,8,67,373,27,14,10,28,5,20,16,371,66,60,19,7,24,14,3,163,126,10,10,31,90,68,142,3,57,67,10,59,241,65,29,3,22,3,40,12,9,63,11,78,44,107,26,11,2,7,6,78,129,17,10,2,29,1,6,14,98,99,16,15,18,9,5,10,12,10,17,365,3,21,51,9,7,33,366,47,80,31,32,4,127,23,18,385,371,2,14,130,8,121,102,100,22,13,31,9,18,45,20,10,55,192,13,15,108,22,7,20,16,58,32,31,41,15,8,14,164,11,1,43,29,108,8,197,36,106,7,16,38,22,46,72,66,89,190,2,12,109,31,8,21,13,164,6,166,2,4,24,99,391,17,23,11,3,8,194,3,54,25,3,13,33,6,13,42,167,33,230,2,21,11,104,3,4,33,160,11,39,15,15,39,44,131,17,237,7,73,128,12,365,9,84,33,22,31,61,189,13,71,48,4,19,69,3,49,375,7,5,34,79,103,12,178,19,10,9,36,102,365,15,15,105,9,41,35,24,49,92,13,186,83,46,7,19,11,2,19,17,30,47,11,39,26,6,174,18,5,21,136,5,6,19,10,182,3,9,3,68,49,5,197,46,26,12,50,6,12,102,30,22,104,17,1,17,8,7,5,29,10,15,13,24,5,56,8,6,14,21,58,11,11,20,8,23,95,365,43,27,2,39,163,34,9,41,1,20,28,21,7,6,9,51,4,4,9,28,37,90,364,33,190,89,5,14,33,50,4,66,110,52,17,41,27,12,66,3,48,364,77,13,8,3,5,13,7,254,32,57,22,82,36,40,12,21,5,2,10,54,7,21,96,12,10,8,45,1,40,3,96,60,198,41,7,14,5,227,10,9,57,15,369,12,5,15,28,22,13,92,26,5,84,365,6,2,28,3,33,2,5,14,25,33,1,10,106,315,16,1,12,145,5,47,3,5,1,32,2,5,9,3,5,63,21,25,11,5,15,5,371,16,398,5,16,51,2,21,364,18,35,9,27,25,35,150,10,52,138,7,110,12,8,201,13,16,15,7,25,13,13,14,6,31,114,20,96,26,5,13,8,25,11,19,25,13,10,21,1,18,32,364,31,367,70,75,7,67,4,50,11,11,32,162,3,8,14,11,3,7,9,26,17,368,23,34,12,44,104,115,391,121,11,53,39,48,7,78,57,115,11,50,85,2,43,84,5,30,35,4,81,2,38,22,12,17,15,16,19,8,16,4,136,10,2,59,6,29,8,16,17,6,46,43,62,7,23,63,5,53,3,33,7,62,43,15,18,31,200,21,4,27,57,106,5,37,74,93,65,365,9,46,12,7,95,32,19,24,5,21,58,20,32,365,7,3,18,186,382,17,126,4,17,81,10,23,10,10,2,14,19,3,6,31,92,47,67,31,4,98,52,34,10,37,67,63,15,143,16,26,62,24,113,56,17,24,78,61,22,18,7,18,65,21,57,20,371,14,365,235,16,24,30,10,4,8,87,399,23,11,19,35,142,13,15,60,40,4,11,4,22,84,33,53,82,5,5,54,4,95,10,25,49,29,6,12,50,9,19,325,1,53,10,57,47,1,6,33,24,18,26,34,6,10,37,100,7,54,23,41,14,57,10,31,9,65,19,2,6,46,36,72,50,11,37,21,25,124,7,2,48,21,9,7,30,26,45,7,77,28,32,58,10,364,15,34,34,23,8,65,34,19,40,19,28,186,2,35,12,50,190,18,5,12,101,8,116,70,15,17,37,16,19,52,55,6,5,30,43,8,7,21,61,246,83,5,159,37,36,12,364,10,18,25,181,10,237,37,14,8,10,15,19,9,12,73,2,23,6,5,1,153,18,59,8,30,28,68,25,17,21,4,9,9,67,94,31,51,31,365,59,4,67,26,33,38,16,24,10,1,9,2,80,23,200,36,78,101,203,12,62,13,47,365,46,5,68,12,4,22,33,419,72,32,45,32,22,12,45,16,64,74,67,12,31,50,12,7,32,27,52,106,17,5,25,63,20,118,44,12,56,17,114,46,10,364,8,43,4,30,42,53,13,3,14,11,237,18,29,6,83,62,8,9,12,11,17,27,9,6,8,28,8,6,13,198,14,79,19,10,24,84,246,61,73,10,27,32,14,2,11,76,86,46,7,1,55,85,7,15,54,3,16,46,2,37,6,52,27,7,11,7,2,75,4,22,129,23,11,42,10,36,5,74,31,11,7,51,4,110,7,30,13,3,7,22,49,7,41,52,17,11,12,11,367,13,139,4,275,85,14,31,27,19,34,50,83,36,426,26,112,13,19,39,43,10,58,2,9,5,71,17,365,35,73,3,63,11,62,2,70,23,54,44,108,9,49,9,10,42,13,33,10,27,28,12,11,6,3,102,374,7,60,65,27,31,12,4,97,17,35,50,27,1,317,13,209,36,14,29,158,15,69,7,19,51,22,11,10,13,3,76,6,6,69,19,41,27,28,46,12,20,127,59,6,3,79,9,24,71,6,10,123,86,174,9,16,10,8,27,10,26,178,123,10,33,74,11,7,24,161,2,17,9,9,29,118,92,38,69,48,7,4,48,1,5,6,27,90,8,20,11,20,25,50,24,15,8,42,13,26,7,42,4,28,14,2,27,13,7,64,68,40,3,37,12,8,11,9,4,4,3,113,129,47,13,85,2,132,18,87,38,9,43,48,22,33,366,76,20,20,33,2,11,26,368,106,383,99,37,27,9,92,32,1,5,44,12,12,43,36,47,8,34,28,23,18,18,369,3,7,50,1,27,54,21,14,24,71,1,12,54,66,101,29,46,132,1,35,41,3,8,34,98,12,37,34,10,46,13,154,25,99,4,107,22,24,7,14,9,365,8,5,6,8,100,49,2,23,53,53,19,55,3,67,4,46,26,10,5,80,11,5,411,46,378,5,21,217,20,14,29,103,80,3,32,34,10,4,26,6,25,194,38,41,16,14,52,70,13,26,16,15,40,19,56,26,44,28,63,45,79,5,39,122,1,3,7,4,3,3,57,56,3,9,4652,21,52,35,30,42,29,47,24,13,19,3,9,5,17,183,7,8,194,6,17,2,85,14,10,89,18,38,10,50,13,74,5,9,4,7,62,13,10,81,12,7,43,44,7,23,5,53,45,8,15,20,28,29,418,54,37,93,10,16,20,2,12,381,4,45,5,364,29,14,34,9,8,11,3,10,9,6,11,39,6,227,5,17,46,35,23,43,58,36,180,8,18,9,56,60,7,18,21,5,118,72,389,17,9,25,22,11,25,10,23,19,12,125,8,54,28,47,21,10,9,16,38,33,3,14,42,1,365,96,56,5,27,42,4,84,132,14,225,94,6,51,52,42,10,7,48,12,10,27,92,70,15,30,61,48,47,25,33,36,6,44,68,35,7,7,49,58,39,41,16,93,51,19,54,23,17,384,6,40,74,4,7,203,18,63,20,6,139,1,18,105,31,10,88,59,23,14,127,10,36,21,197,49,29,44,11,7,15,8,113,390,112,11,22,106,91,47,9,28,102,3,24,379,17,38,64,2,4,58,12,13,13,2,16,46,54,10,17,4,24,364,11,15,82,28,4,383,32,172,18,61,5,394,13,13,16,65,10,135,31,21,8,367,8,86,10,15,23,82,20,2,58,26,155,7,83,97,11,26,43,5,27,19,5,6,40,8,8,6,4,39,373,22,8,13,8,69,3,3,5,7,68,9,47,61,21,56,6,50,41,57,55,7,26,35,64,17,7,52,33,7,8,43,26,84,112,28,46,12,16,12,13,22,6,46,230,79,10,23,159,63,120,31,39,81,31,32,17,3,89,24,22,103,10,48,10,1,57,16,33,64,27,3,72,46,5,3,41,2,25,6,19,15,86,12,115,6,19,8,44,10,45,14,71,2,12,78,49,14,128,14,1,30,17,8,42,12,20,31,36,19,44,36,34,376,43,4,1,22,35,46,18,34,26,3,102,184,11,4,277,86,11,7,7,15,34,24,32,297,10,8,19,16,27,5,19,40,2,14,62,6,6,85,389,96,85,24,7,14,3,24,10,188,43,9,229,15,14,9,31,13,6,275,71,7,10,9,31,9,59,14,19,1,72,6,18,134,4,15,264,12,11,12,16,10,16,39,166,77,12,17,57,31,2,62,9,69,88,6,9,9,16,127,80,178,259,88,62,13,30,61,24,32,5,7,422,280,36,24,54,17,139,16,9,1,5,11,7,26,21,6,23,7,9,55,23,29,32,39,8,9,35,120,28,36,11,27,12,70,12,6,44,7,9,52,29,5,69,28,14,21,101,364,104,155,51,25,24,21,6,6,49,83,76,85,42,22,42,12,16,51,91,6,41,3,85,140,1,19,14,40,40,56,78,27,3,2,114,2,103,132,20,13,36,17,3,268,52,31,15,9,3,81,3,5,13,124,162,20,8,34,7,13,31,40,54,40,123,41,4,78,25,145,1,21,7,22,24,4,8,39,27,65,17,47,38,22,94,24,114,128,8,38,5,6,40,6,20,133,53,6,1,37,94,33,13,9,9,3,15,17,62,28,5,22,41,4,20,21,65,10,12,28,15,27,2,81,6,19,1,18,253,25,33,5,162,37,24,44,32,17,366,395,1,32,42,96,19,24,45,36,23,20,67,2,46,37,12,144,29,5,29,365,36,76,103,24,7,17,9,10,6,44,50,11,3,55,365,48,10,62,91,175,102,3,37,75,19,8,5,3,47,21,12,20,18,7,2,366,26,5,9,5,96,13,22,39,58,6,10,29,94,393,57,115,44,387,12,0,40,2,43,20,8,10,19,134,8,3,61,5,30,178,10,27,51,8,55,10,12,8,48,8,31,17,28,12,48,16,19,6,2,12,15,58,70,22,17,3,10,1,2,39,16,10,19,29,113,12,9,26,119,219,39,43,5,66,39,71,17,6,24,66,127,37,65,55,36,19,35,5,44,13,41,23,52,46,66,6,4,6,31,123,34,21,77,46,43,37,366,2,74,47,15,23,94,34,10,28,7,43,80,6,20,77,46,8,4,36,16,127,162,10,20,82,364,137,18,8,104,12,8,5,25,42,46,19,20,1,12,42,99,56,4,3,23,9,20,58,4,24,9,13,93,33,21,13,126,11,45,36,5,28,4,15,8,4,19,4,92,8,21,1,29,85,30,93,85,36,61,91,10,45,34,13,21,14,365,366,52,53,40,37,5,79,5,6,42,54,90,22,374,14,365,12,2,32,5,6,243,24,201,68,3,21,80,63,1,7,7,16,20,4,17,28,33,21,8,189,23,22,24,63,204,24,3,7,96,42,105,16,172,371,77,281,117,23,11,27,165,8,40,13,167,8,4,14,31,37,15,40,41,142,4,78,17,24,116,27,102,193,14,59,374,31,67,7,24,45,146,16,5,16,8,6,94,85,37,2,78,22,49,35,6,55,36,34,4,78,21,14,4,23,59,18,3,20,94,36,47,39,211,20,63,63,33,364,63,24,25,34,71,6,42,67,364,72,14,268,7,14,7,5,9,29,159,7,15,368,80,77,80,65,47,168,75,67,19,8,32,112,24,100,13,195,72,84,5,2,59,50,1,37,49,160,49,24,59,41,23,19,152,28,364,26,367,8,62,24,10,118,35,144,46,8,23,138,179,6,13,11,3,12,11,11,19,31,6,14,11,4,44,22,367,38,29,54,36,8,58,90,104,15,19,9,243,72,1,6,65,8,3,274,61,7,51,24,56,31,48,87,3,26,24,12,55,8,11,22,31,47,6,18,31,71,10,2,5,27,38,26,61,82,18,22,76,13,14,12,14,14,1,7,23,11,66,11,150,3,31,374,22,10,47,2,46,33,67,10,55,111,2,11,45,66,25,29,17,14,79,143,27,116,12,57,12,150,26,76,51,60,7,104,27,9,46,82,36,88,11,17,8,19,21,10,1,12,18,99,3,63,6,110,9,20,23,12,22,12,9,39,4,4,120,12,18,17,24,62,10,16,10,87,42,51,158,32,4,9,21,9,13,29,5,64,47,89,35,13,15,27,67,9,42,14,117,131,80,51,45,7,177,48,3,81,23,8,29,128,21,31,60,34,2,7,6,11,6,134,20,86,88,61,28,20,6,26,9,261,397,9,6,87,6,10,20,68,56,44,10,20,9,3,192,6,8,115,127,36,43,4,34,23,1,26,30,39,88,100,19,6,140,221,43,57,104,6,24,6,79,27,43,52,1,107,88,48,62,7,6,150,10,48,6,31,8,23,3,15,5,21,13,162,45,29,9,60,14,369,22,21,70,122,13,76,21,100,146,114,13,5,9,27,1,49,62,36,3,120,21,108,20,11,16,30,20,15,4,14,364,46,218,33,2,366,5,17,75,21,71,30,7,379,7,14,33,189,15,22,33,104,19,10,22,21,8,40,24,180,31,30,8,186,33,10,63,4,32,28,34,33,116,82,6,24,89,12,8,377,25,130,29,42,73,10,12,14,73,2,11,67,10,29,64,4,16,76,48,370,33,41,28,46,11,68,17,388,49,34,5,15,364,74,37,29,6,3,27,28,10,141,9,366,20,12,33,4,92,10,9,9,145,4,22,181,33,26,31,44,82,30,30,406,252,5,82,11,13,3,13,74,27,77,9,11,14,11,30,9,24,384,75,55,40,32,15,13,146,13,20,77,29,27,43,364,21,130,12,27,105,10,15,71,34,9,49,21,25,14,366,21,16,68,39,8,74,45,3,12,61,4,12,26,236,21,13,8,66,75,6,137,2,73,30,7,29,366,3,21,11,67,24,17,43,14,23,255,69,30,27,5,12,56,15,83,5,39,73,33,42,23,34,19,26,159,54,8,395,55,6,9,6,28,36,75,77,12,16,12,11,13,5,3,18,45,156,15,6,65,15,24,50,20,53,41,14,36,13,3,83,5,12,68,40,104,38,15,15,32,9,87,75,59,1,32,45,25,61,365,23,131,32,31,30,33,21,33,2,113,38,46,42,17,35,12,22,8,156,9,8,375,49,25,14,53,203,19,16,36,5,18,4,6,10,288,4,10,9,3,14,15,20,11,35,26,8,11,10,63,18,24,12,12,32,24,29,2,310,176,3,7,95,5,26,19,12,4,15,23,9,365,20,73,17,4,18,82,2,54,30,17,4,16,8,7,56,82,4,6,56,18,13,22,9,89,28,59,159,35,34,273,6,28,14,71,13,38,16,28,8,113,4,79,3,4,9,11,5,5,23,6,21,39,2,36,4,50,367,56,10,16,4,95,12,19,367,123,33,40,2,55,44,167,58,366,68,8,46,3,11,7,8,8,8,159,13,47,167,65,6,59,55,8,9,41,31,24,9,52,7,10,23,15,87,27,123,6,44,125,10,214,12,33,408,59,34,80,52,161,33,28,364,8,35,153,266,51,19,261,12,33,4,5,3,34,39,29,12,10,20,98,52,33,33,55,3,143,67,86,50,23,10,285,201,21,10,39,261,4,12,17,374,86,119,38,18,40,4,6,39,10,41,20,121,4,44,8,34,23,58,29,44,18,12,101,30,19,32,6,88,77,34,122,18,20,1,14,8,31,40,15,48,90,28,46,4,50,17,58,22,86,1,46,17,16,6,19,8,10,5,47,31,78,40,246,46,19,14,29,63,13,13,38,43,32,21,146,1,49,14,5,16,378,106,9,25,10,25,45,9,51,9,22,6,8,31,41,46,13,19,61,5,42,2,9,52,15,264,30,23,11,64,156,13,68,56,366,18,80,25,30,6,5,9,12,43,167,32,50,48,7,27,17,1,25,67,22,27,13,53,7,60,84,168,6,107,177,22,13,7,25,11,18,4,35,29,25,152,57,71,11,7,20,262,19,24,368,54,49,377,24,47,160,366,6,6,28,107,4,47,43,5,10,53,13,84,15,27,12,7,17,129,60,20,10,113,27,34,12,365,29,63,198,59,19,32,22,46,40,58,6,14,29,32,3,220,47,127,11,175,30,366,92,9,19,8,52,37,10,25,112,25,10,7,16,9,3,10,4,61,14,8,27,1,2,12,128,20,43,5,5,37,80,192,19,378,174,9,13,14,31,27,46,11,42,19,83,5,92,113,41,54,85,72,33,11,26,222,29,13,168,47,3,45,5,408,2,20,14,78,10,53,4,7,27,51,29,88,40,29,6,14,43,18,106,20,17,40,34,26,33,4,110,7,118,41,6,46,144,9,7,25,17,364,9,43,55,55,17,40,12,40,11,28,14,38,83,17,34,15,26,5,59,14,8,169,3,53,8,46,5,365,62,22,39,15,28,142,366,134,27,3,14,55,83,8,104,3,21,21,11,2,8,13,15,3,14,60,64,28,27,24,123,21,92,23,9,19,8,6,104,52,28,2,8,6,25,35,2,31,30,15,24,8,24,68,17,6,26,109,51,14,5,128,39,45,79,77,115,5,104,7,30,17,25,269,8,6,10,23,11,14,18,10,18,16,4,11,146,19,8,99,19,21,7,61,15,31,18,24,100,53,28,10,52,8,8,36,10,117,5,68,23,15,7,10,14,12,4,25,9,4,11,6,78,29,47,65,16,13,55,40,6,105,5,88,369,23,103,50,167,18,398,13,22,58,2,50,124,11,44,1,84,21,41,366,5,39,14,85,20,6,9,69,28,87,13,4,7,392,31,146,36,8,26,17,73,39,0,8,31,95,163,15,5,11,2,31,13,118,12,70,4,39,89,89,100,23,97,21,15,5,10,371,12,78,33,9,38,21,7,5,13,55,14,66,58,134,23,11,167,27,7,131,5,48,71,151,10,44,9,16,38,22,53,21,39,116,130,72,39,117,39,55,67,13,6,20,26,2,10,104,11,13,10,9,17,119,123,48,182,15,21,12,21,2,38,61,5,71,16,13,8,57,382,15,9,36,8,46,6,16,4,22,27,24,43,12,17,55,83,59,24,35,5,21,26,17,190,20,36,34,22,374,48,94,5,157,15,10,21,120,23,15,24,7,63,6,3,89,19,33,373,44,27,21,26,57,12,22,70,33,43,16,5,8,4,6,15,365,7,14,18,23,9,42,68,4,7,23,7,35,82,8,75,65,6,26,27,2,80,12,6,25,19,21,8,67,10,7,26,106,12,364,8,47,40,38,365,15,112,15,38,10,46,17,18,12,15,17,88,23,47,23,20,37,32,82,3,57,75,35,14,4,7,16,117,7,8,60,11,10,33,26,25,65,5,9,19,28,50,4,23,1,76,84,11,21,22,17,11,28,67,53,6,27,11,9,2,30,47,101,90,44,29,18,48,24,13,5,45,6,14,6,17,6,4,8,17,24,1,6,12,3,33,10,42,365,4,42,81,12,28,326,21,22,35,43,374,92,40,15,21,9,5,8,368,69,17,241,7,81,24,35,14,41,51,18,44,16,55,54,17,14,41,13,146,14,5,126,7,3,24,35,43,15,18,73,3,27,376,386,4,64,33,7,96,11,13,88,64,57,34,9,15,383,66,10,146,216,7,17,5,110,3,3,22,32,11,5,15,8,16,29,32,47,24,14,11,9,7,367,53,69,7,32,9,21,10,21,60,53,107,5,34,20,72,23,19,5,50,18,64,388,45,13,17,71,15,19,52,9,12,11,26,22,32,7,7,19,14,24,8,36,8,28,16,70,37,7,117,54,114,11,7,27,9,6,274,17,59,38,3,13,101,18,5,22,163,11,37,18,368,69,7,87,78,18,9,62,109,172,16,71,6,14,13,371,59,35,15,11,4,11,33,63,70,18,11,96,386,393,7,13,20,6,51,29,7,2,19,6,3,15,46,53,35,37,80,57,43,89,122,13,23,7,15,31,9,19,9,99,99,23,24,12,3,24,26,187,14,5,10,32,22,58,2,16,33,23,7,206,369,38,54,7,6,61,24,7,156,10,2,14,14,34,365,115,19,4,46,17,17,44,7,18,3,121,21,47,144,31,5,10,25,37,72,9,19,80,20,419,79,15,14,3,105,34,2,6,59,54,8,40,53,31,25,15,110,8,6,12,28,45,9,244,54,11,368,48,17,12,9,304,4,28,15,115,101,25,20,47,10,14,23,7,12,23,6,26,3,4,9,73,9,2,147,17,3,13,6,41,33,10,7,3,66,2,28,75,49,6,116,11,4,9,33,70,38,47,151,24,371,46,41,2,69,32,5,11,29,66,104,17,39,5,26,54,204,3,40,38,4,51,106,6,4,3,35,3,27,4,5,5,5,31,14,18,75,364,36,75,33,30,18,1,26,82,10,22,10,45,28,364,7,48,21,30,3,52,54,8,48,34,9,4,1,11,102,106,10,15,92,5,21,366,17,17,5,13,364,368,7,55,8,7,37,6,4,33,24,80,2,35,34,13,11,7,88,35,40,28,85,7,47,288,55,49,2,3,22,76,79,27,15,7,14,27,24,19,60,6,62,30,3,42,10,17,12,6,40,2,117,16,23,49,182,3,365,19,367,41,39,4,59,383,65,6,29,16,6,63,72,46,72,100,3,8,49,26,16,178,2,37,3,2,6,16,26,8,158,198,81,105,9,31,11,2,30,9,73,31,49,6,367,7,34,13,104,3,68,364,27,25,29,34,36,28,139,12,11,41,14,106,25,8,23,6,69,6,115,27,67,23,7,11,18,223,69,2,55,2,58,73,89,15,30,54,364,152,153,147,8,102,4,14,3,4,381,8,43,19,35,1,51,11,40,43,10,22,99,38,91,3,17,14,61,413,21,16,99,46,10,5,78,120,83,21,91,8,36,23,23,3,4,35,16,99,24,113,13,43,206,53,17,19,16,9,45,97,9,7,52,81,57,17,14,12,8,4,8,32,13,365,16,52,3,30,56,19,8,151,23,394,13,10,366,31,1,15,53,62,7,28,10,13,85,53,77,14,32,136,94,3,8,24,365,6,25,25,270,170,7,27,10,20,59,4,29,201,34,5,42,3,2,368,31,20,148,150,71,14,18,34,14,36,56,9,11,7,6,21,26,14,14,142,5,34,3,40,42,9,20,19,397,29,33,10,25,4,10,67,111,71,7,43,16,7,7,58,4,77,17,14,11,148,11,27,22,50,8,19,16,8,31,55,33,31,6,1,61,9,11,14,14,4,49,7,26,30,119,23,44,31,6,2,58,251,406,20,40,179,130,56,38,1,2,74,16,19,31,13,41,5,21,10,26,38,44,72,11,18,8,6,36,18,11,6,73,16,3,54,14,216,56,41,6,47,34,108,5,10,37,12,9,365,136,18,2,8,28,235,72,25,4,43,21,81,75,97,82,10,249,37,10,11,14,88,11,21,5,24,14,35,27,19,44,60,30,370,41,18,1,1,53,26,40,21,10,7,159,79,92,13,22,39,145,14,263,62,90,35,4,132,20,103,68,1,57,54,12,14,19,66,4,6,98,409,8,39,20,8,27,22,14,160,20,45,68,39,34,64,16,4,2,9,14,21,11,10,25,76,88,6,22,33,45,19,77,6,1,4,82,13,2,67,21,8,16,48,38,12,19,64,16,5,3,11,377,43,122,16,56,4,5,18,12,9,7,376,7,8,14,81,285,14,8,365,48,33,58,45,9,83,52,60,7,7,26,53,29,33,8,81,71,2,49,4,59,2,25,10,59,8,15,7,45,6,11,23,367,15,124,28,31,183,35,49,173,103,6,49,368,37,9,6,14,127,2,20,231,195,10,8,16,27,68,133,45,91,140,209,8,62,96,18,253,3,6,60,27,42,194,95,26,30,12,26,25,28,4,83,10,15,108,117,154,104,16,12,23,7,20,80,113,21,11,7,14,5,45,37,5,33,41,44,21,369,143,69,72,87,81,9,35,32,54,11,400,5,44,30,8,263,7,12,23,105,9,11,31,399,51,11,31,13,3,6,12,367,95,72,367,8,378,77,25,2,58,23,37,28,10,30,62,7,48,14,25,42,11,12,10,19,62,26,6,76,78,72,388,28,60,14,35,136,99,15,14,70,107,12,14,43,12,365,25,376,18,48,7,12,8,364,245,27,20,71,13,4,6,16,44,17,12,14,29,3,77,2,164,91,37,50,2,6,255,30,2,22,4,29,193,44,22,72,98,48,15,7,213,27,15,13,38,39,32,167,18,9,32,5,9,4,19,8,14,42,17,29,14,35,66,364,8,10,9,96,65,103,84,17,77,13,86,32,15,34,20,16,7,9,14,16,370,200,11,48,16,20,10,68,145,96,28,13,16,17,8,89,365,32,66,14,9,82,22,14,54,53,146,8,57,20,3,42,5,24,7,5,7,12,19,17,5,9,67,37,16,127,36,12,46,32,3,67,11,18,77,5,16,10,45,22,41,6,100,37,21,13,6,193,5,48,73,16,51,16,21,17,18,21,6,45,47,4,12,253,39,71,75,20,100,44,37,23,12,25,21,83,3,14,80,4,8,31,5,33,44,133,13,6,12,8,143,18,34,20,20,7,56,7,5,82,105,73,29,76,70,77,10,10,80,22,4,16,15,67,9,12,51,116,10,27,21,23,19,32,62,19,6,59,71,4,120,7,8,38,41,3,6,7,68,13,371,72,34,199,6,11,134,53,11,22,34,368,16,9,119,40,23,64,34,57,53,48,50,42,17,162,59,72,18,14,4,63,52,27,30,49,139,39,23,365,20,4,9,5,36,11,29,3,168,3,24,37,17,44,26,252,23,10,52,1,12,10,6,149,104,36,7,35,38,6,13,3,8,90,7,19,12,43,7,7,2,7,52,118,157,65,48,272,19,92,11,1,77,24,40,152,4,17,365,11,156,12,55,52,92,59,60,18,227,12,3,107,29,10,31,76,63,14,17,6,33,7,44,51,20,15,12,24,7,15,40,2,8,17,17,26,45,4,9,4,14,68,22,23,7,70,3,9,65,103,84,12,157,157,128,8,31,7,65,9,125,24,109,16,35,99,29,22,56,14,22,9,4,11,10,52,25,22,17,40,24,6,44,48,39,39,17,39,20,38,30,82,33,95,15,367,109,367,22,34,2,20,17,9,14,56,154,12,71,3,8,14,10,2,7,20,27,64,417,10,95,104,370,20,70,368,27,177,18,91,32,3,106,17,28,73,117,13,10,42,103,55,71,19,41,45,4,368,189,7,22,25,26,17,22,33,153,17,26,251,204,19,7,81,12,8,9,2,82,28,18,1,21,63,28,9,8,15,2,53,23,27,12,73,14,7,56,11,93,14,54,12,34,21,15,8,49,44,64,21,30,158,47,8,55,6,4,5,9,5,3,14,9,45,16,8,7,76,20,8,35,15,177,23,29,33,5,18,15,117,87,60,9,31,2,7,131,97,3,126,2,46,52,14,46,282,53,74,52,4,36,13,11,14,5,37,97,44,17,34,7,2,6,48,23,24,10,20,73,8,12,151,6,37,10,112,122,110,17,7,24,11,18,1,77,372,85,116,6,1,4,38,23,10,20,11,13,4,22,26,106,11,129,48,9,16,3,1,2,26,30,9,135,13,40,49,55,136,45,16,10,24,35,48,4,13,77,368,30,37,160,107,12,209,48,68,14,178,38,17,40,117,124,57,3,7,36,8,7,41,12,112,13,2,365,5,17,104,13,19,32,82,22,45,10,48,7,56,27,102,14,4,4,100,28,34,158,279,8,11,151,44,36,17,134,42,8,72,73,34,365,7,5,62,6,16,19,11,208,46,202,52,11,14,34,10,84,116,15,31,32,29,96,5,92,7,23,28,89,11,3,3,31,10,5,24,91,15,8,10,58,35,42,101,80,6,58,87,15,8,11,4,21,15,6,19,117,55,4,12,32,5,8,5,21,27,389,8,76,38,49,25,30,10,58,31,17,25,30,6,2,35,115,145,5,364,70,7,5,368,57,88,6,119,13,13,14,34,8,46,63,2,35,33,27,86,19,9,4,6,11,22,13,7,38,431,90,43,20,5,72,1,155,12,103,12,96,26,113,192,78,33,23,113,8,83,6,365,12,7,7,19,369,11,53,5,20,65,74,77,107,24,22,61,19,93,212,26,23,3,9,11,14,72,14,17,84,21,4,79,209,28,23,57,14,84,122,69,25,56,48,20,170,23,16,35,5,69,129,69,24,11,7,24,53,37,70,40,64,15,25,32,6,23,29,8,135,186,30,186,56,30,33,94,28,18,30,25,23,35,5,32,84,4,12,14,32,62,49,29,19,25,2,11,135,78,38,44,15,40,90,3,35,13,24,12,14,4,26,18,9,27,89,3,32,30,38,67,387,14,54,377,15,12,13,189,101,26,20,8,64,123,4,32,129,2,12,29,11,14,31,29,13,11,10,28,8,24,20,43,8,27,73,26,17,87,118,62,19,26,57,11,4,55,155,140,6,246,26,60,16,66,33,9,12,46,18,61,10,58,124,13,10,10,19,22,87,29,38,9,18,28,19,2,49,6,52,39,12,48,16,5,3,5,112,88,8,105,8,39,143,46,8,9,24,16,38,23,5,30,257,103,48,79,155,3,78,22,57,7,30,4,16,12,8,26,58,69,15,13,35,9,4,9,31,210,20,8,22,367,9,11,77,65,6,41,14,21,547,78,207,42,7,59,4,26,22,21,128,7,14,152,364,11,5,388,328,13,18,23,232,384,4,90,14,27,31,1,7,70,10,15,6,101,43,20,8,15,138,29,9,5,14,189,78,3,2,29,11,6,93,30,137,12,17,22,5,11,34,3,48,21,18,11,46,5,12,33,16,19,64,29,33,143,144,35,5,7,10,16,100,7,150,74,19,220,14,12,4,48,4,29,309,17,39,8,188,7,15,14,6,73,143,22,32,73,28,30,68,403,31,20,166,82,368,24,12,108,3,18,125,7,160,47,3,4,39,27,37,30,13,5,3,38,52,47,74,108,365,5,5,9,70,13,98,51,37,12,15,5,12,48,123,50,4,164,24,2,15,55,29,163,16,168,31,420,2,5,53,5,75,9,37,9,52,9,143,77,34,7,10,22,16,2,3,17,60,3,55,31,7,20,2,9,62,2,47,8,65,45,9,40,34,382,60,41,18,9,8,16,30,97,4,14,18,79,5,50,18,3,43,21,11,12,72,25,254,29,51,21,33,160,17,18,155,33,76,5,2,8,70,8,7,99,68,5,106,7,3,55,8,24,45,376,10,74,38,21,33,19,376,22,1,37,11,29,55,5,20,16,8,37,12,97,8,41,135,39,21,15,40,9,69,6,9,27,382,11,38,52,63,27,59,36,21,109,6,37,16,23,40,85,32,7,90,366,14,9,17,66,392,11,12,25,21,2,7,7,24,16,2,56,10,13,24,20,18,22,3,41,14,122,5,4,29,50,29,56,7,23,34,25,9,32,20,36,47,11,37,129,8,157,34,16,35,2,37,14,15,26,9,70,19,65,24,8,32,65,7,19,52,27,51,15,27,88,110,218,52,27,2,45,16,129,15,9,366,154,36,10,5,60,45,13,64,27,37,6,31,33,237,364,38,5,9,29,65,386,70,24,65,53,45,122,46,18,5,27,22,12,10,18,32,184,4,20,151,8,24,69,10,43,7,30,28,14,26,15,372,14,107,12,19,43,23,13,19,15,20,13,5,79,21,9,14,5,36,135,81,15,365,6,46,1,5,29,26,43,24,19,7,3,28,82,293,4,21,8,37,26,33,12,12,36,75,43,109,11,7,14,8,3,8,3,205,8,4,29,18,3,56,222,19,383,43,66,86,13,175,26,4,7,13,3,31,6,18,14,10,10,19,25,12,27,35,40,6,76,216,24,48,28,48,5,41,11,24,126,10,87,69,16,14,7,26,15,14,5,20,16,20,18,5,51,3,7,94,38,16,236,202,30,26,1,32,40,142,66,15,60,15,9,12,113,18,30,13,9,31,5,11,4,88,165,150,34,20,11,18,29,8,56,107,27,28,116,13,6,83,17,10,35,18,318,4,6,39,3,9,50,18,2,20,20,28,8,12,366,5,70,48,30,23,16,5,6,56,7,5,65,21,14,5,41,17,79,10,2,15,11,11,25,123,44,225,46,41,3,46,365,6,80,57,69,46,11,98,153,41,20,8,24,38,12,9,26,137,71,64,163,28,76,10,182,13,288,67,125,3,18,3,86,21,60,116,11,15,64,26,66,17,23,89,110,116,21,4,24,73,46,55,67,10,22,24,19,52,3,54,9,59,158,93,18,79,9,27,61,23,103,7,7,4,73,12,11,39,23,27,118,6,43,2,29,36,14,15,11,43,33,34,20,18,45,10,9,93,59,66,8,12,118,47,38,4,34,66,233,4,254,4,78,25,134,29,106,31,11,15,39,10,27,16,50,24,11,12,12,13,10,9,41,191,365,2,10,60,238,3,247,57,18,7,50,12,41,12,68,36,36,18,7,17,66,7,7,31,147,32,53,24,24,62,58,9,7,18,50,14,1,41,41,367,15,12,43,2,26,21,45,58,11,38,4,91,15,26,4,8,19,2,8,175,10,103,6,55,63,19,29,103,42,12,15,11,8,42,1,41,75,20,25,45,86,129,14,3,123,23,1,13,120,46,52,3,36,49,104,264,86,9,139,13,96,13,34,16,35,4,40,66,10,18,17,4,385,7,6,64,1,20,10,11,22,24,11,63,90,9,38,225,367,381,25,8,30,26,11,5,141,16,170,7,276,15,29,67,14,86,11,21,9,18,52,20,16,8,11,7,14,77,188,78,59,146,6,73,55,3,34,62,79,18,23,45,62,19,17,186,41,22,48,11,21,14,18,16,40,20,12,26,4,5,10,25,11,90,60,23,49,20,13,30,5,18,9,37,21,14,13,38,13,84,14,27,5,25,19,14,72,27,27,120,62,35,12,67,41,9,201,47,23,7,13,5,9,90,51,21,48,9,60,19,55,51,117,6,9,41,22,60,94,9,4,10,87,61,11,24,8,35,80,34,20,64,99,30,366,38,27,5,75,33,66,59,9,9,89,13,21,24,178,78,7,14,33,172,8,9,6,94,75,34,40,168,13,39,9,63,111,5,142,21,4,36,60,17,31,4,20,47,68,95,7,37,9,21,7,5,41,372,7,17,4,11,368,38,5,19,24,51,47,40,23,4,21,10,371,11,2,18,27,3,47,63,379,9,22,72,88,21,234,10,25,15,364,2,41,8,22,7,25,30,26,7,7,20,15,5,24,55,233,18,191,7,12,51,3,364,10,68,97,4,6,97,5,176,77,81,16,10,14,4,367,102,31,21,5,22,59,31,8,22,26,41,155,23,6,145,16,3,4,9,6,60,25,13,63,8,9,40,26,6,10,365,164,5,35,9,69,53,38,6,11,3,13,9,39,25,14,80,39,28,371,102,112,5,49,22,5,10,369,364,49,20,397,2,16,9,91,39,31,14,50,6,25,3,3,16,10,142,5,5,25,34,78,15,105,62,22,283,12,224,17,9,8,103,6,8,67,42,4,54,5,24,7,76,2,46,12,95,5,6,20,4,14,9,72,50,7,5,30,28,45,45,39,364,2,26,112,26,22,106,19,1,6,25,132,28,375,5,43,23,13,9,34,5,58,46,82,27,3,95,390,75,10,56,22,10,92,3,28,366,1,31,25,13,57,79,124,34,5,64,3,330,3,31,5,60,59,87,50,55,146,41,5,8,17,50,35,8,37,79,3,25,12,7,10,15,41,1,40,35,158,37,19,84,13,13,84,7,29,368,52,35,56,10,6,4,4,34,26,57,397,17,134,23,13,12,5,9,11,8,56,43,4,16,11,8,8,16,35,36,1,9,5,79,14,3,18,23,12,9,12,43,15,72,55,13,7,28,25,30,45,65,11,27,6,113,7,2,27,6,23,3,15,18,5,31,8,30,57,131,79,19,57,205,48,22,374,61,34,4,30,16,4,26,4,49,49,3,66,84,13,68,114,6,93,5,106,59,90,65,110,73,14,10,18,86,18,16,9,29,18,43,3,365,27,2,93,110,4,4,9,27,12,2,5,10,35,18,54,24,174,118,317,45,17,1,74,9,30,30,43,365,9,15,21,4,15,65,12,25,104,20,8,10,35,43,71,31,10,3,2,17,4881,33,46,88,3,374,8,72,6,163,4,34,18,22,19,9,6,12,3,99,64,9,35,9,132,21,94,88,14,79,3,22,89,21,21,141,75,26,15,7,147,6,14,229,87,9,30,12,27,136,7,21,33,32,114,11,16,10,34,18,11,77,385,19,8,20,68,46,13,1,39,6,13,4,110,15,13,64,369,27,35,6,50,14,364,14,106,14,22,11,22,38,56,18,122,53,35,8,7,43,1,21,22,191,25,108,129,50,12,40,5,2,98,38,11,62,15,3,109,11,14,74,5,19,6,36,47,4,44,9,370,9,74,55,12,12,254,74,17,17,19,16,29,9,45,34,9,28,12,9,51,20,36,67,4,58,132,14,20,26,6,41,286,16,97,29,3,139,20,15,47,8,37,13,367,16,11,110,74,367,21,23,15,14,94,58,20,15,40,374,22,42,3,18,16,63,42,27,9,86,466,2,34,160,27,87,191,365,116,54,65,6,6,25,33,9,61,75,109,30,29,388,23,13,9,150,15,63,35,38,13,14,42,24,36,5,26,12,35,42,77,22,17,60,49,47,12,294,57,37,125,9,119,7,73,5,431,5,9,2,7,20,49,19,12,6,25,29,35,28,88,9,22,47,158,9,108,3,49,135,57,17,14,4,87,48,11,2,78,87,50,10,4,5,16,28,23,94,29,60,26,95,32,18,40,22,36,16,22,76,20,26,59,23,8,112,140,14,50,24,53,15,4,23,4,3,365,13,26,15,41,12,25,112,99,40,194,48,3,14,4,12,10,47,20,52,102,22,61,72,13,20,29,113,367,32,30,39,22,153,3,33,6,152,6,21,24,61,28,75,37,11,11,187,14,17,5,34,34,22,122,15,24,62,9,61,31,68,4,40,40,60,8,60,17,49,201,2,3,23,90,165,100,25,28,23,21,9,5,4,30,387,8,26,29,74,22,2,4,200,18,75,107,45,322,24,14,4,25,80,3,24,5,8,17,4,10,26,94,8,8,15,94,6,27,28,48,21,3,21,6,6,42,6,37,42,12,8,10,28,59,11,76,40,20,12,20,21,16,70,385,61,233,6,32,37,92,16,3,17,8,11,21,42,223,4844,10,42,5,77,2,4,10,17,13,201,9,27,42,70,52,24,14,13,10,38,21,17,4,61,23,3,86,31,48,8,5,14,9,373,189,23,8,159,64,16,40,33,165,1,371,22,40,41,7,15,7,8,247,5,13,35,2,40,5,115,25,62,45,99,92,168,88,11,17,18,9,92,27,2,5,12,20,47,85,12,170,8,74,15,48,56,176,34,12,10,14,31,123,22,33,97,38,172,20,16,45,6,7,6,23,49,55,53,35,29,13,102,30,86,2,14,10,10,37,15,15,53,47,2,67,129,1,24,37,7,24,10,13,8,97,54,73,28,25,9,57,15,39,36,71,6,21,12,87,36,38,39,286,50,35,3,42,6,60,384,13,51,5,17,17,15,115,34,94,183,68,133,2,15,51,17,91,34,9,57,12,12,133,5,135,16,85,37,7,31,60,29,21,145,29,79,4,24,226,28,4,3,84,73,27,25,235,5,21,16,8,7,36,436,38,404,133,64,49,73,4,30,43,113,59,13,14,377,40,23,5,27,34,101,3,2,8,42,27,242,32,22,52,5,10,366,92,25,61,51,12,97,26,59,42,20,9,34,2,29,4,10,8,8,65,7,27,80,15,33,29,43,107,31,157,163,99,7,75,24,36,41,58,27,31,13,54,18,72,12,428,14,23,367,13,8,6,19,12,6,5,83,374,23,105,36,10,156,26,10,52,5,33,59,35,48,81,27,11,53,5,29,29,115,33,5,4,6,142,9,14,43,11,139,57,29,27,4,12,6,3,369,62,26,15,27,51,34,48,30,13,35,10,66,19,5,202,21,23,33,6,13,72,11,12,10,1,26,30,18,34,241,26,13,5,10,11,6,35,30,3,14,3,80,23,26,73,47,88,364,4,78,16,59,3,30,214,31,10,351,52,137,40,32,36,5,261,37,34,42,24,6,12,13,48,11,18,32,28,29,49,38,6,1,7,135,33,20,16,17,27,10,5,58,10,1,250,23,38,8,51,244,211,16,12,24,24,48,367,27,11,21,11,17,40,56,9,6,95,99,54,19,7,3,20,18,18,34,2,14,27,6,144,13,364,7,4,145,45,12,9,16,34,38,173,54,55,6,14,76,20,18,1,265,76,11,28,10,16,28,30,7,174,59,16,6,79,11,19,11,15,377,38,48,56,16,11,60,13,71,41,146,4,29,134,4,59,28,9,154,18,8,12,5,64,22,32,15,1,53,21,15,6,21,17,15,6,16,9,4,16,5,20,4,111,26,9,12,3,28,30,20,36,5,139,5,27,44,179,1,24,368,2,73,190,74,364,37,19,16,29,21,3,33,124,24,10,23,79,35,3,4,16,45,115,61,51,22,49,24,62,11,7,22,156,42,7,70,4,62,11,40,34,34,105,1,127,16,36,33,35,21,185,66,8,6,4,5,107,104,15,1,22,20,14,46,12,19,88,110,4,194,9,102,70,64,2,174,4,34,21,55,26,64,36,233,14,18,84,271,1,7,43,11,10,70,5,11,6,7,6,148,83,53,11,39,111,4,12,16,72,2,187,35,19,10,16,7,3,15,3,43,26,26,5,6,37,66,104,29,12,11,17,16,3,11,16,50,39,76,34,34,33,4,91,4,28,366,9,67,17,17,16,69,23,5,50,9,9,17,34,15,12,15,15,15,8,59,65,37,7,2,85,4,14,61,53,15,206,17,91,50,55,25,22,33,93,89,14,24,31,120,76,76,50,18,19,23,13,79,20,1,365,17,12,6,12,32,16,71,5,43,40,47,55,40,23,62,3,16,227,12,24,6,5,27,14,25,13,34,9,36,40,3,2,12,58,7,14,25,8,6,7,10,8,12,8,58,18,81,9,10,146,8,55,62,9,13,14,156,47,24,9,28,24,31,11,38,26,149,49,39,28,2,15,10,73,14,89,12,35,49,16,20,83,5,19,7,12,5,37,364,56,27,50,59,223,16,1,29,76,39,79,27,60,35,9,7,30,90,17,25,20,3,14,183,25,60,17,21,3,364,38,49,63,49,55,83,79,39,66,48,42,16,2,2,45,31,25,124,5,33,32,5,6,57,6,30,178,34,49,6,20,6,4,430,54,12,26,10,5,31,41,41,31,4,4,45,31,28,13,69,56,365,24,4,27,7,17,16,5,119,42,63,18,12,17,17,63,57,75,40,50,19,10,18,18,39,2,40,32,286,40,18,33,122,222,11,364,13,41,35,20,23,30,7,26,112,6,25,114,68,12,119,22,135,129,2,72,78,42,42,39,7,10,149,3,41,31,55,49,26,5,116,5,60,52,33,93,34,183,26,50,116,14,23,26,24,37,3,12,49,10,11,12,2,26,13,11,19,67,15,180,9,40,5,375,30,173,6,245,95,55,58,15,28,55,118,36,29,22,82,6,11,10,18,87,18,15,33,56,14,52,0,19,10,44,5,154,6,8,7,80,44,21,56,8,364,29,12,14,22,60,12,96,69,63,165,33,4,13,47,122,5,80,60,81,24,51,198,30,38,12,10,6,25,24,38,23,6,4,36,375,45,8,20,92,4,59,120,23,84,97,8,32,16,51,34,138,42,148,19,25,59,31,28,14,33,11,11,18,14,73,2,29,32,15,24,11,79,19,58,10,22,85,7,6,31,8,364,7,20,78,72,150,25,22,25,6,46,11,42,4,55,42,7,5,17,24,0,47,41,14,12,2,26,44,7,10,65,71,6,5,90,65,7,82,19,34,127,88,9,392,8,25,93,29,45,2,15,64,38,17,22,1,40,365,166,408,366,19,8,13,26,240,14,17,28,49,370,81,98,27,16,17,47,11,77,34,4,2,12,22,51,70,51,29,29,47,51,34,145,46,32,36,9,7,7,104,50,5,8,22,15,8,5,8,18,10,11,49,33,28,43,26,6,106,59,32,7,76,4,48,27,56,3,8,14,49,10,24,11,4,30,72,6,12,174,43,5,6,68,14,62,8,123,37,4,65,33,10,68,8,10,16,12,51,366,103,8,51,15,3,24,16,13,3,740,39,3,39,174,91,17,7,387,16,8,24,1,5,23,27,106,206,18,1,56,111,7,1,13,80,9,17,80,161,15,54,5,19,14,8,3,3,6,9,19,20,7,62,94,26,17,366,107,59,33,6,34,1,58,5,33,17,62,58,213,13,18,41,43,26,13,4,35,39,11,11,36,244,42,46,34,271,37,63,153,368,21,12,21,24,30,60,20,30,31,154,20,46,23,112,94,38,39,41,18,10,10,116,365,53,20,30,107,34,6,21,6,39,43,71,48,8,15,13,64,96,9,57,10,10,5,254,28,2,16,408,4,367,4,40,76,21,40,41,51,64,148,10,29,45,9,1,27,28,25,68,8,22,63,8,12,69,365,5,4,22,53,2,17,92,367,419,9,41,0,16,42,40,1,411,21,46,55,51,35,21,18,23,3,26,35,303,28,10,70,26,14,32,27,8,34,14,3,8,5,24,90,14,74,36,140,9,184,17,65,25,14,15,19,37,20,99,163,8,2,137,45,105,15,68,16,44,110,23,74,61,13,386,14,185,54,14,16,20,28,9,4,61,24,14,3,107,119,14,22,48,13,20,14,53,55,8,34,12,24,148,35,62,37,23,4,42,8,82,196,166,25,30,27,17,70,8,27,20,18,77,42,265,12,31,38,30,72,50,13,364,12,8,7,14,11,4,32,2,222,11,106,21,13,55,17,19,3,49,33,31,14,13,27,62,26,13,11,14,23,13,8,29,6,31,296,110,203,29,379,189,182,21,53,7,64,92,60,101,3,15,31,37,112,54,210,23,40,88,24,37,7,15,158,18,7,14,3,5,102,25,6,8,44,32,15,14,151,8,11,125,44,26,365,365,22,59,32,99,5,9,14,3,27,8,28,10,20,377,42,238,8,31,41,41,37,31,26,69,22,107,103,48,292,13,46,36,3,22,83,3,3,38,71,9,14,12,98,74,22,16,52,5,75,134,60,15,2,33,6,9,90,386,60,12,11,16,16,17,19,47,23,7,69,10,6,23,7,8,2,2,198,98,373,22,49,41,14,37,58,16,68,144,29,66,54,5,74,7,13,7,34,9,158,91,14,23,25,416,6,5,16,72,56,99,40,65,7,34,58,65,21,6,31,6,16,8,29,12,15,10,70,49,246,87,170,368,8,8,3,5,5,38,27,5,11,49,2,10,22,2,9,91,6,15,64,33,25,4,25,16,93,30,1,22,38,4,38,75,6,12,365,4,43,27,21,18,15,53,13,8,1,11,30,32,49,45,25,51,113,4,23,43,25,418,262,4580,120,9,3,7,47,6,5,107,17,88,107,25,26,61,17,10,3,29,21,8,68,10,15,99,6,79,29,54,14,28,66,34,7,219,109,62,364,7,64,132,13,20,2,108,40,6,18,18,110,3,4,82,368,44,32,13,14,139,82,417,8,26,31,41,44,13,5,8,62,4,20,14,6,23,0,18,8,13,7,24,22,11,147,19,65,101,23,3,14,21,37,18,45,40,12,9,21,34,8,192,42,28,53,5,20,14,8,27,22,2,385,55,38,38,3,46,8,2,380,22,5,9,366,23,16,12,58,4,7,40,9,9,109,18,43,6,37,159,15,134,48,81,79,11,21,29,57,270,18,14,371,17,113,127,29,3,69,1,12,9,16,217,15,2,14,35,21,29,69,133,2,10,6,28,28,126,25,62,14,38,7,10,6,388,69,47,5,16,85,8,31,23,15,56,56,22,38,3,370,84,68,21,107,4,46,11,28,25,151,5,89,45,36,202,4,60,5,21,86,11,161,19,40,423,11,22,21,3,168,11,50,49,107,22,31,11,5,20,16,8,12,46,35,118,35,7,4,10,47,36,15,50,52,53,42,48,75,17,45,62,3,42,199,6,15,15,22,3,12,9,16,85,19,9,50,25,11,39,186,14,124,115,103,6,27,31,5,33,7,12,32,8,117,23,2,83,21,103,41,6,11,368,4,7,98,11,182,12,12,367,10,25,43,37,72,6,96,3,16,20,16,5,72,61,7,19,369,7,49,11,30,13,155,9,5,373,111,13,137,21,28,8,318,16,28,22,18,5,20,39,20,5,10,18,4,29,25,61,45,8,82,19,18,59,3,28,87,19,22,11,17,50,11,31,109,48,47,5,12,30,26,8,80,9,6,12,22,16,46,365,25,55,75,7,81,18,10,16,6,106,149,22,175,52,45,76,76,43,56,1,31,27,13,22,107,72,6,57,71,27,33,34,28,17,415,97,364,67,4,44,4,22,14,91,47,12,51,10,59,24,7,16,69,91,58,27,17,12,24,30,53,22,54,71,69,43,4,12,5,36,32,367,65,15,17,8,4,19,30,17,103,7,83,33,37,4,23,18,9,23,97,72,11,5,18,56,7,365,7,3,364,17,86,24,11,4,5,12,9,27,16,11,24,375,54,109,4,24,29,2,2,6,7,6,7,14,8,41,42,29,33,169,4,33,15,22,23,33,108,62,34,68,46,113,92,9,6,78,6,60,16,10,133,48,29,9,7,11,19,3,21,10,54,26,7,11,25,37,21,22,15,64,20,83,11,5,163,104,9,24,32,22,41,49,176,22,17,8,25,60,34,233,17,2,129,34,84,95,13,8,23,17,21,8,37,366,26,5,11,7,25,33,11,44,5,20,405,25,16,101,16,22,25,48,11,15,3,108,37,44,22,18,12,110,28,25,59,7,8,35,84,25,10,31,35,8,34,131,11,7,15,27,25,8,33,138,4,9,81,21,30,7,56,114,31,60,24,25,2,46,79,34,37,8,42,8,27,106,91,26,31,95,75,14,9,22,20,289,120,47,23,45,46,80,67,93,30,19,28,37,128,66,30,29,83,5,11,5,115,62,77,6,28,14,75,368,81,6,83,34,46,10,3,34,23,4,99,9,25,5,94,25,11,38,6,25,158,48,27,28,11,25,122,55,25,55,12,3,7,39,7,27,41,17,19,5,4,96,76,364,1,18,54,53,381,9,115,11,12,52,14,102,265,61,39,31,102,8,12,64,42,22,40,72,22,17,35,8,100,19,14,17,53,86,31,6,72,22,19,37,48,78,79,18,28,3,16,47,6,17,28,440,19,20,114,61,15,6,7,35,94,98,7,4,19,296,11,34,55,80,29,9,14,12,28,55,18,34,32,4,3,15,11,86,2,132,5,391,20,5,53,34,10,10,43,156,63,25,65,59,92,148,381,64,38,55,98,24,3,1,3,156,145,222,65,18,64,15,84,275,6,125,83,36,31,4,17,28,44,38,17,370,16,10,41,12,296,93,13,87,17,32,100,8,108,13,8,112,12,22,16,1,16,17,19,67,29,15,5,19,119,21,161,5,10,22,6,11,364,19,7,10,13,25,18,9,22,6,4,36,85,128,27,10,11,18,1,68,403,8,26,6,15,47,32,73,5,5,217,35,6,147,9,99,115,18,25,17,49,70,144,10,73,31,42,30,9,4,139,37,5,10,377,20,12,34,1,11,36,34,4,5,5,11,42,44,3,10,57,9,90,8,13,36,2,16,4,50,28,21,255,19,6,88,4,22,19,66,9,25,70,2,37,4,46,48,370,76,32,49,11,28,2,69,6,19,42,29,8,61,6,20,14,36,82,43,172,13,22,46,4,33,90,41,150,75,4,14,80,29,7,10,230,29,6,13,9,150,87,14,18,9,21,9,20,20,47,22,14,165,9,3,72,62,31,71,11,10,49,11,0,13,17,10,12,19,55,373,11,95,31,72,65,367,7,367,10,3,94,38,16,12,11,22,12,7,5,68,11,9,54,4,7,94,9,19,8,6,21,37,64,184,18,29,368,50,5,92,14,364,14,7,12,10,77,16,6,14,20,79,13,38,26,11,20,371,110,39,26,13,4,123,11,20,15,6,10,2,15,8,6,3,6,366,58,19,55,56,39,364,7,7,1,20,100,57,31,11,68,12,55,45,146,6,35,33,16,5,26,37,69,6,2,11,16,40,18,83,26,47,7,26,52,13,49,105,21,450,41,107,23,9,24,24,12,28,19,6,50,49,78,152,6,34,11,96,1,3,64,28,21,21,74,106,8,5,18,5,119,40,30,12,21,45,30,14,16,11,244,386,20,23,7,6,201,66,49,89,367,3,101,71,83,62,66,14,75,14,61,3,10,7,34,48,127,75,6,367,126,112,26,51,83,16,96,366,2,19,29,6,6,59,10,7,7,3,5,8,39,34,5,364,19,99,13,40,10,19,70,14,12,34,6,74,233,33,106,7,134,28,80,81,52,21,5,60,366,42,80,4,9,77,47,105,28,4,364,32,61,4,41,7,27,30,372,56,1,129,16,2,12,8,6,12,4,6,12,22,45,99,17,10,10,9,10,42,2,14,19,6,10,64,6,35,18,14,15,94,36,38,15,4,28,31,122,260,36,48,17,7,4,90,47,13,49,9,365,22,11,36,297,4,102,30,314,36,1,9,15,21,10,6,24,272,27,79,66,29,45,51,22,38,25,46,365,58,54,24,78,43,63,11,34,384,23,2,187,34,10,64,19,5,4,61,31,17,89,2,13,41,30,94,50,91,17,38,4,85,6,27,1,24,28,16,29,10,6,19,5,8,16,24,16,34,4,6,5,16,13,15,17,5,45,10,88,23,61,1,12,90,5,38,53,39,8,8,20,13,45,13,12,13,15,69,61,67,12,2,15,20,19,67,41,47,36,35,7,7,56,29,45,137,3,84,56,17,47,20,90,235,16,45,69,5,3,18,18,15,364,13,155,10,39,29,3,28,81,7,57,23,14,1,102,69,52,10,94,47,21,3,39,28,122,57,22,16,13,29,26,7,11,20,18,56,116,22,31,23,1,8,52,2,15,59,23,28,51,6,15,34,115,75,14,20,19,32,57,58,21,23,3,2,22,23,9,82,33,5,33,6,88,92,35,64,86,1,109,16,379,4,24,58,10,92,36,183,41,21,58,40,43,20,48,5,25,27,9,65,19,13,8,23,14,35,26,9,13,149,50,14,41,47,9,12,16,16,7,68,5,29,39,5,9,20,6,70,17,24,51,50,55,85,10,41,32,15,19,25,3,4,30,48,37,12,82,237,7,2,13,23,280,46,20,4,4,99,10,35,35,163,11,13,11,17,22,10,365,16,41,48,74,2,8,21,5,3,31,8,2,15,59,70,102,11,20,19,204,51,3,6,58,7,8,13,54,396,20,118,19,15,16,61,13,59,14,86,7,38,10,11,15,7,153,8,74,52,43,131,19,64,3,6,225,36,7,23,7,18,9,2,79,176,6,16,19,67,48,16,11,26,25,45,8,8,18,15,11,3,45,2,6,20,18,34,16,20,69,5,13,198,9,48,90,28,60,40,45,72,13,10,20,11,52,5,4,400,24,29,11,23,13,28,11,6,8,2,7,21,2,13,9,193,82,30,5,64,153,129,62,116,4,51,18,9,53,31,13,7,6,17,127,90,16,26,29,16,10,52,18,14,56,6,84,23,5,5,11,12,28,12,30,18,8,7,11,3,7,21,19,28,32,121,3,7,0,168,35,32,7,78,44,22,25,159,5,44,15,34,10,68,9,4,75,24,46,63,6,13,38,20,56,6,30,59,2,10,10,36,18,21,14,13,106,35,433,15,368,10,94,42,6,86,9,173,50,17,35,41,5,8,9,203,374,14,6,35,17,10,43,33,31,48,90,22,2,2,44,4,6,40,22,41,50,11,5,10,49,4,46,37,84,68,66,25,165,376,27,10,48,68,26,27,44,79,29,20,35,26,39,10,62,4,45,11,22,14,242,35,32,4,39,35,17,45,6,33,89,24,408,8,28,19,43,16,11,18,89,73,155,41,4,52,8,15,24,10,366,145,24,114,77,13,17,9,369,154,44,93,16,8,33,185,18,2,10,194,98,2,11,8,26,8,7,2,17,5,48,7,116,39,56,38,69,431,17,16,8,9,34,88,21,11,8,35,69,5,64,5,13,21,291,28,26,19,21,25,137,370,7,94,9,11,6,49,15,8,84,33,11,38,91,10,34,5,6,371,47,367,174,35,11,6,30,8,7,17,4,45,33,7,85,125,3,10,12,32,7,146,18,2,5,71,8,6,30,6,19,9,36,23,11,17,69,5,43,24,148,10,4,19,18,7,274,32,30,43,30,33,65,13,34,27,25,2,19,19,52,12,81,38,33,10,14,67,14,29,103,47,8,3,19,9,32,11,22,160,39,12,48,24,22,53,37,94,6,42,47,64,3,77,78,17,56,6,56,12,9,35,26,47,4,41,196,3,34,9,29,20,165,43,32,90,26,73,17,25,37,16,83,9,65,9,8,15,189,4,15,3,18,29,9,9,81,26,96,2,49,50,381,22,7,42,23,21,323,6,42,9,8,232,10,129,396,11,78,7,76,22,35,12,33,61,12,9,12,26,13,38,3,94,24,123,76,35,17,366,16,16,15,12,373,15,46,10,300,19,8,146,370,39,21,39,31,14,22,17,386,197,375,116,11,64,33,24,388,114,66,34,7,15,17,364,11,16,42,12,54,15,46,4,5,50,22,10,10,14,6,100,158,5,122,72,62,51,147,40,50,40,9,93,174,54,88,77,32,19,10,18,2,12,9,7,19,55,25,4,22,107,157,36,36,5,370,21,14,367,42,17,9,7,16,1,50,237,8,28,12,34,25,10,74,143,49,64,21,15,68,35,13,63,42,15,23,195,19,30,16,122,16,5,9,24,23,56,21,116,5,9,42,5,3,19,15,38,16,23,126,6,14,2,14,26,4,26,21,366,23,374,67,36,77,12,93,7,16,12,163,191,42,5,20,113,18,23,82,19,6,8,6,16,365,4,72,75,3,159,245,22,86,59,31,11,115,42,63,130,3,16,47,45,26,12,8,13,81,26,7,20,12,19,81,38,144,87,14,112,25,78,29,60,35,41,18,33,66,47,23,31,84,80,19,11,26,72,29,27,22,67,9,133,13,18,2,74,29,46,20,10,16,43,154,6,45,3,32,65,65,28,20,61,367,20,18,57,2,109,8,19,111,2,18,12,26,5,111,207,24,23,21,84,149,2,28,14,11,30,18,101,16,380,11,27,15,35,114,16,12,3,23,10,100,23,28,2,46,19,78,53,31,114,10,25,15,238,88,12,33,11,11,44,8,9,67,68,2,7,34,71,85,92,63,28,13,58,10,61,6,30,26,63,7,18,36,11,32,31,56,91,19,11,6,22,24,11,5,389,39,40,94,133,20,86,53,58,13,41,18,3,42,3,26,9,154,1,18,9,3,208,21,14,39,19,140,40,73,85,17,5,95,55,10,11,76,13,50,36,21,55,10,13,9,156,192,36,76,12,67,14,35,364,110,236,12,10,162,13,43,79,32,5,45,16,26,47,158,168,10,75,107,13,5,30,8,92,76,108,44,20,80,105,40,69,16,2,25,84,12,5,104,21,2,16,53,59,195,21,154,30,29,58,61,71,13,23,11,43,19,367,7,16,32,55,3,25,99,6,28,35,13,171,25,83,37,4,82,22,19,35,33,68,15,32,80,66,42,71,2,12,44,4,70,15,13,51,82,97,25,28,30,1,37,48,73,49,40,37,33,12,12,19,2,3,32,19,27,36,43,39,101,2,7,44,49,11,5,11,9,21,210,65,6,76,8,94,10,93,16,36,7,33,12,23,6,65,30,6,45,267,17,20,191,38,24,7,30,10,31,69,16,4,128,19,23,215,18,60,15,35,32,28,229,26,11,2,55,112,7,378,24,87,19,365,30,12,147,208,34,60,11,21,7,78,37,14,26,9,19,45,5,84,52,17,10,41,14,8,50,16,42,74,32,9,107,56,5,31,85,114,29,8,17,51,38,20,73,25,367,78,11,16,28,43,28,70,31,130,71,4,4685,20,35,226,76,6,55,3,17,37,42,51,61,50,25,8,144,12,134,61,11,15,391,55,36,364,6,106,27,21,13,32,35,39,114,62,32,8,5,109,25,11,25,12,13,7,9,3,56,3,33,5,435,3,94,3,26,11,150,18,5,49,17,36,7,12,22,36,49,103,64,19,7,58,42,38,18,34,14,29,12,21,38,79,8,9,85,44,48,59,198,158,47,39,23,11,51,18,11,112,13,67,24,117,96,23,10,32,11,36,164,367,168,29,10,65,47,12,20,74,108,45,23,7,259,140,169,20,247,38,63,6,82,14,39,3,13,34,368,46,101,74,12,81,68,7,15,43,27,31,12,53,48,5,73,81,22,19,27,65,4,55,252,220,31,50,213,20,138,76,27,147,27,26,6,7,5,368,74,23,3,23,6,3,18,10,17,79,101,53,84,37,4,91,35,258,14,9,4,4,11,45,69,21,11,125,4,15,129,21,8,12,20,22,1,137,12,67,54,48,19,31,10,26,7,5,46,38,13,13,3,24,8,96,7,33,12,16,73,36,365,66,24,38,9,118,127,10,1,27,51,16,4,39,132,71,5,16,57,53,2,21,20,37,14,21,5,8,365,11,55,10,19,34,30,15,14,26,110,6,6,32,374,368,209,20,29,1,19,5,35,11,6,164,82,90,6,88,34,1,122,16,26,6,133,8,8,18,40,12,62,92,23,64,2,23,7,21,11,16,41,21,21,19,5,78,12,48,46,5,82,12,25,15,6,27,161,267,20,11,14,12,11,38,14,36,3,175,396,21,364,90,14,64,10,21,78,91,15,25,14,4,7,37,25,10,15,364,15,64,22,95,43,29,6,19,8,58,12,21,30,19,48,53,39,7,97,13,27,40,19,3,69,9,14,6,26,78,7,99,17,6,18,48,7,2,52,6,373,5,10,28,53,18,83,20,46,97,29,75,1,153,10,59,20,18,17,14,2,15,26,13,2,5,2,14,132,74,106,74,8,381,80,4,11,3,72,382,20,25,365,21,14,6,149,16,31,32,9,125,278,15,4,4,9,4,39,51,17,32,25,54,45,41,23,13,46,62,52,35,385,28,19,45,34,34,19,6,59,83,40,20,96,4,21,32,7,27,7,24,28,67,26,16,8,3,5,14,46,50,66,42,139,367,6,73,34,12,9,45,77,156,17,94,29,33,40,10,69,55,34,44,16,13,190,35,-1,365,12,37,22,19,38,35,19,76,10,232,42,21,5,22,46,37,19,136,6,76,28,25,4,104,2,171,18,20,18,109,157,101,9,6,13,365,8,67,2,94,3,72,14,63,41,192,92,82,3,367,97,5,17,36,149,5,11,6,10,15,47,56,139,14,2,8,53,78,104,19,8,44,62,5,8,371,83,58,38,28,51,216,17,101,12,51,25,29,28,83,20,10,74,81,127,14,22,8,110,112,14,16,9,2,24,11,8,57,4,15,131,60,34,64,23,38,12,119,19,36,6,10,28,6,22,59,32,33,6,7,9,25,37,18,21,52,16,15,18,4,10,46,24,71,23,20,9,33,68,86,8,87,69,371,89,48,24,35,20,7,21,89,21,379,48,21,53,2,2,4,65,9,53,37,6,3,124,8,21,99,67,23,20,52,15,9,179,114,16,159,14,36,15,12,1,13,7,4,7,364,22,56,21,49,149,33,11,18,138,19,11,209,5,8,11,25,49,5,28,97,22,30,22,369,30,96,13,48,-1,16,11,3,13,11,20,43,14,10,77,26,42,96,16,31,26,5,40,25,23,19,22,31,367,73,30,28,5,17,30,39,387,91,84,80,11,90,27,5,90,12,12,12,412,80,189,59,57,30,40,49,106,18,16,29,5,40,7,52,155,17,365,37,45,15,17,76,23,57,41,38,46,207,25,7,6,213,5,93,15,275,35,364,106,152,20,102,110,21,38,3,26,9,21,61,187,12,18,4,37,22,18,31,13,7,18,31,367,41,20,115,147,76,85,35,189,21,18,55,11,21,16,84,106,50,366,61,19,6,86,19,29,12,10,11,7,10,226,15,44,52,4,39,196,26,15,45,20,10,6,80,28,25,8,14,53,65,29,12,383,29,2,367,2,28,218,13,63,30,88,26,21,154,10,2,151,2,58,17,181,33,11,5,8,150,131,18,69,11,10,35,2,75,27,75,159,28,39,30,4,13,111,10,17,261,7,7,13,369,12,3,8,32,48,270,9,6,5,9,170,47,1,137,23,48,6,51,18,7,24,32,57,14,8,14,284,22,13,8,34,147,5,5,8,37,47,45,31,2,366,14,43,8,150,26,309,365,13,47,41,25,78,6,41,45,17,18,27,221,8,7,59,5,97,31,7,5,15,90,28,18,45,135,34,82,18,371,6,93,112,58,27,10,70,5,28,15,14,17,4,29,22,49,61,24,25,234,68,9,16,49,135,60,34,35,6,110,17,8,27,35,36,16,101,5,15,16,35,64,14,63,27,6,126,5,390,19,16,28,40,11,13,15,371,13,19,5,69,152,58,21,6,36,5,4,4,16,57,9,115,15,28,21,16,25,23,2,8,18,20,3,71,32,41,46,17,3,8,41,23,57,17,14,85,14,20,7,52,56,5,36,17,5,36,28,27,40,10,27,51,52,6,17,53,97,40,5,4,27,53,372,4,32,6,8,27,19,7,17,1,32,25,30,8,10,99,130,75,11,5,5,22,9,11,18,38,3,14,10,36,8,26,6,23,10,28,10,21,50,257,17,8,40,40,32,4,7,31,384,147,18,166,16,7,23,42,57,9,86,18,39,32,4,54,4,9,28,18,16,22,12,4,9,45,18,5,8,17,12,3,50,8,7,110,38,11,147,74,87,14,244,34,2,8,2,288,110,8,73,5,19,372,29,18,84,4,45,144,403,58,27,5,3,211,46,20,34,53,30,72,13,16,87,23,15,10,69,57,101,5,74,12,35,16,70,3,3,19,3,25,31,9,215,14,4,48,106,35,3,25,5,24,156,9,61,60,366,46,16,8,24,50,60,24,11,6,38,11,57,8,8,11,30,124,20,81,122,16,4,25,7,31,88,10,17,25,7,14,15,28,22,26,13,25,72,11,11,49,22,9,9,79,74,15,23,8,13,92,4,10,75,114,12,6,8,144,22,366,31,24,25,54,10,36,280,29,17,12,84,40,108,12,257,12,10,109,40,4,32,14,11,18,44,12,13,9,381,48,4,36,21,11,63,24,5,5,21,76,2,18,29,52,48,10,75,21,74,51,21,197,39,10,56,1,6,88,5,51,11,25,15,31,4,33,4,13,23,118,101,24,18,7,56,36,72,7,22,21,59,40,15,87,8,34,51,12,3,14,12,111,82,32,31,31,38,5,7,12,10,14,4,151,2,431,100,270,16,42,15,156,7,9,58,13,9,46,83,215,2,5,4,368,30,6,4,4,9,8,20,56,64,33,47,83,14,29,142,3,21,11,8,10,225,12,13,30,1,2,40,9,72,58,2,56,9,37,59,76,19,25,17,20,11,38,7,36,34,37,9,39,70,144,7,18,40,40,60,9,91,12,52,9,21,4,16,112,17,7,50,30,368,31,10,111,15,38,10,61,21,18,46,11,4,39,6,3,27,43,14,15,8,24,107,16,34,49,220,227,207,3,29,77,61,19,45,19,0,212,12,24,11,5,23,99,3,365,2,16,2,2,19,19,53,13,6,17,36,55,24,13,41,4,13,3,23,129,33,15,27,8,9,6,16,6,22,15,93,27,5,22,7,15,155,94,155,27,5,273,30,66,7,13,9,42,39,8,8,34,27,30,33,58,12,22,21,167,29,49,368,9,8,5,27,7,2,106,103,20,8,167,102,7,28,25,162,21,23,9,23,123,34,11,14,19,158,41,10,12,12,8,37,72,13,27,20,42,92,104,3,17,12,186,25,10,92,56,6,72,8,55,95,18,168,20,25,7,14,3,8,9,34,40,66,157,24,13,4,371,37,9,13,3,65,29,7,51,19,2,72,36,30,6,33,49,15,15,31,10,7,24,38,31,36,7,9,380,42,53,68,45,31,202,36,13,7,5,17,32,15,13,45,10,326,5,28,55,390,3,24,31,4,183,373,6,187,1,9,136,328,26,11,70,99,375,9,21,147,4,39,11,52,29,52,9,14,143,37,78,10,34,62,19,17,13,33,6,40,55,379,63,49,100,8,10,22,57,6,187,24,12,19,53,15,19,5,85,45,148,19,20,12,18,21,34,91,32,30,31,35,40,37,12,224,16,11,8,98,4,5,34,12,11,17,41,121,25,50,63,92,53,4,23,25,54,130,21,29,31,13,19,5,60,46,60,14,38,43,4,9,6,57,23,18,43,6,76,8,42,12,11,16,19,10,63,118,92,60,17,115,47,154,19,93,59,78,70,51,8,2,5,56,24,11,15,18,28,58,97,116,17,12,71,192,35,88,11,5,17,36,20,9,22,11,116,9,4,103,17,4,42,17,43,17,226,74,3,54,32,33,102,376,67,199,19,27,21,2,43,67,30,25,174,35,15,23,6,11,6,6,15,105,69,71,2,51,98,29,23,7,62,77,8,21,1,112,32,18,2,9,13,5,10,62,2,61,16,28,225,56,30,6,194,94,126,21,34,40,52,56,15,4,7,74,32,47,80,26,4,15,33,22,17,15,31,37,20,20,64,7,20,7,31,136,171,3,32,30,27,13,39,14,38,52,72,46,9,20,56,17,6,10,94,4,2,16,76,3,4,26,277,7,5,71,4829,12,21,9,12,71,11,62,32,14,30,25,18,60,2,47,38,368,23,10,19,25,24,12,5,139,12,22,29,22,106,21,264,72,33,40,70,3,150,51,38,6,257,12,27,24,6,22,38,2,211,8,10,64,58,147,47,9,32,18,100,31,1,2,43,35,28,10,22,138,34,28,17,32,6,13,88,51,83,50,89,19,364,6,101,6,78,176,32,3,364,69,45,115,27,27,396,211,10,30,60,410,51,80,88,33,15,25,4,8,53,13,17,17,51,33,19,17,8,111,97,41,47,9,13,7,80,40,79,1,20,13,35,7,39,5,110,41,5,157,101,15,62,8,369,5,18,107,12,77,7,106,10,27,25,50,368,89,189,6,51,86,136,7,2,40,26,27,16,16,49,5,8,16,7,3,4,16,28,38,25,83,14,374,166,8,7,12,25,43,72,62,131,119,131,15,38,16,102,5,9,10,6,3,28,117,85,8,25,13,25,15,10,18,64,2,147,19,5,9,2,87,22,34,70,34,4,73,10,57,44,49,2,32,29,5,21,3,54,26,16,74,57,12,365,66,26,15,201,37,20,35,11,44,235,8,12,18,3,137,163,57,9,58,27,19,112,11,23,7,375,6,32,44,21,7,9,10,29,29,36,142,4,9,76,4,34,52,10,9,21,9,125,16,28,8,23,323,12,30,70,7,10,12,115,49,26,51,121,53,151,31,24,14,10,12,52,70,12,5,27,2,91,6,10,13,7,15,17,103,9,46,78,10,12,96,44,67,10,365,152,33,15,35,5,20,13,39,19,63,2,7,111,24,5,39,6,22,11,7,12,88,46,74,8,144,64,34,23,46,176,3,7,144,55,15,10,17,4,45,20,2,85,11,59,31,4,2,16,10,25,230,6,30,30,81,172,3,91,48,22,50,32,9,5,43,97,34,40,122,32,23,62,17,9,60,56,43,9,20,70,107,12,116,109,20,34,40,81,35,242,8,14,94,115,367,30,15,20,27,11,6,207,12,4,3,19,38,29,6,40,102,18,79,4,116,34,2,47,91,82,39,10,17,11,50,40,70,9,58,5,66,4,7,85,38,77,16,2,46,9,365,47,35,29,46,65,4,14,46,18,4,1,71,76,11,9,42,163,9,106,19,150,13,69,38,5,106,26,12,9,6,12,9,29,9,30,40,25,32,37,8,13,50,29,13,35,41,112,8,7,4,8,15,17,30,21,9,6,376,10,75,36,40,2,11,15,64,7,37,2,41,22,2,8,40,11,70,111,44,12,7,34,106,28,107,31,8,168,29,3,162,63,9,4,2,146,7,33,4,8,9,1,16,34,111,3,4,16,27,366,8,10,133,36,7,235,28,33,22,97,12,25,115,10,32,21,57,10,15,11,14,38,43,139,10,7,39,14,17,65,64,36,137,2,13,72,26,17,78,31,17,12,13,1,37,26,19,10,4,6,365,121,92,5,12,4,28,102,62,23,12,8,25,2,67,40,8,30,75,15,30,7,20,25,16,6,24,52,18,28,79,16,40,62,3,34,8,10,96,119,18,58,4,14,12,61,5,20,65,9,34,25,8,12,28,96,156,16,101,12,364,40,50,61,48,12,30,12,44,12,12,52,377,37,17,90,59,118,58,37,29,8,33,15,2,24,46,9,44,51,4,9,14,16,59,48,369,5,50,4,91,5,15,96,24,66,41,6,323,6,26,103,24,11,10,2,58,14,178,80,4,17,6,26,11,79,7,46,18,14,106,6,68,17,11,65,1,382,63,35,108,96,5,18,76,41,68,2,7,50,15,136,23,15,32,17,27,32,8,30,20,14,5,8,13,66,8,13,63,9,3,7,17,45,11,53,66,11,3,46,7,11,28,9,8,134,30,95,100,20,22,6,91,8,142,81,34,17,11,2,30,5,9,197,8,31,39,19,35,20,43,11,62,73,24,36,34,9,4,42,3,7,43,13,56,15,27,19,115,6,7,7,70,18,14,26,40,94,41,41,46,32,18,6,10,84,20,7,15,43,9,208,41,4,57,67,18,21,74,16,122,3,22,75,21,4,62,4,33,143,365,39,104,73,161,4,12,64,95,141,18,30,14,73,27,18,100,14,12,112,60,179,21,8,83,93,13,61,25,18,6,32,8,103,13,117,10,11,30,367,53,371,12,70,79,7,7,102,63,26,53,19,6,2,16,10,366,25,19,190,24,10,3,3,129,38,111,10,38,51,6,8,391,3,15,8,72,48,48,19,182,12,61,58,2,88,5,30,11,123,17,41,6,39,113,14,29,14,63,48,1,11,62,13,7,19,74,15,6,8,53,132,122,364,6,40,7,4,18,97,5,87,97,11,58,14,32,118,4,365,100,23,4,8,25,100,21,374,25,15,35,16,7,3,17,12,25,7,5,63,47,31,11,9,66,112,31,4,20,23,14,28,21,22,51,15,7,3,67,29,15,33,13,33,14,34,78,56,25,364,28,24,176,6,16,3,43,32,7,143,14,266,47,28,26,4,78,92,38,13,59,18,45,42,18,13,48,40,394,17,27,12,127,22,5,167,39,33,10,19,2,19,13,387,33,9,3,16,8,72,16,18,5,51,42,16,6,37,32,18,59,107,7,41,3,80,15,6,15,95,25,364,16,31,119,268,11,70,141,20,18,59,2,431,16,45,80,24,61,39,8,10,35,45,5,77,20,7,37,38,36,72,84,50,25,19,20,11,117,15,12,96,18,46,14,10,369,7,25,9,19,20,54,28,9,375,234,5,5,61,19,60,23,55,4,62,19,2,49,17,29,11,46,56,26,1,38,19,7,17,22,57,22,158,43,60,11,131,28,97,55,37,127,56,34,46,75,25,15,4,19,52,46,5,179,23,368,22,34,16,7,10,71,31,59,57,54,151,31,55,76,6,3,28,139,207,16,39,21,31,5,82,35,4,95,64,115,3,4,39,18,224,23,69,41,19,36,11,366,11,10,95,16,64,21,6,10,21,66,55,67,30,11,20,28,24,6,59,18,76,9,7,370,25,39,174,37,91,2,63,15,6,75,8,9,47,60,119,14,25,110,32,366,13,9,27,103,75,4,9,94,303,7,54,4,105,66,6,134,194,275,38,13,10,8,104,12,14,203,71,43,52,23,1,3,12,90,114,6,32,20,72,8,72,104,20,19,10,26,8,90,20,23,50,1,41,5,76,32,143,34,408,11,7,96,51,28,18,6,5,36,365,7,83,49,20,4,96,26,180,10,101,365,3,15,10,4,70,238,74,9,77,55,6,38,4,34,82,97,381,24,45,18,39,14,3,25,6,27,2,20,56,1,59,21,24,28,7,10,15,16,48,51,7,21,389,25,25,12,35,46,23,9,47,87,30,154,1,54,57,108,17,7,20,33,9,12,5,83,4,4,21,24,77,33,7,60,13,47,10,98,382,7,190,56,2,20,10,3,14,4,122,9,23,62,193,5,18,26,4,3,6,3,12,35,107,36,35,15,10,42,4,19,10,48,93,127,36,45,68,6,6,9,47,42,13,4,69,5,15,3,5,5,76,37,13,11,10,11,45,300,7,2,22,44,79,390,6,83,100,54,18,12,27,205,13,24,11,11,5,22,48,13,18,11,94,41,38,377,7,30,365,45,2,12,61,366,46,1,370,38,9,38,6,12,70,13,12,25,30,53,17,30,147,25,23,8,19,7,20,56,31,53,38,105,73,19,6,49,12,30,46,67,40,29,12,6,11,17,109,25,67,83,24,70,8,54,60,58,11,6,32,14,7,81,50,37,8,34,30,30,60,80,11,8,37,24,94,3,55,29,20,7,67,39,27,14,12,31,127,18,26,42,28,5,53,9,22,44,14,4,14,16,7,30,80,87,55,19,103,10,381,65,75,474,22,89,6,9,155,14,38,44,77,17,15,76,80,17,8,12,29,106,22,36,38,49,40,15,49,16,76,40,32,5,15,378,229,23,19,4,40,5,22,79,3,365,21,25,36,3,315,27,15,75,26,76,3,55,34,37,174,48,32,59,24,6,11,51,53,19,28,61,34,11,5,30,6,4,13,11,18,23,38,70,46,5,87,90,70,31,19,74,5,36,8,12,45,29,31,61,19,52,42,40,110,46,89,13,10,14,7,58,13,17,13,6,9,19,6,14,6,107,32,12,73,78,4,24,33,15,8,14,47,40,10,13,46,20,31,74,19,102,115,18,17,37,10,4,33,40,12,58,32,10,136,16,5,14,9,9,5,21,11,12,1,4,365,16,11,26,2,28,47,365,63,6,24,41,4,5,34,87,24,59,7,57,18,5,6,11,4,58,4,7,27,15,95,63,77,8,45,9,16,14,115,20,7,19,129,9,17,243,1,55,20,9,13,10,16,13,31,18,96,5,148,7,3,39,38,11,73,6,15,74,11,36,204,33,26,40,31,19,52,5,46,16,82,235,23,8,33,45,6,16,44,12,1,11,34,57,14,194,57,10,100,49,80,37,14,16,42,17,76,141,19,84,7,10,2,17,17,99,81,88,13,9,48,252,16,11,221,7,97,22,10,19,53,25,15,10,30,98,118,43,8,59,21,25,46,135,6,10,19,11,5,27,36,38,15,14,130,6,56,8,38,365,9,98,2,27,52,6,30,6,48,119,5,112,6,8,39,153,365,11,74,19,10,32,4,34,6,7,6,36,13,15,24,275,7,43,26,11,12,12,17,14,437,9,23,151,72,23,162,4,8,30,111,4,23,54,4,376,9,143,58,5,13,23,21,371,10,83,4,2,49,5,83,6,13,102,367,52,5,3,6,16,77,13,50,13,16,21,50,58,5,50,18,13,9,49,13,12,14,85,30,5,63,9,163,211,58,8,14,52,9,376,12,4,94,27,16,16,84,40,120,36,132,56,6,3,16,12,20,32,29,54,29,10,60,373,24,368,47,8,87,69,9,39,106,4,23,13,54,29,9,17,5,11,12,5,7,3,5,16,9,48,18,8,12,4,21,28,32,16,91,65,18,42,35,33,14,13,32,62,87,66,38,39,21,10,3,79,2,51,38,100,21,36,23,61,213,50,5,11,5,48,2,369,6,23,74,55,1,81,3,27,15,10,1,9,11,18,10,14,19,40,32,33,42,49,365,46,3,365,36,33,21,0,14,2,13,3,25,4,18,165,140,48,22,14,89,57,22,188,28,121,2,7,55,43,364,18,38,27,18,10,27,23,33,196,5,12,24,2,10,14,197,11,6,3,30,12,50,108,17,48,8,9,10,113,4,13,118,12,4,18,3,7,49,3,321,364,19,169,139,10,42,15,13,16,58,5,160,68,25,60,66,35,43,3,5,12,207,27,26,54,9,74,366,7,11,5,6,51,35,49,15,7,11,79,49,8,157,46,9,57,23,26,41,17,41,472,32,57,15,4,63,99,11,42,5,127,40,11,70,7,8,67,11,46,25,30,77,5,68,7,6,12,35,29,8,365,11,34,16,10,13,37,88,23,20,7,42,6,29,82,4,28,35,26,2,9,6,36,45,34,226,8,138,7,23,4,27,7,9,31,22,130,6,6,65,32,42,1,16,42,48,138,26,4,373,26,7,35,4,11,51,21,19,9,140,365,162,3,17,51,37,35,7,17,53,24,61,56,29,203,16,82,216,39,70,39,4,24,61,7,19,2,402,102,29,7,37,89,9,15,20,86,55,51,225,4,20,374,14,364,88,31,109,42,85,10,20,190,71,16,59,2,10,67,11,79,5,36,65,6,6,8,365,21,34,72,35,48,4,58,39,3,40,9,15,61,62,18,38,8,10,9,9,44,16,67,13,28,24,32,9,98,16,153,364,5,7,29,4,3,63,29,2,324,84,114,105,10,46,1,58,14,112,6,15,85,9,30,11,7,21,6,44,13,16,35,96,8,113,367,49,114,33,16,7,55,20,26,9,20,61,23,17,7,19,16,68,11,21,4,64,364,13,94,4,16,365,14,8,65,35,32,75,17,19,6,78,136,2,2,5,10,2,41,44,9,22,6,5,90,12,18,25,1,31,7,79,23,32,9,71,15,35,99,25,8,24,10,58,36,46,67,39,11,115,58,3,4,9,12,17,11,11,24,117,5,69,30,85,75,18,40,230,34,21,12,368,60,12,17,29,28,25,51,17,27,23,366,23,126,23,68,12,2,36,29,28,43,78,22,15,31,77,10,135,3,365,4,7,9,89,95,14,19,1,40,39,184,42,37,194,41,15,17,18,70,73,35,87,11,387,42,20,23,10,16,14,94,217,23,6,8,14,50,164,61,17,21,7,13,11,92,94,13,7,16,36,27,210,22,28,7,15,200,10,37,18,391,405,17,36,5,20,16,34,365,33,11,36,9,9,4,99,7,9,384,10,27,38,7,52,3,276,87,10,155,121,11,35,80,20,18,247,37,12,32,16,48,3,20,244,13,3,15,6,108,81,384,7,78,26,38,374,42,6,21,10,33,5,9,16,32,26,25,2,8,83,19,6,14,6,16,11,10,37,4,42,4,18,7,5,16,104,6,32,23,6,13,8,22,14,7,32,78,23,165,8,53,77,134,24,44,2,30,16,109,92,7,67,101,33,55,14,31,4,34,17,18,17,10,22,108,68,14,15,15,8,22,91,16,44,14,48,25,22,74,60,15,9,83,40,22,7,218,36,23,14,7,40,32,24,68,35,28,54,366,41,4,27,41,6,53,26,8,16,26,17,82,53,54,64,395,26,60,15,22,7,46,20,6,9,14,96,193,45,51,62,13,108,42,10,57,62,6,11,3,232,43,1,23,38,6,48,21,9,56,37,42,140,7,42,235,5,13,24,90,175,15,36,5,12,71,18,4,112,72,53,8,16,395,163,40,16,28,14,23,11,90,27,88,18,25,13,365,5,216,41,77,263,15,110,52,39,13,12,12,10,44,74,17,143,383,26,29,67,119,8,31,4,7,4,28,11,99,4,3,17,20,108,368,60,312,35,46,3,14,8,45,59,365,263,28,3,7,8,11,1,8,38,145,41,44,6,1,95,48,17,7,39,3,26,24,28,73,28,42,27,10,17,12,14,7,8,14,7,7,67,48,91,365,16,80,14,8,50,18,366,68,116,24,32,79,5,6,15,5,9,178,48,59,6,9,16,62,48,10,10,13,4,17,49,21,3,366,11,11,12,128,369,15,32,22,15,11,7,68,86,83,2,72,72,112,14,20,51,10,35,63,9,10,8,17,14,27,54,18,67,19,32,12,4,11,12,26,18,15,20,58,12,3,61,1,6,3,53,463,33,18,66,8,31,9,12,22,65,9,50,58,46,2,16,8,376,29,11,8,67,52,22,14,63,15,41,16,4,18,3,165,38,60,244,9,28,22,428,19,57,8,10,47,69,27,25,12,367,15,38,62,5,149,31,4,4,29,10,75,121,12,366,7,27,10,14,5,63,8,367,4,10,8,61,9,2,18,490,375,151,18,25,92,143,33,21,221,18,62,4,73,76,24,132,16,161,87,44,31,28,12,14,120,41,11,13,46,41,8,187,86,29,18,17,28,392,10,16,6,3,67,103,21,42,5,61,15,27,10,22,18,13,173,9,66,4,77,28,76,31,17,10,141,1,85,13,20,155,17,20,53,380,64,38,2,16,19,1,6,13,17,377,22,220,36,40,24,36,3,154,41,3,385,61,4,61,20,8,43,49,34,37,208,136,6,25,14,13,31,14,46,289,87,10,1,38,13,27,29,11,2,19,17,1,6,30,31,2,43,367,47,12,20,24,8,3,5,34,235,8,21,61,27,34,32,53,64,50,48,13,21,86,18,75,31,60,18,17,6,3,27,29,16,10,9,36,75,6,14,19,364,3,12,80,105,102,12,51,75,131,45,5,16,60,30,3,15,6,23,28,61,129,167,93,15,30,16,187,90,47,142,32,17,71,56,1,27,296,37,375,18,16,15,401,81,6,49,1,12,58,8,26,25,50,109,78,4,24,8,12,39,20,26,99,116,53,3,32,26,2,47,26,15,22,55,16,18,40,364,30,153,5,10,16,17,27,6,268,20,3,4,56,52,28,8,47,122,7,16,54,8,2,51,19,56,43,86,79,4,9,366,35,4,56,25,10,160,62,86,5,82,55,15,2,21,50,46,83,34,22,32,56,32,151,59,241,19,131,26,77,11,24,45,58,84,10,10,73,34,39,23,55,69,20,118,3,85,14,63,23,49,387,9,22,77,21,51,27,18,18,12,76,19,94,33,16,29,8,24,7,17,23,369,22,26,12,68,11,32,43,22,46,34,24,1,59,22,210,12,22,9,14,16,8,55,113,10,5,16,6,29,8,400,12,14,10,3,56,13,11,29,364,4,23,13,6,52,403,13,10,6,12,26,74,29,27,6,1,45,365,9,12,37,28,17,92,41,19,29,55,3,15,1,21,4,3,2,35,22,365,11,9,12,6,12,15,14,15,13,197,174,54,153,117,18,56,10,22,50,28,10,26,11,13,8,6,25,54,71,8,28,15,47,103,8,12,22,58,4,6,25,4,57,17,366,92,15,6,22,15,5,29,47,10,15,217,17,17,84,21,14,5,35,8,40,13,12,28,10,17,24,145,84,130,16,27,372,21,90,16,9,62,26,29,12,6,103,16,55,5,41,65,5,5,87,2,13,16,3,239,16,93,27,94,84,10,92,45,90,54,7,31,6,34,90,25,228,89,10,5,87,9,8,35,163,128,26,9,58,70,12,366,12,325,9,220,375,29,41,31,34,45,7,12,13,27,27,24,2,383,45,48,20,46,25,370,23,388,10,166,79,101,23,6,26,73,1,21,5,1,27,21,125,51,1,8,14,24,266,43,41,25,8,12,15,19,155,33,15,2,126,135,123,64,4,45,18,55,11,42,10,23,125,34,7,19,112,17,13,67,76,4,64,236,21,42,25,154,83,32,47,8,8,17,48,311,24,3,57,5,365,57,26,9,19,14,44,30,12,90,28,48,96,137,6,50,27,47,7,9,8,10,30,6,4,16,73,4,8,4,1,56,144,14,6,58,57,15,46,6,3,34,21,26,106,119,3,401,12,29,56,44,57,7,12,4,56,110,4,25,83,82,2,12,18,41,41,107,1,110,103,7,9,9,53,20,21,5,11,56,80,8,14,62,57,96,3,24,45,35,20,45,366,51,16,13,4,2,9,5,16,30,207,91,10,9,11,10,24,8,6,13,14,39,24,47,147,11,209,42,60,48,212,50,58,10,21,12,4,47,14,9,93,30,104,3,2,50,5,67,68,29,56,13,20,30,364,6,7,56,61,51,44,32,31,35,11,4,26,14,3,57,14,374,12,14,111,14,12,50,47,19,25,5,32,95,5,80,27,73,20,41,9,18,43,20,119,188,53,36,21,364,102,6,47,16,70,16,56,33,408,15,8,27,6,91,13,51,7,26,15,57,4,25,61,20,59,49,69,9,11,212,113,30,22,5,39,33,14,7,4,152,10,69,113,57,66,33,12,9,92,19,71,45,13,32,7,32,85,13,26,6,3,11,56,143,101,23,12,24,18,39,11,21,6,24,5,35,12,29,106,13,3,32,18,67,20,9,12,3,68,177,28,4,19,12,138,3,9,75,62,10,14,69,403,11,16,4,128,65,23,232,6,48,13,3,191,4,52,6,10,9,84,39,3,7,16,2,16,16,18,22,7,2,81,45,10,23,25,8,40,40,44,5,4,8,11,85,12,25,64,25,121,13,13,25,34,22,97,117,21,5,12,45,5,9,11,35,81,150,8,12,128,60,10,67,28,17,366,76,11,68,12,12,23,74,15,22,5,369,35,18,19,57,6,45,3,50,9,7,1,3,9,369,2,45,7,19,11,33,4,35,20,16,34,61,7,18,11,12,27,5,15,30,2,1,21,5,15,74,59,32,67,6,17,24,39,62,19,25,39,20,57,30,7,11,62,20,28,7,27,74,35,15,113,47,6,47,54,16,42,11,162,106,371,25,35,44,19,68,36,4,5,18,13,26,135,29,11,12,16,15,21,23,10,49,6,6,43,31,25,5,70,42,35,31,25,90,48,63,97,11,32,36,12,6,12,31,50,58,6,28,10,6,24,37,54,91,366,6,7,373,73,14,8,61,0,15,32,6,31,33,69,135,53,10,5,10,61,32,148,241,4,216,2,20,13,44,8,63,23,9,43,67,365,13,65,22,21,36,40,42,12,51,164,4,34,42,80,4,6,14,15,19,34,35,8,365,11,17,110,47,4,26,9,38,1,81,2,17,5,12,4,88,7,6,62,92,311,365,26,12,29,62,115,6,12,19,18,4,99,66,105,6,24,19,254,41,95,8,16,49,83,28,100,54,14,37,4,19,14,68,10,16,10,11,17,30,24,45,64,38,7,59,8,24,59,101,8,62,8,26,173,21,365,45,88,5,132,26,10,4,8,3,18,17,30,39,51,6,1,17,27,86,7,87,6,13,20,77,53,41,89,5,34,9,4,16,6,7,13,7,365,52,41,2,105,177,30,10,11,17,3,10,16,54,11,87,27,11,58,82,35,23,19,13,60,6,10,17,106,142,11,109,39,25,29,23,21,59,66,27,63,18,29,30,8,372,62,11,19,12,18,35,15,373,19,74,11,13,30,12,2,10,19,69,12,6,21,12,102,64,51,14,25,23,13,91,40,11,17,26,21,37,25,30,76,70,42,16,53,21,6,16,27,7,25,12,17,3,30,36,11,4,27,74,5,9,29,31,5,79,5,128,365,5,7,68,90,14,2,6,66,8,11,11,32,3,17,37,5,78,29,5,185,40,321,30,39,46,32,93,47,9,55,2,55,43,7,3,10,12,22,519,54,16,4,10,6,19,9,11,89,5,233,13,6,12,372,66,72,62,49,5,17,43,50,19,65,402,15,6,101,109,40,72,10,27,14,27,8,7,34,19,13,31,35,87,51,4,9,188,73,17,110,7,39,8,145,11,2,96,53,14,260,11,20,28,19,7,19,30,10,3,90,44,33,73,28,24,65,8,6,2,408,20,20,6,8,25,13,69,69,17,20,51,61,45,7,365,38,1,8,12,15,274,55,15,15,23,97,28,7,22,30,31,12,4,94,20,95,298,23,11,83,365,34,11,5,7,13,37,33,3,29,22,13,12,22,132,28,26,3,21,34,20,17,69,108,13,41,34,59,13,35,21,7,32,8,22,195,3,13,6,4,46,7,53,28,133,3,42,9,15,34,81,8,49,8,4,12,2,7,15,18,463,4,243,11,71,61,62,6,8,9,11,46,368,367,46,22,24,15,18,36,102,48,4,11,141,33,45,8,10,15,15,58,60,21,22,130,59,15,17,51,34,107,2,25,49,48,28,65,11,21,73,25,118,125,25,121,34,19,24,3,11,83,52,48,89,33,58,431,14,229,9,20,8,21,36,99,31,5,8,91,209,21,129,9,142,378,144,40,4,29,15,23,16,364,26,71,1,7,19,12,5,3,15,59,99,48,25,14,2,38,67,118,364,10,97,26,41,3,62,7,99,6,53,73,23,24,97,8,41,70,84,31,40,11,10,15,21,66,4,33,135,63,80,2,25,11,14,29,58,365,233,4,20,29,28,71,193,8,13,23,10,6,45,50,40,366,9,29,19,45,21,6,88,10,19,13,130,42,18,129,106,65,5,3,38,37,153,5,8,7,151,23,5,145,17,20,9,54,69,11,6,6,9,132,14,64,375,39,25,33,10,29,114,80,18,83,26,10,65,65,88,13,125,5,164,379,69,36,16,67,64,41,41,27,3,89,24,4,49,20,145,8,10,24,4,7,16,58,2,10,7,18,27,10,91,23,7,26,125,267,26,83,73,27,26,9,6,4,4,159,30,3,30,40,36,135,53,12,21,2,55,121,8,6,51,83,25,5,18,16,93,24,105,15,54,15,6,3,17,116,93,75,9,51,109,29,65,9,5,10,92,19,11,5,83,16,22,11,2,7,19,364,12,15,20,23,11,2,67,46,11,2,13,23,5,10,75,48,3,42,43,77,9,12,206,6,105,77,30,10,5,42,3,13,6,27,30,165,114,18,10,37,54,19,42,89,6,2,21,1,134,38,17,193,6,33,21,37,95,18,92,46,86,16,9,114,365,17,22,34,18,40,124,62,8,83,58,8,13,63,61,34,28,23,9,84,58,21,13,32,13,36,76,5,11,226,166,54,76,24,54,48,109,7,15,4,20,20,7,3,36,21,8,10,71,19,21,365,86,33,11,87,63,81,7,32,29,13,4,103,33,47,31,5,382,11,156,33,21,74,41,366,13,126,153,5,39,367,145,38,62,8,1,14,11,136,6,8,19,157,11,9,9,379,36,26,7,23,3,365,8,13,77,73,36,10,6,29,13,11,17,96,145,88,1,3,113,8,134,21,3,53,32,7,54,9,18,24,76,135,150,52,9,100,4,4,47,148,24,29,3,20,27,48,79,9,374,2,18,13,62,10,2,61,22,21,18,10,34,15,11,24,52,68,7,222,25,32,19,1,34,12,34,369,10,16,13,52,6,117,11,9,27,43,26,85,8,12,9,13,50,11,24,26,3,120,26,25,25,7,32,64,64,197,10,42,52,113,37,10,80,43,17,14,77,19,37,14,22,14,27,29,39,31,75,368,15,42,7,26,29,11,28,1,34,63,8,45,27,100,46,282,122,7,5,37,226,42,52,382,49,52,43,10,25,172,17,374,83,69,5,8,100,27,8,9,22,14,30,25,105,4,48,15,89,5,21,9,14,3,20,20,107,7,105,23,4,67,2,34,35,6,93,5,17,33,37,14,19,3,17,87,43,9,144,6,25,121,114,365,122,50,13,6,135,56,38,26,13,65,9,20,96,49,21,31,6,4,5,3,368,72,249,55,1,6,98,51,26,28,14,7,39,55,12,22,6,15,101,43,60,120,18,72,15,10,38,134,2,56,27,50,2,22,9,21,38,50,2,7,51,4,9,8,11,11,8,155,10,7,5,23,168,17,45,46,27,19,75,16,11,112,10,9,67,34,386,10,13,3,7,21,20,5,10,43,29,124,101,17,17,35,105,133,4,5,9,16,29,50,12,44,19,70,68,34,24,91,7,41,7,74,45,63,14,156,81,8,19,17,16,6,29,8,5,9,33,80,27,4,2,100,26,29,7,7,391,3,56,31,29,47,36,28,12,21,150,6,58,149,105,11,15,7,20,373,49,8,171,28,66,22,6,16,15,49,22,75,67,3,56,25,207,22,102,11,6,1,87,36,34,2,98,21,12,19,7,13,6,45,44,2,1,11,29,19,57,28,131,16,18,2,90,11,22,18,21,9,20,8,20,31,182,78,7,15,35,77,23,7,112,371,31,91,94,36,50,15,10,54,11,8,94,27,23,186,169,364,73,37,6,94,44,33,24,15,67,2,1,17,7,101,11,6,14,10,365,62,6,28,319,4,21,18,10,3,9,4,18,17,20,21,7,6,12,21,46,1,24,8,191,22,29,118,8,21,11,2,12,3,67,60,30,1,52,1,58,50,5,7,44,134,137,10,124,6,29,29,9,101,94,57,36,37,7,27,24,52,17,276,64,232,11,21,36,36,255,20,13,261,52,26,72,113,289,107,51,23,14,92,14,24,11,46,373,1,13,28,79,31,61,229,62,13,32,17,6,72,103,3,6,22,25,15,59,38,11,39,7,24,81,62,2,14,12,60,12,86,31,221,22,100,10,6,373,11,7,18,22,35,52,47,115,38,180,5,8,72,7,69,84,28,27,251,70,43,50,2,512,67,37,44,69,47,5,8,34,9,26,37,14,121,47,166,10,259,6,18,79,89,4,10,45,53,101,82,4,17,27,42,26,104,15,46,46,59,26,16,53,109,10,29,31,78,17,8,6,43,54,27,30,73,104,9,368,18,12,33,36,8,37,42,59,35,88,81,20,17,2,130,365,22,3,12,5,60,47,127,49,3,28,28,11,82,16,117,4,117,134,465,11,25,41,49,43,10,25,369,6,5,18,35,5,13,124,7,53,30,4,6,83,33,46,5,380,2,25,27,88,10,27,98,194,14,43,2,6,18,68,33,140,21,5,12,9,14,89,50,3,13,65,21,74,9,19,14,1,196,43,6,1,18,20,113,42,22,8,12,14,367,13,6,7,36,189,9,115,20,18,10,20,6,19,11,97,13,161,12,25,69,19,45,5,6,9,15,9,19,22,21,28,30,6,37,12,105,43,12,135,4,191,8,50,6,7,31,36,64,30,30,116,30,120,97,28,16,3,22,223,67,16,41,12,8,40,303,38,8,393,268,2,20,17,24,12,51,31,46,10,33,35,151,3,42,16,7,159,15,5,118,48,47,9,3,10,27,371,156,6,2,135,18,7,19,54,2,48,32,12,1,162,245,55,23,80,6,7,66,44,173,20,35,14,48,9,28,30,22,6,30,19,100,14,16,26,3,14,28,112,27,67,256,18,291,2,371,7,6,29,11,14,47,59,69,25,4,47,13,17,5,18,20,174,226,10,5,4,100,8,53,63,37,5,44,16,6,20,32,39,8,71,21,24,13,53,10,53,71,49,13,15,9,104,33,161,10,7,32,38,26,86,32,38,16,72,22,126,5,269,19,367,43,41,16,34,6,226,110,15,4,48,39,18,19,15,16,11,2,365,8,10,55,4,4,51,62,26,123,14,48,76,12,101,19,109,221,47,53,4,26,145,26,4,124,63,9,41,262,56,227,71,6,9,11,19,5,36,17,30,4,8,11,31,30,23,7,177,72,32,1,38,63,47,17,21,3,114,24,80,29,1,17,6,6,11,12,6,91,2,24,99,58,46,71,103,4,156,3,14,13,1,14,15,56,16,86,27,9,4,417,68,19,6,92,15,32,6,117,17,7,32,1,82,9,365,7,50,17,29,89,71,65,51,3,4,37,24,69,12,48,140,1,2,29,19,100,7,2,16,7,14,42,30,203,167,23,8,399,26,22,28,47,23,25,161,2,105,226,18,11,28,67,89,10,28,16,45,130,34,7,75,61,5,13,138,103,7,21,51,5,12,7,27,34,21,19,117,55,29,59,9,10,37,123,92,8,68,20,51,4,40,4,94,20,36,7,7,53,14,37,20,50,26,27,10,4,4,17,38,137,105,11,22,14,66,17,10,238,127,110,13,70,62,16,5,5,7,118,149,23,1,25,35,112,57,15,7,9,170,10,88,5,46,27,108,8,28,2,28,100,11,26,30,14,7,49,12,8,106,53,28,57,29,24,18,49,57,102,5,22,7,101,416,63,37,63,200,83,45,6,88,30,55,10,56,27,60,5,26,80,24,4,14,129,388,20,167,72,37,14,5,18,10,8,43,32,53,7,72,25,3,365,61,10,13,73,10,23,141,50,11,367,33,57,135,14,49,5,98,5,3,8,406,22,92,128,7,94,10,11,6,64,5,58,27,23,56,50,166,24,74,42,11,35,191,370,67,12,57,17,9,8,23,20,21,18,10,68,18,105,3,21,143,3,5,55,6,13,26,27,2,10,4,2,85,209,22,27,20,21,70,12,76,19,39,68,22,27,23,15,3,3,40,4,10,6,24,44,15,25,2,94,54,7,5,5,55,8,74,58,8,109,10,31,100,10,4,8,10,107,236,14,49,11,73,75,25,49,46,122,2,118,33,53,76,8,63,78,63,40,36,104,25,27,54,10,27,17,10,3,28,47,178,18,64,55,21,11,141,8,6,15,7,16,66,101,36,1,10,20,20,21,84,25,27,2,1,47,42,8,15,71,89,41,49,62,22,105,47,4,30,8,146,124,366,180,13,91,23,29,27,325,31,57,100,8,9,136,6,89,87,16,34,68,64,6,155,125,29,9,63,4,3,20,16,38,21,10,61,117,13,122,74,11,9,103,22,22,11,13,65,6,7,15,19,2,321,43,56,3,42,5,6,0,7,7,10,17,153,38,40,5,138,23,56,58,1,44,155,29,26,34,59,8,78,32,13,36,100,163,42,36,14,24,94,61,5,151,38,114,9,8,28,22,17,105,32,13,8,15,11,17,15,60,74,32,14,50,12,40,3,96,364,128,13,55,35,10,19,32,41,9,101,66,24,56,380,6,5,1,65,51,10,45,12,14,35,206,92,19,59,25,132,31,8,11,76,16,33,368,16,4,57,73,22,28,24,2,177,5,15,54,48,82,187,8,1,13,73,15,128,364,42,365,65,2,55,48,36,4,14,64,22,19,6,35,10,9,7,23,9,3,2,59,70,11,10,14,83,176,8,30,34,7,68,21,37,39,186,47,21,11,2,139,41,1,63,6,17,12,97,44,16,49,11,14,159,8,3,191,33,3,84,2,10,65,25,13,23,7,50,5,85,17,17,2,13,20,23,11,304,18,76,45,7,5,11,12,7,16,73,115,13,119,93,1,24,36,6,14,83,94,31,17,186,427,1,75,42,18,13,15,3,70,22,369,52,48,33,9,24,64,69,28,14,56,5,31,34,5,28,6,60,84,9,11,18,65,7,143,194,69,11,6,36,4,9,4,23,13,26,52,14,5,137,276,8,9,84,41,9,33,12,37,210,19,86,69,40,3,10,13,23,52,7,9,7,10,49,64,62,1,7,6,23,11,20,5,14,9,95,63,66,30,51,6,24,55,47,34,35,65,24,7,28,39,4,20,6,43,1,21,281,11,28,28,10,25,35,54,118,48,55,4,13,129,14,18,29,47,10,2,121,29,39,10,30,159,1,10,7,40,96,199,198,61,4,81,7,13,367,5,23,57,15,16,58,9,22,13,16,29,188,8,375,9,12,31,19,54,145,8,10,28,18,26,191,54,5,92,21,39,88,7,365,29,51,14,9,7,27,46,13,368,27,9,1,79,30,71,26,1,9,73,127,42,17,66,83,6,42,435,53,40,64,24,2,101,38,32,2,97,50,12,37,287,7,34,270,41,41,19,2,8,3,48,52,2,93,303,365,29,61,3,104,18,51,21,21,14,53,31,107,31,140,107,34,32,128,20,36,161,20,17,15,12,47,10,18,20,84,9,7,18,33,164,11,92,1,162,83,61,180,49,61,16,54,3,17,7,8,15,182,9,35,44,32,23,20,156,88,17,18,84,38,4,40,25,17,7,33,68,128,34,90,76,390,9,8,5,17,30,149,27,22,22,94,10,51,11,12,8,56,14,50,29,13,11,28,11,15,18,14,39,5,12,5,104,40,379,3,37,4,16,110,12,24,14,1,3,55,72,18,12,25,414,36,31,6,14,80,17,13,36,149,11,369,180,6,86,51,53,86,6,78,26,49,101,1,26,12,37,92,292,88,6,66,67,4,183,25,5,6,9,2,38,26,33,16,92,35,47,205,17,23,12,364,1,4,112,41,16,38,6,8,22,3,20,145,97,57,529,28,42,41,57,32,13,2,7,44,19,115,28,368,2,10,21,43,59,58,424,20,19,31,5,5,2,17,127,39,19,9,26,421,69,35,7,16,364,55,20,14,12,2,43,19,24,11,4,9,64,77,3,124,65,55,10,19,13,231,70,18,15,9,13,26,3,19,11,63,121,128,2,28,17,6,84,4,37,27,37,117,5,4,111,9,15,33,7,7,19,2,8,69,379,18,16,8,92,90,37,140,2,365,29,10,67,4,5,56,153,6,32,2,12,174,31,21,5,27,30,8,4609,9,6,38,4,27,365,19,4,13,5,13,1,17,32,24,14,33,9,2,96,3,30,15,369,13,41,31,47,372,18,50,1,17,67,31,9,19,5,13,53,8,39,17,8,8,12,13,24,78,4,49,18,15,36,36,17,14,4,364,20,54,13,14,12,17,11,117,64,26,183,79,23,3,32,48,115,15,9,21,3,50,40,88,2,75,19,19,364,216,86,15,40,157,71,48,4,61,1,41,13,13,154,74,105,22,369,107,64,43,8,77,44,109,55,87,370,9,63,117,8,20,39,28,1,39,22,109,19,53,19,4,116,18,24,65,35,29,273,13,9,67,47,4,98,73,63,20,142,54,1,26,20,45,6,16,191,50,140,3,36,21,28,65,25,14,67,33,144,173,21,10,15,1,55,22,70,56,30,10,19,64,1,207,32,4,66,11,24,101,52,23,22,68,370,27,43,13,79,229,64,34,8,23,7,25,24,16,18,167,7,45,46,19,77,64,37,22,22,23,1,217,98,19,301,59,63,41,25,36,13,19,94,260,1,5,85,75,30,69,114,4,15,275,2,109,3,10,23,20,53,32,5,51,11,58,32,59,151,58,25,68,63,37,22,35,26,49,38,7,113,61,22,4,5,125,12,21,62,54,18,10,16,39,13,11,25,40,25,22,378,8,198,70,14,59,10,16,12,31,7,21,29,65,13,65,10,22,45,114,10,6,8,176,21,274,13,9,7,12,43,11,9,236,9,17,72,19,26,64,7,9,20,39,36,36,11,34,87,55,61,4,41,42,75,41,208,60,10,3,19,41,29,167,42,38,6,21,84,54,30,7,19,11,84,32,23,3,16,369,13,43,110,12,11,2,3,71,17,13,38,19,86,16,8,85,4,27,35,5,7,52,89,16,25,38,10,365,20,247,3,12,365,191,38,366,76,238,14,88,103,7,61,14,70,16,86,4,111,52,18,1,3,15,84,18,29,34,15,49,100,49,3,13,59,390,14,35,14,29,25,16,1,376,8,7,43,35,15,7,3,80,85,17,11,10,12,32,52,13,30,9,19,21,11,19,16,6,21,47,36,1,72,7,65,25,77,61,17,28,2,51,58,13,19,38,36,41,18,8,19,2,9,33,16,22,17,5,58,384,2,24,61,18,116,12,13,3,61,8,29,94,19,19,17,10,12,5,6,14,23,9,7,11,4,66,27,5,18,50,16,59,29,24,10,22,59,8,38,109,8,26,30,5,21,32,88,24,17,10,20,89,59,2,25,48,85,9,18,2,24,3,21,12,25,20,11,14,35,37,158,18,66,211,2,54,4,72,58,99,39,7,5,17,53,71,28,21,14,166,67,3,13,24,23,150,98,150,90,212,51,30,68,196,70,15,16,41,11,107,18,10,79,217,26,14,22,6,72,145,9,75,142,6,26,7,30,66,30,60,25,30,39,15,6,22,130,3,15,7,77,30,7,49,5,366,25,65,9,20,10,19,28,42,33,86,6,14,15,4,16,40,12,10,80,29,382,2,6,20,41,4,27,74,16,406,100,4,15,108,8,93,19,87,40,46,10,10,30,5,24,7,91,49,17,33,16,9,23,101,110,55,77,6,19,4,7,12,5,151,4,20,49,16,87,91,68,75,39,62,28,22,3,35,9,26,53,53,33,5,76,187,183,28,73,11,365,61,4,126,28,20,22,19,70,9,6,42,73,21,24,83,365,70,1,25,119,28,142,2,44,157,51,68,39,18,134,10,27,23,9,15,27,41,27,385,36,31,35,40,4,37,36,5,8,8,30,7,17,24,416,8,13,76,8,160,13,30,4,27,9,58,365,38,60,69,8,3,35,39,21,27,20,45,364,16,24,60,160,12,364,9,10,79,108,1,7,34,33,12,37,121,59,63,15,7,21,16,1,4,62,35,395,7,93,96,75,178,8,50,5,8,45,8,68,7,12,16,45,7,66,8,36,89,22,6,42,48,6,8,13,19,80,13,38,4,8,10,35,132,65,49,14,233,9,16,20,17,5,60,17,10,58,26,31,10,50,21,61,40,36,31,6,23,2,18,20,15,39,16,24,6,23,9,30,11,30,26,131,72,8,31,69,11,48,66,10,23,6,37,3,60,6,80,23,52,241,33,45,51,30,27,122,7,12,59,45,366,134,4,13,56,89,59,18,5,79,54,212,35,108,12,45,24,11,37,12,369,10,89,23,32,54,132,4,78,7,10,2,3,13,51,15,8,96,38,31,59,145,29,4,10,11,9,6,35,24,14,5,20,5,10,18,147,39,7,365,2,37,31,43,366,52,19,51,12,10,10,182,27,7,5,25,84,13,44,79,15,31,52,22,10,19,6,45,6,10,5,6,11,31,95,41,13,9,13,8,12,20,18,6,32,27,4,52,25,232,67,17,365,19,30,5,49,46,14,40,5,19,71,33,2,5,2,2,15,10,13,20,75,81,37,15,122,6,14,69,10,5,267,28,1,9,55,33,76,69,79,40,4784,103,4,29,334,75,78,8,44,58,36,17,90,48,68,70,67,14,34,35,143,22,41,54,15,9,83,31,39,181,84,59,13,10,75,55,15,24,29,2,14,53,10,11,35,13,29,6,42,100,43,3,8,54,4,18,14,11,23,40,25,208,87,25,5,33,10,26,19,195,108,54,12,18,45,5,40,12,372,39,16,42,37,127,15,71,3,12,368,9,13,6,4,29,4,16,65,63,10,64,12,62,13,30,15,41,18,71,11,16,189,6,180,13,7,101,95,17,186,59,50,101,15,24,101,32,4,3,81,10,16,20,13,39,110,367,15,3,32,11,6,138,11,46,13,10,36,29,9,3,11,4,17,25,13,22,58,8,59,42,42,33,22,115,133,95,12,411,85,3,12,34,73,70,383,130,2,30,18,16,31,15,18,49,3,4,49,14,3,17,108,121,23,10,19,49,74,45,90,26,6,31,111,56,11,8,21,11,43,5,63,277,53,21,47,43,37,34,51,11,9,20,32,20,1,19,4,40,5,27,37,8,103,14,19,7,54,10,65,62,318,18,23,43,48,21,69,160,13,13,33,36,370,5,10,31,110,26,22,21,13,61,11,26,32,33,38,7,9,60,29,8,9,55,39,8,19,4,87,9,364,4,81,14,151,19,91,7,12,14,16,5,7,31,17,71,7,49,34,19,34,61,85,15,367,123,54,370,10,50,13,10,79,39,3,96,60,12,56,1,15,22,70,26,15,16,115,15,65,89,24,83,43,21,4,4,14,15,19,32,11,32,393,30,64,9,21,87,167,9,8,37,59,39,6,11,113,4,4,375,36,28,84,17,6,29,70,15,17,93,2,35,43,145,22,28,49,48,107,6,4,162,7,45,8,14,43,67,14,11,12,49,5,56,29,19,29,41,64,7,8,7,9,4,21,11,9,162,13,41,31,37,5,130,5,5,102,57,9,10,31,85,66,35,2,11,79,11,14,18,48,3,10,24,246,392,14,27,107,19,24,9,59,11,92,8,11,89,14,23,5,14,7,15,18,17,115,366,20,53,40,13,20,86,6,17,5,19,19,23,50,98,20,3,78,13,180,33,15,38,68,11,6,2,62,129,52,398,52,25,4,154,39,44,2,17,5,56,15,64,6,18,13,12,70,49,9,44,10,15,13,27,16,6,20,49,4,166,365,31,7,13,52,365,39,65,33,11,12,213,36,7,20,9,4,7,109,27,30,34,376,7,13,16,14,41,111,14,16,5,82,78,11,3,67,44,15,53,5,49,15,9,15,19,8,13,46,15,9,177,26,56,69,22,79,80,20,206,39,36,34,242,1,58,8,16,110,91,5,12,472,57,3,23,5,8,112,20,9,55,405,8,72,57,55,7,376,4,19,27,72,89,14,51,90,9,5,137,29,148,26,167,44,26,121,24,209,2,110,11,23,10,11,47,8,6,53,1,31,366,342,7,14,39,13,12,12,4,26,38,51,39,141,15,30,15,66,249,2,2,99,44,34,20,7,26,39,6,20,2,38,10,35,7,24,78,114,4,39,21,9,33,368,28,5,86,156,37,71,37,11,77,55,14,23,12,16,46,19,1,27,78,119,23,76,9,17,372,394,5,18,7,20,15,30,6,5,137,54,55,22,20,12,35,41,3,21,18,12,16,20,22,18,140,26,25,25,5,14,13,364,27,11,24,38,25,7,80,47,65,22,122,10,11,54,9,110,24,48,31,12,6,6,2,47,384,19,83,5,39,122,2,15,52,1,13,31,12,223,45,12,174,47,23,9,24,163,11,13,15,18,72,171,36,40,28,12,20,4,29,41,16,12,374,13,16,16,21,9,17,22,37,4,53,35,3,38,2,56,19,63,26,7,61,59,139,21,78,266,16,17,26,8,13,23,11,28,72,366,11,75,76,3,2,10,17,2,122,25,88,76,25,11,9,11,285,79,53,29,20,17,78,81,11,30,79,98,1,7,92,23,4,92,106,30,7,17,9,21,142,365,30,14,49,23,7,11,36,96,9,68,11,61,6,22,28,21,28,64,11,15,10,6,6,10,61,81,9,20,60,23,40,56,9,5,12,10,5,78,33,7,55,13,8,13,19,77,7,79,147,7,2,18,21,8,11,79,64,4,8,23,19,45,3,10,164,84,5,4,384,40,185,64,4,2,63,4,1,34,29,26,16,33,6,43,60,11,12,67,47,41,75,12,13,35,40,5,0,23,29,11,10,2,11,3,15,11,17,24,6,76,24,8,38,16,7,6,15,12,76,8,51,3,13,88,48,20,18,9,15,365,64,26,55,2,12,47,14,84,4,90,5,113,169,85,43,153,37,30,131,7,39,49,57,50,27,12,81,26,3,23,32,21,365,28,18,38,29,94,191,15,31,2,20,70,11,2,88,162,45,6,42,57,8,368,48,7,248,33,12,3,2,15,94,15,24,20,5,50,38,13,20,25,30,17,4,369,6,15,17,4,20,6,32,44,24,2,8,242,9,26,71,88,3,23,3,19,6,45,42,56,8,74,11,3,82,18,44,8,5,7,81,25,59,10,14,22,25,6,115,199,174,394,155,11,19,28,77,40,16,102,9,49,24,151,232,14,368,76,22,126,28,5,9,52,13,48,7,81,58,11,19,25,50,2,5,47,4,95,22,49,21,8,10,284,17,11,107,73,35,32,31,98,79,15,7,8,25,11,43,31,7,55,17,33,68,133,72,39,5,2,14,86,9,9,34,17,11,11,79,3,51,44,16,103,42,9,34,35,31,368,13,10,3,24,41,59,30,111,416,373,47,7,32,37,41,14,41,55,24,173,20,36,152,26,13,18,10,49,48,20,250,26,18,33,19,9,29,15,11,29,4,33,5,42,100,7,5,16,291,16,53,5,83,10,1,26,12,118,16,11,112,12,11,2,13,26,55,12,6,43,11,1,31,10,17,246,5,6,16,27,6,21,31,28,13,193,23,6,6,45,108,47,179,6,20,83,31,53,11,40,9,29,29,53,22,15,20,6,5,33,163,79,1,47,27,8,50,19,13,34,19,34,51,235,16,214,7,5,141,4,36,8,109,9,21,381,96,55,365,19,37,66,43,42,11,12,42,47,69,14,78,71,85,26,15,55,59,56,31,45,185,19,23,13,92,6,46,68,19,60,0,38,41,22,8,126,52,43,208,6,13,186,65,5,37,5,5,62,69,26,24,50,14,79,12,5,69,397,64,162,5,12,150,2,44,116,365,32,235,41,17,8,10,131,64,21,5,2,189,7,17,43,48,61,47,10,21,19,29,13,43,14,10,4,365,38,25,9,15,248,34,32,11,21,4,33,17,39,68,62,2,51,9,18,34,22,48,10,33,34,3,8,3,13,23,10,101,42,32,5,63,9,12,43,15,17,35,365,37,71,24,25,2,375,118,42,62,30,66,40,28,21,25,16,59,126,151,17,39,15,8,29,23,36,14,87,24,33,11,9,21,16,12,48,136,26,11,23,7,60,87,57,10,34,9,27,9,62,4,23,25,27,70,30,11,35,146,73,35,48,63,372,61,28,13,160,30,71,16,99,8,62,56,59,39,11,40,38,60,9,10,81,20,9,17,50,42,19,23,19,22,21,7,28,385,36,4,379,80,35,10,73,5,85,49,8,4,18,116,14,55,8,11,18,372,26,14,187,5,58,10,79,28,41,66,0,164,9,63,48,65,54,9,189,124,14,78,89,38,39,196,1,72,30,39,11,19,9,35,27,18,14,12,9,41,48,11,3,7,62,7,9,83,367,85,8,6,8,28,30,12,39,34,31,14,209,16,6,14,42,18,77,12,53,21,88,9,4,25,16,114,124,51,41,33,123,42,10,123,27,4,38,80,2,7,16,54,67,67,45,53,41,86,28,22,9,366,25,7,1,33,12,19,19,8,36,89,124,8,368,12,8,17,3,54,7,49,40,36,31,19,5,13,7,16,33,29,22,12,95,7,18,93,12,14,73,12,16,42,24,78,18,14,16,0,76,34,56,48,18,7,23,58,9,40,7,123,98,7,64,13,40,146,133,4,17,14,18,129,39,197,30,58,25,63,100,25,93,79,5,23,3,2,5,2,38,373,74,5,33,111,4,42,3,60,82,13,41,88,11,35,148,42,365,15,16,114,41,15,28,92,8,10,19,21,43,73,22,12,53,6,35,23,116,19,11,75,34,7,3,10,20,3,197,25,37,51,12,71,379,157,33,45,4,53,114,4,32,5,9,100,76,6,34,17,76,24,3,13,23,31,83,18,40,17,2,53,33,201,5,19,34,27,28,16,65,19,14,10,378,30,27,3,7,27,103,26,35,30,40,10,48,125,128,42,22,1,4,5,12,49,68,92,156,39,40,5,5,64,21,28,7,2,20,4,53,46,103,10,10,40,94,81,170,17,48,76,28,23,58,18,39,74,39,4,70,327,11,19,14,26,35,7,7,33,42,23,3,8,62,40,100,24,2,15,19,4,180,24,39,58,13,13,11,95,24,11,6,1,7,23,11,8,46,48,22,11,34,29,3,119,56,38,2,16,131,100,24,3,1,62,202,117,117,47,37,10,12,146,50,17,87,49,101,26,10,7,36,16,23,231,8,4,44,235,3,6,20,13,106,20,29,9,2,120,24,6,9,14,4,5,41,18,7,11,4,7,67,15,6,7,7,23,13,17,18,154,5,27,29,10,16,8,38,10,78,9,11,14,142,24,20,13,68,13,10,8,9,55,6,46,367,18,40,61,25,25,5,55,11,5,119,40,190,40,19,25,17,24,44,36,33,24,51,20,64,19,399,5,18,49,68,18,68,100,34,11,4,3,49,28,153,16,25,85,64,72,12,11,2,16,28,14,4,16,92,3,7,34,42,52,34,375,53,29,30,17,39,26,24,21,76,18,6,48,30,7,11,9,37,13,22,118,33,214,6,4,97,42,12,33,95,60,55,149,8,8,24,7,56,13,52,30,59,182,144,17,9,6,104,45,8,16,18,46,25,71,8,6,21,3,53,99,222,108,5,17,3,46,87,24,9,7,37,22,10,64,2,3,36,14,30,81,36,36,38,48,49,74,23,22,16,373,54,385,114,15,53,45,11,4,8,17,4,78,237,382,16,20,43,4,94,23,7,15,59,28,82,4,9,11,118,166,95,366,2,43,96,81,18,15,36,8,2,8,32,57,18,12,15,16,314,39,17,5,7,5,19,48,14,45,77,77,12,5,130,20,45,10,29,12,38,27,18,14,365,7,79,83,258,10,9,13,81,9,9,36,53,85,4,5,14,50,39,6,11,115,16,40,75,8,44,32,41,7,54,9,75,17,11,2,24,61,8,25,41,65,51,17,14,14,98,28,60,14,42,16,7,6,7,13,39,10,58,19,5,18,65,3,27,43,123,4,22,45,6,10,6,72,21,23,245,121,5,46,8,3,102,69,38,226,39,174,6,70,3,73,10,143,23,44,28,104,100,8,44,11,14,56,22,21,131,35,147,39,16,11,266,27,16,7,27,42,81,14,5,273,18,34,200,57,11,39,6,370,52,58,32,20,15,22,25,14,8,120,370,22,189,42,9,374,72,34,20,16,29,84,10,185,48,18,15,53,2,17,3,72,65,13,7,6,68,5,111,20,11,12,17,145,193,3,3,7,8,21,3,56,24,42,57,5,107,39,16,20,13,14,22,89,34,30,91,27,6,86,118,25,51,54,367,43,5,7,387,0,9,6,16,32,5,100,7,6,32,17,52,32,24,9,37,365,81,9,42,376,28,25,19,107,8,40,66,30,3,51,4,11,57,5,44,43,10,28,12,5,62,14,18,43,73,52,17,6,30,15,147,378,48,20,6,11,18,43,10,5,28,315,65,3,6,74,46,107,47,29,3,38,32,19,181,396,41,21,12,8,8,24,131,6,7,5,376,54,20,91,35,58,23,229,44,7,6,53,1,22,33,56,2,187,10,10,364,44,67,5,80,15,494,24,21,56,16,78,17,372,93,3,5,19,29,376,3,34,26,23,5,7,82,32,25,8,65,2,22,63,13,39,38,52,75,8,33,2,5,8,2,16,4,109,4,35,24,218,11,23,95,3,2,46,18,164,109,9,93,8,383,84,6,169,45,44,27,17,42,18,50,7,21,26,37,97,7,9,41,67,30,26,134,78,25,12,100,18,41,6,116,21,36,63,24,24,12,63,39,40,9,44,29,14,17,8,7,38,46,32,94,84,25,8,368,15,86,28,5,11,46,17,15,19,32,48,10,16,10,34,83,47,2,54,134,116,20,98,2,98,26,10,72,19,86,85,126,5,7,17,70,15,9,57,60,3,3,112,12,8,31,49,21,31,97,15,12,6,79,37,15,24,269,18,53,420,95,102,15,60,19,85,265,51,403,1,29,11,54,37,11,17,10,75,20,25,39,146,37,173,368,29,118,28,43,5,95,31,43,23,5,44,6,103,25,9,6,186,41,3,8,29,39,166,194,17,3,54,14,116,7,23,8,17,10,25,129,22,10,111,9,40,55,34,40,18,14,39,8,34,11,45,16,3,16,30,32,61,61,66,15,12,33,7,41,69,15,64,75,25,5,86,47,8,15,47,61,59,21,33,54,10,4,178,132,15,5,20,7,39,41,149,118,11,9,52,23,26,32,28,3,12,9,10,8,8,67,52,369,25,2,68,37,47,33,372,17,9,25,7,91,109,10,67,109,48,14,10,7,2,37,7,9,15,40,23,96,5,30,3,24,2,3,53,57,14,64,82,98,31,44,41,26,5,11,116,35,67,14,17,366,22,25,6,12,364,25,30,9,11,48,33,100,16,2,38,179,40,7,86,44,3,12,12,58,9,11,5,3,9,40,35,68,17,36,1,69,9,16,8,4,125,7,35,372,26,24,76,51,27,181,30,10,26,364,34,121,4,14,9,61,69,30,67,7,31,5,16,48,17,53,245,5,7,327,62,1,25,16,23,6,13,31,15,4,37,21,8,49,42,7,58,138,20,5,52,22,16,28,43,36,59,79,18,6,112,6,11,6,59,32,8,96,42,6,11,38,55,18,12,34,38,37,2,370,16,16,83,90,364,60,222,17,20,387,6,11,13,22,11,14,36,6,3,24,4,55,13,319,35,109,37,50,49,28,30,6,9,80,6,9,60,27,420,310,22,70,23,72,68,60,42,31,61,225,74,21,12,24,21,25,17,17,23,29,33,6,49,95,18,17,63,70,19,40,14,17,9,43,84,131,4,47,70,4,7,192,39,68,4,14,35,100,26,96,43,2,20,58,22,4,15,56,99,10,80,364,4,4,13,14,48,4,6,365,68,16,38,4,7,28,128,8,136,23,14,75,20,5,6,72,9,74,23,3,36,26,23,19,6,17,32,20,180,17,10,8,8,34,20,57,4,38,37,8,34,60,21,16,39,14,8,91,1,40,7,29,280,11,6,92,41,41,366,44,14,21,61,10,180,4,135,8,5,23,15,365,50,27,39,70,11,141,6,39,13,76,44,62,49,118,58,15,74,13,42,132,42,7,60,8,73,66,96,12,6,27,73,31,364,68,5,2,8,17,8,27,13,15,60,38,51,47,7,6,14,15,58,364,49,2,51,6,2,5,11,82,9,86,7,3,4,379,54,4831,4,19,65,45,63,35,10,33,113,59,16,15,163,19,79,6,20,21,31,33,20,275,214,49,12,89,10,13,17,41,28,10,62,8,9,40,7,8,128,12,99,18,17,9,5,53,143,3,18,364,3,85,26,57,7,6,11,36,26,187,31,44,4,4,10,8,41,52,74,66,131,368,7,47,365,43,15,21,25,93,11,54,9,27,96,117,21,26,20,8,23,70,34,23,2,37,35,8,30,19,139,75,9,4,132,5,17,79,8,125,4847,162,42,160,33,12,5,94,7,31,90,23,17,12,10,74,6,23,85,13,3,1,57,3,145,53,10,55,8,69,20,2,26,82,2,93,66,38,45,365,5,2,91,46,66,365,7,23,1,23,394,246,6,365,75,3,86,18,8,116,128,82,30,49,10,40,9,32,11,49,31,76,5,38,49,51,58,43,12,45,78,17,18,28,53,7,4,5,23,6,46,12,21,16,88,80,12,18,380,20,30,72,13,90,77,5,37,15,14,25,53,89,116,16,104,28,64,90,7,13,4,189,5,13,33,46,21,9,12,5,21,9,23,26,100,6,10,77,9,17,7,15,8,25,43,74,17,35,11,62,2,48,21,43,2,12,102,57,35,8,9,3,68,47,36,11,8,33,37,12,83,66,90,32,6,16,26,64,8,53,8,54,4,8,48,27,26,144,15,290,13,63,23,89,37,35,2,79,407,17,8,30,34,44,9,1,47,139,53,13,99,6,49,35,26,43,12,10,2,27,6,80,27,22,48,80,42,10,48,8,20,30,39,11,18,16,413,17,35,17,32,98,167,42,6,25,27,12,57,34,41,64,280,86,2,109,52,7,9,376,11,34,16,44,4,377,19,164,43,31,5,48,17,274,12,14,14,16,13,41,100,6,6,15,22,93,48,121,15,9,46,15,38,36,26,145,26,28,3,13,34,8,84,2,16,109,36,187,6,3,10,8,17,25,5,10,15,70,12,388,26,46,12,135,9,14,3,17,14,20,26,22,14,26,16,24,15,23,9,64,54,162,5,94,7,88,11,48,9,4,19,34,180,71,21,34,12,61,367,7,81,55,42,16,19,243,6,53,18,3,159,6,3,43,3,44,44,38,6,37,5,49,75,23,64,4,16,30,33,44,13,127,2,10,182,2,49,7,22,1,80,40,36,191,3,364,13,5,5,35,21,49,4,22,55,83,8,172,92,41,96,17,4,37,85,16,45,8,365,3,24,8,12,15,35,14,43,45,138,1,75,82,76,79,26,2,99,32,23,20,25,365,50,48,15,29,99,36,53,1,40,56,5,15,86,15,9,37,17,18,2,19,11,84,19,33,48,8,34,13,64,42,97,28,5,61,1,192,32,20,8,40,5,9,43,37,30,18,3,195,14,1,224,37,10,36,39,15,89,84,67,16,76,31,26,11,46,10,366,12,15,27,36,12,365,9,20,79,52,30,19,11,5,3,6,24,6,5,16,44,17,9,58,6,25,4,10,84,17,160,56,37,16,8,393,79,34,21,50,15,364,3,53,19,12,6,64,23,77,19,2,40,37,373,5,68,52,32,1,55,8,90,84,13,8,2,40,19,22,41,16,8,28,30,5,42,12,6,9,3,2,69,364,37,15,27,97,84,91,3,32,25,116,64,70,12,50,2,13,40,259,6,9,52,56,11,20,58,47,33,92,38,13,10,11,13,21,104,17,17,9,2,11,8,32,32,5,28,66,2,45,22,34,99,67,42,367,16,30,369,50,38,26,31,7,28,73,74,30,9,12,14,10,94,65,112,3,11,380,8,28,9,31,12,371,23,65,51,11,31,8,209,160,67,12,13,364,5,9,55,17,365,18,66,45,7,18,40,3,8,76,16,7,8,20,59,7,111,401,4,33,3,14,22,23,69,55,39,33,25,36,31,44,3,112,40,14,29,10,66,39,9,24,14,1,26,2,36,5,18,53,10,45,63,4,21,33,54,52,14,368,13,15,9,8,29,47,9,40,33,34,136,15,24,46,14,16,14,10,35,15,221,32,83,2,83,34,18,54,20,203,367,33,132,20,29,7,43,22,33,3,187,5,12,2,68,28,16,85,92,7,2,29,140,6,25,19,31,156,74,13,34,373,17,5,15,4,62,5,64,6,4,8,17,26,77,19,367,56,31,15,14,46,12,8,79,19,44,32,79,364,27,13,34,180,140,23,103,108,27,14,8,11,51,147,29,11,50,26,47,13,24,16,1,24,95,36,32,365,52,85,32,19,72,100,24,31,92,16,3,70,35,20,5,55,82,8,5,5,158,37,21,54,12,33,8,2,4,8,21,49,11,17,16,29,33,3,3,70,23,196,30,62,46,46,54,67,35,164,135,67,84,16,34,2,33,30,33,56,26,27,78,72,24,31,8,10,95,49,9,67,25,12,29,11,45,84,26,189,36,5,14,19,23,19,34,187,53,27,260,35,9,4,7,22,34,38,40,26,77,30,7,34,379,8,25,6,76,16,8,9,156,9,10,12,3,37,2,76,9,19,28,2,98,20,24,186,306,13,85,132,53,83,10,37,22,184,22,33,249,9,26,118,12,20,25,28,68,33,6,32,33,51,125,71,88,70,104,47,123,16,10,0,23,64,31,18,49,24,13,11,6,63,42,24,13,109,11,47,36,373,8,20,14,36,98,20,69,5,13,13,110,118,63,42,30,30,43,84,203,193,364,8,13,105,13,6,8,11,14,5,16,7,36,7,24,53,103,37,1,13,368,27,8,4,13,11,34,20,6,29,6,54,50,171,39,36,14,9,31,65,21,80,63,26,42,365,250,69,12,7,4,156,148,10,58,14,9,18,118,15,3,18,42,35,13,7,15,16,100,76,69,4,8,60,6,156,39,4,148,119,2,37,35,117,56,125,13,39,16,33,46,7,95,65,3,71,378,5,33,32,55,93,80,9,102,29,11,84,11,400,28,14,6,10,50,14,26,5,18,17,24,4,14,58,15,31,34,6,17,58,30,13,21,6,61,11,3,38,11,154,5,38,71,32,8,5,3,50,15,24,68,55,182,67,9,55,23,17,153,82,102,5,18,19,152,36,378,31,91,18,11,6,382,16,45,62,5,21,390,65,58,191,14,13,68,4,10,65,5,60,19,8,2,6,8,33,20,22,12,36,4,26,72,32,70,12,144,242,83,278,33,223,9,10,370,8,29,52,31,39,48,35,10,28,15,155,160,132,72,11,2,4,96,4,20,82,10,35,22,6,51,1,51,22,55,34,16,16,11,13,7,11,65,94,7,6,14,17,64,51,172],\"x0\":\" \",\"xaxis\":\"x\",\"y0\":\" \",\"yaxis\":\"y\",\"type\":\"box\"}],                        {\"template\":{\"data\":{\"histogram2dcontour\":[{\"type\":\"histogram2dcontour\",\"colorbar\":{\"outlinewidth\":0,\"ticks\":\"\"},\"colorscale\":[[0.0,\"#0d0887\"],[0.1111111111111111,\"#46039f\"],[0.2222222222222222,\"#7201a8\"],[0.3333333333333333,\"#9c179e\"],[0.4444444444444444,\"#bd3786\"],[0.5555555555555556,\"#d8576b\"],[0.6666666666666666,\"#ed7953\"],[0.7777777777777778,\"#fb9f3a\"],[0.8888888888888888,\"#fdca26\"],[1.0,\"#f0f921\"]]}],\"choropleth\":[{\"type\":\"choropleth\",\"colorbar\":{\"outlinewidth\":0,\"ticks\":\"\"}}],\"histogram2d\":[{\"type\":\"histogram2d\",\"colorbar\":{\"outlinewidth\":0,\"ticks\":\"\"},\"colorscale\":[[0.0,\"#0d0887\"],[0.1111111111111111,\"#46039f\"],[0.2222222222222222,\"#7201a8\"],[0.3333333333333333,\"#9c179e\"],[0.4444444444444444,\"#bd3786\"],[0.5555555555555556,\"#d8576b\"],[0.6666666666666666,\"#ed7953\"],[0.7777777777777778,\"#fb9f3a\"],[0.8888888888888888,\"#fdca26\"],[1.0,\"#f0f921\"]]}],\"heatmap\":[{\"type\":\"heatmap\",\"colorbar\":{\"outlinewidth\":0,\"ticks\":\"\"},\"colorscale\":[[0.0,\"#0d0887\"],[0.1111111111111111,\"#46039f\"],[0.2222222222222222,\"#7201a8\"],[0.3333333333333333,\"#9c179e\"],[0.4444444444444444,\"#bd3786\"],[0.5555555555555556,\"#d8576b\"],[0.6666666666666666,\"#ed7953\"],[0.7777777777777778,\"#fb9f3a\"],[0.8888888888888888,\"#fdca26\"],[1.0,\"#f0f921\"]]}],\"heatmapgl\":[{\"type\":\"heatmapgl\",\"colorbar\":{\"outlinewidth\":0,\"ticks\":\"\"},\"colorscale\":[[0.0,\"#0d0887\"],[0.1111111111111111,\"#46039f\"],[0.2222222222222222,\"#7201a8\"],[0.3333333333333333,\"#9c179e\"],[0.4444444444444444,\"#bd3786\"],[0.5555555555555556,\"#d8576b\"],[0.6666666666666666,\"#ed7953\"],[0.7777777777777778,\"#fb9f3a\"],[0.8888888888888888,\"#fdca26\"],[1.0,\"#f0f921\"]]}],\"contourcarpet\":[{\"type\":\"contourcarpet\",\"colorbar\":{\"outlinewidth\":0,\"ticks\":\"\"}}],\"contour\":[{\"type\":\"contour\",\"colorbar\":{\"outlinewidth\":0,\"ticks\":\"\"},\"colorscale\":[[0.0,\"#0d0887\"],[0.1111111111111111,\"#46039f\"],[0.2222222222222222,\"#7201a8\"],[0.3333333333333333,\"#9c179e\"],[0.4444444444444444,\"#bd3786\"],[0.5555555555555556,\"#d8576b\"],[0.6666666666666666,\"#ed7953\"],[0.7777777777777778,\"#fb9f3a\"],[0.8888888888888888,\"#fdca26\"],[1.0,\"#f0f921\"]]}],\"surface\":[{\"type\":\"surface\",\"colorbar\":{\"outlinewidth\":0,\"ticks\":\"\"},\"colorscale\":[[0.0,\"#0d0887\"],[0.1111111111111111,\"#46039f\"],[0.2222222222222222,\"#7201a8\"],[0.3333333333333333,\"#9c179e\"],[0.4444444444444444,\"#bd3786\"],[0.5555555555555556,\"#d8576b\"],[0.6666666666666666,\"#ed7953\"],[0.7777777777777778,\"#fb9f3a\"],[0.8888888888888888,\"#fdca26\"],[1.0,\"#f0f921\"]]}],\"mesh3d\":[{\"type\":\"mesh3d\",\"colorbar\":{\"outlinewidth\":0,\"ticks\":\"\"}}],\"scatter\":[{\"fillpattern\":{\"fillmode\":\"overlay\",\"size\":10,\"solidity\":0.2},\"type\":\"scatter\"}],\"parcoords\":[{\"type\":\"parcoords\",\"line\":{\"colorbar\":{\"outlinewidth\":0,\"ticks\":\"\"}}}],\"scatterpolargl\":[{\"type\":\"scatterpolargl\",\"marker\":{\"colorbar\":{\"outlinewidth\":0,\"ticks\":\"\"}}}],\"bar\":[{\"error_x\":{\"color\":\"#2a3f5f\"},\"error_y\":{\"color\":\"#2a3f5f\"},\"marker\":{\"line\":{\"color\":\"#E5ECF6\",\"width\":0.5},\"pattern\":{\"fillmode\":\"overlay\",\"size\":10,\"solidity\":0.2}},\"type\":\"bar\"}],\"scattergeo\":[{\"type\":\"scattergeo\",\"marker\":{\"colorbar\":{\"outlinewidth\":0,\"ticks\":\"\"}}}],\"scatterpolar\":[{\"type\":\"scatterpolar\",\"marker\":{\"colorbar\":{\"outlinewidth\":0,\"ticks\":\"\"}}}],\"histogram\":[{\"marker\":{\"pattern\":{\"fillmode\":\"overlay\",\"size\":10,\"solidity\":0.2}},\"type\":\"histogram\"}],\"scattergl\":[{\"type\":\"scattergl\",\"marker\":{\"colorbar\":{\"outlinewidth\":0,\"ticks\":\"\"}}}],\"scatter3d\":[{\"type\":\"scatter3d\",\"line\":{\"colorbar\":{\"outlinewidth\":0,\"ticks\":\"\"}},\"marker\":{\"colorbar\":{\"outlinewidth\":0,\"ticks\":\"\"}}}],\"scattermapbox\":[{\"type\":\"scattermapbox\",\"marker\":{\"colorbar\":{\"outlinewidth\":0,\"ticks\":\"\"}}}],\"scatterternary\":[{\"type\":\"scatterternary\",\"marker\":{\"colorbar\":{\"outlinewidth\":0,\"ticks\":\"\"}}}],\"scattercarpet\":[{\"type\":\"scattercarpet\",\"marker\":{\"colorbar\":{\"outlinewidth\":0,\"ticks\":\"\"}}}],\"carpet\":[{\"aaxis\":{\"endlinecolor\":\"#2a3f5f\",\"gridcolor\":\"white\",\"linecolor\":\"white\",\"minorgridcolor\":\"white\",\"startlinecolor\":\"#2a3f5f\"},\"baxis\":{\"endlinecolor\":\"#2a3f5f\",\"gridcolor\":\"white\",\"linecolor\":\"white\",\"minorgridcolor\":\"white\",\"startlinecolor\":\"#2a3f5f\"},\"type\":\"carpet\"}],\"table\":[{\"cells\":{\"fill\":{\"color\":\"#EBF0F8\"},\"line\":{\"color\":\"white\"}},\"header\":{\"fill\":{\"color\":\"#C8D4E3\"},\"line\":{\"color\":\"white\"}},\"type\":\"table\"}],\"barpolar\":[{\"marker\":{\"line\":{\"color\":\"#E5ECF6\",\"width\":0.5},\"pattern\":{\"fillmode\":\"overlay\",\"size\":10,\"solidity\":0.2}},\"type\":\"barpolar\"}],\"pie\":[{\"automargin\":true,\"type\":\"pie\"}]},\"layout\":{\"autotypenumbers\":\"strict\",\"colorway\":[\"#636efa\",\"#EF553B\",\"#00cc96\",\"#ab63fa\",\"#FFA15A\",\"#19d3f3\",\"#FF6692\",\"#B6E880\",\"#FF97FF\",\"#FECB52\"],\"font\":{\"color\":\"#2a3f5f\"},\"hovermode\":\"closest\",\"hoverlabel\":{\"align\":\"left\"},\"paper_bgcolor\":\"white\",\"plot_bgcolor\":\"#E5ECF6\",\"polar\":{\"bgcolor\":\"#E5ECF6\",\"angularaxis\":{\"gridcolor\":\"white\",\"linecolor\":\"white\",\"ticks\":\"\"},\"radialaxis\":{\"gridcolor\":\"white\",\"linecolor\":\"white\",\"ticks\":\"\"}},\"ternary\":{\"bgcolor\":\"#E5ECF6\",\"aaxis\":{\"gridcolor\":\"white\",\"linecolor\":\"white\",\"ticks\":\"\"},\"baxis\":{\"gridcolor\":\"white\",\"linecolor\":\"white\",\"ticks\":\"\"},\"caxis\":{\"gridcolor\":\"white\",\"linecolor\":\"white\",\"ticks\":\"\"}},\"coloraxis\":{\"colorbar\":{\"outlinewidth\":0,\"ticks\":\"\"}},\"colorscale\":{\"sequential\":[[0.0,\"#0d0887\"],[0.1111111111111111,\"#46039f\"],[0.2222222222222222,\"#7201a8\"],[0.3333333333333333,\"#9c179e\"],[0.4444444444444444,\"#bd3786\"],[0.5555555555555556,\"#d8576b\"],[0.6666666666666666,\"#ed7953\"],[0.7777777777777778,\"#fb9f3a\"],[0.8888888888888888,\"#fdca26\"],[1.0,\"#f0f921\"]],\"sequentialminus\":[[0.0,\"#0d0887\"],[0.1111111111111111,\"#46039f\"],[0.2222222222222222,\"#7201a8\"],[0.3333333333333333,\"#9c179e\"],[0.4444444444444444,\"#bd3786\"],[0.5555555555555556,\"#d8576b\"],[0.6666666666666666,\"#ed7953\"],[0.7777777777777778,\"#fb9f3a\"],[0.8888888888888888,\"#fdca26\"],[1.0,\"#f0f921\"]],\"diverging\":[[0,\"#8e0152\"],[0.1,\"#c51b7d\"],[0.2,\"#de77ae\"],[0.3,\"#f1b6da\"],[0.4,\"#fde0ef\"],[0.5,\"#f7f7f7\"],[0.6,\"#e6f5d0\"],[0.7,\"#b8e186\"],[0.8,\"#7fbc41\"],[0.9,\"#4d9221\"],[1,\"#276419\"]]},\"xaxis\":{\"gridcolor\":\"white\",\"linecolor\":\"white\",\"ticks\":\"\",\"title\":{\"standoff\":15},\"zerolinecolor\":\"white\",\"automargin\":true,\"zerolinewidth\":2},\"yaxis\":{\"gridcolor\":\"white\",\"linecolor\":\"white\",\"ticks\":\"\",\"title\":{\"standoff\":15},\"zerolinecolor\":\"white\",\"automargin\":true,\"zerolinewidth\":2},\"scene\":{\"xaxis\":{\"backgroundcolor\":\"#E5ECF6\",\"gridcolor\":\"white\",\"linecolor\":\"white\",\"showbackground\":true,\"ticks\":\"\",\"zerolinecolor\":\"white\",\"gridwidth\":2},\"yaxis\":{\"backgroundcolor\":\"#E5ECF6\",\"gridcolor\":\"white\",\"linecolor\":\"white\",\"showbackground\":true,\"ticks\":\"\",\"zerolinecolor\":\"white\",\"gridwidth\":2},\"zaxis\":{\"backgroundcolor\":\"#E5ECF6\",\"gridcolor\":\"white\",\"linecolor\":\"white\",\"showbackground\":true,\"ticks\":\"\",\"zerolinecolor\":\"white\",\"gridwidth\":2}},\"shapedefaults\":{\"line\":{\"color\":\"#2a3f5f\"}},\"annotationdefaults\":{\"arrowcolor\":\"#2a3f5f\",\"arrowhead\":0,\"arrowwidth\":1},\"geo\":{\"bgcolor\":\"white\",\"landcolor\":\"#E5ECF6\",\"subunitcolor\":\"white\",\"showland\":true,\"showlakes\":true,\"lakecolor\":\"white\"},\"title\":{\"x\":0.05},\"mapbox\":{\"style\":\"light\"}}},\"xaxis\":{\"anchor\":\"y\",\"domain\":[0.0,1.0],\"title\":{\"text\":\"Duration\"}},\"yaxis\":{\"anchor\":\"x\",\"domain\":[0.0,1.0]},\"legend\":{\"tracegroupgap\":0},\"title\":{\"text\":\"Duration\"},\"boxmode\":\"group\",\"height\":250,\"width\":1000},                        {\"responsive\": true}                    ).then(function(){\n",
       "                            \n",
       "var gd = document.getElementById('5bf46e12-1934-4e68-87b4-a65a31846074');\n",
       "var x = new MutationObserver(function (mutations, observer) {{\n",
       "        var display = window.getComputedStyle(gd).display;\n",
       "        if (!display || display === 'none') {{\n",
       "            console.log([gd, 'removed!']);\n",
       "            Plotly.purge(gd);\n",
       "            observer.disconnect();\n",
       "        }}\n",
       "}});\n",
       "\n",
       "// Listen for the removal of the full notebook cells\n",
       "var notebookContainer = gd.closest('#notebook-container');\n",
       "if (notebookContainer) {{\n",
       "    x.observe(notebookContainer, {childList: true});\n",
       "}}\n",
       "\n",
       "// Listen for the clearing of the current output cell\n",
       "var outputEl = gd.closest('.output');\n",
       "if (outputEl) {{\n",
       "    x.observe(outputEl, {childList: true});\n",
       "}}\n",
       "\n",
       "                        })                };                            </script>        </div>\n",
       "</body>\n",
       "</html>"
      ]
     },
     "metadata": {},
     "output_type": "display_data"
    }
   ],
   "source": [
    "# Boxplot - Duration\n",
    "px.box(travel, x='Duration', title='Duration', width=1000, height=250)"
   ]
  },
  {
   "cell_type": "code",
   "execution_count": null,
   "metadata": {
    "id": "v1rozkD1qpQw"
   },
   "outputs": [],
   "source": [
    "# Remove data with Duration more than 365 days\n",
    "travel = travel[travel['Duration'] <366]"
   ]
  },
  {
   "cell_type": "markdown",
   "metadata": {
    "id": "tndZk9Npq8yH"
   },
   "source": [
    "###Age"
   ]
  },
  {
   "cell_type": "code",
   "execution_count": null,
   "metadata": {
    "colab": {
     "base_uri": "https://localhost:8080/",
     "height": 287
    },
    "id": "biy8uditrCVL",
    "outputId": "14cddb59-4fe3-4905-a92a-62af2b044b70"
   },
   "outputs": [
    {
     "data": {
      "text/html": [
       "<html>\n",
       "<head><meta charset=\"utf-8\" /></head>\n",
       "<body>\n",
       "    <div>            <script src=\"https://cdnjs.cloudflare.com/ajax/libs/mathjax/2.7.5/MathJax.js?config=TeX-AMS-MML_SVG\"></script><script type=\"text/javascript\">if (window.MathJax && window.MathJax.Hub && window.MathJax.Hub.Config) {window.MathJax.Hub.Config({SVG: {font: \"STIX-Web\"}});}</script>                <script type=\"text/javascript\">window.PlotlyConfig = {MathJaxConfig: 'local'};</script>\n",
       "        <script charset=\"utf-8\" src=\"https://cdn.plot.ly/plotly-2.35.2.min.js\"></script>                <div id=\"311f90f2-2acd-497d-a3b0-6fcd8c4ceb5c\" class=\"plotly-graph-div\" style=\"height:250px; width:1000px;\"></div>            <script type=\"text/javascript\">                                    window.PLOTLYENV=window.PLOTLYENV || {};                                    if (document.getElementById(\"311f90f2-2acd-497d-a3b0-6fcd8c4ceb5c\")) {                    Plotly.newPlot(                        \"311f90f2-2acd-497d-a3b0-6fcd8c4ceb5c\",                        [{\"alignmentgroup\":\"True\",\"hovertemplate\":\"Age=%{x}\\u003cextra\\u003e\\u003c\\u002fextra\\u003e\",\"legendgroup\":\"\",\"marker\":{\"color\":\"#636efa\"},\"name\":\"\",\"notched\":false,\"offsetgroup\":\"\",\"orientation\":\"h\",\"showlegend\":false,\"x\":[57,33,26,59,28,36,36,22,39,36,28,27,48,43,36,27,51,36,65,47,35,54,36,23,46,33,36,58,42,31,36,29,37,36,36,26,68,36,36,35,43,36,27,36,27,48,36,29,39,8,36,22,32,27,35,61,49,31,36,36,37,31,56,36,36,36,36,36,43,29,36,36,25,50,34,36,28,29,36,43,29,22,36,35,36,38,36,50,35,23,36,44,36,57,35,118,50,57,36,29,45,118,36,53,36,36,20,48,36,31,36,30,36,35,47,54,59,29,36,36,31,35,20,36,20,36,69,34,36,35,36,52,36,53,36,36,36,25,36,36,28,46,36,35,30,36,27,36,27,23,40,58,33,36,48,36,36,36,45,36,36,36,50,36,35,30,36,36,22,43,50,36,42,41,39,41,27,70,36,25,53,48,20,51,76,33,65,34,36,48,36,36,36,36,36,48,41,36,74,35,39,48,41,36,57,36,29,36,29,66,36,36,36,28,31,36,36,36,36,36,36,36,36,45,43,36,35,31,36,45,28,45,28,47,35,28,34,35,32,36,36,63,36,29,41,36,48,36,55,39,36,36,22,41,31,21,48,60,34,48,39,36,41,36,49,47,34,36,36,21,36,59,36,36,36,29,30,63,35,36,54,36,59,36,30,27,36,43,31,36,21,28,60,36,42,36,36,36,27,53,36,36,40,36,36,39,48,45,36,36,76,36,45,36,47,36,36,36,66,28,36,40,36,30,47,36,31,36,48,36,45,59,36,31,27,44,36,36,68,36,26,26,40,36,51,41,25,37,36,49,49,36,47,29,118,37,36,36,38,27,28,44,34,118,31,37,36,31,36,38,28,36,49,36,36,36,30,51,31,45,49,53,25,36,36,51,42,51,26,48,75,65,32,36,35,36,36,24,33,55,59,36,53,38,36,50,33,36,36,36,36,38,36,36,36,35,35,36,49,25,32,35,48,36,36,36,44,48,48,35,31,36,35,36,36,46,36,25,39,36,45,36,48,39,36,31,46,43,36,58,55,56,33,35,36,36,37,36,55,27,48,23,36,36,36,36,36,36,36,36,36,31,36,33,36,30,36,37,66,25,36,45,31,48,36,36,36,36,29,49,36,33,40,55,36,35,36,36,36,36,24,54,36,38,39,32,36,47,68,36,33,36,54,41,36,36,36,22,30,36,31,36,42,36,36,27,54,36,46,36,62,35,37,36,54,36,54,31,24,48,51,45,33,36,56,36,36,36,36,39,73,36,24,36,36,47,31,34,23,36,59,31,36,36,40,59,29,38,36,36,39,48,36,36,60,52,36,36,53,54,36,36,42,63,44,36,23,39,41,21,36,29,36,36,31,36,36,25,36,42,64,48,36,49,36,61,31,36,36,36,28,48,36,36,69,36,44,26,59,36,27,51,64,36,27,45,47,36,71,37,36,32,36,36,41,63,25,31,31,35,31,56,36,25,36,36,48,35,38,59,71,36,57,36,29,48,38,51,23,63,35,52,36,36,51,25,36,30,41,36,48,36,36,60,36,60,36,36,42,66,29,48,47,36,50,69,63,37,51,36,36,37,36,36,20,29,36,36,36,35,33,36,31,36,36,36,34,36,118,36,36,48,28,26,64,14,34,36,36,72,24,36,48,36,42,31,31,42,32,35,30,56,45,30,36,35,23,30,48,56,35,42,27,36,30,37,36,37,58,118,36,36,36,36,37,42,54,33,75,40,36,36,36,37,38,36,36,40,47,25,30,22,36,43,36,44,31,84,36,36,36,35,31,56,36,56,36,36,36,36,22,40,29,36,29,36,32,40,36,51,56,32,39,25,36,22,47,36,24,32,36,36,36,53,21,36,48,21,32,35,50,36,65,20,63,64,36,29,35,37,40,35,36,35,36,32,61,35,36,35,36,57,59,36,36,53,31,36,36,25,118,36,59,36,36,36,36,36,36,52,36,36,36,36,63,23,36,36,27,32,50,36,36,48,36,31,36,35,36,48,23,44,36,37,59,27,36,118,46,43,45,32,36,36,36,48,36,36,36,41,50,35,33,36,36,36,36,36,25,36,36,36,48,36,36,81,45,36,30,50,24,42,36,35,36,29,49,48,71,28,49,63,34,63,36,48,36,44,45,58,28,36,30,38,32,40,51,33,36,36,37,36,36,37,26,35,31,36,43,49,36,31,36,36,36,30,24,24,36,36,36,36,31,20,36,36,36,35,24,36,45,31,69,43,35,36,69,28,46,36,35,53,45,36,48,25,29,36,36,36,36,36,26,32,48,44,68,39,36,24,36,36,36,36,57,36,36,57,36,36,51,44,36,72,42,31,60,36,48,36,36,53,50,27,36,36,31,48,38,36,36,47,42,54,36,29,36,24,36,34,31,31,36,31,36,46,38,31,36,42,56,36,36,26,36,29,31,38,49,36,43,53,36,40,73,29,36,31,25,44,36,36,53,36,35,36,34,39,36,36,48,35,36,26,29,36,39,32,36,28,32,118,28,36,36,36,36,20,36,46,36,36,48,36,36,36,26,35,31,36,37,36,56,36,29,28,36,36,36,30,36,24,39,36,35,36,26,36,32,36,37,36,38,31,59,36,48,35,22,61,39,36,50,36,36,23,21,49,36,36,36,30,31,39,68,26,36,36,36,36,36,35,34,35,48,28,36,33,35,36,31,36,25,36,53,36,34,36,53,36,32,57,45,36,58,36,62,36,36,36,37,36,16,42,45,34,46,36,36,36,36,36,30,118,32,59,38,32,31,36,40,26,50,36,36,20,34,31,36,27,36,54,36,36,26,36,118,26,46,36,49,37,36,36,36,50,36,118,47,14,44,33,49,42,46,59,36,63,31,36,48,36,38,36,32,27,47,36,37,36,36,35,48,35,36,22,36,36,21,35,61,48,40,36,36,35,36,36,28,36,36,36,19,56,36,42,42,42,71,26,32,25,48,23,36,36,36,53,36,37,36,26,36,33,38,118,56,36,36,36,47,47,27,36,54,36,26,36,50,42,30,32,27,64,31,36,33,62,28,118,28,40,37,30,36,36,46,35,29,36,36,35,36,47,25,39,57,27,61,59,31,28,35,39,35,48,65,36,36,44,36,36,36,33,36,35,41,42,36,33,36,38,36,48,36,30,55,41,26,52,28,61,36,71,53,36,33,48,35,48,20,36,72,40,37,36,42,36,31,118,36,28,65,36,53,43,22,54,29,31,36,72,44,32,36,25,36,32,36,36,62,39,118,27,29,36,36,53,48,48,49,45,54,48,26,67,36,30,31,48,36,35,36,36,36,36,35,36,48,38,83,36,54,27,50,35,36,36,49,35,35,31,35,33,52,36,31,46,36,36,35,36,47,54,36,36,60,36,26,36,48,36,28,36,36,41,31,36,36,67,36,36,36,22,36,36,51,36,49,36,36,36,36,118,36,36,53,48,22,30,36,36,36,43,54,48,34,36,36,67,36,38,35,34,35,71,36,31,35,47,41,36,69,49,54,29,41,118,57,36,51,51,35,29,32,48,27,33,39,36,75,26,31,36,68,20,36,61,34,38,38,38,29,118,36,36,36,118,48,36,36,36,36,40,36,29,26,36,58,48,66,21,28,32,36,46,36,69,45,36,13,36,36,36,59,43,44,36,36,36,36,36,28,38,42,43,46,36,30,35,36,36,36,30,43,36,37,36,48,36,25,36,39,28,48,49,51,49,25,29,36,36,36,56,36,49,36,36,31,36,36,36,36,36,31,36,36,46,28,35,31,36,36,36,36,59,36,36,38,46,36,50,48,36,56,36,42,48,53,48,35,54,36,35,32,36,36,39,31,31,27,36,44,60,29,36,42,36,36,57,30,26,47,36,38,36,45,36,57,55,52,36,23,31,30,30,36,58,36,36,36,44,36,29,23,36,72,36,22,36,48,36,36,30,27,36,30,36,36,36,48,25,34,36,41,31,36,52,48,26,36,29,67,48,28,36,22,28,41,34,36,72,36,41,36,34,25,29,48,48,36,23,33,36,48,36,36,44,35,36,43,26,44,36,48,66,36,31,48,26,36,36,33,36,36,42,118,118,36,36,36,57,21,36,36,36,48,36,83,36,36,36,36,26,26,35,36,36,35,79,54,36,34,25,36,36,33,48,36,41,36,36,24,48,32,36,36,47,58,37,29,40,118,26,36,26,40,36,36,36,20,48,36,36,35,44,36,19,35,28,23,36,44,23,36,36,36,34,36,47,53,36,36,62,36,118,36,36,52,48,36,36,28,30,21,48,39,50,52,38,23,36,36,41,36,36,43,27,23,28,39,36,36,29,46,31,36,37,36,18,36,36,31,37,36,118,35,34,28,36,36,25,36,26,36,40,29,36,36,28,36,36,56,31,36,36,54,30,36,52,40,27,36,34,45,46,23,48,36,36,36,47,68,36,24,28,36,43,36,30,26,31,36,50,36,62,36,59,31,36,36,36,41,30,36,26,24,79,47,23,45,56,51,36,27,36,36,48,36,40,36,22,44,62,36,25,67,60,33,26,36,56,31,46,41,67,36,36,21,29,30,31,36,36,36,36,36,20,36,27,36,36,36,36,28,36,36,34,55,57,24,36,46,36,36,64,36,36,35,35,44,36,40,27,61,36,36,51,23,48,36,31,37,36,51,36,30,36,36,53,36,28,36,48,42,43,36,54,41,50,31,36,27,24,30,118,36,28,53,38,36,36,48,49,36,44,59,34,36,58,36,36,36,36,36,33,36,36,39,48,36,36,35,36,40,36,36,21,35,36,37,48,30,36,48,63,29,30,60,36,23,30,59,29,27,36,36,42,41,36,36,35,48,56,25,36,36,36,31,36,31,28,39,39,36,36,36,118,65,44,32,36,36,26,38,36,59,36,36,31,36,31,31,51,28,34,23,38,37,31,33,26,44,36,36,70,31,36,36,36,49,33,54,36,52,48,36,118,27,36,36,34,33,40,42,56,48,45,36,31,48,36,36,23,29,35,36,36,36,36,36,35,36,46,39,19,45,29,39,31,43,36,32,58,64,36,52,41,31,52,36,36,45,32,45,45,48,32,36,55,36,36,36,26,35,45,36,51,36,36,36,47,36,36,27,36,36,36,36,28,36,36,25,71,36,36,29,46,36,36,36,34,36,22,61,36,36,42,21,58,37,71,36,36,46,35,36,35,28,29,42,36,35,36,36,34,36,40,22,36,36,36,36,36,45,36,36,29,36,35,35,49,49,36,44,36,36,48,20,36,36,36,37,38,25,28,36,47,36,36,36,23,61,36,36,29,42,30,25,39,30,36,36,36,36,36,36,36,58,36,36,36,36,36,36,36,29,21,36,26,36,40,31,36,53,42,36,29,61,27,27,42,36,36,36,36,50,37,28,44,44,49,24,36,36,31,36,30,31,44,58,29,63,30,41,36,31,36,72,36,29,22,36,51,36,36,36,49,36,52,48,53,51,36,54,36,32,36,36,36,36,43,36,39,35,36,22,27,36,58,36,54,34,20,33,36,35,36,31,28,40,24,53,48,70,36,33,40,69,37,44,46,35,46,60,48,36,45,36,48,39,35,36,36,36,36,36,45,31,35,36,30,36,48,36,31,29,49,36,56,45,35,36,36,36,36,36,48,36,47,53,35,30,28,36,34,54,36,36,31,31,36,29,36,38,36,34,43,36,53,36,31,73,32,28,54,32,36,45,57,36,44,36,52,45,32,36,36,48,36,27,36,25,36,35,31,26,24,43,40,36,46,36,47,29,31,20,36,21,65,54,36,23,36,30,35,35,27,59,36,36,28,36,35,39,54,36,36,31,42,36,40,57,53,75,65,54,36,63,45,36,44,36,28,36,35,36,31,26,36,25,36,48,48,41,36,36,31,36,48,36,36,36,36,46,26,81,36,57,36,36,29,44,36,41,80,36,36,36,44,28,36,118,27,61,48,48,25,53,36,29,23,21,118,36,48,36,36,37,39,36,39,32,23,25,22,36,36,57,42,39,36,36,55,31,58,38,36,36,36,36,30,35,62,44,36,37,36,45,31,35,58,45,47,59,23,25,37,48,36,34,44,52,36,27,43,36,31,64,48,41,43,36,29,65,36,56,36,35,36,36,56,31,59,29,36,36,36,34,57,36,31,118,29,62,52,36,36,45,36,36,36,36,36,75,36,58,36,25,36,36,25,17,49,36,36,27,36,36,50,36,61,36,36,39,26,37,36,28,51,36,68,36,36,49,54,36,36,31,69,49,82,44,31,27,43,28,36,36,31,36,36,65,36,31,48,18,33,36,36,32,21,74,36,29,68,37,42,36,28,37,36,62,60,118,36,24,48,36,35,29,48,39,46,36,36,36,36,36,33,23,30,36,36,56,52,31,36,44,36,43,49,33,26,47,70,51,59,36,36,32,34,42,36,33,69,36,48,38,28,34,38,36,29,50,44,36,55,57,43,36,34,36,54,24,36,25,49,50,36,53,67,36,35,45,29,37,36,54,42,38,36,36,34,37,46,36,36,54,36,36,37,32,36,31,63,36,25,29,58,36,36,36,26,63,39,36,34,36,31,36,36,36,36,35,26,36,58,29,36,30,53,46,35,118,35,36,60,45,36,63,27,47,35,36,48,31,58,35,32,49,36,25,36,36,36,36,36,36,59,34,36,36,42,27,78,49,36,32,36,44,24,36,31,31,35,36,54,48,29,36,36,36,31,54,46,31,39,36,28,43,28,63,36,36,36,36,48,44,36,32,30,30,43,29,36,36,36,54,37,70,25,36,36,36,36,36,36,36,24,36,36,36,51,28,35,31,25,36,31,69,28,36,36,48,36,43,33,51,41,32,42,39,35,36,36,42,36,31,27,27,36,36,49,25,36,33,30,36,36,36,41,36,36,36,36,36,61,61,27,36,36,59,30,63,36,21,31,36,54,36,31,52,43,46,36,29,36,40,64,36,25,36,47,36,37,25,36,36,53,48,36,36,36,28,45,36,36,60,36,35,36,36,36,48,36,28,54,39,35,57,48,32,118,55,36,36,22,33,36,48,32,36,36,55,36,64,24,36,28,36,36,24,36,36,36,36,36,36,36,37,36,36,70,36,36,36,36,30,70,36,29,36,36,36,36,36,36,36,28,36,36,56,37,49,66,36,23,57,36,46,29,36,36,36,36,24,36,35,53,36,36,30,36,19,28,36,28,65,31,36,36,55,48,31,36,51,33,31,53,41,32,36,30,33,50,36,36,72,48,36,23,36,36,36,45,41,34,36,36,27,38,48,36,36,39,36,36,36,19,57,25,61,46,33,40,36,36,36,44,29,54,36,31,48,55,36,28,50,44,36,36,43,33,45,58,36,35,49,36,54,28,64,46,46,44,47,36,36,36,55,36,36,36,35,34,36,45,36,70,49,41,37,53,60,31,60,31,33,36,29,48,48,39,51,46,36,38,31,36,24,29,36,36,31,36,36,36,36,36,31,36,36,40,27,36,30,36,36,30,50,36,22,30,21,36,41,36,36,48,36,18,71,61,54,43,37,26,39,61,118,48,36,29,43,59,58,33,36,69,47,34,58,45,36,35,48,36,31,49,55,35,31,35,36,26,55,25,48,58,34,31,36,40,36,58,18,40,36,36,46,22,36,53,36,36,53,36,62,36,48,28,35,31,25,36,36,36,59,36,36,40,36,39,36,73,36,34,118,36,70,36,36,31,43,68,35,48,40,35,32,36,48,31,28,26,48,47,48,58,34,29,36,50,38,36,32,36,36,53,48,36,29,31,58,56,55,36,36,38,29,48,36,36,36,31,34,36,36,36,36,36,36,31,36,30,36,26,47,38,35,27,36,44,32,36,36,36,36,36,36,25,45,24,36,53,36,39,58,36,28,47,35,43,45,36,36,67,25,36,53,41,43,36,42,25,36,32,56,36,36,24,51,39,36,36,30,49,55,35,40,36,36,36,49,21,26,36,54,36,36,36,36,27,49,50,36,36,29,36,20,36,35,50,35,31,57,50,36,48,36,36,35,67,36,69,36,36,61,41,55,56,48,36,25,36,36,36,28,62,33,36,118,46,45,26,36,36,38,31,36,58,22,36,36,36,36,66,36,60,36,36,46,36,34,36,36,65,26,30,36,36,26,38,36,36,36,28,36,51,25,37,57,29,48,28,42,64,118,36,40,37,118,46,25,64,25,36,36,43,36,29,24,46,27,29,36,44,48,30,36,42,36,44,24,36,36,36,58,36,40,71,19,40,36,36,36,25,62,39,24,32,22,36,48,36,64,36,28,43,36,22,39,39,28,43,36,36,57,56,49,21,36,53,36,36,68,36,49,48,44,29,36,36,31,36,36,40,50,65,35,43,30,35,36,50,36,60,36,36,36,34,36,59,47,26,41,60,61,48,54,36,36,33,55,36,36,36,35,36,36,33,48,48,35,36,39,35,31,51,36,33,36,46,36,36,32,36,54,36,33,46,36,36,57,36,48,56,36,36,69,36,36,36,36,36,35,48,36,36,36,36,81,50,36,36,33,23,36,36,36,36,36,37,35,79,36,36,36,36,36,35,23,52,36,56,45,47,42,9,36,36,32,36,36,31,35,36,25,36,31,36,36,60,40,36,32,36,31,118,57,52,35,27,36,37,36,39,22,28,33,51,36,59,35,39,38,43,36,37,27,39,48,27,44,36,36,24,48,71,36,48,36,36,23,46,36,37,40,36,36,36,36,48,31,36,37,30,28,42,36,36,36,36,36,31,36,36,27,41,37,36,31,40,36,36,57,36,36,36,30,36,33,65,36,44,36,48,35,48,41,52,53,37,32,36,36,36,36,35,36,36,62,69,35,69,36,36,26,37,36,23,32,36,36,36,36,64,36,30,25,36,36,31,48,31,36,36,51,36,36,36,49,25,48,36,36,36,44,36,38,36,36,34,36,36,34,25,64,31,36,36,32,39,36,42,36,22,23,32,36,32,36,36,36,69,31,36,36,118,55,29,36,42,36,118,36,36,48,31,27,27,37,36,48,36,48,40,36,47,36,36,26,36,35,36,36,36,59,36,73,34,37,36,35,50,29,36,42,20,36,36,49,40,36,36,48,62,36,53,118,31,36,36,50,36,15,36,31,36,32,67,36,36,118,36,39,52,40,21,30,74,36,65,36,45,48,41,36,32,36,48,36,36,36,36,24,36,36,51,36,36,32,25,50,48,36,32,36,36,28,27,36,36,36,59,14,36,36,32,36,29,36,31,36,36,36,36,36,45,36,46,31,31,25,61,39,36,28,35,44,26,32,48,36,30,31,36,33,36,24,31,19,36,65,36,75,33,45,42,36,37,31,35,36,31,36,37,64,36,29,36,38,48,36,34,38,36,35,67,32,36,36,40,36,27,36,36,36,36,34,32,37,28,43,31,36,36,36,36,35,59,34,38,57,54,36,36,60,58,50,36,35,49,31,36,36,36,36,36,36,36,41,38,36,36,45,36,36,36,36,49,35,36,36,32,36,36,36,22,22,36,24,36,33,24,60,43,31,36,36,31,45,46,30,57,31,31,30,36,36,26,36,65,118,33,34,36,48,42,26,46,42,60,60,36,41,26,36,31,54,36,27,26,47,36,36,32,36,36,52,36,36,36,36,38,64,55,36,45,25,33,31,36,32,36,48,36,40,47,36,41,38,31,36,36,43,118,25,48,35,32,37,48,53,36,36,36,55,36,31,36,36,36,31,36,33,36,36,35,43,36,35,36,36,46,50,30,36,36,47,40,56,24,36,62,36,118,24,28,36,45,118,38,21,36,32,36,30,31,36,36,24,36,57,54,36,36,34,35,36,47,35,41,36,31,31,57,22,52,52,36,35,35,40,44,31,36,23,48,36,33,36,33,57,36,31,32,48,36,36,36,35,36,36,36,66,63,31,48,48,36,37,36,36,55,36,36,52,36,36,46,36,36,37,24,39,59,39,36,55,39,36,68,31,36,34,51,48,31,52,37,36,48,36,39,36,36,64,15,27,44,37,14,36,42,47,36,36,36,30,36,36,44,48,31,48,25,36,48,49,36,36,53,36,29,30,36,36,39,54,23,36,36,50,36,36,22,36,36,26,36,36,31,36,40,51,36,36,21,29,51,51,21,25,37,30,36,26,36,36,36,31,36,35,36,33,45,38,61,36,26,48,36,34,60,19,36,27,33,44,45,36,35,61,40,36,56,36,30,54,22,36,36,45,36,36,36,36,36,27,64,36,30,36,69,44,36,36,44,26,48,36,31,118,33,29,31,36,48,40,84,36,118,41,36,36,36,37,36,31,23,33,41,36,35,36,38,67,43,36,29,42,20,36,44,48,28,36,48,36,34,35,48,41,47,48,37,42,36,36,36,55,36,36,56,36,48,36,31,55,36,36,40,29,33,40,50,36,36,32,36,26,48,28,36,29,31,44,45,60,36,35,36,30,31,36,36,36,32,36,36,54,62,26,36,57,36,55,36,36,36,32,48,34,49,36,64,33,36,37,23,36,33,118,64,30,60,36,33,36,57,50,33,36,34,36,36,31,46,58,47,36,36,118,46,36,44,48,25,36,43,28,48,36,36,36,36,27,44,41,32,27,40,36,24,36,31,36,37,23,58,54,36,36,36,36,31,48,36,23,35,43,46,31,34,36,36,36,37,56,36,33,36,36,54,41,65,36,36,48,53,28,29,36,36,23,59,35,23,51,57,58,36,26,36,32,23,21,44,51,23,36,66,31,35,50,31,33,36,23,30,36,39,54,31,36,36,50,36,36,33,36,30,36,25,36,48,36,23,20,30,36,36,62,36,49,31,72,36,35,40,34,28,46,37,42,54,48,31,36,36,52,36,68,36,38,52,36,31,30,52,41,34,29,34,36,36,33,32,58,48,36,60,50,36,23,36,36,36,50,36,59,47,36,19,35,36,32,24,35,36,39,57,49,36,34,36,36,36,21,35,32,41,47,19,48,47,36,36,118,48,53,36,36,36,41,45,36,36,39,36,43,44,21,45,38,27,38,50,36,51,28,51,36,36,44,35,36,33,34,48,47,49,36,36,36,31,36,36,40,65,47,36,36,27,31,36,43,36,36,37,48,29,47,23,36,36,48,30,36,36,43,38,31,36,46,36,36,35,36,36,50,36,26,39,46,36,30,32,39,61,36,39,118,36,36,47,37,36,36,31,37,42,44,50,36,26,36,36,43,55,48,24,30,56,41,36,48,51,25,53,24,36,48,36,39,35,36,36,64,31,33,36,60,36,35,36,40,36,27,20,36,47,35,33,61,36,36,35,57,43,36,43,36,36,43,36,36,36,28,23,55,64,46,36,36,31,34,65,20,59,36,36,24,36,41,39,28,43,53,27,43,49,36,36,36,22,40,36,36,31,41,39,53,31,36,36,39,18,36,41,56,38,36,36,36,31,36,50,36,26,39,33,58,52,55,38,50,36,34,31,36,51,36,29,36,36,48,35,56,36,36,36,47,36,36,33,20,37,37,20,36,36,36,33,36,49,27,36,34,48,36,28,34,38,37,25,48,27,49,47,35,57,36,31,41,31,27,48,36,35,60,118,24,53,32,36,34,44,49,62,41,39,30,56,28,42,36,48,31,36,36,36,36,39,36,32,35,47,49,36,36,31,40,36,55,60,59,28,36,39,30,43,118,39,36,27,46,36,28,48,27,24,57,31,27,35,63,36,52,36,26,31,36,27,36,63,36,44,35,27,48,36,36,36,36,36,36,36,51,36,36,36,27,57,36,48,33,28,36,36,36,27,25,36,36,36,33,36,57,42,36,45,36,60,34,31,36,25,84,23,36,36,36,48,63,25,41,36,28,48,69,45,36,51,28,46,65,36,68,43,34,51,41,31,35,30,118,38,45,27,47,36,34,26,55,51,31,30,36,29,41,48,46,20,37,48,33,30,45,36,118,60,41,26,35,24,56,118,38,36,45,30,36,46,36,36,27,59,43,36,68,39,74,36,20,36,28,41,42,36,54,37,30,36,58,36,25,36,36,48,37,45,36,31,36,51,49,56,64,64,36,44,36,31,36,33,37,57,32,35,36,33,34,36,48,31,35,30,36,36,57,28,38,24,44,46,23,51,36,59,31,36,24,33,43,36,36,30,35,30,29,36,36,36,64,36,118,26,54,27,36,47,26,36,24,64,49,54,31,36,36,36,36,36,27,48,36,36,30,36,36,47,21,56,36,36,36,33,18,36,36,48,36,36,36,36,35,53,36,49,34,36,35,42,36,51,45,36,43,36,44,30,36,36,36,39,48,44,37,48,57,54,36,37,36,52,36,36,36,36,31,36,36,36,35,36,36,38,35,33,36,36,48,36,36,40,39,39,36,36,36,37,36,36,25,19,26,36,36,72,40,24,39,59,44,53,65,50,24,50,24,33,30,36,36,36,39,36,36,36,36,57,31,36,36,31,36,37,52,24,30,37,35,48,52,54,36,43,49,34,41,36,36,75,19,22,50,35,51,44,68,54,32,43,35,23,24,50,36,36,36,39,118,48,36,36,39,26,30,50,30,55,36,36,26,56,36,24,69,27,28,28,35,36,36,38,28,33,36,29,58,23,48,36,26,35,36,36,36,48,39,51,35,31,31,47,43,36,36,36,35,53,57,36,48,53,36,36,36,24,36,36,33,51,35,29,31,36,38,47,36,62,36,36,23,36,26,57,22,53,36,35,36,36,36,47,36,63,47,32,36,34,36,72,36,33,35,34,36,36,36,36,36,36,35,36,36,29,46,39,36,66,25,42,23,25,36,36,34,25,28,48,45,38,36,36,32,42,35,32,38,59,35,31,27,36,36,55,41,36,36,35,36,48,38,42,33,37,40,118,21,36,59,47,34,54,40,56,43,45,57,36,42,36,39,27,36,36,23,43,45,49,43,32,70,38,31,31,31,36,31,36,36,84,42,36,48,48,47,44,33,36,34,36,26,36,118,41,39,56,27,36,36,47,56,29,35,36,35,45,51,36,36,46,36,34,28,36,48,48,61,41,36,31,61,48,46,58,36,49,36,58,36,26,36,56,36,63,36,36,40,22,35,48,36,30,36,61,62,118,36,36,28,36,36,38,29,25,63,35,42,30,22,35,118,40,36,36,36,42,39,31,60,36,30,31,21,118,39,45,40,36,36,33,36,26,39,36,36,30,56,67,41,35,27,36,35,45,31,36,27,36,50,31,57,36,51,35,36,36,36,30,36,118,36,25,35,36,28,36,36,36,22,36,25,36,61,33,55,36,36,36,36,40,48,25,36,56,28,35,118,66,33,25,22,36,32,45,36,62,36,71,27,36,48,59,35,56,35,29,29,46,56,36,36,46,46,42,28,36,36,36,21,53,22,36,31,36,36,69,36,31,32,38,39,36,30,72,31,36,48,55,36,36,36,36,36,47,49,59,29,40,45,36,23,36,31,40,54,28,50,67,40,36,40,50,36,36,23,40,44,36,33,36,36,24,36,32,36,36,47,37,118,36,71,44,36,36,118,39,36,36,29,36,36,30,40,36,33,45,36,39,35,31,36,36,43,36,36,36,48,26,43,48,37,36,34,42,35,24,44,36,36,24,61,36,47,64,36,36,42,36,36,26,47,29,56,55,36,48,26,36,63,36,48,42,48,36,36,36,48,29,45,36,33,29,36,36,30,36,36,36,24,34,36,25,31,33,26,31,36,34,36,36,36,56,36,35,29,48,37,26,64,31,36,41,50,31,53,50,36,36,36,36,24,36,36,27,65,43,30,61,36,34,36,36,61,36,36,36,28,48,36,61,44,118,36,36,28,36,33,27,35,41,36,34,36,34,30,45,36,36,39,36,44,29,35,35,36,36,23,36,36,32,49,36,37,25,36,36,36,40,27,36,36,50,34,36,36,61,36,36,27,36,31,36,27,42,31,36,48,49,38,36,36,36,36,36,40,29,56,45,28,39,36,36,37,32,61,31,36,36,46,47,31,47,36,36,36,33,36,36,36,53,55,39,36,36,63,37,46,36,118,36,35,118,42,35,36,36,31,36,64,57,36,40,23,21,27,27,36,51,28,36,26,43,36,36,36,55,48,36,34,48,53,36,57,34,36,13,41,57,35,35,36,35,36,55,37,29,36,44,34,31,35,36,35,26,36,72,36,35,29,36,36,36,53,36,36,36,30,26,36,35,35,36,50,55,40,36,36,23,54,21,51,28,36,5,24,36,118,37,53,36,37,36,36,53,60,41,41,50,36,31,36,36,29,37,61,50,71,31,26,58,33,36,48,22,46,36,48,36,62,36,36,36,13,36,35,118,36,30,44,36,53,35,35,31,61,36,58,36,36,45,54,36,118,35,36,36,29,23,36,36,36,23,52,36,24,48,36,26,36,36,36,118,65,29,46,34,36,53,26,48,36,51,54,67,36,36,52,56,36,36,36,45,41,36,64,36,36,36,36,24,32,36,29,36,36,36,30,66,40,52,31,36,27,36,36,44,36,47,36,34,35,31,36,36,54,26,48,31,36,36,36,20,43,22,56,33,35,60,36,35,30,35,29,32,37,36,61,35,28,36,36,64,47,36,23,59,36,35,36,38,48,28,36,30,62,48,36,51,39,37,36,49,27,36,36,35,48,36,55,36,30,56,23,36,37,35,46,36,53,36,36,56,45,36,36,27,35,36,38,33,36,54,31,43,46,36,35,66,36,36,28,36,36,48,31,59,36,43,36,29,118,36,35,50,36,36,48,40,31,36,36,26,36,30,46,80,31,46,36,28,36,36,35,32,35,35,48,35,27,36,36,37,35,36,31,39,47,48,40,71,31,43,48,40,27,20,36,36,36,36,36,54,38,36,48,29,118,26,28,36,35,27,51,36,63,36,36,31,27,43,36,29,36,36,36,36,36,59,36,36,36,35,24,41,30,58,36,70,38,36,36,29,24,37,36,36,36,36,25,36,36,48,53,34,44,47,36,35,53,47,62,34,48,36,36,36,23,31,32,36,36,57,32,33,36,48,48,57,36,36,31,68,36,31,36,48,35,36,42,48,57,36,31,29,29,36,36,43,37,18,52,31,31,52,72,41,118,36,23,31,41,29,36,35,66,28,47,36,36,36,60,36,27,40,70,55,32,57,38,36,47,31,35,36,36,36,63,36,36,28,44,31,38,24,45,36,36,26,36,50,40,32,36,36,36,28,36,31,36,36,24,36,31,27,36,48,36,41,36,36,36,39,33,36,49,36,36,36,29,50,70,44,36,42,39,36,30,38,28,36,50,36,36,48,38,24,36,19,26,35,31,35,38,26,37,39,36,35,29,55,36,36,36,36,28,41,39,49,43,23,36,56,57,36,35,49,43,36,29,24,40,36,40,36,28,46,58,36,64,44,36,42,36,48,118,37,38,36,30,36,35,48,47,48,36,37,28,36,21,37,36,36,37,38,36,53,31,23,36,46,52,36,29,36,48,39,36,70,26,36,48,36,36,36,36,36,45,36,53,41,38,27,29,36,66,52,45,43,48,56,24,36,118,31,53,49,53,34,36,36,118,34,35,53,36,36,64,36,29,43,24,64,33,34,67,26,35,36,59,46,36,20,35,51,36,36,36,23,26,59,27,34,34,36,41,49,36,36,118,36,31,47,33,31,9,66,36,36,60,28,39,38,35,36,36,36,30,118,36,45,32,35,36,36,36,34,36,62,36,36,27,28,35,52,54,28,48,36,25,38,29,56,55,50,51,42,118,48,36,22,37,55,36,59,43,38,36,50,35,42,35,31,45,36,36,36,65,36,36,53,45,36,56,48,36,43,30,33,23,36,68,30,36,36,36,36,48,34,36,32,41,19,52,48,36,36,36,36,50,31,36,35,36,31,33,118,29,26,36,34,36,36,26,118,36,36,36,36,36,36,36,39,30,27,33,60,30,29,53,118,31,36,36,36,36,36,39,26,24,36,36,36,36,40,36,40,37,48,24,34,36,36,36,29,31,54,31,36,53,36,36,49,36,36,36,46,31,36,36,50,118,36,29,45,35,35,41,36,30,57,36,21,36,33,46,38,36,36,40,36,38,27,36,40,30,48,53,44,60,53,36,54,58,36,36,35,22,48,31,30,64,36,29,36,29,36,48,45,36,28,36,37,30,24,36,32,34,37,36,36,36,28,58,36,36,33,31,48,36,30,29,72,21,48,47,36,62,59,36,36,36,33,35,36,41,47,36,36,72,69,28,58,36,36,23,36,36,36,72,26,36,69,36,40,37,36,36,61,36,36,36,29,36,52,54,22,37,36,52,36,36,36,52,36,36,26,36,37,36,36,38,38,48,118,39,18,36,39,36,42,27,36,36,46,35,29,57,46,45,35,62,36,36,31,36,36,36,48,36,31,31,36,34,36,34,36,35,36,22,37,36,33,27,57,36,48,30,20,29,36,28,36,36,32,36,54,34,32,35,36,47,36,36,36,36,36,38,36,36,36,53,38,36,44,36,28,36,49,36,36,36,37,36,29,25,40,35,46,59,50,36,36,36,77,36,50,45,36,61,36,44,36,42,36,29,25,34,36,33,26,36,49,36,45,36,46,49,36,57,36,33,50,29,36,48,31,39,30,26,36,33,36,71,31,38,36,36,73,36,35,36,36,51,31,50,55,36,39,39,36,25,36,36,50,36,54,36,36,38,33,34,36,36,36,31,39,36,36,30,36,31,26,36,29,36,36,27,38,36,35,61,24,26,36,36,51,33,32,52,33,25,29,36,31,35,25,34,36,35,27,48,35,37,61,36,48,36,28,36,32,36,36,36,36,52,43,36,26,36,36,31,36,23,35,57,36,44,48,32,34,36,54,36,46,36,40,22,36,36,36,25,24,68,54,36,36,36,36,36,36,33,28,59,38,36,63,36,36,21,66,43,42,43,37,40,36,32,36,33,35,53,53,48,36,36,36,36,36,32,36,35,36,26,36,43,41,58,26,42,36,46,36,31,60,36,36,36,35,36,36,36,36,36,36,57,36,46,58,44,32,27,38,55,32,48,36,33,38,25,72,36,57,54,36,36,31,36,24,58,36,36,31,36,36,14,34,53,32,30,63,36,50,44,36,36,26,36,45,36,36,48,36,36,36,33,36,36,31,118,36,36,36,36,36,36,36,24,36,35,35,28,36,36,30,41,61,36,48,36,33,30,41,36,36,45,25,44,36,41,35,47,36,36,31,36,36,50,46,23,36,22,50,36,33,36,56,36,62,36,36,27,56,36,45,36,36,31,45,48,43,48,27,39,36,36,36,36,36,36,27,53,50,36,23,36,31,24,36,42,36,36,36,40,31,29,49,63,48,118,32,36,36,48,37,36,28,36,30,76,42,36,58,66,36,77,36,36,30,48,36,48,36,36,48,36,36,73,36,36,53,36,36,60,36,35,43,39,32,22,33,26,36,28,68,48,49,36,49,37,28,29,36,24,37,48,40,36,38,36,31,32,52,34,31,36,33,36,36,37,51,32,36,32,31,36,36,43,36,36,42,36,58,27,68,32,35,26,67,26,45,36,54,36,24,36,36,54,57,43,31,33,36,56,36,36,23,36,36,22,36,36,32,29,30,36,36,48,30,39,47,36,30,36,36,36,36,36,36,38,31,58,35,31,33,38,36,36,49,35,35,31,67,36,87,54,53,60,41,36,36,49,41,48,39,53,36,36,36,36,36,37,53,38,35,46,36,48,27,36,32,36,41,58,37,19,31,36,33,29,31,25,48,47,36,36,118,31,36,36,36,36,36,36,36,34,49,26,31,33,60,36,64,32,38,36,36,36,45,36,36,58,36,35,31,36,36,41,53,36,36,69,41,27,43,25,36,36,118,32,41,29,36,57,45,32,35,32,48,65,36,36,36,31,36,43,65,36,69,29,29,24,36,33,57,36,48,22,36,36,47,21,23,26,36,36,48,44,48,65,66,36,37,36,44,29,36,36,51,19,36,37,41,22,26,66,36,47,36,43,36,41,36,36,36,48,27,48,24,36,36,31,31,22,36,37,29,36,33,44,35,58,36,36,64,34,33,61,40,35,50,40,36,36,24,36,36,24,36,36,31,36,37,67,56,29,35,36,36,32,45,44,36,37,67,48,55,36,58,32,43,35,28,48,36,35,46,44,50,30,30,118,35,31,31,32,27,25,36,35,36,36,37,34,31,36,28,39,49,27,37,54,36,36,36,48,43,36,36,36,35,34,43,34,44,36,36,66,30,35,36,30,42,8,33,60,36,36,48,45,38,23,36,36,44,48,36,35,53,36,39,31,36,36,36,26,51,72,35,23,32,39,36,33,28,23,36,36,37,59,36,23,23,62,22,26,36,36,22,35,34,118,36,51,35,26,25,25,35,46,46,22,36,27,27,35,60,36,31,22,27,36,36,36,36,36,59,33,31,36,36,31,42,36,40,36,36,48,58,21,46,36,25,27,52,36,36,36,49,30,38,26,37,48,43,36,36,36,36,36,36,41,36,36,36,36,28,69,36,58,36,28,26,32,39,36,61,36,55,22,36,31,22,36,35,28,36,36,35,47,35,61,27,39,36,36,36,30,67,47,36,68,29,35,36,36,33,31,41,48,38,36,88,48,39,36,36,31,32,36,34,59,31,36,36,36,32,31,44,36,26,38,39,34,35,58,53,23,42,47,48,23,48,46,52,60,51,24,44,60,35,36,48,48,36,36,48,36,43,36,36,31,36,32,36,36,36,36,35,21,36,36,30,29,36,48,36,55,18,39,36,29,28,36,35,36,46,36,27,36,36,39,34,33,61,36,52,26,52,36,37,36,36,36,48,33,31,27,34,67,35,35,45,31,36,27,38,46,36,50,38,62,24,56,43,64,31,56,48,31,36,27,53,38,33,42,58,50,36,32,36,36,36,57,36,36,34,32,48,34,21,36,59,37,36,36,36,36,74,28,55,36,36,43,55,36,35,27,36,36,32,57,33,36,25,36,42,36,36,29,45,48,36,70,53,36,49,44,36,36,35,58,41,48,13,40,36,36,27,36,36,36,31,31,36,36,37,61,58,46,36,38,36,36,36,44,48,28,36,22,35,29,36,36,45,48,22,55,36,22,36,36,29,118,36,36,35,48,35,48,36,31,36,36,59,37,29,58,29,36,46,25,37,35,26,35,27,35,36,36,29,31,38,54,36,48,36,22,28,27,28,36,38,31,56,36,36,36,60,26,37,29,57,36,36,35,37,36,118,62,36,31,40,36,27,26,36,27,54,42,58,36,44,38,38,18,30,37,36,26,36,36,41,48,31,36,23,36,55,49,46,36,50,36,36,36,28,39,44,36,26,33,36,36,53,79,39,42,42,48,48,38,38,37,36,36,36,22,38,35,36,36,36,36,28,40,33,51,37,77,36,36,36,21,36,46,18,36,36,28,53,26,35,36,48,22,46,40,48,27,36,65,36,36,36,21,36,36,51,64,36,36,35,36,25,33,23,36,48,69,36,43,35,50,36,25,36,55,71,31,24,36,54,30,36,36,66,31,36,50,36,40,36,36,50,49,31,36,29,52,26,36,36,36,25,36,36,48,28,48,36,41,47,36,36,34,58,48,29,45,36,49,36,25,36,36,20,35,58,36,36,60,36,25,36,29,37,23,50,36,30,30,36,39,62,41,52,48,35,34,44,66,45,36,36,36,28,36,36,36,32,44,36,33,75,48,36,48,66,52,74,48,35,36,65,42,36,36,47,57,30,35,28,35,56,36,32,36,36,25,36,36,36,31,36,36,47,40,43,36,33,59,29,35,42,36,24,36,36,36,48,43,43,22,30,45,28,59,36,50,36,36,118,36,38,36,40,36,24,31,36,36,36,36,37,33,36,47,36,47,22,36,36,24,36,48,47,34,48,36,36,36,51,36,36,33,36,36,31,36,38,36,29,118,45,36,36,36,53,31,34,58,36,66,41,48,38,36,18,36,36,58,36,36,45,26,43,36,31,36,36,34,27,36,43,26,36,36,36,45,36,62,29,36,26,31,36,36,36,36,31,36,46,45,48,62,36,67,36,36,20,36,36,36,118,36,36,50,48,36,35,36,25,28,30,48,28,36,56,51,36,49,52,36,36,36,36,36,35,48,36,36,36,63,35,60,34,36,56,43,36,41,36,31,28,29,56,35,24,36,31,35,57,48,36,36,31,47,48,36,36,36,36,29,45,39,36,50,36,37,25,57,35,70,51,53,36,35,26,30,51,36,48,36,36,36,34,36,36,31,58,36,46,36,36,29,48,118,36,34,54,36,33,48,36,25,36,36,45,36,36,28,31,33,33,36,35,118,36,36,26,33,48,35,29,50,36,21,36,47,41,36,118,36,32,22,45,32,29,46,35,36,43,36,46,48,35,36,36,56,36,35,43,61,34,31,47,36,36,31,36,36,43,46,42,36,46,36,40,36,28,36,31,47,36,34,36,27,36,36,31,36,36,25,35,36,36,29,36,40,36,43,39,35,36,36,46,34,36,28,39,36,36,36,47,36,51,31,61,118,37,47,49,29,36,36,32,32,51,41,36,51,36,35,36,32,52,34,28,53,36,36,36,70,36,34,36,30,36,36,47,28,31,36,36,38,22,35,35,36,48,36,36,36,30,53,34,36,35,36,57,47,35,33,27,34,36,36,25,50,41,36,36,31,27,36,38,43,36,43,36,35,56,45,51,46,36,42,30,46,36,53,29,32,48,40,36,36,33,21,53,36,36,39,36,36,56,36,26,36,36,35,35,36,49,53,36,24,36,34,44,46,36,36,36,26,42,22,66,36,23,25,35,39,36,36,50,36,28,36,36,118,36,36,31,31,28,36,45,23,43,26,48,33,36,37,36,32,32,28,27,36,36,36,36,35,34,44,22,46,36,36,28,26,39,36,40,48,36,27,36,36,58,69,28,34,51,29,36,36,47,36,48,36,65,36,56,59,35,31,37,35,60,26,33,50,26,26,36,36,52,58,49,28,118,48,36,57,48,36,36,36,45,118,22,28,23,23,39,25,36,27,36,44,45,36,28,27,36,55,36,57,36,19,35,22,50,58,26,36,35,36,37,27,36,38,30,36,31,38,37,41,36,31,36,38,47,23,118,36,36,36,30,36,28,36,36,62,43,70,27,29,45,48,68,46,36,36,57,28,40,55,118,36,36,36,48,36,31,35,36,28,29,36,36,48,50,56,37,29,55,28,36,53,26,22,48,36,35,20,26,48,32,68,37,36,32,31,58,35,30,26,31,49,35,23,35,36,54,65,40,36,36,35,36,36,36,57,36,67,30,36,36,48,36,28,36,32,36,29,49,42,36,32,36,26,41,36,36,44,50,36,48,36,36,28,43,36,41,39,71,34,28,26,29,22,29,36,36,39,36,42,49,45,36,48,36,36,67,66,34,36,46,36,48,118,36,53,36,31,36,34,36,35,36,36,31,26,38,36,42,33,42,39,36,46,47,53,36,36,36,36,61,36,31,41,49,44,31,54,118,35,36,36,24,27,24,36,36,49,41,20,67,36,49,32,56,36,27,62,38,36,36,42,31,35,37,33,36,65,36,25,42,31,37,36,36,36,31,41,36,44,35,44,36,55,36,44,36,49,48,25,36,36,35,29,38,31,75,24,48,48,36,21,34,62,23,51,57,36,30,32,50,36,50,54,36,28,33,27,73,118,36,36,46,36,36,36,31,36,25,29,20,31,38,56,46,35,36,47,36,75,36,36,35,36,36,36,36,31,36,118,36,55,36,36,24,36,36,36,23,56,23,36,55,25,45,35,36,36,55,38,36,47,36,33,36,36,31,34,36,52,38,31,62,35,45,36,36,36,36,36,36,36,35,35,36,36,36,58,43,35,39,31,34,35,48,36,38,68,33,27,36,36,36,36,63,83,50,36,36,40,36,36,36,36,53,56,36,28,36,36,45,51,51,40,28,45,36,31,35,36,39,35,36,36,43,36,39,44,31,52,70,45,36,20,36,37,36,35,39,36,55,35,36,77,61,35,67,36,52,36,36,23,31,36,27,59,31,36,37,42,41,28,41,36,58,47,36,36,61,35,49,35,53,30,35,32,16,66,68,36,44,37,67,36,40,36,36,36,29,29,36,39,36,54,29,27,36,51,30,36,36,51,36,31,36,26,48,22,35,52,31,28,36,36,53,35,34,28,31,36,36,36,35,36,36,36,36,29,35,36,31,70,36,33,36,36,42,36,35,33,48,36,36,25,42,44,34,66,46,39,36,36,36,52,36,36,26,26,35,33,36,36,35,36,36,68,48,36,36,51,57,43,36,25,36,36,36,36,36,36,31,29,75,36,38,31,33,36,36,32,29,37,24,36,35,44,44,46,36,22,21,36,36,36,36,32,36,36,36,35,36,44,35,31,30,36,24,36,36,31,55,56,33,48,36,36,36,20,44,35,55,41,58,36,27,34,36,36,48,37,36,36,36,37,36,45,48,55,36,36,59,29,57,29,40,50,69,59,36,54,36,48,42,45,52,36,35,27,28,53,62,35,36,24,118,59,36,36,36,36,62,34,36,36,46,48,36,36,36,36,36,35,36,36,22,64,36,36,54,36,36,53,22,37,36,72,46,56,36,36,36,36,36,36,32,18,59,36,56,39,22,118,36,51,36,39,36,25,36,36,31,36,36,62,24,48,36,36,31,30,33,31,36,56,32,27,36,36,48,36,31,24,36,34,40,34,36,44,56,79,36,36,38,61,33,45,36,118,36,36,24,36,64,46,29,36,43,36,36,36,38,34,24,36,36,48,42,31,36,33,36,53,40,34,63,48,46,45,36,35,50,31,36,25,118,36,36,35,40,48,36,35,36,36,36,36,37,61,36,47,36,35,23,36,28,36,36,36,48,25,48,39,30,48,49,26,54,70,32,36,36,36,24,29,29,36,35,36,60,36,32,26,56,36,44,36,67,37,30,27,36,39,55,36,27,26,36,36,30,19,40,33,24,36,36,36,49,33,36,45,31,58,36,60,46,34,56,58,36,36,36,36,35,35,23,44,36,36,36,57,28,59,27,36,63,70,51,36,32,38,19,64,65,36,33,29,41,36,36,58,39,51,36,54,36,36,42,36,32,36,36,23,36,32,44,36,41,49,28,68,51,42,29,50,31,48,64,49,36,48,36,22,36,24,72,34,36,35,36,36,36,56,36,36,36,36,58,36,36,48,36,28,53,36,36,36,51,36,118,30,47,36,35,36,36,36,46,30,35,56,32,48,18,28,48,24,44,23,54,41,36,70,36,31,36,26,36,36,36,30,36,36,28,33,36,36,31,61,28,46,31,33,36,37,36,29,36,62,54,67,36,41,36,29,58,39,49,31,36,39,36,36,45,30,35,36,44,36,47,44,64,23,32,41,55,33,36,36,46,36,36,36,27,51,33,52,34,39,35,48,37,36,24,48,42,48,48,24,32,57,36,48,52,50,29,36,36,29,32,27,35,36,34,53,36,36,36,35,31,36,32,36,31,53,36,32,41,46,26,36,46,31,29,36,71,71,36,34,48,28,28,29,63,34,45,22,21,36,39,48,55,36,36,36,34,8,42,44,29,36,31,36,36,62,33,26,36,51,35,36,36,36,36,36,31,47,61,33,43,50,36,35,47,36,32,35,36,23,36,36,21,35,52,36,52,36,24,36,35,39,36,37,36,36,47,36,50,36,25,36,36,36,36,33,28,22,50,36,36,26,58,36,25,36,41,36,38,36,44,31,34,36,46,32,31,52,25,34,27,36,36,65,87,36,36,25,36,48,36,30,36,67,36,44,36,36,61,29,36,36,36,36,35,46,35,46,37,55,66,37,36,46,36,64,22,37,52,40,36,37,35,36,45,54,41,29,29,80,56,33,36,55,35,32,52,35,47,49,118,39,37,63,37,31,36,35,32,52,49,31,34,37,36,36,36,53,62,37,36,56,43,118,36,47,35,42,36,36,44,31,44,36,36,36,46,38,45,27,36,36,26,50,37,35,26,22,44,118,47,45,59,27,41,42,33,36,23,26,36,41,29,37,48,42,58,36,36,36,60,36,32,48,24,54,36,49,38,36,61,36,36,35,52,33,35,30,27,56,36,44,118,36,39,63,36,25,31,36,36,65,23,36,21,36,39,22,60,36,36,58,36,35,37,36,63,36,39,36,36,54,29,64,57,40,35,36,43,31,36,48,31,36,36,24,32,36,36,30,36,36,35,32,40,29,36,64,46,36,58,72,66,36,36,36,27,31,58,23,36,32,31,39,27,36,33,30,62,48,37,28,48,38,36,48,31,34,37,36,31,60,47,58,36,36,29,39,27,63,65,24,42,34,36,36,32,30,24,36,36,36,50,36,39,36,65,36,34,31,34,37,48,25,22,36,36,45,50,33,24,36,36,37,35,35,36,29,53,37,36,31,26,48,36,26,36,51,30,52,47,37,27,36,21,30,53,24,31,36,36,26,35,20,36,59,62,47,55,36,36,36,44,36,47,35,31,25,38,36,33,36,82,25,45,36,54,22,64,77,118,46,36,43,43,36,36,66,31,36,28,70,36,36,36,48,50,38,48,40,31,28,35,42,36,31,57,36,36,47,30,42,36,41,26,56,36,36,51,68,31,25,63,36,22,53,41,36,35,47,43,35,36,36,36,20,69,46,36,57,35,40,44,36,41,36,40,33,36,31,44,36,40,36,36,58,36,76,32,26,47,35,36,29,36,34,31,36,36,36,31,36,27,25,26,36,48,36,45,63,36,36,63,43,30,60,36,27,33,29,48,30,49,36,36,68,38,31,31,29,36,37,36,36,36,41,48,36,35,36,22,28,43,40,36,48,51,58,36,36,36,29,36,36,51,69,36,36,36,48,36,66,53,27,36,36,37,36,34,36,42,69,36,36,36,33,36,36,47,44,27,36,36,62,63,36,35,36,36,25,32,118,37,36,36,36,36,48,28,36,36,36,38,58,73,50,36,36,52,28,64,45,47,36,36,59,50,45,55,45,38,36,118,20,36,27,63,36,36,36,36,28,36,56,41,26,28,37,36,69,66,44,33,36,36,54,38,30,47,36,58,43,47,28,58,59,28,27,36,36,34,35,36,36,43,48,36,54,46,31,51,36,57,52,36,33,23,37,36,36,41,48,36,34,33,66,36,40,20,36,26,54,46,46,44,56,40,36,34,36,36,48,36,36,36,60,36,27,48,45,57,36,35,36,35,36,63,36,36,55,27,36,35,42,35,34,19,34,36,64,36,36,36,52,37,40,48,28,33,36,36,36,30,36,35,36,44,22,26,37,28,36,21,36,36,36,57,36,36,48,31,43,54,28,28,49,35,36,36,69,49,40,36,57,118,58,62,41,27,36,50,48,58,60,28,37,36,39,36,32,31,61,36,36,64,33,36,36,36,63,36,54,36,54,36,47,44,64,37,34,36,32,36,36,36,31,24,40,36,36,40,36,65,68,67,36,57,36,28,36,48,38,36,51,58,50,42,36,45,56,57,36,36,41,36,68,36,25,28,53,47,34,50,31,55,24,23,33,31,27,40,36,36,25,48,45,36,36,31,48,36,36,31,36,39,118,36,118,72,37,38,67,33,36,43,36,24,35,40,36,36,36,29,34,36,65,27,56,35,25,36,35,36,36,39,61,48,36,41,52,43,37,36,33,28,27,33,27,36,36,35,66,29,36,36,29,22,64,36,36,36,57,49,41,43,35,53,33,29,35,26,36,25,36,36,36,40,36,68,48,36,36,49,46,35,34,32,35,31,36,37,118,40,36,35,36,40,25,36,36,36,36,48,67,29,25,53,36,48,36,36,35,27,36,27,30,32,36,36,25,36,31,43,36,36,36,55,34,36,30,36,36,35,40,63,36,39,31,33,33,36,36,26,30,38,36,38,36,60,30,36,26,36,30,31,27,53,36,36,46,36,46,36,71,36,39,40,31,30,54,36,54,20,118,33,36,64,68,22,40,36,49,36,38,36,36,36,36,45,36,36,27,36,64,33,36,48,36,36,118,36,36,49,36,28,47,52,50,38,56,36,36,36,53,36,35,30,44,66,32,36,31,43,36,36,46,40,26,46,30,36,24,26,36,36,36,30,36,36,30,36,68,36,36,36,36,53,36,36,32,38,31,36,44,118,33,36,36,37,36,36,48,36,118,21,60,118,44,36,48,36,42,36,36,33,47,36,31,36,33,22,46,29,39,33,45,36,36,36,36,26,36,67,36,51,36,59,36,45,36,31,28,36,36,36,28,51,27,31,21,67,54,26,36,47,59,36,36,36,41,28,27,30,36,55,58,42,118,45,31,48,36,45,48,21,36,35,31,36,35,81,24,36,32,37,36,38,36,35,36,27,27,30,26,54,23,36,59,43,39,36,36,30,51,36,36,48,26,36,56,36,35,34,52,50,36,33,36,48,36,30,23,35,36,43,30,25,25,36,35,37,118,36,37,32,36,36,36,46,48,60,30,36,38,36,29,24,36,33,34,27,36,36,48,18,36,32,36,40,27,37,36,36,25,28,43,36,32,36,36,36,33,26,36,36,46,36,48,36,28,36,25,21,36,30,36,36,35,29,46,45,62,56,36,36,38,42,58,38,30,36,36,26,31,53,25,38,34,45,46,35,36,31,29,36,36,36,31,28,25,36,36,55,52,29,21,36,34,53,39,48,36,36,23,36,27,55,65,34,36,29,36,40,36,59,36,58,54,27,28,36,35,36,35,34,47,36,36,68,27,36,36,32,35,52,31,36,46,48,36,48,52,36,48,61,36,51,65,31,22,36,57,21,28,56,34,39,65,36,35,55,27,36,19,45,47,59,22,30,29,36,36,36,26,32,36,36,28,36,36,44,33,36,36,36,36,36,36,38,36,36,36,69,65,56,38,36,20,36,37,36,46,48,42,49,60,40,34,36,28,41,36,36,41,27,33,36,34,36,38,36,21,32,29,36,34,48,34,35,36,50,48,36,36,49,73,36,36,36,34,30,48,30,30,36,26,36,36,36,36,36,66,25,36,58,24,42,34,56,33,36,45,32,36,57,28,64,33,118,32,23,25,28,57,30,29,32,36,34,48,36,36,72,46,60,35,61,21,22,32,36,36,49,36,41,36,36,43,66,36,36,36,30,74,44,52,36,35,56,36,36,24,33,21,118,36,33,62,36,42,48,32,30,18,36,48,41,51,36,36,51,36,32,36,36,36,31,74,48,36,36,43,24,118,36,42,36,82,47,31,36,29,40,36,52,68,53,48,36,56,49,48,36,36,36,36,50,47,46,36,27,36,72,36,36,35,36,31,36,36,34,36,41,56,36,35,41,36,35,36,31,36,36,30,36,48,43,34,38,36,36,36,26,28,31,36,36,52,35,36,36,36,55,41,42,36,36,36,36,36,36,69,35,44,36,36,118,36,20,42,65,48,36,36,36,25,45,36,43,11,27,28,118,39,36,61,32,64,26,36,36,24,34,36,52,36,36,49,30,36,48,36,37,35,36,30,118,26,36,48,35,118,38,26,36,36,36,50,69,33,36,36,36,30,36,36,36,34,36,31,36,34,32,34,36,36,36,35,42,63,29,36,36,59,36,36,44,48,36,57,36,40,58,57,46,65,35,33,40,42,36,50,69,36,36,48,46,31,30,53,36,41,60,47,36,24,36,31,36,36,47,26,36,58,36,36,61,41,69,41,33,58,39,36,47,36,42,36,33,36,36,43,35,45,36,61,48,37,30,30,20,36,35,31,27,36,49,36,48,36,36,39,36,36,54,26,34,43,37,36,49,36,39,36,36,49,36,58,36,30,118,36,33,35,44,36,36,36,36,36,22,29,57,36,30,56,36,67,41,48,61,36,48,36,36,36,46,41,36,54,56,31,43,25,29,34,31,36,48,36,36,57,30,36,36,36,40,36,31,30,74,36,25,59,36,36,54,35,36,36,47,23,48,47,24,36,36,40,36,52,42,36,36,31,46,36,31,36,31,35,33,48,35,36,36,36,56,22,58,36,30,33,31,36,31,39,45,31,29,25,51,36,30,36,31,36,49,36,48,36,36,36,36,28,118,36,52,30,27,36,36,37,36,21,41,36,62,29,36,36,23,31,36,36,31,45,36,29,30,42,56,28,62,40,29,66,33,56,36,36,31,69,53,40,31,52,28,36,34,34,118,43,52,36,29,41,36,59,118,57,43,36,32,36,36,36,36,36,36,36,59,36,36,36,43,33,36,36,39,20,44,70,64,28,52,55,31,32,36,30,36,30,36,47,36,39,36,36,42,52,36,35,29,36,25,36,36,53,61,30,48,36,36,36,31,41,36,36,36,36,36,30,48,49,36,31,73,36,56,35,36,31,48,27,23,31,36,36,31,44,38,65,36,28,47,35,118,36,28,31,36,68,31,48,29,27,41,36,35,48,34,30,36,36,36,29,36,50,48,62,36,36,31,36,47,48,36,36,55,36,33,48,33,36,36,50,49,24,35,36,52,58,36,23,34,40,63,44,36,47,48,44,36,118,36,22,31,36,70,39,31,36,49,36,27,30,28,37,34,40,36,29,30,27,36,31,84,36,36,43,36,34,46,26,45,36,64,53,56,29,31,36,59,54,36,26,27,28,36,28,35,36,36,36,49,36,34,55,45,36,61,36,36,55,36,54,34,32,28,35,28,36,36,48,60,32,45,45,36,36,62,50,39,25,65,36,48,28,35,33,21,36,118,36,53,36,45,36,49,118,25,22,54,36,36,36,41,49,22,25,36,36,29,28,81,33,25,55,36,31,54,74,63,36,21,27,26,71,24,36,49,39,36,26,36,49,22,23,36,36,30,60,36,40,58,67,35,36,35,36,64,62,30,48,36,118,36,57,36,40,36,36,36,28,36,57,36,47,49,42,48,21,57,27,36,36,36,36,36,47,59,21,36,35,36,41,36,36,36,58,36,30,69,37,46,48,52,47,36,35,72,47,53,35,44,34,35,40,24,31,36,48,67,36,36,49,32,20,36,16,36,36,30,36,60,36,36,30,29,36,36,36,28,67,36,51,31,30,53,33,36,36,25,36,30,48,48,28,36,48,36,36,27,22,54,36,48,30,49,36,36,29,38,36,71,56,38,58,64,36,29,36,60,41,45,42,36,30,36,36,33,36,35,36,48,31,47,38,48,53,36,36,57,28,36,22,36,36,36,36,36,36,36,59,36,36,43,23,40,33,29,31,42,48,36,36,27,31,24,38,36,31,22,25,41,36,36,50,48,39,36,37,43,26,42,36,27,47,24,36,60,63,31,27,26,52,36,35,33,24,27,23,54,32,48,39,36,36,41,36,40,35,47,41,23,36,36,27,36,36,28,34,53,57,36,37,35,40,118,36,61,26,48,50,52,35,43,36,36,50,36,48,36,40,48,48,29,31,36,35,31,47,36,57,28,60,36,31,36,35,59,36,36,33,30,36,36,30,31,36,47,24,41,31,36,31,63,65,48,38,36,50,31,66,36,36,36,35,27,30,65,36,35,53,48,36,36,31,37,23,51,58,38,36,41,28,30,47,45,48,42,31,37,36,48,36,43,24,35,44,30,35,36,61,57,36,32,118,36,36,36,36,36,35,36,25,36,62,29,47,43,36,36,43,29,57,57,44,20,49,48,36,46,36,31,42,36,23,36,61,38,36,36,36,36,59,31,59,36,49,60,30,41,44,44,64,36,27,36,36,59,37,36,36,36,55,36,36,36,36,36,63,36,36,36,49,31,40,36,36,66,118,47,26,36,36,39,36,48,28,36,27,43,36,36,57,45,62,56,42,29,62,23,41,35,51,50,36,65,47,59,36,36,36,36,44,17,36,35,52,36,29,45,36,31,41,48,52,37,31,33,73,39,48,36,63,38,36,60,36,31,52,36,36,36,36,36,34,36,29,48,118,22,36,35,36,34,51,36,30,47,53,38,20,36,36,59,37,48,34,30,35,49,36,35,28,60,29,46,36,54,36,36,36,66,40,25,34,31,17,36,21,48,36,28,36,69,36,28,24,34,56,36,59,27,81,36,36,42,36,36,40,35,31,31,55,60,35,36,35,54,42,36,26,36,34,25,36,36,29,36,36,36,36,36,42,49,36,16,37,36,61,36,23,35,36,36,35,36,51,36,33,36,36,41,36,30,56,61,36,54,56,45,40,38,36,36,36,36,30,60,36,61,36,51,36,11,50,36,44,36,27,50,36,36,36,37,27,27,36,41,46,36,36,45,52,36,28,31,36,42,36,41,35,35,65,36,36,36,36,38,39,55,51,36,24,36,37,36,28,43,36,42,36,36,53,36,29,36,36,36,27,50,36,77,46,33,36,33,52,36,36,39,36,25,118,42,39,48,45,26,36,43,71,42,45,29,53,36,36,29,35,28,66,54,36,38,38,36,36,35,30,36,54,36,36,43,31,73,48,43,34,36,39,37,48,36,32,63,36,28,57,36,31,50,41,36,47,36,33,28,36,36,39,36,36,36,69,53,20,53,35,21,36,36,29,28,36,27,36,36,31,36,36,36,29,36,36,36,40,60,36,23,42,33,36,36,36,35,28,50,31,53,36,36,37,44,48,36,32,36,48,56,48,36,36,34,30,36,34,45,36,30,36,36,23,35,19,36,36,118,36,32,45,46,59,36,36,36,38,27,37,42,63,54,27,48,36,26,36,25,36,36,37,36,54,26,36,46,57,36,54,27,30,29,45,58,36,58,22,58,24,45,37,59,54,36,27,36,43,50,43,36,36,36,40,23,54,36,52,36,36,36,36,29,36,23,36,32,50,33,30,46,58,60,36,30,50,36,43,48,34,36,36,31,36,31,30,36,66,33,29,36,36,34,35,46,40,49,48,36,36,30,36,31,29,21,118,48,28,42,21,27,21,56,30,26,38,31,51,48,36,36,46,30,46,24,50,50,36,47,41,36,25,36,45,56,43,35,35,48,55,43,38,30,36,52,42,27,36,36,46,31,36,36,36,36,32,46,33,44,33,36,31,60,41,36,36,36,36,36,34,36,25,23,82,31,26,32,32,62,28,36,27,27,32,48,34,35,31,48,36,28,36,36,36,21,36,36,28,36,36,36,33,31,36,36,60,36,55,36,32,32,30,38,31,39,36,35,60,35,67,36,26,48,36,42,30,35,36,31,26,32,36,54,36,41,48,39,62,36,26,37,40,36,34,21,36,26,23,35,43,27,26,49,44,54,46,51,36,41,31,48,36,48,12,65,29,56,35,58,51,49,56,33,54,36,36,36,48,36,51,33,48,50,36,36,36,36,36,26,38,65,35,55,35,22,36,61,36,47,71,60,36,35,49,31,30,49,48,55,64,36,33,27,36,36,44,25,36,34,36,36,47,118,47,37,23,23,47,48,36,39,36,36,36,60,30,35,29,36,53,36,45,31,118,36,31,36,48,36,48,30,39,36,60,36,36,31,56,39,25,36,36,21,43,48,21,49,42,29,64,53,36,35,40,27,29,36,56,39,28,29,44,48,48,62,35,36,45,42,60,36,36,19,26,29,38,36,36,56,36,49,82,32,25,36,36,50,57,36,25,40,36,28,29,33,48,36,36,21,31,118,31,42,36,74,36,29,65,36,42,30,44,53,36,31,36,65,46,33,36,36,36,51,36,36,36,39,118,50,36,36,27,30,36,35,36,36,35,45,39,48,36,36,36,30,31,48,25,54,33,36,32,33,36,35,18,40,36,36,48,36,36,47,42,36,37,54,48,66,37,27,36,36,26,26,36,36,36,36,44,36,36,36,55,36,23,36,25,73,36,29,46,51,36,36,44,40,31,35,36,35,69,32,35,39,58,61,38,118,30,35,53,36,36,34,49,36,33,22,36,48,24,32,33,26,36,46,24,36,36,42,36,36,36,36,36,36,26,31,36,72,44,36,36,36,28,48,54,36,33,36,36,58,48,22,26,36,33,48,36,43,28,36,23,42,36,34,35,36,29,29,52,47,43,40,36,48,36,57,36,36,33,36,44,36,36,36,36,31,48,40,43,36,25,36,36,38,36,36,36,26,25,41,36,35,39,45,36,43,36,32,36,23,36,36,24,36,36,36,26,36,52,36,31,58,49,36,83,36,32,36,39,54,26,31,36,51,45,42,44,79,31,36,43,71,40,25,36,36,36,31,59,36,36,23,35,26,20,34,23,36,57,35,50,23,36,36,36,38,54,24,69,43,47,36,57,47,36,48,36,35,29,36,36,43,36,36,36,28,15,31,27,37,42,36,31,28,36,38,44,40,36,21,36,35,43,36,38,25,24,36,36,74,33,31,30,66,31,36,20,36,31,36,36,57,36,41,36,36,36,36,36,36,48,31,48,34,22,34,71,36,39,32,63,56,36,30,52,24,36,36,36,31,36,36,31,37,32,35,48,44,45,35,66,36,64,62,36,36,27,34,39,36,29,34,28,31,36,30,35,32,36,38,29,28,58,36,38,36,29,25,38,118,36,29,27,35,36,36,36,36,48,32,36,36,36,48,26,36,48,31,32,45,36,36,36,41,64,48,27,20,36,36,36,42,36,58,31,38,22,44,36,36,26,29,43,25,35,50,36,27,36,36,36,36,30,48,47,34,44,48,35,36,36,36,40,36,30,35,36,48,53,36,30,29,36,28,61,36,36,28,61,42,36,47,61,40,36,48,45,41,70,36,40,55,40,38,36,21,36,37,31,43,36,36,36,36,36,33,36,36,36,26,49,34,27,25,36,38,31,38,55,48,27,35,36,36,29,24,31,35,35,48,30,27,39,53,28,39,57,50,51,36,28,36,31,36,68,38,70,40,36,36,56,29,36,33,48,23,58,33,34,36,21,36,36,48,36,37,65,36,36,29,36,36,36,36,36,36,36,36,50,36,35,24,36,36,36,36,36,36,48,36,36,38,35,51,31,36,35,35,58,36,36,47,36,31,46,36,31,36,36,30,36,36,36,36,36,67,22,27,25,36,38,36,70,36,25,30,36,55,36,38,36,36,29,36,36,36,36,44,39,31,26,36,46,53,48,36,23,66,36,36,36,33,46,36,29,30,48,48,30,36,30,56,36,31,43,36,36,43,62,36,27,36,16,35,36,36,36,36,36,36,24,31,52,31,45,36,26,41,29,36,45,36,32,118,29,20,49,53,36,36,38,36,31,28,36,36,37,31,34,36,36,36,59,36,23,36,30,53,31,47,61,52,25,36,41,29,28,36,47,46,39,31,66,36,32,36,53,53,40,58,36,46,51,36,23,36,50,36,50,58,39,60,47,61,28,42,36,36,36,36,36,21,31,36,79,48,36,48,19,69,36,48,35,36,34,45,32,38,57,48,36,27,36,31,31,29,55,50,36,25,64,36,35,21,36,33,32,48,31,35,48,36,36,30,50,30,37,65,44,36,43,40,51,36,22,31,31,36,27,48,86,22,48,36,31,29,46,36,48,35,36,32,56,25,48,118,46,37,22,36,54,35,27,35,24,31,55,43,44,48,36,62,38,48,36,36,27,34,75,40,63,62,36,46,36,36,31,41,33,69,36,31,46,36,36,32,37,23,76,36,36,64,25,37,63,55,47,36,42,36,36,36,34,36,36,36,35,27,36,36,44,50,64,36,47,36,48,55,27,36,38,72,36,35,36,46,22,53,25,48,54,34,42,36,56,35,35,36,55,36,54,30,36,39,48,48,30,48,38,27,36,39,36,36,36,36,54,48,54,36,24,28,30,36,36,36,36,36,48,37,36,75,53,46,35,61,29,23,55,36,47,36,36,36,36,59,36,22,42,41,26,36,56,36,66,36,36,45,36,35,36,36,36,30,53,64,48,38,36,48,45,118,36,36,26,36,35,37,36,36,36,72,34,27,36,36,36,37,37,37,36,32,27,36,53,75,49,77,40,36,58,36,36,58,36,43,41,36,54,39,49,36,36,36,29,36,46,36,31,36,41,25,36,36,53,29,36,46,42,45,46,76,42,25,36,35,52,36,26,36,37,36,42,31,34,22,36,56,40,36,35,36,70,36,36,118,36,63,36,36,67,32,35,30,21,35,28,36,32,20,59,28,41,36,35,48,36,29,35,47,36,50,36,46,8,36,56,36,35,36,36,54,29,36,31,39,58,78,49,36,36,36,51,36,36,55,36,36,66,41,35,49,40,36,21,36,24,41,30,49,35,52,118,36,46,48,50,36,36,36,55,22,26,36,49,35,37,47,36,36,34,36,27,46,39,38,36,36,118,31,29,31,27,29,36,40,43,60,36,36,32,53,31,36,25,27,58,24,68,36,63,31,36,36,36,49,36,24,69,46,36,33,74,46,38,63,36,30,59,41,36,67,30,30,36,36,30,43,36,36,28,31,36,28,32,36,51,36,36,36,36,34,60,36,26,36,33,28,39,31,28,36,36,36,36,26,28,48,36,28,36,44,52,36,68,28,36,35,27,36,36,33,48,22,41,36,37,36,55,36,45,29,36,36,38,36,35,40,40,36,36,31,37,30,48,30,31,42,47,61,36,28,36,29,40,28,118,36,49,72,26,36,37,36,118,45,42,26,29,36,36,38,35,36,36,42,36,36,30,36,33,36,36,36,36,30,31,59,36,32,31,37,60,36,66,48,63,30,65,37,36,36,36,61,26,36,35,36,33,35,36,40,29,43,34,36,28,36,36,37,20,36,44,48,29,36,36,26,36,36,36,31,25,30,26,36,36,35,36,36,62,36,36,54,56,36,47,32,36,36,25,36,35,31,44,36,58,33,29,30,21,35,31,36,57,37,43,44,39,36,58,47,52,30,37,36,28,22,36,25,52,36,42,36,36,31,47,46,36,36,36,36,45,37,57,37,40,36,36,27,42,31,36,23,32,36,36,27,36,78,36,31,38,27,27,118,20,53,29,53,36,36,43,48,36,36,30,48,26,36,22,38,31,27,32,36,51,36,36,39,48,55,36,36,36,47,33,48,41,31,42,41,40,48,36,35,35,53,58,48,54,31,25,30,50,54,36,34,31,35,50,31,36,64,28,45,21,36,48,60,118,35,36,22,25,36,36,33,53,33,48,36,36,59,48,36,47,63,57,36,64,48,71,36,53,51,118,49,36,30,36,50,35,37,36,33,36,43,36,34,36,36,50,50,36,45,36,15,30,36,40,32,36,36,36,30,51,26,47,36,36,37,29,26,36,29,48,36,24,31,44,26,21,39,24,44,46,36,56,36,66,31,36,31,59,48,28,53,24,43,31,50,36,36,36,36,68,36,36,36,29,36,53,36,24,63,30,64,45,20,49,52,36,48,36,48,36,40,36,28,45,40,41,36,46,36,36,30,43,39,52,30,36,72,29,35,36,36,58,36,35,28,36,30,36,33,35,30,46,33,36,36,36,46,25,35,50,36,36,22,23,31,29,31,39,57,62,33,43,36,50,36,61,36,48,46,36,36,47,63,35,27,36,31,17,75,36,26,38,37,43,36,36,37,36,36,44,36,36,36,118,36,66,36,22,55,39,36,36,31,36,36,41,52,36,36,28,64,36,36,35,37,40,29,30,36,36,23,35,36,42,28,36,36,28,33,48,36,36,25,25,31,31,36,36,25,48,36,36,57,36,36,70,26,25,21,43,36,27,48,40,36,56,31,36,36,36,31,45,26,36,52,36,21,36,55,35,47,22,56,65,51,36,31,54,38,26,36,36,36,36,26,36,43,72,24,42,50,30,31,36,36,27,36,48,36,44,36,40,29,36,36,36,30,37,36,36,29,36,23,46,27,118,26,33,36,41,57,36,20,36,21,38,39,24,36,36,36,36,36,36,62,36,36,47,33,36,26,21,36,36,58,22,36,47,59,36,71,32,47,36,36,36,21,32,50,36,30,36,35,41,66,58,41,39,36,24,39,22,30,17,45,36,36,31,36,36,48,52,48,31,39,24,21,39,36,32,32,118,35,36,36,46,36,36,41,46,24,48,44,38,35,34,36,46,22,63,31,36,36,45,34,67,61,44,44,31,34,53,36,48,36,36,45,43,49,36,35,22,29,42,42,26,36,35,26,33,24,35,33,36,36,70,36,44,48,31,36,47,35,58,63,36,36,36,36,44,33,36,27,36,48,38,36,27,29,36,37,33,36,36,38,56,39,28,40,36,58,31,27,36,29,118,47,31,36,52,58,36,22,59,48,57,36,36,36,48,19,36,118,36,28,36,22,33,36,36,31,36,58,28,35,36,31,29,26,59,35,38,31,36,51,31,32,36,36,49,36,36,56,36,45,36,36,35,118,49,36,33,31,55,48,36,57,30,25,36,36,31,36,36,48,36,65,28,53,49,36,25,55,118,38,36,40,41,36,24,31,46,35,39,29,58,35,48,36,48,36,36,31,44,28,32,36,36,24,35,36,36,36,36,36,27,32,31,45,56,36,36,118,35,36,68,42,36,36,38,34,21,35,28,48,36,27,61,48,43,21,36,36,43,51,39,36,42,49,35,47,21,45,31,40,43,36,36,35,50,48,118,36,30,36,36,57,36,36,48,37,35,36,48,48,36,51,44,51,31,36,36,36,30,36,30,38,48,35,23,65,36,29,34,36,36,51,40,33,44,28,36,33,36,36,51,39,40,31,34,39,36,48,40,31,36,36,54,36,35,37,35,48,50,64,37,24,53,27,36,25,55,36,36,29,36,24,118,31,28,46,36,41,40,36,35,36,31,26,49,49,29,38,35,34,48,36,55,42,52,24,28,30,37,55,36,31,28,35,68,54,36,32,48,33,24,24,31,35,32,40,41,33,43,34,27,49,34,42,36,36,42,33,35,55,36,44,31,56,28,64,38,33,41,36,49,35,39,33,36,46,36,60,39,36,36,58,24,36,54,36,35,66,35,25,31,36,36,36,32,36,36,36,36,39,36,36,52,36,47,39,35,118,56,36,7,24,29,69,37,69,24,35,44,30,36,31,36,36,46,40,36,36,61,71,48,36,36,36,36,31,54,32,55,35,38,36,49,39,38,48,21,55,36,31,51,36,31,35,35,36,36,61,39,53,36,36,36,36,33,31,32,31,36,39,50,30,28,30,39,31,36,47,34,51,44,35,53,36,33,34,36,41,48,44,36,38,44,26,37,60,48,36,50,44,55,31,36,36,59,48,46,29,30,36,36,51,33,36,36,36,34,36,58,45,36,36,42,36,43,56,36,36,24,41,48,35,36,61,48,58,29,36,36,45,22,35,36,48,32,47,47,27,66,36,51,33,36,40,38,49,35,36,31,36,36,44,38,36,47,36,36,38,35,36,36,7,57,37,47,36,53,36,36,36,28,26,32,40,32,48,36,22,36,51,36,33,51,45,36,36,26,43,58,34,35,36,32,40,36,31,30,118,48,118,34,36,20,83,52,34,31,34,32,36,51,37,28,44,36,35,65,34,36,29,48,49,27,36,55,36,38,48,55,30,31,29,36,46,118,36,36,25,30,36,36,33,57,36,35,36,35,22,59,31,36,36,19,36,33,45,28,36,25,118,36,36,43,31,48,31,36,36,42,28,36,31,36,36,34,41,28,33,46,36,36,23,36,38,38,118,118,48,67,36,37,36,36,36,36,32,24,28,36,27,23,48,36,36,33,21,24,34,53,25,21,36,40,57,42,26,41,36,31,27,26,36,44,36,36,35,36,23,29,36,48,36,46,26,54,44,36,39,36,36,26,25,40,31,36,21,36,36,36,36,36,48,26,27,32,41,44,48,53,36,27,35,28,31,35,49,36,36,28,36,21,36,36,43,36,35,36,36,36,36,36,36,36,32,36,40,39,42,36,36,35,36,56,36,36,36,47,42,21,36,36,67,36,36,52,36,52,48,36,36,57,36,41,30,36,33,39,36,36,36,48,36,36,36,41,36,32,25,35,37,35,36,49,45,36,35,42,29,36,54,46,31,36,31,24,30,35,36,48,36,48,43,57,60,37,54,49,36,36,48,29,28,36,36,50,30,26,36,36,71,43,36,31,43,32,35,36,35,62,37,36,36,28,36,39,36,39,36,118,41,31,31,46,36,41,43,49,36,40,28,35,36,31,36,43,36,30,46,31,24,52,53,59,43,30,33,118,36,36,52,118,26,25,118,36,27,36,36,49,35,36,41,51,36,36,47,36,47,36,36,52,51,48,48,36,25,30,74,36,36,42,62,37,36,31,36,36,36,33,43,53,46,51,36,34,37,32,46,36,31,23,36,34,36,36,29,36,36,36,36,53,36,53,76,35,50,36,36,36,48,47,36,36,36,36,36,36,30,29,36,44,22,27,36,35,60,36,35,36,36,32,31,36,38,36,51,48,53,79,29,29,45,36,36,34,53,36,36,70,36,36,48,48,71,36,45,36,27,29,49,38,23,55,30,31,44,22,27,38,36,31,41,28,36,36,37,69,36,36,60,32,36,36,36,36,34,58,43,36,36,118,32,46,35,66,55,36,29,36,39,47,35,29,36,36,36,36,36,60,26,36,36,60,36,35,50,36,36,46,71,36,36,50,48,31,38,36,20,36,31,44,49,38,38,66,42,118,36,40,36,32,38,36,67,36,69,50,31,40,26,35,23,26,35,48,26,33,25,35,30,36,36,67,36,43,36,42,36,36,39,40,36,29,41,36,74,36,35,36,36,50,32,36,46,31,60,36,36,36,36,48,40,55,31,33,28,30,37,31,29,31,31,36,50,36,47,36,36,66,54,29,35,36,47,40,40,36,46,31,36,36,35,28,61,36,36,31,50,31,33,26,38,36,36,47,36,57,31,36,56,26,58,28,46,32,35,54,32,36,44,45,36,35,55,48,44,118,46,36,38,36,36,29,36,36,31,31,35,36,36,36,24,36,38,36,52,41,36,46,36,42,36,31,16,36,35,35,31,29,65,36,51,70,53,50,54,24,42,52,33,44,48,68,36,39,36,36,36,47,61,36,25,36,40,31,64,36,63,31,33,33,22,48,36,24,37,32,24,36,31,21,44,27,35,57,47,37,54,60,36,52,36,36,47,61,26,40,46,36,51,29,36,38,37,48,52,26,36,39,42,36,36,36,36,36,40,36,45,20,118,40,62,43,31,32,35,36,53,36,36,28,36,78,41,36,34,57,48,36,48,47,56,36,48,45,36,48,36,28,44,33,51,36,26,36,57,24,30,49,36,73,36,33,36,36,36,27,31,18,28,36,36,76,55,36,28,30,50,36,36,41,66,36,54,36,36,36,30,39,36,36,31,36,57,62,36,31,36,28,36,38,29,35,36,31,44,60,23,35,36,48,45,39,36,33,36,118,43,49,36,36,36,44,48,39,40,51,36,26,36,36,65,37,39,36,35,59,36,36,45,48,26,35,26,30,43,27,36,48,29,36,36,40,36,34,36,36,27,48,118,36,34,36,36,36,36,34,42,36,36,25,42,31,36,66,31,36,48,36,26,37,58,36,36,50,36,27,36,60,48,46,62,47,31,32,36,36,35,37,32,31,36,23,36,36,47,7,36,49,27,51,36,36,65,36,25,56,33,36,36,37,36,36,62,57,39,44,55,36,33,45,39,42,36,72,33,44,55,45,37,28,36,33,48,37,36,33,48,55,36,32,38,36,22,31,35,36,47,36,30,61,36,25,48,40,36,33,30,36,46,39,48,74,36,27,36,36,25,36,31,31,36,36,59,48,36,37,34,53,36,36,27,37,55,43,51,36,23,73,36,35,35,28,36,49,44,48,35,48,36,36,31,43,36,31,34,31,29,24,36,28,36,41,21,53,46,31,35,36,36,36,36,48,22,35,29,33,26,21,39,36,28,36,54,56,36,25,44,36,54,36,24,26,35,27,46,46,64,36,36,38,36,29,76,36,36,28,32,64,36,23,56,36,36,47,36,35,36,41,36,28,49,36,36,44,36,36,35,63,36,44,118,36,46,33,29,45,38,25,32,36,35,45,36,40,69,66,56,36,49,51,46,36,31,36,40,51,57,31,40,41,36,27,24,42,42,34,34,34,36,36,38,38,31,46,36,36,42,36,30,36,36,36,41,36,36,36,62,31,40,31,53,36,57,36,36,25,36,36,36,35,43,64,46,36,49,36,36,37,28,36,25,45,36,36,36,30,36,29,118,34,36,31,36,43,36,37,29,27,36,36,33,24,36,36,118,38,29,38,36,49,36,39,56,52,36,22,36,35,34,32,36,39,36,25,34,36,32,39,36,36,36,58,35,32,39,58,36,36,40,46,27,44,36,36,55,35,36,42,66,36,32,36,54,51,52,48,59,28,44,46,36,36,36,27,40,22,32,36,32,82,36,42,41,36,36,36,36,26,31,36,26,36,36,51,50,30,26,31,27,58,72,36,47,26,47,36,31,47,42,55,41,33,38,36,36,43,45,23,36,36,33,36,30,23,36,32,36,55,36,48,58,40,36,59,41,52,36,47,27,48,118,36,31,36,36,48,36,33,31,68,20,33,36,36,36,49,49,118,36,27,31,36,36,36,36,36,32,31,60,48,36,64,118,36,31,49,29,35,27,39,31,48,38,36,36,30,28,36,36,30,36,45,36,36,65,36,34,36,29,48,37,48,36,54,32,36,40,36,29,32,36,47,31,36,32,36,53,47,47,36,50,35,26,36,26,52,36,36,118,31,36,36,42,24,36,36,36,36,36,36,36,28,53,51,26,36,36,46,49,44,22,34,36,35,26,56,32,29,36,36,36,66,37,30,56,28,40,30,45,45,36,36,30,64,46,54,36,36,36,31,36,46,31,26,71,30,57,54,36,61,118,51,57,36,23,23,57,36,48,28,36,31,36,34,23,44,53,51,36,46,48,61,53,64,54,36,22,36,21,35,36,36,30,36,41,36,36,30,34,31,44,25,36,36,118,47,59,36,36,55,68,36,55,31,36,59,34,45,36,50,32,38,65,36,36,53,36,31,36,36,31,31,21,46,54,37,36,118,27,36,27,36,31,36,35,42,36,55,57,36,23,52,48,37,36,53,36,36,63,36,36,34,48,36,36,21,36,21,48,36,35,35,48,68,29,36,36,23,52,36,38,36,35,35,60,28,36,36,40,36,54,36,72,29,46,62,34,36,36,36,55,36,31,35,36,35,41,66,36,26,40,25,36,29,30,36,36,36,47,43,36,36,59,45,45,26,50,35,36,36,36,36,36,36,26,32,37,47,36,47,40,30,52,54,36,36,58,55,36,52,35,36,36,28,51,22,52,32,29,32,54,36,44,36,35,41,31,79,24,39,36,26,37,71,36,53,39,34,33,39,19,42,37,36,38,22,70,35,34,36,36,32,22,39,36,36,36,28,31,27,36,34,36,53,48,53,31,36,41,36,36,50,56,48,36,29,39,59,30,35,36,52,36,62,36,26,36,51,41,39,36,36,36,31,26,23,36,118,48,57,32,35,36,30,42,20,24,71,38,42,36,31,36,87,24,36,36,36,31,28,36,39,37,31,44,49,35,36,34,36,36,36,41,28,36,24,36,35,36,20,31,28,36,33,36,36,31,35,59,36,33,30,30,52,38,36,27,24,20,36,26,33,50,44,24,32,33,36,36,36,30,55,45,30,36,30,36,23,35,118,43,42,43,21,36,36,31,34,36,36,34,54,36,36,33,36,36,40,31,36,36,36,64,32,36,29,26,31,44,55,36,36,42,35,46,36,37,36,37,36,36,41,36,36,36,36,34,44,27,48,36,36,48,30,36,65,36,36,36,60,21,35,36,34,24,61,46,31,50,36,31,36,36,36,40,61,40,28,36,44,36,36,31,35,36,36,42,36,45,36,33,36,48,25,26,53,55,27,36,44,36,25,36,44,25,28,56,39,36,36,36,28,30,48,28,36,36,29,36,35,69,53,19,66,39,118,36,33,40,42,49,27,22,36,30,36,36,66,36,36,31,49,36,69,63,36,42,42,42,55,35,34,35,36,36,27,29,50,51,58,36,29,118,31,47,36,20,32,36,54,36,42,62,26,40,37,36,64,36,56,31,66,36,33,40,39,52,18,36,36,45,22,36,27,36,36,36,33,55,35,57,32,38,36,66,29,33,36,44,27,36,22,36,36,36,31,36,36,38,32,60,36,36,36,36,38,48,36,28,75,48,36,50,36,58,43,36,26,29,23,36,36,45,30,35,51,35,36,45,39,59,38,41,25,35,52,50,36,34,48,36,58,26,36,36,48,31,34,41,23,33,44,36,26,58,27,36,36,65,42,27,36,36,25,36,26,48,39,26,54,36,45,25,35,33,64,36,60,48,36,37,36,36,64,54,36,54,36,36,32,36,36,36,36,18,36,63,36,31,22,36,44,36,42,36,29,36,36,33,36,55,48,48,44,35,23,34,26,50,37,31,32,57,36,36,35,53,25,36,36,36,36,80,36,36,35,31,36,45,36,34,56,29,36,36,39,26,58,61,30,32,35,36,40,29,32,40,36,36,28,45,45,36,39,36,49,36,36,36,45,36,36,31,33,36,44,44,48,25,36,36,118,36,61,49,44,26,36,35,36,25,36,36,28,36,42,73,41,54,30,36,62,36,51,53,36,42,36,31,26,29,22,46,39,40,44,59,34,36,60,68,48,53,28,37,35,36,60,30,36,48,30,36,36,36,40,40,36,36,52,36,48,36,36,40,35,31,53,36,36,57,24,36,48,36,30,36,36,36,36,51,27,33,24,36,60,36,38,60,46,36,35,43,36,34,36,36,24,36,36,36,54,36,44,46,44,67,36,24,34,57,36,36,36,36,36,36,45,70,36,36,60,36,36,36,31,36,47,36,55,35,42,41,31,36,36,30,36,44,118,31,28,35,36,31,33,36,30,46,31,31,36,36,36,36,41,31,36,62,30,29,39,36,36,44,24,36,19,46,36,44,36,118,34,39,23,36,36,29,53,36,36,36,37,36,26,36,36,36,27,51,57,23,36,58,52,26,65,38,35,35,36,43,36,31,36,28,36,36,47,28,36,31,31,41,36,36,40,36,48,29,55,20,36,36,41,36,36,36,69,21,36,45,36,36,37,31,46,33,59,41,24,36,26,36,25,36,33,63,49,29,51,35,34,36,42,36,23,28,36,61,35,35,65,53,48,26,22,36,38,36,36,49,38,53,36,43,34,36,36,36,36,36,48,21,50,31,74,36,36,44,40,64,36,31,30,48,42,30,40,28,36,37,33,36,31,53,34,36,36,36,36,36,23,56,36,36,36,36,36,35,45,36,36,46,36,63,35,35,27,28,31,47,41,37,42,24,33,36,36,41,39,57,36,31,48,37,65,29,28,25,36,36,36,36,118,36,36,29,36,34,25,36,36,36,36,31,36,37,62,48,31,36,31,37,36,25,26,43,46,33,49,35,34,56,43,42,36,28,31,27,50,31,62,36,30,36,30,37,56,36,33,36,24,27,37,36,34,36,36,50,56,44,56,36,36,35,36,36,57,58,29,36,30,29,36,36,40,30,36,118,55,36,28,36,40,36,29,23,68,36,31,30,57,62,20,36,61,35,48,54,45,24,36,36,36,35,36,34,24,36,36,36,48,37,36,43,48,36,51,36,48,26,70,36,40,35,63,36,38,62,53,34,27,30,22,35,36,73,36,31,26,60,36,33,36,30,36,36,49,38,36,35,36,36,48,22,30,35,31,36,36,28,44,31,36,38,51,21,31,61,36,39,36,67,64,33,49,36,41,35,33,30,53,38,59,36,36,36,36,36,65,36,56,42,22,36,26,48,58,38,30,36,71,36,83,36,55,52,35,28,21,62,36,39,30,38,41,47,36,71,36,35,47,36,32,27,36,62,38,36,34,36,36,36,24,42,45,118,41,36,36,31,36,36,40,36,29,26,31,48,44,50,23,36,33,28,36,35,42,36,36,31,36,64,49,39,36,57,33,41,36,31,31,36,36,54,36,29,36,42,48,48,50,58,42,36,36,36,38,36,48,48,75,31,34,36,36,35,25,42,47,36,31,51,36,33,48,49,36,40,57,43,36,36,51,36,36,36,36,56,36,36,43,118,32,36,62,61,36,40,31,70,28,26,60,36,32,36,36,32,40,36,36,36,44,36,36,30,61,31,53,24,61,59,36,36,37,32,36,63,36,35,36,44,36,36,36,39,30,60,36,53,61,57,36,42,58,36,36,36,28,50,36,45,48,27,44,44,45,35,36,26,36,36,36,58,36,31,52,36,44,26,37,69,47,36,36,33,51,40,46,67,36,48,26,49,36,43,30,36,45,36,36,36,31,31,47,31,27,49,34,44,36,38,18,36,27,36,31,36,47,37,71,36,36,36,36,36,36,36,36,46,36,30,50,36,33,29,55,20,24,49,55,23,25,45,36,51,44,59,44,56,118,34,55,36,23,31,34,48,40,35,39,33,46,30,36,54,30,38,37,36,36,20,48,41,36,36,65,36,28,39,36,24,36,36,41,36,36,36,36,36,36,36,41,36,36,39,32,32,36,36,36,53,53,30,24,44,43,36,33,36,52,36,42,36,29,42,36,36,41,62,36,36,36,51,51,61,28,48,27,36,36,36,64,36,27,32,40,36,36,36,36,36,28,29,40,36,64,61,41,30,69,61,46,21,35,32,24,36,54,36,36,36,36,42,38,41,29,40,41,36,27,36,31,38,42,36,31,68,58,36,50,49,36,48,36,36,36,36,48,32,52,52,31,35,37,29,24,30,60,53,58,24,59,48,29,39,36,48,36,36,28,28,41,36,22,36,31,61,28,37,36,36,36,31,51,38,40,35,36,36,41,48,36,43,51,27,46,26,36,49,37,36,35,31,60,48,25,36,34,36,36,36,29,56,36,23,47,36,36,35,55,118,48,36,36,45,36,36,31,31,118,62,36,51,75,41,26,23,36,118,26,52,36,48,39,21,64,30,43,36,30,36,36,14,27,48,36,36,35,47,31,30,60,31,36,55,28,52,22,36,57,67,24,48,36,36,45,59,49,44,23,36,36,33,25,65,44,33,31,29,31,30,36,47,56,31,63,43,37,45,36,36,36,49,31,36,36,36,33,47,38,36,21,28,44,30,46,48,28,36,52,26,31,24,36,34,36,36,39,31,34,40,52,36,36,39,60,36,48,30,36,57,51,36,36,36,25,22,43,35,31,78,33,44,54,72,42,48,31,52,40,25,36,48,36,44,48,38,36,35,36,36,41,46,47,52,41,26,49,22,57,46,36,36,51,34,29,34,35,36,26,40,25,36,45,39,28,36,36,54,36,41,118,36,26,51,34,54,36,31,39,51,32,31,36,36,36,36,19,30,53,36,40,36,36,56,36,36,36,20,73,36,36,27,52,27,48,36,26,31,21,36,51,62,36,64,56,37,30,36,29,39,43,49,36,36,36,44,29,22,36,52,72,36,37,33,39,44,34,36,33,47,31,35,30,56,50,36,36,37,64,42,63,36,42,52,49,39,48,33,36,28,41,54,36,31,36,38,36,36,48,40,36,53,36,35,36,36,32,57,36,36,48,36,36,38,36,54,45,36,33,36,36,36,39,28,36,30,42,48,51,36,35,52,36,36,48,27,28,28,36,42,52,59,54,46,36,36,31,36,17,43,36,31,31,54,31,36,32,39,45,31,48,31,23,66,38,43,61,65,36,36,33,33,36,36,118,55,33,33,64,36,36,49,39,36,35,36,15,54,118,36,41,52,33,36,38,36,31,36,36,36,36,49,35,36,36,29,48,27,28,29,118,36,62,27,56,35,36,36,36,22,30,36,36,45,36,87,36,36,36,35,36,38,36,57,38,36,35,30,36,22,34,27,36,36,26,64,40,36,33,37,36,36,25,36,46,26,36,28,58,37,36,48,50,36,36,30,26,36,61,42,36,31,36,55,46,66,28,36,40,36,36,40,42,36,25,22,36,36,36,36,49,39,56,27,34,48,36,72,36,36,55,71,41,56,33,36,35,27,27,56,56,118,36,25,36,48,36,43,43,36,48,36,31,65,31,38,36,40,36,58,36,31,48,35,24,30,55,28,36,60,71,56,36,36,36,36,48,36,25,36,56,48,29,48,48,34,43,36,28,51,36,48,36,36,36,31,36,39,62,36,36,48,30,35,73,36,36,36,36,64,38,43,58,67,34,25,54,35,27,36,26,46,36,48,45,28,36,42,48,28,43,28,36,40,52,35,36,64,36,36,73,56,36,20,36,36,25,36,44,57,37,27,36,63,46,31,25,36,28,25,34,43,36,36,36,47,48,43,35,62,36,44,33,36,36,36,25,36,48,35,35,50,33,36,26,29,36,42,35,36,36,28,30,36,58,40,43,55,36,36,52,36,36,48,31,46,57,36,36,48,60,36,36,50,34,33,36,36,35,37,76,29,35,36,36,27,49,22,35,36,36,36,31,36,41,39,36,36,31,45,50,24,36,36,36,36,28,42,54,24,40,31,36,42,36,48,35,25,51,30,47,36,25,55,34,38,67,36,43,36,23,25,36,50,36,47,36,36,47,56,21,36,32,45,36,27,36,36,53,16,36,36,27,41,36,27,50,30,36,23,36,31,50,35,30,34,61,36,36,53,35,48,28,34,59,36,29,74,25,36,36,31,32,29,36,22,36,27,36,43,33,27,64,45,36,36,36,36,39,36,51,36,31,58,35,35,46,56,32,30,31,22,36,23,36,36,36,36,39,36,38,36,36,41,36,36,28,36,36,36,60,36,36,46,47,56,36,35,46,47,36,28,19,64,43,22,25,44,118,36,36,40,35,33,36,36,36,39,36,69,36,36,36,36,59,31,49,81,24,47,37,36,42,36,51,52,36,36,36,49,38,60,24,36,55,33,22,32,49,36,26,36,73,36,36,36,36,42,36,36,23,61,36,38,25,30,36,52,36,36,34,42,31,24,34,35,41,36,36,36,50,36,43,36,33,36,36,36,31,118,31,45,43,16,36,36,34,32,36,36,36,59,63,48,28,54,54,55,36,62,46,41,37,71,36,26,45,14,31,28,36,36,59,51,31,56,26,32,29,36,36,33,118,36,43,37,63,48,43,28,33,118,118,62,54,36,33,36,38,46,36,67,31,48,36,61,48,61,36,26,36,36,54,31,37,36,25,36,36,36,36,36,38,27,31,36,36,36,31,71,36,36,37,28,36,38,48,34,36,60,36,36,50,41,35,32,36,22,30,30,44,36,36,42,51,36,36,36,46,21,55,36,36,48,118,41,45,48,56,118,36,49,36,36,21,36,36,50,36,36,24,31,36,26,33,58,32,36,36,53,19,24,36,36,36,34,36,36,36,36,36,29,56,52,36,66,27,60,33,36,36,36,30,36,30,50,42,36,36,36,35,36,36,56,36,36,78,61,57,29,41,36,31,36,36,29,31,29,26,51,35,30,32,36,36,45,36,27,36,35,36,36,36,46,40,36,36,48,36,42,36,21,26,38,58,36,36,36,43,58,53,36,36,36,22,52,118,35,53,36,31,36,24,29,35,36,36,35,52,40,36,36,30,31,32,29,36,40,36,33,36,26,36,60,58,26,34,71,46,61,34,36,70,36,27,36,36,42,62,65,48,34,36,25,118,50,36,31,118,32,36,55,48,74,48,36,59,35,48,36,36,31,36,25,36,35,48,36,36,36,36,29,36,30,17,49,60,36,28,45,67,36,73,36,36,36,36,36,43,36,65,39,48,43,35,36,36,36,31,55,48,62,21,36,33,42,34,27,43,36,36,31,43,32,59,24,36,47,36,24,36,36,35,36,36,35,45,36,33,48,41,32,36,36,31,49,47,39,24,36,36,38,20,48,29,48,36,36,31,36,36,24,36,37,48,36,118,36,36,36,36,36,53,49,31,27,57,31,40,36,65,36,30,27,36,36,44,49,36,31,26,59,33,67,36,36,41,36,48,36,58,45,36,118,32,35,36,47,36,40,59,118,30,47,40,72,26,36,34,36,34,44,36,41,37,64,35,36,36,48,80,32,49,36,31,35,36,53,35,66,26,31,36,53,70,36,36,38,49,36,28,36,42,32,62,36,37,23,48,29,36,36,43,33,36,36,35,34,36,22,48,36,49,28,30,35,33,36,38,27,49,70,40,60,28,29,42,42,36,63,27,48,31,56,32,22,36,43,20,36,36,36,62,36,33,33,24,36,69,30,37,48,36,36,20,55,23,36,36,51,44,27,36,36,20,48,36,21,36,23,49,30,36,59,35,36,36,36,35,36,26,52,36,36,36,27,52,33,54,48,82,36,36,29,56,40,34,36,36,64,36,36,36,31,36,36,28,36,36,36,36,46,31,32,46,58,36,62,36,37,36,36,36,26,69,36,31,36,36,20,49,34,35,32,36,35,36,53,38,50,36,70,57,33,36,44,43,61,36,36,62,35,41,62,36,35,59,21,36,24,72,23,36,32,35,36,41,36,36,51,43,28,41,41,31,51,72,36,21,36,36,48,36,33,118,32,55,37,32,45,48,36,69,54,36,36,39,36,36,36,22,36,35,36,59,52,36,53,45,44,44,36,45,48,36,31,26,45,36,36,36,20,33,31,36,35,36,25,27,48,21,36,48,36,36,48,48,36,46,50,25,31,32,59,29,39,39,36,36,36,36,36,39,31,36,48,36,36,54,39,45,31,36,36,36,27,36,42,29,36,61,36,30,51,48,36,36,31,36,34,35,42,39,36,30,18,34,43,44,40,35,35,65,23,118,58,39,31,36,44,22,46,35,46,37,28,67,62,44,25,61,29,36,65,39,29,53,24,72,69,36,31,36,36,32,36,39,21,32,36,31,36,40,36,26,36,36,35,69,36,31,35,32,37,39,22,27,32,36,67,54,36,36,36,34,59,26,29,36,30,118,36,23,43,36,37,26,36,35,39,36,32,38,30,48,36,36,36,68,57,33,22,18,36,36,66,48,47,37,36,33,36,53,46,69,36,36,27,39,36,36,27,36,48,33,36,59,48,47,45,36,41,49,36,36,31,36,61,42,36,36,42,31,32,26,36,43,26,36,37,36,31,36,55,38,35,43,36,56,36,34,50,28,55,27,39,69,61,36,21,47,29,33,45,37,44,47,57,37,36,36,47,36,63,42,31,36,50,37,32,36,26,36,36,29,35,39,36,44,36,47,36,24,35,118,36,75,29,52,54,36,36,45,35,36,36,36,118,56,36,52,36,36,29,45,36,24,28,31,37,51,28,36,36,55,35,27,36,36,36,36,33,36,41,34,22,34,41,26,52,70,45,36,38,48,43,34,37,48,36,36,41,32,29,57,30,58,48,28,36,32,28,36,36,67,29,36,36,25,48,36,36,36,43,36,58,43,36,36,29,46,45,29,41,49,36,48,53,38,57,36,34,36,36,36,25,36,36,51,56,64,50,36,32,48,31,22,20,36,36,52,41,35,25,56,21,37,31,41,36,36,34,36,28,45,51,41,36,32,46,22,36,36,33,21,22,36,55,36,39,79,36,32,47,36,36,43,35,48,29,36,36,54,36,36,31,36,39,36,23,29,36,61,63,36,38,36,51,44,37,50,47,36,58,29,49,35,36,22,118,25,36,22,23,27,35,37,36,29,56,32,71,38,59,41,53,36,56,36,51,48,35,47,62,52,36,36,36,46,36,36,37,61,36,42,36,36,36,35,36,36,41,26,62,35,28,30,36,36,27,57,36,54,36,52,22,26,38,29,27,24,36,44,48,36,47,36,36,33,57,36,36,36,22,36,36,31,36,51,30,36,70,36,36,25,63,27,51,45,36,26,30,36,34,31,49,29,29,31,53,46,69,35,36,29,44,36,29,36,36,25,39,50,66,36,57,60,48,36,51,37,33,46,36,38,36,22,36,35,61,25,36,42,36,36,37,36,36,36,48,35,30,36,48,33,36,36,36,55,36,35,29,36,36,21,37,31,22,25,48,62,36,35,36,58,36,22,42,54,36,60,27,36,36,36,36,25,36,28,25,26,36,31,55,36,36,36,35,61,29,32,64,35,36,43,27,51,63,27,61,36,30,57,36,24,36,49,48,36,54,22,31,36,36,36,48,49,38,51,36,36,30,30,34,41,60,57,52,36,36,36,36,30,31,35,69,20,36,38,39,25,27,37,34,36,39,38,36,36,36,53,36,36,36,36,30,44,38,36,36,49,35,47,35,25,44,36,36,45,27,35,26,118,26,39,36,62,27,24,45,35,36,29,36,45,20,36,36,42,28,31,36,36,34,35,26,41,64,34,43,25,36,24,36,43,48,39,33,23,36,36,53,36,69,36,46,36,30,48,118,36,27,57,31,53,36,36,27,36,33,25,31,36,118,41,59,41,32,31,48,31,55,40,36,47,29,36,43,26,33,35,36,30,32,59,30,36,28,36,53,42,26,36,36,24,36,48,36,36,36,36,45,35,44,36,25,36,36,61,47,57,36,36,36,36,25,36,58,35,58,47,22,56,37,47,36,56,36,36,41,35,35,49,36,36,34,31,54,36,28,35,57,36,35,47,48,65,36,27,37,36,36,36,54,26,29,51,31,36,36,36,51,52,19,37,84,36,35,68,36,46,63,36,52,22,26,30,63,49,36,24,36,36,36,36,36,71,36,23,27,36,34,48,44,33,35,22,24,43,36,36,36,36,36,42,51,52,61,58,36,31,47,36,26,58,33,25,34,36,36,51,36,68,53,30,48,28,31,57,36,48,36,36,36,71,63,36,36,36,69,66,36,36,44,37,36,47,43,36,43,36,43,40,31,36,31,20,37,118,48,42,36,56,36,36,30,69,49,36,45,22,36,36,36,36,36,26,34,33,28,67,48,42,62,36,35,36,48,48,44,74,37,41,35,28,75,22,25,23,36,62,42,41,46,36,36,27,29,42,29,118,36,36,36,28,39,63,50,39,43,25,30,36,36,20,28,28,36,36,36,26,36,36,36,59,32,36,36,28,47,36,31,61,37,31,35,49,32,36,36,38,43,49,53,66,118,45,36,36,51,49,36,36,83,36,36,53,36,44,36,42,27,36,35,31,31,36,31,41,55,48,36,36,71,56,36,41,32,36,36,36,26,43,37,36,36,31,36,50,42,55,28,31,36,62,52,53,36,62,26,27,55,34,44,43,36,32,38,46,36,73,36,35,36,36,39,47,65,10,31,50,36,24,31,36,51,36,35,35,36,48,56,31,36,36,36,36,44,32,47,31,26,66,36,36,31,38,118,46,36,56,46,63,50,36,35,34,65,23,31,36,66,33,37,42,70,32,28,36,49,51,36,36,45,36,22,66,34,59,25,26,29,36,118,32,36,36,41,36,36,36,36,43,36,63,36,36,63,36,36,28,55,36,31,36,78,36,31,45,53,54,49,29,64,36,51,39,25,24,2,31,43,36,57,49,25,49,36,35,33,27,48,36,37,24,36,36,31,36,32,36,66,36,29,36,66,48,67,57,27,13,36,36,45,66,25,36,52,36,51,36,31,28,36,36,31,36,36,30,36,52,42,35,37,36,72,36,21,48,32,50,36,47,36,48,36,31,50,36,64,36,49,23,35,36,36,31,37,36,48,48,39,26,40,36,45,30,26,33,38,36,27,36,24,35,35,36,31,33,36,35,36,36,60,27,36,35,32,118,34,44,36,36,36,36,44,36,36,31,36,19,36,29,36,36,36,31,31,36,36,38,36,52,36,29,36,36,36,45,50,36,70,31,35,35,38,36,36,28,36,48,48,65,21,42,36,36,73,30,34,118,36,72,31,36,29,118,36,32,36,40,36,43,46,36,36,33,39,48,86,36,39,38,36,32,23,36,48,28,48,42,48,36,49,31,118,60,40,41,21,32,45,36,36,31,35,23,36,31,36,43,36,52,29,36,36,36,31,36,31,36,36,39,41,59,36,33,39,36,63,78,31,28,48,36,36,43,41,27,36,36,22,32,43,36,52,37,36,38,69,43,31,58,36,35,36,36,26,25,31,38,36,35,28,67,63,63,31,29,39,59,25,48,44,51,36,52,35,36,36,36,36,21,48,36,35,36,36,48,51,35,21,35,36,36,25,61,22,45,36,33,30,31,40,36,36,36,36,36,31,31,49,31,58,67,36,36,42,41,29,32,36,48,36,21,56,36,54,36,38,48,36,35,28,36,42,40,58,22,30,36,41,33,35,61,54,25,26,35,34,26,36,45,30,31,31,48,55,30,48,26,36,29,21,36,31,23,36,36,38,36,48,51,40,36,36,36,36,38,36,42,48,36,43,61,42,31,36,37,44,35,31,31,40,24,36,23,36,36,36,36,31,53,36,47,24,59,36,57,33,22,36,36,38,36,30,36,36,36,45,30,66,24,20,30,36,36,33,41,57,36,36,40,36,39,36,36,36,37,48,36,45,36,27,42,42,36,54,27,48,42,35,36,39,28,48,34,36,36,61,45,36,24,56,36,36,34,44,38,56,36,72,44,36,45,36,22,48,53,43,36,59,47,48,40,46,36,36,40,32,28,38,44,36,71,58,61,46,36,58,27,57,36,24,36,33,40,48,45,31,68,35,36,29,61,52,26,36,28,56,54,36,36,36,63,36,36,36,48,36,48,28,36,28,36,38,37,36,36,23,43,33,41,38,25,81,41,48,74,36,36,22,53,43,36,36,36,42,35,41,36,25,36,36,36,35,36,54,31,36,34,32,52,51,36,33,36,38,30,45,36,30,36,35,41,36,45,36,46,36,36,37,31,36,49,47,24,36,39,36,33,22,46,36,35,36,35,52,36,47,36,29,36,34,36,23,37,36,64,31,36,43,36,36,37,36,36,36,57,36,33,36,42,18,28,36,36,36,66,48,36,55,54,36,25,31,28,41,36,43,36,36,36,65,53,48,36,36,29,40,70,36,43,48,45,36,63,56,29,46,55,38,35,41,36,31,30,36,35,36,29,22,27,67,47,36,31,53,36,49,36,38,30,36,45,36,34,24,37,52,36,48,55,33,36,22,35,36,35,38,33,31,36,27,118,36,44,48,35,31,36,36,47,48,23,36,36,33,38,31,26,41,56,53,27,22,48,22,30,36,29,39,36,36,36,25,40,36,58,27,31,36,47,36,42,70,36,36,37,36,36,36,36,36,40,36,36,34,30,36,35,33,36,55,36,36,36,48,30,36,32,36,49,36,34,36,36,46,53,36,36,36,30,31,58,54,48,118,48,36,41,33,31,36,31,36,36,36,36,45,34,35,34,31,29,55,28,36,36,36,35,33,27,48,36,36,42,36,48,36,36,31,31,31,46,39,33,28,62,36,63,36,62,36,31,51,34,40,52,36,29,21,50,48,36,36,35,29,36,57,36,27,35,35,36,48,36,36,35,55,46,35,52,22,33,36,36,32,71,31,36,27,36,31,30,36,33,36,35,36,36,31,32,52,36,42,31,33,30,29,43,36,34,42,35,47,31,36,25,52,31,36,36,36,36,28,37,44,54,31,36,32,26,31,41,26,44,36,25,118,30,53,36,25,35,56,36,39,36,36,36,37,36,46,29,36,36,53,69,35,54,68,36,24,37,28,24,30,36,25,31,37,65,36,36,57,32,57,36,36,36,51,41,54,48,61,55,60,31,32,36,36,36,36,42,49,50,58,36,36,30,36,55,25,46,36,36,43,33,36,72,31,32,36,54,40,36,34,20,36,51,118,36,36,36,36,36,28,36,36,118,57,118,36,36,48,36,37,42,40,38,36,42,40,28,29,36,36,59,35,29,22,25,28,30,31,61,36,45,34,29,32,48,28,22,60,51,36,44,64,36,41,46,36,33,48,24,36,32,34,27,36,42,38,33,24,36,35,62,36,36,33,36,36,36,50,48,30,30,66,38,27,48,43,52,33,36,49,35,41,48,53,28,54,31,25,46,81,35,40,26,36,36,50,36,36,28,55,57,44,38,118,36,36,29,61,25,36,28,32,36,35,36,36,36,56,31,31,21,48,35,41,28,28,64,32,51,36,58,48,36,36,31,36,60,39,35,36,24,49,24,36,24,59,48,51,37,42,36,27,24,36,51,28,45,36,49,36,52,27,36,46,36,36,68,36,25,36,19,36,28,36,63,48,3,26,36,27,47,31,38,35,36,60,36,45,26,36,36,36,50,39,31,36,31,34,38,36,51,36,36,54,56,48,45,34,43,36,36,50,36,34,50,29,33,36,28,36,64,60,31,36,64,36,35,48,39,33,36,36,40,28,36,32,36,36,35,57,36,30,66,45,36,57,29,36,36,118,45,36,61,36,37,30,38,36,34,36,36,29,38,46,31,40,33,36,48,36,46,36,36,36,36,32,36,40,35,36,35,36,33,40,24,118,57,35,31,36,36,36,51,41,39,36,34,36,29,65,46,36,59,37,36,27,36,36,41,32,45,36,29,35,30,36,48,32,51,35,36,36,27,36,36,37,34,36,36,30,36,36,36,36,36,25,48,61,36,36,36,59,36,47,55,28,41,79,36,42,30,30,36,25,39,36,31,36,36,31,41,45,63,45,42,36,34,26,36,36,36,31,36,36,33,26,76,33,40,36,36,15,30,32,34,49,51,31,24,36,36,36,48,36,36,51,33,32,43,43,45,36,29,38,36,30,45,39,28,47,35,36,36,36,31,36,67,36,36,50,33,64,25,36,60,42,57,26,31,36,29,24,36,36,40,63,34,22,36,36,36,36,47,57,49,29,36,53,49,31,31,29,31,36,33,36,35,36,36,36,36,36,21,36,37,50,22,25,29,36,36,26,34,36,52,36,58,56,47,28,36,51,28,41,36,48,35,36,21,49,36,47,29,42,36,33,36,52,36,58,31,43,36,40,26,36,36,37,27,57,36,28,36,33,54,28,41,47,36,36,36,36,19,33,26,67,36,55,53,43,48,49,39,36,30,48,27,36,34,52,30,29,36,43,36,48,36,36,48,55,21,43,36,36,36,36,36,36,40,55,48,38,36,64,55,43,36,49,29,48,47,36,33,29,24,36,48,36,56,22,48,60,26,26,69,36,31,28,31,24,40,118,36,36,47,36,54,42,27,36,59,36,36,24,22,72,48,37,36,36,36,36,33,36,58,29,36,22,35,50,38,65,60,35,27,36,61,36,53,48,36,49,36,57,54,36,38,61,66,24,36,31,39,21,25,36,36,54,25,55,31,45,36,38,45,36,36,38,36,29,46,40,56,36,25,23,22,28,31,47,26,20,50,36,39,36,29,36,34,40,41,37,36,36,36,36,28,31,50,35,35,36,42,65,36,36,36,35,36,36,75,36,46,118,43,31,28,30,36,36,32,36,36,62,32,36,39,36,28,36,36,48,42,36,36,27,36,27,23,36,36,43,31,36,26,46,46,54,31,39,49,31,27,22,41,23,44,36,27,53,25,45,62,46,37,48,31,43,37,40,45,29,36,27,35,36,36,41,53,27,25,36,50,58,34,40,52,42,31,33,36,36,57,30,35,36,46,52,58,50,68,26,36,60,36,36,50,36,45,36,69,27,65,33,36,36,48,40,36,57,36,36,30,30,25,42,22,36,25,42,37,29,42,53,36,58,36,36,36,36,36,36,32,36,36,36,41,43,31,53,41,28,44,36,65,36,48,36,31,27,36,35,57,48,30,118,50,35,47,44,30,31,36,60,41,34,46,65,36,25,26,32,36,47,33,36,42,36,60,30,47,38,48,24,118,28,36,36,36,40,31,65,36,36,22,36,33,36,46,27,26,36,36,33,36,36,24,42,55,53,36,31,47,36,35,36,36,36,36,35,27,31,36,60,36,36,36,77,55,36,36,35,59,35,31,31,64,27,36,40,36,48,28,29,36,36,39,37,36,22,30,26,43,27,42,43,25,34,46,50,36,38,43,36,71,30,36,44,27,48,36,35,32,36,36,36,40,28,51,37,51,37,35,35,38,29,22,36,36,48,36,35,26,35,36,31,39,36,39,48,30,36,36,43,31,24,29,40,36,35,23,36,55,118,58,43,36,36,36,38,36,31,35,28,36,36,45,48,30,50,36,36,37,20,36,24,36,33,56,45,36,36,42,36,36,48,36,53,39,28,47,36,55,54,34,36,36,36,36,31,36,39,46,39,43,36,35,35,38,46,36,33,36,36,35,31,51,36,26,52,24,41,65,60,27,31,35,36,40,36,67,35,33,63,69,36,70,60,36,55,36,47,50,36,33,35,43,33,42,42,34,30,30,36,36,36,36,56,30,60,36,36,36,36,47,28,58,31,36,45,25,60,36,36,49,45,36,36,31,36,48,36,57,36,36,32,36,48,52,35,72,36,32,36,26,36,31,31,36,25,36,76,31,49,36,45,27,36,36,37,35,34,36,36,59,29,32,46,76,18,22,29,36,36,28,33,36,36,48,48,39,35,22,24,52,40,36,26,36,73,50,47,32,36,27,48,30,36,36,36,36,28,61,36,31,35,36,30,36,28,43,31,56,45,47,31,36,48,63,36,51,31,31,36,64,36,38,28,42,36,43,63,53,36,29,35,34,36,51,48,36,23,35,36,37,57,36,27,48,32,31,34,42,36,36,27,34,36,36,41,38,44,49,118,33,36,36,36,33,37,36,34,40,46,27,46,47,33,36,48,28,58,36,42,39,47,36,36,60,36,40,36,35,48,36,36,55,36,36,36,61,36,26,38,69,71,36,36,55,36,61,36,36,59,26,31,46,60,82,35,36,31,40,36,36,40,36,36,36,28,36,36,36,20,65,50,36,43,31,30,36,36,48,36,36,33,44,29,29,36,36,36,55,61,35,49,36,51,46,40,36,48,39,36,32,31,36,36,41,35,59,48,36,62,37,29,37,29,27,38,54,59,47,58,36,39,22,22,48,36,48,25,47,36,35,36,40,35,36,48,32,24,58,46,36,44,48,44,36,38,35,38,54,76,75,30,30,33,33,37,31,45,28,48,36,36,77,36,64,36,36,65,56,35,42,55,67,31,32,50,27,36,23,57,36,54,36,45,35,36,48,32,61,31,36,69,53,26,25,36,36,36,43,36,32,36,36,20,36,36,30,36,36,35,36,66,42,35,37,55,36,36,40,29,35,36,50,50,36,50,48,26,64,36,27,42,41,36,40,33,46,36,53,51,25,36,35,45,29,32,24,25,44,36,36,31,30,36,33,44,46,48,43,51,36,36,36,48,36,51,36,36,60,50,25,46,36,30,31,36,23,48,36,30,36,38,45,24,31,36,23,27,36,36,36,48,32,36,31,36,36,29,20,25,32,53,51,48,29,47,42,36,36,49,36,39,36,39,46,57,34,48,36,36,36,36,25,75,36,25,36,46,36,36,36,25,47,36,36,54,36,27,41,34,56,36,25,48,54,25,36,32,36,27,36,33,40,36,36,74,36,32,36,31,26,12,45,33,25,56,36,58,36,36,36,36,53,36,36,57,48,1,27,36,71,37,48,48,36,21,35,56,36,36,27,31,72,59,32,36,43,36,36,30,21,41,36,29,36,49,36,47,42,36,36,47,25,31,25,36,32,31,36,28,31,24,73,36,31,36,48,29,36,60,30,30,50,35,59,36,29,36,27,53,51,67,36,36,36,80,36,33,25,36,48,54,31,36,31,36,36,37,36,19,36,31,37,43,36,30,36,35,56,36,36,36,25,26,22,36,36,48,36,26,36,118,36,37,34,47,36,30,66,36,36,63,36,36,36,31,36,47,25,39,36,36,45,28,36,57,32,27,118,19,34,36,36,36,36,35,33,56,36,31,36,36,27,30,36,23,30,36,44,23,48,52,63,48,31,31,37,36,36,35,31,36,30,36,30,53,47,38,33,36,33,69,33,36,21,36,47,36,31,58,29,36,48,41,41,36,42,36,47,28,36,36,36,48,64,36,62,27,36,38,36,36,38,29,39,36,31,56,35,28,43,36,37,35,29,40,36,36,36,36,36,56,36,36,51,36,36,36,35,36,26,56,32,50,56,36,36,57,36,36,36,36,60,36,24,47,36,22,35,40,36,38,27,48,29,34,36,38,36,27,42,51,24,30,36,46,31,23,51,34,36,27,26,35,36,42,28,36,44,50,48,31,28,65,36,36,36,49,36,36,31,48,70,26,48,36,36,36,54,14,26,39,36,36,25,33,36,69,36,36,36,36,36,36,37,30,36,31,33,36,36,53,29,36,36,42,36,17,32,31,36,56,37,36,36,24,36,63,36,25,36,29,28,48,49,38,28,36,118,47,52,59,48,23,30,31,41,29,36,55,36,35,34,36,36,36,36,58,46,36,36,36,24,36,36,47,55,26,35,65,41,42,46,36,31,31,46,48,66,36,36,51,36,30,36,36,36,31,30,50,58,58,28,42,30,75,36,35,36,32,37,23,36,36,59,46,36,48,70,48,55,36,48,48,36,40,39,36,63,55,36,36,48,28,63,29,36,59,36,27,37,28,43,35,21,38,65,36,36,29,36,44,36,62,73,65,36,36,21,36,48,26,35,36,118,36,25,44,55,36,64,34,35,45,36,36,29,52,36,36,118,31,57,48,36,28,36,56,36,48,30,36,44,32,23,31,36,41,49,64,57,36,26,35,36,36,37,28,25,33,41,36,28,36,53,28,40,30,52,31,57,36,52,21,49,31,39,30,55,39,36,50,37,33,31,31,40,29,36,35,36,36,18,36,36,29,36,36,51,46,27,36,36,26,36,38,55,22,43,36,36,42,39,36,36,29,36,31,31,38,36,54,36,21,36,118,36,34,36,36,48,72,31,30,36,33,31,31,36,48,36,35,31,31,36,35,36,46,28,36,37,35,36,36,55,34,36,20,39,36,45,40,58,36,52,35,48,28,49,36,43,50,36,31,20,30,36,32,36,36,39,33,36,51,57,31,35,36,52,48,26,31,35,34,43,23,36,46,37,58,45,35,57,58,64,36,36,36,26,45,36,36,36,36,26,42,46,49,36,54,53,31,36,36,44,50,31,21,36,28,36,57,42,33,56,50,47,34,36,38,57,24,36,28,48,36,36,31,36,42,62,58,80,47,31,52,27,33,44,25,59,36,36,55,40,36,57,41,29,36,52,57,32,44,36,48,36,36,36,36,28,36,62,36,45,36,36,48,32,66,36,36,54,31,27,42,34,27,22,48,36,26,56,36,59,25,40,36,45,37,28,31,31,41,44,52,57,32,36,31,36,47,36,35,28,59,58,37,59,36,27,26,36,36,57,58,38,55,35,36,36,36,36,42,40,36,36,36,31,36,36,22,32,36,36,30,59,29,36,37,47,73,36,34,36,33,53,61,36,39,39,48,36,34,26,60,37,36,36,53,36,36,34,36,48,45,36,34,56,47,53,36,36,36,31,39,39,31,26,36,36,47,36,33,31,28,63,36,35,38,31,118,33,36,24,56,44,36,22,36,55,52,34,48,28,36,36,20,41,41,29,39,40,36,48,57,65,43,53,25,36,32,36,33,36,27,35,32,48,24,31,48,36,36,37,26,46,23,36,26,38,27,36,36,45,76,66,36,30,46,36,43,54,55,31,36,47,46,36,44,31,35,36,35,28,61,35,47,59,31,31,36,36,42,41,46,35,36,36,36,36,36,46,64,56,36,30,36,36,61,48,36,52,28,49,36,41,36,31,57,38,29,36,39,47,29,36,48,49,36,30,36,33,25,36,36,48,42,48,36,55,27,50,29,48,27,34,36,21,32,21,46,36,36,36,29,36,57,36,48,54,61,38,41,47,36,36,23,36,29,36,36,26,36,46,41,36,31,118,56,64,36,27,39,35,41,23,51,34,58,22,23,118,39,41,43,35,48,36,34,28,59,28,42,34,55,39,53,31,38,42,36,67,48,36,42,1,36,51,36,35,31,43,30,48,48,35,36,36,46,42,34,38,69,36,36,29,48,36,36,37,28,24,24,45,40,36,35,48,59,48,30,36,36,36,31,33,36,36,36,35,49,45,30,36,36,36,36,34,35,36,31,47,36,31,26,36,36,36,33,51,45,36,37,36,31,36,36,36,48,54,35,36,39,23,33,48,30,36,36,37,69,36,38,31,36,36,36,58,36,35,34,34,60,21,53,53,36,31,36,36,32,36,53,53,45,36,23,21,36,35,36,27,36,32,36,36,36,36,44,36,36,44,36,37,60,36,61,36,27,36,30,72,36,47,1,49,43,23,36,44,36,27,36,36,36,36,36,26,36,36,57,36,36,36,46,36,48,24,36,36,36,32,36,40,36,48,28,33,26,35,30,71,36,33,33,36,39,42,33,118,39,36,30,36,36,31,36,53,36,58,36,25,36,42,39,36,28,58,39,36,36,36,37,27,36,63,15,20,36,30,43,44,36,35,30,42,30,35,28,36,36,36,51,48,36,28,37,36,36,36,70,61,43,118,36,36,31,36,36,47,47,62,57,30,36,36,41,48,55,46,36,46,31,54,55,36,42,24,61,42,36,37,36,24,36,36,38,38,24,27,29,56,68,27,36,22,36,36,72,48,36,36,38,59,44,36,36,35,55,38,36,31,32,36,54,36,32,56,48,36,47,36,36,36,118,35,38,35,54,29,41,36,36,35,42,47,31,46,36,48,23,36,54,36,23,52,29,50,48,36,36,43,36,25,36,36,53,69,48,60,30,30,48,36,31,36,36,21,36,34,69,42,25,36,21,36,41,56,43,34,46,36,118,75,32,40,36,36,54,36,32,53,42,36,48,36,22,40,30,32,59,61,44,36,63,35,27,36,36,40,36,22,118,39,53,36,51,28,34,68,36,39,27,36,46,42,36,79,31,43,40,48,25,51,28,56,30,38,43,37,36,25,35,48,36,28,21,48,41,118,35,30,69,51,65,36,32,23,36,25,36,27,36,36,28,36,40,36,53,36,28,36,36,32,26,27,42,24,40,47,118,45,36,54,57,36,50,84,36,56,36,36,37,28,32,36,50,36,118,48,36,36,38,36,36,36,36,63,36,38,36,33,36,45,36,39,36,36,36,36,49,58,36,34,30,36,37,36,48,28,36,36,37,51,48,33,43,29,40,48,40,36,28,33,36,48,25,35,45,48,36,24,36,38,29,47,36,36,36,46,36,36,46,71,37,53,29,48,31,71,39,48,36,48,27,36,36,37,36,29,35,36,36,34,64,36,27,43,36,35,35,48,36,21,31,36,36,44,31,36,50,30,46,36,69,21,36,36,27,26,52,23,35,36,36,32,49,36,29,30,62,36,36,36,31,38,37,59,25,43,26,28,22,36,69,46,36,36,42,36,40,28,40,51,66,54,34,43,31,36,23,21,22,32,53,48,36,36,58,61,46,44,54,36,43,42,30,24,47,32,48,48,36,74,36,39,43,36,48,36,42,59,34,61,25,36,32,24,36,30,41,71,36,36,24,23,48,53,36,36,36,41,55,38,34,36,36,69,40,54,78,36,46,36,55,36,54,28,31,36,41,51,28,42,42,36,35,39,59,41,35,38,45,48,43,84,36,35,57,36,36,10,57,37,48,36,36,28,39,36,43,28,36,53,29,24,38,40,40,58,33,44,46,42,36,45,30,36,36,67,36,36,39,74,34,36,19,43,50,32,33,36,36,24,49,26,33,27,36,45,36,31,36,36,72,27,28,32,30,49,36,28,36,32,36,49,37,25,27,36,31,35,36,32,36,36,118,42,30,52,49,35,32,68,31,33,35,36,71,36,31,36,36,36,62,24,45,35,31,44,29,44,57,60,36,36,36,35,36,35,22,48,36,36,29,36,39,36,42,35,61,33,56,41,36,36,36,48,36,30,35,35,30,29,31,45,40,52,37,22,36,25,48,35,29,55,24,60,36,29,48,51,37,36,36,43,36,45,26,48,36,53,36,36,33,44,38,36,36,36,36,36,36,36,36,28,41,35,36,38,28,42,34,36,54,36,41,84,34,23,48,36,36,47,65,25,37,36,53,26,36,36,28,36,72,36,45,37,48,48,36,53,48,36,46,45,35,31,36,118,36,36,24,36,45,35,36,60,36,30,36,36,26,70,28,31,36,27,36,46,35,42,43,39,26,18,36,29,36,71,36,36,54,36,22,33,36,26,42,36,36,53,55,45,36,69,45,41,37,43,35,27,36,29,48,36,36,60,36,36,32,45,78,36,35,36,46,20,36,35,64,33,36,36,36,43,50,36,35,45,49,62,29,52,36,48,37,51,56,43,50,25,55,35,36,38,37,50,118,36,33,30,36,36,38,46,36,36,31,36,36,36,36,36,31,36,36,66,32,36,28,30,44,69,36,46,48,36,29,55,44,46,60,32,36,36,61,40,36,42,55,65,28,36,27,28,27,118,36,79,47,53,40,25,48,118,38,47,30,30,54,36,36,36,36,37,35,36,50,28,58,36,36,34,29,73,36,36,36,36,35,21,54,36,57,25,44,36,36,41,31,35,57,36,48,38,55,46,49,17,36,42,44,42,31,48,61,36,48,34,36,26,36,34,29,66,36,73,24,23,36,21,26,31,80,30,35,37,46,49,35,35,35,22,50,77,24,36,51,36,21,36,36,75,36,26,36,36,75,36,53,39,36,55,53,33,43,57,28,27,36,48,36,48,30,36,32,37,36,36,54,118,35,64,35,36,49,36,36,37,36,43,36,56,47,36,40,27,36,36,48,38,45,36,41,36,79,36,36,57,36,57,31,36,39,28,36,22,39,36,43,30,29,36,36,35,40,52,51,63,36,36,61,43,35,47,36,58,25,47,56,36,71,42,41,36,56,39,43,36,36,36,48,48,20,32,24,36,29,36,31,36,27,29,31,57,47,48,36,28,30,54,31,37,36,32,36,44,36,36,39,28,36,39,49,46,25,44,36,43,27,36,43,36,57,57,29,36,36,27,24,36,36,36,36,36,36,36,27,35,37,36,20,37,25,30,36,36,52,36,36,36,52,27,28,24,45,36,45,25,36,36,48,36,36,44,40,22,44,22,57,118,36,49,36,59,69,36,36,27,36,36,40,60,56,48,38,36,46,29,36,25,36,27,48,37,26,36,39,36,57,51,36,80,22,31,36,36,31,33,38,41,39,53,45,21,64,36,36,36,43,68,56,36,27,31,40,77,36,36,55,26,48,50,36,60,73,36,36,38,56,41,24,66,71,66,36,69,47,52,34,47,34,30,35,40,67,36,36,36,36,35,36,36,25,61,39,36,35,48,45,36,36,48,36,42,35,33,39,66,36,36,36,36,36,36,44,42,49,36,32,36,36,36,65,51,31,35,36,73,53,26,41,27,69,53,75,36,42,27,29,35,27,33,36,32,36,29,37,27,62,36,48,55,36,37,56,36,36,56,36,45,47,36,32,26,36,36,36,36,48,36,45,48,36,36,36,36,35,37,20,31,36,34,42,61,23,118,30,58,36,27,41,37,51,29,36,35,36,49,61,48,36,36,60,36,36,49,35,36,36,36,40,44,49,31,31,70,35,45,36,36,36,25,36,24,22,31,57,36,42,118,37,24,48,42,44,36,28,53,29,34,36,36,41,36,48,63,36,49,48,48,23,48,36,36,36,36,33,36,66,23,39,36,28,34,63,67,47,36,38,36,62,57,30,37,33,36,39,36,39,38,36,36,59,35,55,25,36,25,38,56,36,30,31,48,35,32,36,25,35,36,23,28,28,66,29,118,33,53,76,36,118,42,36,40,23,22,31,31,36,59,46,36,36,42,45,36,43,36,35,36,36,34,30,47,35,41,36,36,36,60,59,41,36,27,23,36,39,22,36,33,36,25,36,23,36,35,36,36,56,52,36,36,48,29,31,30,30,36,76,48,62,57,36,48,28,45,41,36,36,26,31,52,36,36,36,36,118,31,36,27,31,30,36,37,65,34,22,36,41,36,51,36,43,41,24,36,36,56,27,31,28,36,48,35,55,31,34,53,36,36,36,40,62,26,48,61,45,36,45,43,47,36,36,40,36,23,45,36,22,30,36,30,47,31,36,53,25,36,64,36,37,36,36,36,30,49,36,36,35,36,26,36,44,36,36,36,36,40,32,36,36,28,36,31,36,36,36,35,35,60,36,36,54,21,44,36,28,32,60,26,48,49,36,30,36,41,36,40,65,33,36,36,23,71,36,4,33,56,36,48,36,73,48,65,45,67,63,30,36,38,15,44,40,36,26,48,26,38,19,32,37,50,36,58,36,27,35,36,36,58,48,43,30,29,35,67,37,61,36,26,36,36,47,118,31,36,53,36,35,33,36,25,40,46,36,42,54,36,25,43,30,28,41,56,40,41,31,36,27,28,79,42,57,36,31,36,35,51,35,30,48,56,36,36,32,35,36,22,52,36,48,54,36,66,27,48,46,25,25,23,40,38,31,30,51,35,41,36,61,42,29,36,40,55,32,29,36,31,31,36,24,36,36,36,118,34,24,36,64,31,48,31,55,48,36,36,28,48,22,26,36,24,60,118,36,60,27,32,29,29,28,26,36,36,48,20,36,42,31,22,58,34,46,62,72,35,36,36,41,42,37,36,36,26,36,36,31,53,30,36,41,25,36,31,27,37,42,36,45,30,29,43,36,26,35,44,48,36,35,20,36,36,36,29,31,29,26,48,28,47,36,48,29,75,30,118,27,36,36,31,37,36,36,59,36,28,45,52,25,36,30,34,25,36,36,56,36,36,45,35,26,36,48,30,69,31,29,32,71,36,31,19,37,52,36,66,36,36,61,44,36,27,36,36,36,61,36,59,36,36,36,41,36,55,36,36,44,48,64,27,53,36,67,36,53,118,36,36,47,36,29,52,59,36,37,36,36,26,49,36,42,36,47,56,64,49,36,36,41,49,53,36,61,43,32,25,48,36,45,36,36,47,35,36,35,56,51,20,28,49,30,27,52,27,41,32,52,36,52,28,46,36,29,53,26,51,42,43,25,36,58,26,46,38,34,36,48,36,34,36,36,36,31,36,21,36,36,34,39,52,53,34,32,35,36,41,24,23,36,48,22,36,36,36,36,52,36,60,45,34,36,36,36,34,35,118,53,36,37,36,56,34,46,36,35,32,36,57,36,36,28,61,27,23,26,34,21,32,36,36,35,58,33,36,43,48,54,36,75,31,36,62,23,36,47,26,57,36,43,36,36,36,35,42,74,44,48,36,36,36,28,39,46,67,36,36,31,36,37,32,36,36,28,48,36,36,36,36,46,36,49,39,30,55,118,45,48,28,31,36,36,57,42,48,36,36,42,27,44,36,52,33,34,48,28,36,36,36,28,36,32,36,36,22,36,26,52,48,36,48,57,58,35,59,28,36,37,48,36,36,38,35,29,28,36,40,36,46,62,36,48,36,36,36,36,28,25,37,28,36,36,67,45,41,75,36,28,38,27,32,48,31,46,40,36,35,46,36,118,36,36,29,41,41,42,49,36,38,36,32,51,36,41,36,24,42,65,35,50,34,36,36,36,30,36,36,30,31,46,36,35,47,34,36,51,38,48,31,59,36,36,36,36,28,56,24,36,50,36,39,36,32,38,31,36,48,49,21,36,47,20,49,37,31,36,52,27,55,38,36,22,48,19,48,31,46,36,31,43,39,65,23,39,36,47,72,36,36,14,28,36,36,33,36,36,28,36,36,67,36,57,41,66,36,38,38,50,34,32,33,36,36,39,38,29,35,28,43,27,33,36,25,33,48,38,24,32,28,36,25,36,36,36,28,56,36,30,48,36,28,22,36,32,52,45,36,36,48,36,53,36,36,36,33,22,36,60,36,45,23,31,36,48,36,36,36,36,28,48,38,43,51,36,36,48,55,27,36,28,30,45,36,31,53,36,35,36,36,45,38,23,30,45,36,27,36,36,35,31,25,29,34,23,23,55,46,22,39,36,46,24,36,54,118,70,21,39,45,28,34,36,64,48,21,31,46,118,34,36,52,36,36,118,32,36,38,45,31,56,26,36,25,40,36,34,60,38,51,28,53,36,36,40,36,36,24,36,55,31,44,36,48,38,36,55,25,53,56,48,36,28,58,47,36,36,30,37,69,35,50,36,81,36,43,41,45,36,68,24,38,47,32,36,60,36,36,50,32,24,36,58,118,36,36,31,51,36,34,32,45,36,67,36,37,36,43,38,32,42,36,52,32,48,28,46,32,26,35,36,37,56,46,45,51,31,38,36,36,39,48,36,37,39,45,36,34,48,69,36,35,32,36,36,46,36,35,63,39,62,43,35,36,41,36,36,118,43,31,36,73,48,35,55,36,36,26,36,28,36,61,31,27,46,58,30,56,36,36,26,41,48,36,32,29,49,36,48,37,58,36,29,35,55,31,51,28,36,36,40,36,33,36,62,36,36,66,36,62,31,36,36,21,36,53,26,53,29,35,31,42,36,39,36,34,36,36,35,36,35,35,35,42,45,36,36,65,36,36,52,36,36,31,24,48,36,31,30,36,49,31,36,65,37,45,53,37,36,36,36,36,65,36,36,31,43,36,36,28,36,36,31,35,45,39,32,45,33,67,48,118,30,48,52,29,36,36,44,41,36,36,48,36,36,36,28,59,23,36,36,37,44,37,36,48,48,23,54,26,36,36,65,40,48,62,36,36,59,35,51,25,42,36,36,36,35,36,45,46,35,53,36,24,23,54,62,118,118,51,36,33,25,36,36,36,41,36,36,36,48,31,36,35,49,35,41,36,51,42,54,36,36,49,28,36,36,35,36,36,36,33,81,36,37,48,43,26,36,48,55,28,31,31,24,36,36,36,53,45,42,36,64,42,26,46,29,49,26,57,36,37,21,36,27,31,42,48,36,51,36,68,36,23,36,36,58,51,40,39,35,28,36,50,38,36,36,21,36,16,36,44,30,36,33,26,35,42,55,36,26,35,51,36,36,36,36,71,36,36,30,70,45,35,36,36,36,31,35,64,59,54,118,36,41,62,40,55,36,46,29,39,36,28,64,28,36,30,47,36,35,38,50,48,44,36,30,48,25,36,36,47,36,24,26,29,30,36,66,46,43,57,48,40,31,26,36,24,23,36,36,49,23,38,87,28,48,34,36,48,36,52,36,36,44,47,36,33,36,65,31,36,36,48,48,49,58,30,30,29,40,38,28,20,39,36,37,36,36,36,44,36,43,52,19,118,40,37,23,34,61,32,24,35,48,36,49,22,36,36,36,42,27,63,53,36,54,36,51,36,36,49,54,58,27,48,48,36,22,36,36,36,29,35,34,29,50,62,36,36,118,35,36,26,36,36,51,48,36,36,36,36,32,54,36,36,41,36,25,48,41,45,36,118,36,49,48,35,36,31,36,49,41,35,39,59,30,48,53,31,61,88,36,36,29,39,37,36,33,36,43,76,60,36,36,36,51,28,36,51,36,49,36,29,36,36,36,36,52,48,36,21,36,50,26,21,35,36,36,36,33,36,36,36,55,56,32,36,53,50,48,40,45,36,33,36,37,36,34,41,48,36,36,36,57,46,42,31,38,30,47,36,22,24,53,22,30,67,54,56,36,33,49,36,45,36,36,27,45,57,33,36,31,31,45,36,36,36,31,36,49,36,28,56,36,31,118,32,58,29,37,48,36,40,35,63,37,36,36,35,36,36,39,36,44,36,31,35,36,36,44,42,32,36,24,27,35,31,52,29,56,33,48,36,48,27,30,27,30,36,36,60,69,50,30,36,33,36,36,36,36,46,36,36,24,36,33,31,26,49,39,36,52,36,36,44,36,31,36,36,58,48,30,36,42,36,36,36,36,40,30,47,31,36,53,36,25,48,30,58,36,24,29,58,42,34,35,36,25,56,118,23,36,36,36,36,30,51,36,36,36,118,36,36,31,28,42,58,36,25,36,36,66,32,31,36,48,36,36,17,36,48,34,58,28,51,35,36,67,45,36,36,29,39,44,42,36,24,36,36,36,26,28,28,36,36,37,41,37,36,36,50,37,118,25,36,53,50,32,36,28,36,41,49,38,36,50,26,65,35,31,50,32,58,63,39,75,118,58,29,36,60,54,30,42,30,36,36,36,32,27,23,48,46,36,51,36,39,36,36,36,36,73,26,60,53,23,40,52,42,50,34,36,48,36,22,40,29,29,36,29,35,36,36,36,36,27,24,36,54,52,36,63,36,44,36,48,40,34,36,36,27,25,36,36,36,39,24,53,54,36,36,50,36,24,36,36,42,28,27,62,51,29,36,35,44,56,51,52,39,25,36,36,36,39,36,28,36,56,118,36,34,36,45,66,35,23,33,36,28,41,35,36,36,23,36,60,40,36,33,36,36,36,36,32,46,36,31,29,45,43,26,50,36,32,41,36,49,36,31,44,36,36,61,35,36,36,50,31,36,50,36,48,42,38,36,54,36,35,59,46,46,29,36,36,64,31,36,32,33,60,49,25,31,50,47,36,32,36,45,35,48,22,33,49,23,54,53,36,35,28,48,44,34,35,36,36,32,29,36,36,32,27,41,58,36,67,40,36,31,36,36,36,46,51,39,36,52,32,67,33,36,31,39,40,36,36,36,36,24,36,48,77,36,48,48,30,54,52,36,64,36,36,54,36,36,34,36,49,45,36,36,37,75,48,54,36,56,57,36,48,36,29,48,36,48,30,73,36,36,33,61,46,47,48,36,29,43,36,36,31,33,36,30,35,36,42,29,36,70,36,36,28,19,38,36,70,70,28,37,54,36,36,44,31,36,36,60,29,48,30,36,33,36,48,28,36,25,39,21,40,44,53,31,47,46,51,22,36,36,49,36,37,36,42,36,51,34,36,51,36,36,19,36,84,36,23,36,42,40,36,36,39,35,31,36,36,37,36,36,32,36,35,44,28,32,35,36,36,29,44,57,48,36,36,49,36,36,33,51,44,36,48,40,49,22,28,36,36,36,36,50,36,39,31,36,28,23,44,36,36,26,36,36,36,25,36,44,36,46,42,41,74,25,26,33,36,49,36,53,46,36,52,39,43,31,40,36,60,57,36,60,31,36,36,36,35,43,29,36,59,36,36,36,41,36,30,36,59,36,35,118,49,55,21,36,23,53,34,42,23,36,36,71,36,80,36,36,118,48,41,36,31,36,25,52,55,36,36,36,31,36,36,37,36,27,28,36,29,43,36,35,34,35,36,36,49,36,32,33,36,48,37,31,21,30,29,24,30,58,28,31,33,54,36,57,36,36,23,48,36,53,39,36,57,36,53,36,31,81,34,38,47,35,35,36,36,36,35,55,34,36,3,40,46,36,36,35,21,25,40,71,45,37,36,29,118,32,36,48,22,36,46,35,36,28,36,36,19,36,60,36,36,31,52,46,35,48,47,43,36,65,36,36,36,30,36,54,26,28,51,36,39,32,33,32,44,50,36,30,36,18,33,59,36,28,36,48,67,59,28,43,36,36,36,45,36,41,31,41,70,35,19,28,48,118,48,36,36,36,36,40,45,54,36,35,36,36,36,36,44,52,36,36,46,33,36,28,48,47,118,36,48,40,20,38,66,28,118,40,49,49,35,36,36,36,23,36,45,61,29,36,36,45,27,54,59,49,36,49,54,54,55,48,36,35,38,40,53,25,46,22,62,58,36,30,58,63,31,70,36,36,36,49,51,36,35,52,57,34,34,48,28,56,36,52,55,36,30,39,27,33,25,36,38,20,38,30,43,62,36,52,43,36,36,38,35,35,118,47,33,58,46,64,62,44,31,62,36,27,36,54,68,46,22,63,36,52,48,27,36,36,48,36,26,36,69,29,36,34,36,35,47,35,37,50,36,39,45,36,48,48,48,36,36,16,36,25,33,30,30,36,36,31,36,43,67,27,35,36,44,35,47,36,40,36,31,49,50,62,35,35,37,33,36,33,36,27,28,34,36,59,37,31,36,34,118,57,63,36,36,37,36,28,53,36,28,55,41,35,36,26,36,41,27,36,43,36,77,51,36,36,37,31,22,43,36,36,36,45,48,42,36,36,36,36,45,36,26,36,36,31,27,34,36,22,36,71,29,36,36,28,36,36,118,39,33,36,31,47,59,35,52,36,39,36,31,33,40,50,48,36,36,47,36,31,71,36,31,36,36,48,32,50,36,36,43,36,36,35,37,56,36,27,36,36,36,36,32,36,29,36,34,42,37,36,37,36,118,36,33,27,49,28,36,27,36,118,48,36,53,47,36,48,32,37,36,52,34,36,36,36,42,40,27,31,53,25,35,48,36,48,36,34,36,31,28,25,36,36,35,30,85,36,30,66,36,65,22,35,36,53,20,36,36,36,35,36,29,36,48,50,36,23,28,29,20,59,36,41,36,59,46,36,36,31,23,36,36,35,35,40,49,36,63,39,36,38,44,36,23,36,28,118,31,59,36,46,36,28,36,36,41,36,32,30,36,45,45,36,27,54,36,30,39,36,63,57,33,36,69,35,21,25,46,36,23,39,23,27,53,36,36,38,36,31,31,38,59,48,39,33,49,31,60,38,32,36,50,54,34,36,41,36,43,43,36,37,36,36,67,23,49,36,36,38,52,29,34,56,60,36,36,36,36,35,36,30,65,38,41,36,25,47,36,31,49,37,70,36,118,36,36,40,27,36,53,36,33,53,36,46,36,35,36,36,47,27,38,40,32,67,22,49,36,58,36,36,61,66,45,33,48,38,21,59,37,39,36,36,44,63,39,41,48,36,36,37,36,46,22,36,37,36,36,43,72,36,36,34,55,36,36,36,28,36,32,45,48,36,36,36,52,36,27,30,29,36,81,34,36,26,36,29,35,118,36,48,36,36,65,118,63,51,61,36,30,27,36,36,31,32,70,57,36,24,66,27,24,37,36,32,55,29,36,72,36,39,31,36,28,36,42,41,34,53,22,29,28,42,30,47,48,36,41,36,51,52,36,36,57,36,31,81,38,66,29,36,23,55,118,36,36,46,29,26,31,44,34,35,49,36,49,36,30,52,36,32,50,37,36,33,64,50,36,41,36,36,36,24,67,24,49,36,36,58,36,46,34,36,50,38,36,49,36,67,34,40,36,36,36,29,36,54,67,34,45,25,48,42,36,36,22,36,34,36,22,26,35,38,36,50,31,48,55,36,30,47,34,36,28,34,36,36,48,36,36,36,31,49,58,57,36,25,63,36,72,32,36,36,24,35,36,29,30,35,36,27,45,36,36,49,31,28,31,36,48,31,36,22,37,26,48,45,32,118,42,64,57,36,36,36,35,48,23,54,44,55,36,36,36,34,38,37,54,39,25,52,36,36,36,60,36,24,40,35,63,31,59,39,41,58,29,36,36,22,36,36,36,43,36,56,36,37,41,26,40,36,48,46,52,43,32,36,45,60,36,36,36,32,36,44,36,59,39,50,28,46,36,47,31,48,44,31,28,24,118,48,36,31,36,67,55,25,36,29,35,41,36,32,48,48,23,36,36,36,37,36,53,36,36,29,45,36,45,57,31,36,36,59,36,62,18,30,26,34,36,28,48,36,36,63,27,57,36,36,30,38,63,31,38,27,31,37,65,36,36,36,35,54,36,31,36,36,36,36,36,36,36,45,36,48,40,36,118,26,36,38,48,36,44,25,36,36,31,29,36,48,39,44,36,42,35,45,24,56,20,58,35,52,30,36,36,118,36,35,32,30,62,36,36,36,32,19,28,56,26,36,36,35,36,36,38,36,36,36,43,53,18,36,67,36,35,52,38,32,55,55,35,38,118,36,37,37,29,36,36,36,28,36,36,36,36,30,36,70,36,29,34,32,59,36,36,36,34,26,48,36,55,49,49,36,58,32,36,31,38,28,36,37,23,45,36,21,42,36,36,36,36,31,36,36,36,36,36,36,28,46,36,47,39,36,30,26,33,36,36,34,45,74,34,32,34,29,44,58,32,36,36,65,26,55,28,31,53,27,45,28,36,38,43,36,36,66,31,52,50,43,30,37,36,49,48,50,79,29,65,118,63,36,36,36,28,36,27,62,57,50,8,35,34,67,27,44,65,45,36,48,36,36,36,28,34,48,27,36,50,36,25,31,34,35,36,57,55,32,36,26,36,70,19,36,36,24,41,36,25,36,36,36,39,47,50,36,31,38,35,53,31,31,43,44,23,36,23,36,48,36,29,27,35,44,22,72,30,36,46,30,60,35,36,36,36,23,36,36,36,36,36,28,41,36,48,51,36,36,31,24,36,44,52,35,48,118,37,26,37,27,36,66,36,27,17,57,55,36,53,36,47,36,60,28,25,31,55,41,46,36,36,48,50,57,42,25,36,27,36,48,36,36,36,32,46,28,35,28,31,36,28,37,35,27,22,53,48,33,58,54,35,36,36,36,44,36,36,53,35,28,36,36,38,36,45,27,36,36,48,31,40,37,36,46,37,23,66,29,36,68,36,41,32,27,37,36,36,53,24,36,61,62,35,34,46,36,32,36,48,36,30,32,48,50,118,31,31,58,36,36,31,58,48,36,36,36,36,36,27,36,25,30,29,36,35,35,48,36,36,36,49,48,36,46,32,36,36,62,31,52,36,31,28,36,36,33,36,37,48,69,52,35,31,24,40,36,43,40,36,46,36,39,51,23,43,118,42,72,36,24,35,35,27,36,35,20,44,45,24,36,20,29,41,51,40,43,30,36,35,36,35,36,26,35,35,49,36,31,33,35,36,43,36,36,47,43,36,30,41,31,36,36,36,36,31,28,36,39,36,30,36,30,36,35,36,36,61,60,40,54,33,55,36,35,47,68,31,37,36,36,28,57,36,39,38,35,36,36,48,34,27,31,36,36,49,23,36,49,36,48,36,48,48,35,36,68,36,36,32,28,25,36,26,36,31,36,9,79,60,36,32,36,30,36,34,36,26,45,31,30,69,36,36,55,74,52,44,43,49,82,37,47,36,48,36,23,25,36,36,57,46,36,43,45,27,31,36,30,36,36,36,36,41,46,29,27,31,23,42,43,56,29,36,61,50,48,36,25,38,18,69,30,30,29,36,31,34,50,31,36,46,31,36,25,28,40,63,51,36,47,43,52,22,22,35,36,45,45,36,36,25,36,71,29,31,66,25,36,31,48,35,35,26,37,46,44,53,36,31,36,60,50,45,36,35,48,60,43,36,38,34,55,21,36,50,36,44,25,26,46,36,36,25,79,65,33,54,36,33,51,28,27,51,36,36,53,49,47,36,49,36,36,24,36,36,33,40,36,26,37,43,35,41,55,36,36,25,57,36,47,65,48,54,29,30,36,48,38,39,38,58,73,65,36,35,53,26,49,48,78,36,39,49,36,47,36,61,46,22,36,36,36,36,36,65,36,30,30,44,46,36,51,63,36,36,30,50,54,36,49,36,36,54,36,48,36,31,31,57,31,36,36,36,35,40,85,39,50,31,55,30,36,61,44,36,49,36,39,59,36,35,36,32,54,36,68,58,36,36,46,84,31,36,36,36,36,74,36,36,43,29,36,36,25,59,39,36,36,34,58,30,35,38,26,36,54,36,36,36,34,48,36,22,28,36,36,39,44,41,36,36,36,38,31,36,36,36,23,33,43,53,44,36,54,31,51,36,44,36,36,49,36,36,25,30,44,36,30,48,83,36,48,36,55,59,33,23,36,35,36,36,51,31,28,35,83,33,36,40,43,36,48,39,50,36,29,36,36,23,46,44,36,35,36,36,60,36,36,45,31,59,33,26,36,48,36,36,36,37,35,36,47,36,35,49,47,54,36,27,36,33,36,43,52,48,36,36,40,63,48,55,32,30,36,71,36,60,58,36,36,48,36,69,36,36,36,36,35,66,37,39,69,37,31,22,81,36,36,53,24,36,36,36,37,31,36,38,33,36,31,27,20,39,36,36,21,36,37,36,39,28,36,77,32,37,36,41,36,26,59,40,55,46,47,31,44,47,42,34,31,70,36,36,36,26,46,51,25,61,36,57,36,45,36,36,34,32,59,32,56,51,30,36,34,22,36,58,65,35,36,37,36,55,36,56,40,67,46,31,49,30,36,36,35,46,36,51,36,36,58,35,31,25,36,50,53,41,41,69,69,118,33,54,31,35,35,118,36,36,36,31,36,31,36,48,118,36,61,35,33,48,36,36,55,63,52,21,36,27,1,35,56,28,29,38,36,67,30,43,36,36,34,46,48,70,29,47,59,61,36,61,70,44,35,25,58,56,35,47,36,50,29,25,36,28,28,36,36,36,36,40,27,36,71,57,34,31,44,33,36,36,39,51,40,57,60,36,36,61,36,39,36,35,28,53,40,20,53,64,31,59,60,44,36,38,25,41,33,36,38,53,34,34,43,36,38,36,36,33,39,26,36,41,36,25,59,52,34,51,48,36,30,48,24,26,30,36,36,33,33,47,17,36,36,36,35,33,40,36,32,37,52,80,48,48,36,67,36,36,25,36,55,26,50,28,36,27,58,34,33,36,60,36,48,28,33,45,36,34,64,53,36,22,66,36,36,36,46,26,36,16,49,30,51,36,36,36,35,48,42,40,42,36,36,36,36,48,35,26,30,36,34,28,30,36,50,39,78,36,35,25,33,28,36,36,36,45,76,41,68,52,57,29,36,30,29,25,36,36,33,50,36,36,37,36,35,36,36,51,36,53,36,45,39,36,48,36,36,35,30,54,21,46,36,45,36,51,36,61,36,36,31,50,50,36,37,33,47,48,61,56,41,36,34,48,35,51,48,36,36,36,23,57,60,53,27,36,47,36,36,38,36,36,34,36,36,53,55,48,36,70,36,36,35,20,38,46,36,11,33,35,40,36,36,36,28,36,36,35,39,36,47,35,39,56,42,49,24,31,22,29,61,30,36,25,28,36,36,31,36,37,58,36,34,36,35,63,48,48,33,49,36,67,22,36,36,62,29,33,20,36,35,36,36,36,29,36,36,38,36,67,31,54,36,43,36,20,36,54,36,26,49,31,36,53,56,35,33,36,35,43,31,43,36,27,45,36,59,33,36,36,48,43,24,44,40,22,36,36,30,28,45,47,47,51,31,45,36,36,23,26,31,29,36,37,28,45,25,36,36,29,29,36,67,36,21,52,22,36,58,24,36,35,48,64,36,29,36,36,48,43,36,36,28,36,36,54,46,36,31,42,36,36,36,36,39,36,47,43,48,24,26,29,25,74,0,29,36,36,36,36,53,26,32,36,36,46,45,32,118,36,64,47,36,32,36,69,25,40,36,36,34,58,36,36,29,26,20,30,36,28,36,50,63,42,40,36,47,36,48,23,30,38,34,33,40,48,72,28,118,26,33,118,34,44,36,56,44,57,35,55,77,36,69,43,36,27,52,36,57,36,36,31,118,35,48,34,36,39,34,36,36,39,36,36,36,41,66,34,36,48,37,36,34,48,48,36,45,28,36,36,55,35,57,57,36,42,48,36,61,34,32,35,48,31,32,32,26,43,67,68,36,36,27,36,65,40,36,39,30,58,36,36,36,39,36,25,48,36,32,36,41,39,36,36,68,36,36,54,36,36,36,77,43,30,36,33,32,28,49,71,118,36,29,36,36,52,43,31,36,57,68,44,36,36,48,40,70,38,48,36,32,32,50,36,42,36,36,36,38,36,36,54,36,36,32,36,36,48,51,36,35,46,25,36,35,32,36,31,36,44,48,60,36,33,36,26,49,36,36,36,36,48,52,36,36,51,19,28,36,52,59,54,28,35,30,46,36,44,36,44,36,31,29,36,26,28,49,36,39,36,36,14,37,47,30,31,36,36,41,32,36,36,44,32,62,36,48,62,41,36,36,32,48,36,36,36,21,36,36,33,38,36,48,49,57,36,27,40,36,37,36,42,30,28,36,27,44,41,35,35,35,36,47,59,36,36,36,32,31,68,36,48,56,39,29,31,54,41,36,53,36,36,36,21,36,23,61,37,34,36,25,21,45,36,36,36,37,25,54,36,48,36,39,36,31,36,54,40,36,48,37,36,36,36,36,48,36,48,62,45,80,33,58,29,29,41,53,36,27,32,36,36,42,53,36,36,36,22,57,36,51,37,38,30,36,53,48,35,36,52,20,36,42,32,20,38,20,36,52,36,27,36,35,54,36,36,34,36,36,35,38,40,36,56,50,35,32,36,52,36,43,39,36,33,27,36,27,48,22,36,31,45,41,36,36,27,64,36,36,52,36,38,51,34,36,40,36,59,31,38,38,64,36,20,53,36,36,36,36,36,52,62,54,36,57,118,49,37,26,34,56,35,33,36,35,32,36,65,46,36,42,51,24,60,36,36,38,43,36,36,25,36,65,75,36,30,30,21,29,29,38,36,118,33,35,36,44,38,37,35,49,62,42,25,57,33,31,36,36,77,32,36,69,23,27,44,60,25,36,52,36,48,54,44,41,36,39,36,40,59,23,50,32,36,36,118,30,36,57,36,64,58,60,36,57,55,36,36,27,48,36,51,36,71,59,35,36,39,36,36,48,36,36,57,43,36,46,23,36,36,61,36,31,42,60,35,36,28,36,36,46,30,40,52,36,48,48,36,42,62,36,36,36,71,56,29,36,43,36,36,24,42,36,58,40,36,36,52,29,51,36,36,36,46,39,36,20,36,48,36,23,44,36,55,36,35,35,66,36,41,33,36,49,36,36,56,118,43,26,36,21,57,31,36,36,43,36,31,40,55,34,36,35,22,68,38,36,63,36,36,53,36,30,55,50,47,118,69,48,47,36,29,31,52,57,36,27,27,31,48,53,29,36,34,36,67,51,32,35,26,47,56,23,30,36,39,36,36,26,58,36,30,48,31,38,51,35,28,36,19,56,46,34,44,28,57,30,35,29,30,42,28,36,35,34,48,61,31,41,118,58,27,59,46,36,38,39,36,42,35,31,70,30,36,21,39,36,118,31,30,28,47,22,46,36,29,36,45,23,36,31,65,36,27,50,52,32,33,36,35,35,47,36,36,37,35,48,36,30,58,31,35,31,36,36,48,36,71,36,36,42,36,25,36,31,48,30,36,38,38,31,36,48,47,31,34,36,26,33,43,66,36,31,48,33,36,30,35,34,118,29,36,36,35,35,36,34,35,48,36,34,28,36,48,22,29,23,36,41,58,31,36,36,41,38,36,64,29,36,50,36,58,41,36,41,42,64,51,48,36,36,31,36,36,36,24,40,36,36,31,36,57,79,46,36,36,36,48,60,27,44,35,36,59,37,22,40,22,32,38,32,29,65,26,44,29,55,66,41,31,30,48,62,22,36,36,30,48,36,46,36,29,28,32,31,34,27,32,48,36,34,36,36,34,43,42,31,36,28,37,11,29,31,27,56,26,51,36,36,51,26,48,40,36,36,48,36,36,30,36,21,36,47,36,36,36,43,36,70,48,25,56,36,36,41,36,37,36,27,63,48,36,37,36,69,50,25,26,35,31,36,36,58,71,33,37,36,52,23,35,36,36,36,26,48,36,36,38,31,36,36,21,36,27,36,36,28,35,36,45,28,50,59,36,33,64,63,36,33,40,26,48,28,28,46,62,36,22,32,36,34,39,48,36,28,36,36,36,53,40,19,31,33,57,38,22,36,118,36,41,43,22,36,36,40,36,36,36,36,30,36,23,35,36,30,34,36,31,36,28,24,36,35,40,35,27,55,54,49,79,31,36,36,36,31,36,36,64,36,48,25,26,49,35,40,41,23,36,38,36,60,44,36,38,48,34,21,54,36,35,47,42,44,51,58,29,41,36,36,35,38,64,36,37,36,28,22,43,52,36,38,36,41,48,36,27,47,65,29,42,36,36,36,46,22,21,36,62,57,36,35,36,56,24,36,28,49,27,36,31,29,25,35,36,36,44,31,36,32,36,41,37,34,42,51,36,42,36,36,55,40,31,62,22,48,44,37,39,83,57,36,45,33,37,35,36,45,35,27,36,40,32,30,27,49,26,29,37,36,36,46,37,36,53,36,45,36,118,22,31,36,34,35,45,43,36,35,27,60,36,36,36,36,35,36,36,55,31,41,22,56,36,37,36,47,36,118,28,11,36,23,36,29,63,59,31,25,48,61,36,36,42,59,41,52,31,39,72,27,36,38,46,36,36,29,36,36,29,36,46,36,72,49,56,36,35,36,57,35,36,36,54,36,37,28,36,39,36,21,66,48,36,65,57,47,23,39,28,31,36,35,48,38,22,33,36,36,36,36,32,54,29,36,31,38,47,76,33,22,27,35,36,36,36,29,37,37,28,43,36,43,36,22,26,36,37,46,49,36,29,49,32,28,31,35,33,48,20,47,118,36,36,61,24,48,36,31,36,61,53,35,39,36,33,27,46,35,36,51,36,36,57,54,52,32,48,32,46,36,39,60,54,30,36,31,32,55,45,21,54,34,35,36,28,29,36,36,36,39,28,36,36,36,46,45,36,36,35,70,38,29,36,36,36,36,36,31,36,21,63,57,36,23,35,42,36,31,25,36,31,36,28,31,41,31,36,36,36,36,36,31,60,21,36,36,36,36,36,31,49,29,36,31,31,42,36,42,36,30,36,53,42,55,36,44,29,36,48,32,36,31,33,51,36,36,40,43,55,36,35,36,34,36,36,36,40,36,36,35,31,36,63,36,30,25,33,118,36,31,35,39,36,48,36,48,61,36,29,62,37,36,21,36,54,51,30,41,27,29,39,36,32,36,29,45,34,48,33,58,64,31,22,42,31,31,43,28,45,53,35,36,39,36,36,50,36,48,36,36,51,37,36,58,40,36,24,25,66,35,36,37,39,32,68,36,36,36,26,26,31,41,33,36,32,36,36,36,56,36,36,36,17,58,36,36,36,35,52,36,36,25,36,36,45,36,36,31,48,61,36,54,36,36,36,36,35,41,46,36,36,36,52,69,36,36,47,71,30,30,57,36,31,26,57,36,48,36,44,36,36,39,29,28,36,22,36,36,36,27,48,51,36,53,54,53,36,36,41,36,82,34,64,20,51,50,36,36,52,35,26,33,40,38,39,35,47,43,34,68,36,53,62,36,35,36,36,23,55,28,32,34,36,54,40,38,26,36,69,46,46,40,36,36,46,27,29,36,36,46,48,36,36,45,36,36,21,31,55,29,43,36,36,52,56,36,36,22,118,36,36,28,49,56,48,48,31,53,36,40,36,25,35,36,28,30,31,36,56,86,31,35,31,44,36,36,43,36,28,36,53,56,36,118,28,36,36,48,28,36,55,36,36,39,35,36,36,28,38,43,36,55,39,33,36,36,48,28,39,35,28,22,45,46,58,37,36,67,56,31,36,56,36,53,22,36,48,29,51,54,36,54,57,36,36,36,42,36,43,35,36,31,36,35,40,30,44,23,32,32,36,29,22,36,36,31,36,36,36,47,47,43,31,36,52,30,36,57,39,36,29,45,36,50,35,36,36,50,39,31,53,40,33,36,36,36,53,36,62,36,36,36,36,36,36,36,51,62,64,48,52,33,36,46,32,24,32,36,29,36,30,36,36,57,31,62,48,48,20,58,25,36,36,36,36,35,19,36,30,26,41,48,36,43,28,36,26,69,58,25,35,48,36,26,39,36,36,39,50,30,36,29,36,29,52,58,29,36,36,31,36,48,48,31,37,75,28,48,72,31,36,33,69,48,36,12,72,43,36,118,41,37,69,30,49,33,36,36,37,31,38,36,35,29,64,53,36,33,46,36,36,46,36,49,61,36,66,27,36,51,36,44,43,32,39,75,36,41,36,36,36,36,42,36,52,36,36,28,26,32,26,36,61,57,36,36,32,34,51,37,36,39,48,36,38,24,38,69,36,51,42,36,36,36,36,36,45,53,36,29,34,34,27,36,36,118,32,36,45,54,36,36,53,30,48,52,71,49,41,55,46,23,36,36,37,48,22,48,36,36,67,22,48,29,71,43,23,62,22,35,36,29,36,43,36,118,38,42,32,19,33,29,42,70,57,42,35,36,36,38,22,30,33,23,36,36,62,53,27,40,31,49,36,36,36,42,36,36,26,36,49,68,44,25,31,51,34,42,36,35,27,36,36,28,52,62,31,31,43,36,36,36,33,25,36,29,36,29,52,25,36,36,34,36,36,53,36,36,36,48,35,52,45,36,32,48,35,29,51,42,38,36,36,45,30,31,36,57,37,36,27,46,36,36,30,36,36,26,36,71,42,43,41,29,36,44,43,60,25,31,36,41,36,35,21,47,36,68,36,42,22,36,46,53,36,41,47,56,31,36,29,48,25,26,77,36,20,42,49,36,23,31,25,36,36,48,48,36,31,54,36,35,28,41,30,29,36,38,40,39,36,42,36,56,36,27,20,36,42,36,36,36,28,51,36,28,25,51,36,33,36,36,35,29,28,36,48,34,35,39,36,36,36,28,27,36,118,30,36,32,32,33,26,36,48,71,36,53,52,36,49,36,32,36,53,36,44,33,39,55,36,36,36,36,46,28,33,35,32,16,36,23,53,37,62,36,53,36,53,39,48,30,31,36,27,28,60,48,57,23,25,26,31,72,41,36,36,36,36,46,36,38,53,53,32,36,25,36,29,48,35,60,36,36,48,48,30,47,60,47,36,28,26,31,22,36,48,30,36,36,48,38,36,38,46,51,36,25,36,47,28,59,32,52,66,59,50,54,43,36,36,36,36,36,36,36,36,53,71,46,28,36,60,34,36,36,35,31,36,36,57,33,42,36,36,42,24,36,36,36,49,36,48,42,27,26,44,36,59,36,31,36,51,47,36,65,30,48,61,36,36,58,50,36,28,36,32,35,36,33,30,48,29,50,36,50,36,36,52,63,33,33,50,56,36,36,64,36,36,35,55,43,51,44,48,35,35,77,36,29,35,41,51,30,42,39,36,55,30,36,46,36,57,30,39,36,35,48,36,44,16,26,36,36,36,31,118,46,36,67,36,36,48,57,36,36,36,26,36,36,48,36,68,37,27,32,46,35,31,29,36,64,35,36,36,46,54,36,25,57,30,31,35,36,36,44,22,35,36,32,25,37,29,36,36,36,26,24,35,32,47,36,55,39,41,36,36,35,27,36,38,62,30,43,36,36,63,35,35,36,36,56,28,31,36,24,36,36,48,50,44,50,36,23,49,40,49,26,45,36,22,36,27,36,31,38,48,53,62,60,31,36,36,37,36,28,48,31,35,36,46,36,36,43,35,29,68,35,38,29,60,52,31,43,36,38,36,36,36,50,46,36,36,36,45,37,34,118,36,22,31,25,67,65,32,36,36,118,54,63,29,36,32,36,36,36,36,36,36,33,36,39,51,36,32,41,51,32,48,36,62,28,38,31,45,22,31,57,50,48,30,28,41,118,34,35,36,49,36,60,42,65,36,33,42,36,36,36,26,26,54,35,48,36,26,27,64,55,36,36,23,54,36,31,45,33,43,36,35,33,36,28,36,48,36,36,36,36,36,62,36,60,21,30,38,33,39,79,28,35,36,45,31,41,38,55,36,24,33,23,65,31,36,36,36,29,31,24,36,51,36,35,34,29,36,31,27,63,36,36,36,36,36,48,31,36,47,47,30,36,64,52,36,37,36,36,22,32,36,25,36,47,37,35,36,41,30,31,32,60,51,23,32,30,27,41,59,34,35,29,27,36,36,30,36,48,22,24,36,36,36,36,43,36,30,36,40,36,53,26,43,36,55,35,27,22,53,59,28,36,33,48,36,51,30,37,36,28,36,36,31,55,25,36,47,48,36,37,47,38,60,47,57,118,59,52,42,35,36,32,29,36,48,36,36,15,36,36,29,36,85,31,22,70,36,33,36,38,22,25,31,35,31,36,36,25,44,36,47,46,36,36,36,34,28,36,48,46,45,29,32,36,36,48,48,63,34,46,59,36,28,36,68,36,35,37,36,27,36,36,36,36,36,118,46,34,51,36,26,58,40,42,36,36,45,36,27,46,37,65,39,34,34,44,36,56,35,23,64,36,47,35,36,58,31,29,29,26,56,44,47,42,22,30,36,36,48,36,53,39,41,69,36,57,20,46,48,36,28,36,36,35,35,47,36,29,36,34,42,36,36,36,35,36,58,31,33,36,81,42,50,48,58,75,35,36,26,36,28,28,36,37,36,118,36,35,36,35,36,36,31,35,36,27,38,24,33,39,31,49,63,46,44,40,63,36,23,27,33,23,33,39,36,44,36,48,29,36,36,36,36,46,63,46,46,72,35,59,36,34,55,56,39,30,37,23,36,28,62,52,47,118,52,34,48,36,36,36,35,36,31,36,36,36,27,31,52,36,38,36,31,36,38,36,32,29,65,36,36,48,36,41,36,51,38,48,35,58,48,47,36,36,36,26,36,31,28,21,39,34,35,27,27,40,31,80,36,36,36,26,52,36,56,45,42,51,36,65,26,36,31,36,35,36,34,37,36,60,36,36,52,25,36,36,31,33,36,44,56,36,37,26,36,46,30,36,42,39,36,30,46,36,29,41,80,24,63,31,35,36,42,38,79,36,48,48,35,36,43,36,51,27,36,36,36,46,35,23,36,44,36,46,36,36,36,36,44,66,34,41,52,48,46,48,36,36,48,36,28,36,45,61,63,38,32,36,36,38,36,44,28,48,31,36,36,27,36,36,20,35,36,36,36,26,48,26,36,22,31,22,47,34,42,36,31,25,36,36,36,73,36,44,36,26,36,36,23,36,23,34,43,36,47,33,30,40,50,36,67,36,46,47,31,48,36,39,36,36,21,36,54,36,36,47,52,39,43,47,36,49,34,29,43,61,24,36,36,36,44,69,52,36,36,49,36,66,36,29,36,26,40,49,31,25,44,38,34,36,71,41,32,29,54,36,55,36,48,42,36,36,28,36,35,36,36,30,36,35,36,42,32,31,36,31,52,34,30,68,35,36,35,51,36,36,36,118,45,36,36,28,36,118,36,36,41,45,45,31,36,41,36,36,36,25,118,36,45,40,43,36,36,23,42,50,50,55,55,36,36,36,36,32,57,51,36,37,35,54,36,61,32,31,36,74,36,31,32,38,36,48,34,36,48,36,29,47,26,30,29,37,50,35,43,36,36,30,52,36,48,36,28,36,31,36,36,35,36,36,36,36,52,69,36,36,118,46,44,36,49,30,36,30,29,42,41,35,48,37,52,36,35,36,35,36,36,31,36,62,30,54,36,36,32,36,38,36,61,36,34,36,27,57,36,36,36,36,27,30,30,48,38,34,38,49,36,26,36,26,43,36,30,36,22,33,35,36,36,31,25,39,36,36,62,35,36,118,28,32,33,45,57,41,118,36,36,30,26,31,24,36,41,36,47,32,31,36,36,36,35,36,32,34,36,22,61,38,48,62,48,36,28,36,61,36,36,36,36,36,31,46,50,32,27,52,51,25,27,84,36,34,58,28,20,36,61,25,36,48,39,57,38,27,76,33,36,27,36,19,36,50,27,42,48,36,66,23,36,23,36,40,58,31,36,26,36,27,40,36,36,57,32,52,31,36,31,118,48,56,53,36,36,44,34,36,36,56,39,54,36,36,43,37,36,35,25,28,25,36,43,39,46,87,36,45,26,36,36,36,36,37,31,40,36,46,36,36,31,48,36,47,40,44,36,57,36,36,49,36,29,29,36,48,26,24,36,65,31,27,36,47,36,40,36,41,36,30,31,56,38,118,36,36,46,29,54,55,24,36,36,36,32,35,43,36,36,57,36,36,38,47,34,36,34,42,36,48,36,28,49,56,36,36,36,36,32,30,47,48,54,30,52,61,43,36,56,36,36,61,39,36,118,33,62,36,36,36,51,36,32,36,56,36,44,54,36,59,48,36,33,36,36,38,70,45,39,118,36,36,26,31,26,31,48,36,53,31,36,37,36,36,64,46,36,23,39,63,48,35,39,36,36,68,36,31,65,36,36,28,38,28,42,47,31,36,54,36,36,59,36,26,70,41,31,36,35,36,36,36,36,36,36,46,36,31,45,36,56,36,59,34,31,36,31,19,36,36,28,64,51,36,42,36,31,60,40,36,36,31,36,53,36,35,28,40,30,36,36,36,47,36,36,36,26,24,34,36,26,36,51,40,31,35,36,36,36,25,65,33,62,32,35,36,50,32,36,48,39,43,59,36,39,26,48,45,118,36,59,36,36,39,35,36,28,32,44,28,48,36,55,118,25,22,48,85,36,45,36,33,50,44,29,42,62,59,51,38,31,32,36,32,28,24,27,37,35,36,43,57,36,36,36,47,48,58,28,44,30,40,40,30,28,28,27,43,45,36,24,36,47,36,36,43,37,35,36,36,27,37,33,41,34,48,36,36,36,26,36,35,26,36,36,34,76,36,27,36,36,27,63,36,42,21,22,36,36,24,41,36,56,29,38,34,36,35,118,68,44,31,30,36,35,71,22,36,41,30,23,66,86,42,36,40,36,34,35,36,25,55,36,36,57,36,60,36,48,35,36,29,36,45,48,36,36,32,48,36,20,31,45,61,73,57,33,40,36,48,36,31,36,36,36,118,118,54,36,63,54,48,26,32,48,36,31,36,36,27,36,32,29,36,32,46,46,74,34,28,32,28,22,39,35,48,29,36,26,54,50,31,36,36,71,36,53,36,30,38,37,37,36,36,47,36,26,36,45,37,36,44,36,23,25,38,66,36,46,50,47,118,29,76,46,30,36,35,31,43,59,51,48,43,27,28,48,36,36,29,48,37,56,22,26,36,31,36,39,14,40,36,43,35,48,25,36,32,43,39,37,30,36,63,26,64,36,59,40,34,33,34,36,36,34,48,36,38,36,33,36,30,36,28,28,47,62,27,27,24,52,33,31,31,24,43,36,41,31,29,36,36,25,38,35,48,38,35,36,45,42,36,36,45,36,35,36,37,36,31,36,36,29,44,36,41,36,26,27,36,42,36,48,36,31,52,37,36,39,26,36,36,42,30,38,29,25,31,32,31,26,51,44,36,55,36,31,66,40,36,35,36,36,36,26,41,36,31,36,50,118,44,25,50,29,36,43,36,118,26,37,36,49,55,40,44,36,36,34,22,43,29,36,36,36,36,32,39,41,55,36,33,28,40,25,38,36,36,36,48,35,52,48,24,57,36,49,56,31,35,26,27,36,44,35,48,48,36,55,83,39,52,40,36,35,36,48,29,46,43,45,61,44,28,36,38,25,31,31,67,48,50,30,36,28,31,40,57,36,36,41,31,32,25,36,20,36,26,29,34,49,38,36,36,36,63,36,63,36,60,37,37,26,36,54,25,51,43,71,36,36,31,31,38,36,31,36,31,36,35,36,43,68,28,36,56,51,50,48,36,57,36,31,43,36,37,50,36,29,30,32,25,38,23,37,47,24,48,53,29,31,118,30,58,57,26,36,34,56,55,38,42,36,39,25,38,39,56,28,31,36,43,41,34,23,51,36,36,36,59,42,52,36,35,35,36,36,42,32,36,58,37,48,67,41,36,36,36,33,31,36,44,42,44,36,36,36,36,48,56,36,23,36,36,33,34,29,118,46,40,40,36,28,27,32,48,48,32,21,59,30,36,36,54,40,43,36,48,55,56,36,28,41,32,36,36,36,38,27,36,34,58,36,44,49,43,36,48,32,54,43,22,24,36,36,35,36,20,42,39,37,28,36,118,66,31,28,35,32,40,31,36,48,31,36,36,33,34,36,48,28,36,31,38,36,36,44,35,48,55,36,33,31,53,35,47,28,29,36,36,36,40,36,28,36,35,59,61,30,42,36,36,36,47,35,50,50,36,35,53,36,47,36,34,52,43,36,47,65,28,37,35,39,36,36,36,36,36,36,36,48,35,54,36,46,39,7,16,37,36,36,21,46,37,53,36,118,36,30,50,36,36,36,36,48,48,48,36,40,59,36,48,42,37,43,21,51,47,45,29,36,84,30,42,49,36,27,27,36,48,36,36,49,36,36,36,36,36,30,36,36,32,22,36,36,36,27,36,33,42,31,29,36,36,35,48,31,74,36,70,38,35,29,36,31,36,53,36,48,48,25,22,27,36,36,24,76,36,47,22,48,36,14,36,29,34,44,35,36,36,36,36,36,35,63,24,36,64,28,36,27,36,33,29,26,32,40,38,42,34,63,36,36,44,28,45,35,36,36,16,39,36,33,36,25,48,29,81,36,36,28,58,36,61,46,36,36,36,44,36,68,59,36,48,48,31,57,36,63,36,50,25,31,36,36,36,36,36,30,36,36,36,48,56,32,31,36,56,36,36,32,23,27,36,36,34,67,118,36,36,25,42,32,38,36,36,36,39,48,21,53,36,35,118,48,36,36,46,36,38,32,74,36,44,36,36,37,31,63,36,54,36,46,48,28,32,36,31,30,57,21,36,31,36,35,31,36,37,36,40,62,27,36,60,27,37,35,36,57,35,47,28,36,36,36,52,45,37,73,60,35,30,34,36,36,36,59,36,118,21,36,29,27,36,68,36,54,42,49,33,35,34,32,59,36,71,48,36,56,31,36,36,36,36,30,36,36,36,48,36,37,35,31,36,34,36,39,36,57,36,25,49,31,35,31,59,35,25,26,48,34,36,48,49,36,29,35,27,36,30,35,67,49,48,36,61,54,32,26,36,39,23,39,24,61,49,57,28,30,36,48,24,36,30,36,40,31,27,50,36,51,36,37,35,33,36,36,29,48,70,36,57,74,56,36,36,47,36,55,36,58,31,73,45,53,26,36,36,65,36,39,29,35,33,42,36,48,118,51,54,14,36,36,36,22,36,35,36,61,41,36,35,27,36,36,29,59,36,51,36,59,68,49,22,36,57,25,36,36,30,28,48,27,36,33,48,36,42,31,42,36,118,33,48,48,36,42,36,36,60,27,51,41,28,37,52,34,36,34,42,45,36,36,36,31,48,37,29,52,45,36,48,36,52,31,48,36,48,36,51,36,26,56,47,36,22,37,35,36,36,57,36,45,43,36,43,36,49,40,36,36,36,36,38,36,57,54,26,43,36,30,28,28,57,36,43,29,50,63,48,35,36,36,36,35,36,26,54,34,34,51,26,31,35,36,36,52,36,35,36,35,48,36,44,69,26,36,38,26,48,36,31,36,36,52,42,36,36,57,52,34,36,36,30,36,26,41,34,31,36,28,39,48,36,62,46,37,84,42,32,65,36,0,36,36,36,47,50,36,31],\"x0\":\" \",\"xaxis\":\"x\",\"y0\":\" \",\"yaxis\":\"y\",\"type\":\"box\"}],                        {\"template\":{\"data\":{\"histogram2dcontour\":[{\"type\":\"histogram2dcontour\",\"colorbar\":{\"outlinewidth\":0,\"ticks\":\"\"},\"colorscale\":[[0.0,\"#0d0887\"],[0.1111111111111111,\"#46039f\"],[0.2222222222222222,\"#7201a8\"],[0.3333333333333333,\"#9c179e\"],[0.4444444444444444,\"#bd3786\"],[0.5555555555555556,\"#d8576b\"],[0.6666666666666666,\"#ed7953\"],[0.7777777777777778,\"#fb9f3a\"],[0.8888888888888888,\"#fdca26\"],[1.0,\"#f0f921\"]]}],\"choropleth\":[{\"type\":\"choropleth\",\"colorbar\":{\"outlinewidth\":0,\"ticks\":\"\"}}],\"histogram2d\":[{\"type\":\"histogram2d\",\"colorbar\":{\"outlinewidth\":0,\"ticks\":\"\"},\"colorscale\":[[0.0,\"#0d0887\"],[0.1111111111111111,\"#46039f\"],[0.2222222222222222,\"#7201a8\"],[0.3333333333333333,\"#9c179e\"],[0.4444444444444444,\"#bd3786\"],[0.5555555555555556,\"#d8576b\"],[0.6666666666666666,\"#ed7953\"],[0.7777777777777778,\"#fb9f3a\"],[0.8888888888888888,\"#fdca26\"],[1.0,\"#f0f921\"]]}],\"heatmap\":[{\"type\":\"heatmap\",\"colorbar\":{\"outlinewidth\":0,\"ticks\":\"\"},\"colorscale\":[[0.0,\"#0d0887\"],[0.1111111111111111,\"#46039f\"],[0.2222222222222222,\"#7201a8\"],[0.3333333333333333,\"#9c179e\"],[0.4444444444444444,\"#bd3786\"],[0.5555555555555556,\"#d8576b\"],[0.6666666666666666,\"#ed7953\"],[0.7777777777777778,\"#fb9f3a\"],[0.8888888888888888,\"#fdca26\"],[1.0,\"#f0f921\"]]}],\"heatmapgl\":[{\"type\":\"heatmapgl\",\"colorbar\":{\"outlinewidth\":0,\"ticks\":\"\"},\"colorscale\":[[0.0,\"#0d0887\"],[0.1111111111111111,\"#46039f\"],[0.2222222222222222,\"#7201a8\"],[0.3333333333333333,\"#9c179e\"],[0.4444444444444444,\"#bd3786\"],[0.5555555555555556,\"#d8576b\"],[0.6666666666666666,\"#ed7953\"],[0.7777777777777778,\"#fb9f3a\"],[0.8888888888888888,\"#fdca26\"],[1.0,\"#f0f921\"]]}],\"contourcarpet\":[{\"type\":\"contourcarpet\",\"colorbar\":{\"outlinewidth\":0,\"ticks\":\"\"}}],\"contour\":[{\"type\":\"contour\",\"colorbar\":{\"outlinewidth\":0,\"ticks\":\"\"},\"colorscale\":[[0.0,\"#0d0887\"],[0.1111111111111111,\"#46039f\"],[0.2222222222222222,\"#7201a8\"],[0.3333333333333333,\"#9c179e\"],[0.4444444444444444,\"#bd3786\"],[0.5555555555555556,\"#d8576b\"],[0.6666666666666666,\"#ed7953\"],[0.7777777777777778,\"#fb9f3a\"],[0.8888888888888888,\"#fdca26\"],[1.0,\"#f0f921\"]]}],\"surface\":[{\"type\":\"surface\",\"colorbar\":{\"outlinewidth\":0,\"ticks\":\"\"},\"colorscale\":[[0.0,\"#0d0887\"],[0.1111111111111111,\"#46039f\"],[0.2222222222222222,\"#7201a8\"],[0.3333333333333333,\"#9c179e\"],[0.4444444444444444,\"#bd3786\"],[0.5555555555555556,\"#d8576b\"],[0.6666666666666666,\"#ed7953\"],[0.7777777777777778,\"#fb9f3a\"],[0.8888888888888888,\"#fdca26\"],[1.0,\"#f0f921\"]]}],\"mesh3d\":[{\"type\":\"mesh3d\",\"colorbar\":{\"outlinewidth\":0,\"ticks\":\"\"}}],\"scatter\":[{\"fillpattern\":{\"fillmode\":\"overlay\",\"size\":10,\"solidity\":0.2},\"type\":\"scatter\"}],\"parcoords\":[{\"type\":\"parcoords\",\"line\":{\"colorbar\":{\"outlinewidth\":0,\"ticks\":\"\"}}}],\"scatterpolargl\":[{\"type\":\"scatterpolargl\",\"marker\":{\"colorbar\":{\"outlinewidth\":0,\"ticks\":\"\"}}}],\"bar\":[{\"error_x\":{\"color\":\"#2a3f5f\"},\"error_y\":{\"color\":\"#2a3f5f\"},\"marker\":{\"line\":{\"color\":\"#E5ECF6\",\"width\":0.5},\"pattern\":{\"fillmode\":\"overlay\",\"size\":10,\"solidity\":0.2}},\"type\":\"bar\"}],\"scattergeo\":[{\"type\":\"scattergeo\",\"marker\":{\"colorbar\":{\"outlinewidth\":0,\"ticks\":\"\"}}}],\"scatterpolar\":[{\"type\":\"scatterpolar\",\"marker\":{\"colorbar\":{\"outlinewidth\":0,\"ticks\":\"\"}}}],\"histogram\":[{\"marker\":{\"pattern\":{\"fillmode\":\"overlay\",\"size\":10,\"solidity\":0.2}},\"type\":\"histogram\"}],\"scattergl\":[{\"type\":\"scattergl\",\"marker\":{\"colorbar\":{\"outlinewidth\":0,\"ticks\":\"\"}}}],\"scatter3d\":[{\"type\":\"scatter3d\",\"line\":{\"colorbar\":{\"outlinewidth\":0,\"ticks\":\"\"}},\"marker\":{\"colorbar\":{\"outlinewidth\":0,\"ticks\":\"\"}}}],\"scattermapbox\":[{\"type\":\"scattermapbox\",\"marker\":{\"colorbar\":{\"outlinewidth\":0,\"ticks\":\"\"}}}],\"scatterternary\":[{\"type\":\"scatterternary\",\"marker\":{\"colorbar\":{\"outlinewidth\":0,\"ticks\":\"\"}}}],\"scattercarpet\":[{\"type\":\"scattercarpet\",\"marker\":{\"colorbar\":{\"outlinewidth\":0,\"ticks\":\"\"}}}],\"carpet\":[{\"aaxis\":{\"endlinecolor\":\"#2a3f5f\",\"gridcolor\":\"white\",\"linecolor\":\"white\",\"minorgridcolor\":\"white\",\"startlinecolor\":\"#2a3f5f\"},\"baxis\":{\"endlinecolor\":\"#2a3f5f\",\"gridcolor\":\"white\",\"linecolor\":\"white\",\"minorgridcolor\":\"white\",\"startlinecolor\":\"#2a3f5f\"},\"type\":\"carpet\"}],\"table\":[{\"cells\":{\"fill\":{\"color\":\"#EBF0F8\"},\"line\":{\"color\":\"white\"}},\"header\":{\"fill\":{\"color\":\"#C8D4E3\"},\"line\":{\"color\":\"white\"}},\"type\":\"table\"}],\"barpolar\":[{\"marker\":{\"line\":{\"color\":\"#E5ECF6\",\"width\":0.5},\"pattern\":{\"fillmode\":\"overlay\",\"size\":10,\"solidity\":0.2}},\"type\":\"barpolar\"}],\"pie\":[{\"automargin\":true,\"type\":\"pie\"}]},\"layout\":{\"autotypenumbers\":\"strict\",\"colorway\":[\"#636efa\",\"#EF553B\",\"#00cc96\",\"#ab63fa\",\"#FFA15A\",\"#19d3f3\",\"#FF6692\",\"#B6E880\",\"#FF97FF\",\"#FECB52\"],\"font\":{\"color\":\"#2a3f5f\"},\"hovermode\":\"closest\",\"hoverlabel\":{\"align\":\"left\"},\"paper_bgcolor\":\"white\",\"plot_bgcolor\":\"#E5ECF6\",\"polar\":{\"bgcolor\":\"#E5ECF6\",\"angularaxis\":{\"gridcolor\":\"white\",\"linecolor\":\"white\",\"ticks\":\"\"},\"radialaxis\":{\"gridcolor\":\"white\",\"linecolor\":\"white\",\"ticks\":\"\"}},\"ternary\":{\"bgcolor\":\"#E5ECF6\",\"aaxis\":{\"gridcolor\":\"white\",\"linecolor\":\"white\",\"ticks\":\"\"},\"baxis\":{\"gridcolor\":\"white\",\"linecolor\":\"white\",\"ticks\":\"\"},\"caxis\":{\"gridcolor\":\"white\",\"linecolor\":\"white\",\"ticks\":\"\"}},\"coloraxis\":{\"colorbar\":{\"outlinewidth\":0,\"ticks\":\"\"}},\"colorscale\":{\"sequential\":[[0.0,\"#0d0887\"],[0.1111111111111111,\"#46039f\"],[0.2222222222222222,\"#7201a8\"],[0.3333333333333333,\"#9c179e\"],[0.4444444444444444,\"#bd3786\"],[0.5555555555555556,\"#d8576b\"],[0.6666666666666666,\"#ed7953\"],[0.7777777777777778,\"#fb9f3a\"],[0.8888888888888888,\"#fdca26\"],[1.0,\"#f0f921\"]],\"sequentialminus\":[[0.0,\"#0d0887\"],[0.1111111111111111,\"#46039f\"],[0.2222222222222222,\"#7201a8\"],[0.3333333333333333,\"#9c179e\"],[0.4444444444444444,\"#bd3786\"],[0.5555555555555556,\"#d8576b\"],[0.6666666666666666,\"#ed7953\"],[0.7777777777777778,\"#fb9f3a\"],[0.8888888888888888,\"#fdca26\"],[1.0,\"#f0f921\"]],\"diverging\":[[0,\"#8e0152\"],[0.1,\"#c51b7d\"],[0.2,\"#de77ae\"],[0.3,\"#f1b6da\"],[0.4,\"#fde0ef\"],[0.5,\"#f7f7f7\"],[0.6,\"#e6f5d0\"],[0.7,\"#b8e186\"],[0.8,\"#7fbc41\"],[0.9,\"#4d9221\"],[1,\"#276419\"]]},\"xaxis\":{\"gridcolor\":\"white\",\"linecolor\":\"white\",\"ticks\":\"\",\"title\":{\"standoff\":15},\"zerolinecolor\":\"white\",\"automargin\":true,\"zerolinewidth\":2},\"yaxis\":{\"gridcolor\":\"white\",\"linecolor\":\"white\",\"ticks\":\"\",\"title\":{\"standoff\":15},\"zerolinecolor\":\"white\",\"automargin\":true,\"zerolinewidth\":2},\"scene\":{\"xaxis\":{\"backgroundcolor\":\"#E5ECF6\",\"gridcolor\":\"white\",\"linecolor\":\"white\",\"showbackground\":true,\"ticks\":\"\",\"zerolinecolor\":\"white\",\"gridwidth\":2},\"yaxis\":{\"backgroundcolor\":\"#E5ECF6\",\"gridcolor\":\"white\",\"linecolor\":\"white\",\"showbackground\":true,\"ticks\":\"\",\"zerolinecolor\":\"white\",\"gridwidth\":2},\"zaxis\":{\"backgroundcolor\":\"#E5ECF6\",\"gridcolor\":\"white\",\"linecolor\":\"white\",\"showbackground\":true,\"ticks\":\"\",\"zerolinecolor\":\"white\",\"gridwidth\":2}},\"shapedefaults\":{\"line\":{\"color\":\"#2a3f5f\"}},\"annotationdefaults\":{\"arrowcolor\":\"#2a3f5f\",\"arrowhead\":0,\"arrowwidth\":1},\"geo\":{\"bgcolor\":\"white\",\"landcolor\":\"#E5ECF6\",\"subunitcolor\":\"white\",\"showland\":true,\"showlakes\":true,\"lakecolor\":\"white\"},\"title\":{\"x\":0.05},\"mapbox\":{\"style\":\"light\"}}},\"xaxis\":{\"anchor\":\"y\",\"domain\":[0.0,1.0],\"title\":{\"text\":\"Age\"}},\"yaxis\":{\"anchor\":\"x\",\"domain\":[0.0,1.0]},\"legend\":{\"tracegroupgap\":0},\"title\":{\"text\":\"Duration\"},\"boxmode\":\"group\",\"height\":250,\"width\":1000},                        {\"responsive\": true}                    ).then(function(){\n",
       "                            \n",
       "var gd = document.getElementById('311f90f2-2acd-497d-a3b0-6fcd8c4ceb5c');\n",
       "var x = new MutationObserver(function (mutations, observer) {{\n",
       "        var display = window.getComputedStyle(gd).display;\n",
       "        if (!display || display === 'none') {{\n",
       "            console.log([gd, 'removed!']);\n",
       "            Plotly.purge(gd);\n",
       "            observer.disconnect();\n",
       "        }}\n",
       "}});\n",
       "\n",
       "// Listen for the removal of the full notebook cells\n",
       "var notebookContainer = gd.closest('#notebook-container');\n",
       "if (notebookContainer) {{\n",
       "    x.observe(notebookContainer, {childList: true});\n",
       "}}\n",
       "\n",
       "// Listen for the clearing of the current output cell\n",
       "var outputEl = gd.closest('.output');\n",
       "if (outputEl) {{\n",
       "    x.observe(outputEl, {childList: true});\n",
       "}}\n",
       "\n",
       "                        })                };                            </script>        </div>\n",
       "</body>\n",
       "</html>"
      ]
     },
     "metadata": {},
     "output_type": "display_data"
    }
   ],
   "source": [
    "# Boxplot - Age\n",
    "px.box(travel, x='Age', title='Duration', width=1000, height=250)"
   ]
  },
  {
   "cell_type": "code",
   "execution_count": null,
   "metadata": {
    "id": "SzhdKOPju3dI"
   },
   "outputs": [],
   "source": [
    "# Remove data with Age more than 88 years old\n",
    "travel = travel[travel['Age'] <89]"
   ]
  },
  {
   "cell_type": "markdown",
   "metadata": {
    "id": "g-fR_7H30C0l"
   },
   "source": [
    "###Net Sales"
   ]
  },
  {
   "cell_type": "code",
   "execution_count": null,
   "metadata": {
    "colab": {
     "base_uri": "https://localhost:8080/"
    },
    "id": "hrSbM2TbS8zH",
    "outputId": "afc9a1e6-9a5f-4658-dccd-a8b6723ac853"
   },
   "outputs": [
    {
     "data": {
      "text/plain": [
       "1675"
      ]
     },
     "execution_count": 15,
     "metadata": {},
     "output_type": "execute_result"
    }
   ],
   "source": [
    "# Count of Net Sales <= 0\n",
    "travel[travel['Net Sales'] <= 0]['Net Sales'].count()"
   ]
  },
  {
   "cell_type": "code",
   "execution_count": null,
   "metadata": {
    "colab": {
     "base_uri": "https://localhost:8080/",
     "height": 147
    },
    "id": "sOKsp9150CRd",
    "outputId": "01835eec-2db0-416b-99db-9ecd77cdcd8f"
   },
   "outputs": [
    {
     "data": {
      "text/html": [
       "<div>\n",
       "<style scoped>\n",
       "    .dataframe tbody tr th:only-of-type {\n",
       "        vertical-align: middle;\n",
       "    }\n",
       "\n",
       "    .dataframe tbody tr th {\n",
       "        vertical-align: top;\n",
       "    }\n",
       "\n",
       "    .dataframe thead th {\n",
       "        text-align: right;\n",
       "    }\n",
       "</style>\n",
       "<table border=\"1\" class=\"dataframe\">\n",
       "  <thead>\n",
       "    <tr style=\"text-align: right;\">\n",
       "      <th></th>\n",
       "      <th>count</th>\n",
       "    </tr>\n",
       "    <tr>\n",
       "      <th>Claim</th>\n",
       "      <th></th>\n",
       "    </tr>\n",
       "  </thead>\n",
       "  <tbody>\n",
       "    <tr>\n",
       "      <th>No</th>\n",
       "      <td>1675</td>\n",
       "    </tr>\n",
       "  </tbody>\n",
       "</table>\n",
       "</div><br><label><b>dtype:</b> int64</label>"
      ],
      "text/plain": [
       "Claim\n",
       "No    1675\n",
       "Name: count, dtype: int64"
      ]
     },
     "execution_count": 16,
     "metadata": {},
     "output_type": "execute_result"
    }
   ],
   "source": [
    "# Look for pattern\n",
    "travel[travel['Net Sales'] <= 0]['Claim'].value_counts()"
   ]
  },
  {
   "cell_type": "code",
   "execution_count": null,
   "metadata": {
    "id": "hmkKBgsQT36W"
   },
   "outputs": [],
   "source": [
    "# Remove data with Age more than 88 years old\n",
    "travel = travel[travel['Net Sales'] > 0]"
   ]
  },
  {
   "cell_type": "code",
   "execution_count": null,
   "metadata": {
    "colab": {
     "base_uri": "https://localhost:8080/"
    },
    "id": "xP0GRE9D9PBy",
    "outputId": "1482bd13-65d1-4afb-af0b-578a0736a7c9"
   },
   "outputs": [
    {
     "name": "stdout",
     "output_type": "stream",
     "text": [
      "The data has 36357 rows and 10 columns remaining\n"
     ]
    }
   ],
   "source": [
    "# Check the current data count\n",
    "row, column = travel.shape\n",
    "print(f\"The data has {row} rows and {column} columns remaining\")"
   ]
  },
  {
   "cell_type": "markdown",
   "metadata": {
    "id": "YlOlDQsG0guY"
   },
   "source": [
    "##Feature Modifying"
   ]
  },
  {
   "cell_type": "markdown",
   "metadata": {
    "id": "WkfRxTTbIBOZ"
   },
   "source": [
    "| **No** | **Column Name**      | **Unique Sample**                                                                 | **Type Data** | **n-unique** |\n",
    "|--------|----------------------|----------------------------------------------------------------------------------|---------------|--------------|\n",
    "| 1      | Agency               | C2B, EPX, JZI, CWT, LWC, ART, CSR, SSI, RAB                                       | Nominal       | 15           |\n",
    "| 2      | Agency Type          | Airlines, Travel Agency                                                          | Nominal       | 2            |\n",
    "| 3      | Distribution Channel | Online, Offline                                                                  | Nominal       | 2            |\n",
    "| 4      | Product Name         | Annual Silver Plan, Cancellation Plan, Basic                                     | Nominal       | 26           |\n",
    "| 5      | Destination          | SINGAPORE, MALAYSIA, INDIA, UNITED STATES                                        | Nominal       | 138          |"
   ]
  },
  {
   "cell_type": "markdown",
   "metadata": {
    "id": "5Dp2pnd9IfRd"
   },
   "source": [
    "**Analysis and Actions:**\n",
    "All categorical data is of the nominal type, meaning there is no inherent order or ranking between the values. Based on the number of unique values (n-unique), the data can be divided into two categories:\n",
    "* n unique <10 : will be used directly in the encoding process.\n",
    "  - Agency Type (2)\n",
    "  - Distribution Channel (2)\n",
    "* n unique >10 : will be modified in order to reduce the number of unique values.\n",
    "  - Destination (138)\n",
    "  - Product Name (26)\n",
    "  - Agency (15)"
   ]
  },
  {
   "cell_type": "markdown",
   "metadata": {
    "id": "xZ6jlKNXNqnW"
   },
   "source": [
    "###Claim"
   ]
  },
  {
   "cell_type": "code",
   "execution_count": null,
   "metadata": {
    "id": "8XBK4mXS1p-5"
   },
   "outputs": [],
   "source": [
    "from sklearn.preprocessing import LabelEncoder"
   ]
  },
  {
   "cell_type": "code",
   "execution_count": null,
   "metadata": {
    "id": "olHHEqbs0lWH"
   },
   "outputs": [],
   "source": [
    "# Label Encoding - Mapping\n",
    "claim_mapping = [\n",
    "    {'col':'Claim',\n",
    "     'mapping':{'No':0, 'Yes':1}}\n",
    "]\n",
    "\n",
    "# Label Encoding - Initialize\n",
    "encoder = LabelEncoder()\n",
    "\n",
    "# Encoding process for \"Claim\"\n",
    "travel['Claim'] = encoder.fit_transform(travel['Claim'])"
   ]
  },
  {
   "cell_type": "code",
   "execution_count": null,
   "metadata": {
    "colab": {
     "base_uri": "https://localhost:8080/",
     "height": 614
    },
    "id": "gdN4SyHmPhwW",
    "outputId": "26b42757-bb8e-4661-d6a0-1cc7d30fb886"
   },
   "outputs": [
    {
     "name": "stderr",
     "output_type": "stream",
     "text": [
      "<ipython-input-22-a3e4c178cdcb>:2: FutureWarning:\n",
      "\n",
      "\n",
      "\n",
      "Passing `palette` without assigning `hue` is deprecated and will be removed in v0.14.0. Assign the `x` variable to `hue` and set `legend=False` for the same effect.\n",
      "\n",
      "\n"
     ]
    },
    {
     "data": {
      "image/png": "[encoded data removed]",
      "text/plain": [
       "<Figure size 640x480 with 1 Axes>"
      ]
     },
     "metadata": {},
     "output_type": "display_data"
    }
   ],
   "source": [
    "# Distribution of Claim (Target)\n",
    "sns.countplot(data=travel, x='Claim', palette='viridis')\n",
    "plt.title('Distribution of Claim (Target)')\n",
    "plt.show()"
   ]
  },
  {
   "cell_type": "markdown",
   "metadata": {
    "id": "qZyT5jg9Nsuv"
   },
   "source": [
    "###Destination"
   ]
  },
  {
   "cell_type": "code",
   "execution_count": null,
   "metadata": {
    "colab": {
     "base_uri": "https://localhost:8080/",
     "height": 272
    },
    "collapsed": true,
    "id": "KUkxSsBzRxIl",
    "outputId": "c450de0f-3533-4bec-8e01-cdf226c777e4"
   },
   "outputs": [
    {
     "data": {
      "text/html": [
       "<div>\n",
       "<style scoped>\n",
       "    .dataframe tbody tr th:only-of-type {\n",
       "        vertical-align: middle;\n",
       "    }\n",
       "\n",
       "    .dataframe tbody tr th {\n",
       "        vertical-align: top;\n",
       "    }\n",
       "\n",
       "    .dataframe thead th {\n",
       "        text-align: right;\n",
       "    }\n",
       "</style>\n",
       "<table border=\"1\" class=\"dataframe\">\n",
       "  <thead>\n",
       "    <tr style=\"text-align: right;\">\n",
       "      <th></th>\n",
       "      <th>count</th>\n",
       "    </tr>\n",
       "    <tr>\n",
       "      <th>Destination</th>\n",
       "      <th></th>\n",
       "    </tr>\n",
       "  </thead>\n",
       "  <tbody>\n",
       "    <tr>\n",
       "      <th>SINGAPORE</th>\n",
       "      <td>7192</td>\n",
       "    </tr>\n",
       "    <tr>\n",
       "      <th>THAILAND</th>\n",
       "      <td>3531</td>\n",
       "    </tr>\n",
       "    <tr>\n",
       "      <th>MALAYSIA</th>\n",
       "      <td>2963</td>\n",
       "    </tr>\n",
       "    <tr>\n",
       "      <th>CHINA</th>\n",
       "      <td>2821</td>\n",
       "    </tr>\n",
       "    <tr>\n",
       "      <th>AUSTRALIA</th>\n",
       "      <td>2184</td>\n",
       "    </tr>\n",
       "  </tbody>\n",
       "</table>\n",
       "</div><br><label><b>dtype:</b> int64</label>"
      ],
      "text/plain": [
       "Destination\n",
       "SINGAPORE    7192\n",
       "THAILAND     3531\n",
       "MALAYSIA     2963\n",
       "CHINA        2821\n",
       "AUSTRALIA    2184\n",
       "Name: count, dtype: int64"
      ]
     },
     "execution_count": 23,
     "metadata": {},
     "output_type": "execute_result"
    }
   ],
   "source": [
    "# Country frequency\n",
    "n_destinasi = travel['Destination'].value_counts().sort_values(ascending=False)\n",
    "\n",
    "# Top30 countries by counts\n",
    "top30_destinasi = n_destinasi.head(30)\n",
    "top30_destinasi.head(5)"
   ]
  },
  {
   "cell_type": "code",
   "execution_count": null,
   "metadata": {
    "id": "Vb8dxIPqb7x9"
   },
   "outputs": [],
   "source": [
    "# Top30 in 7 new categories ('Region')\n",
    "asean = [\"SINGAPORE\", \"THAILAND\", \"MALAYSIA\", \"INDONESIA\", \"PHILIPPINES\", \"VIET NAM\", \"MYANMAR\", \"BRUNEI DARUSSALAM\", \"CAMBODIA\"]\n",
    "east_asia = [\"CHINA\", \"HONG KONG\", \"JAPAN\", \"KOREA, REPUBLIC OF\", \"TAIWAN, PROVINCE OF CHINA\"]\n",
    "south_asia = [\"INDIA\", \"SRI LANKA\"]\n",
    "north_america = [\"UNITED STATES\", \"CANADA\"]\n",
    "europe = [\"UNITED KINGDOM\", \"FRANCE\", \"ITALY\", \"GERMANY\", \"NETHERLANDS\", \"SPAIN\", \"SWITZERLAND\", \"NORWAY\"]\n",
    "oceania = [\"AUSTRALIA\", \"NEW ZEALAND\"]\n",
    "others = [\"UNITED ARAB EMIRATES\", \"SOUTH AFRICA\"]\n",
    "\n",
    "# Define its region every data\n",
    "def get_region(destination):\n",
    "    if destination in asean:\n",
    "        return \"Asean\"\n",
    "    elif destination in east_asia:\n",
    "        return \"East Asia\"\n",
    "    elif destination in south_asia:\n",
    "        return \"South Asia\"\n",
    "    elif destination in north_america:\n",
    "        return \"North America\"\n",
    "    elif destination in europe:\n",
    "        return \"Europe\"\n",
    "    elif destination in others:\n",
    "        return \"Others\"\n",
    "    else:\n",
    "        return \"Others\" #Countries not in top30\n",
    "\n",
    "# Add column 'Region' to Dataframe \"travel\"\n",
    "travel['Region'] = travel['Destination'].apply(get_region)\n"
   ]
  },
  {
   "cell_type": "code",
   "execution_count": null,
   "metadata": {
    "colab": {
     "base_uri": "https://localhost:8080/",
     "height": 304
    },
    "id": "m-qz_AoycqAm",
    "outputId": "cc73e725-ba5f-4bf9-a3e3-16400f39f7c4"
   },
   "outputs": [
    {
     "data": {
      "text/html": [
       "<div>\n",
       "<style scoped>\n",
       "    .dataframe tbody tr th:only-of-type {\n",
       "        vertical-align: middle;\n",
       "    }\n",
       "\n",
       "    .dataframe tbody tr th {\n",
       "        vertical-align: top;\n",
       "    }\n",
       "\n",
       "    .dataframe thead th {\n",
       "        text-align: right;\n",
       "    }\n",
       "</style>\n",
       "<table border=\"1\" class=\"dataframe\">\n",
       "  <thead>\n",
       "    <tr style=\"text-align: right;\">\n",
       "      <th></th>\n",
       "      <th>count</th>\n",
       "    </tr>\n",
       "    <tr>\n",
       "      <th>Region</th>\n",
       "      <th></th>\n",
       "    </tr>\n",
       "  </thead>\n",
       "  <tbody>\n",
       "    <tr>\n",
       "      <th>Asean</th>\n",
       "      <td>19305</td>\n",
       "    </tr>\n",
       "    <tr>\n",
       "      <th>East Asia</th>\n",
       "      <td>7336</td>\n",
       "    </tr>\n",
       "    <tr>\n",
       "      <th>Others</th>\n",
       "      <td>4396</td>\n",
       "    </tr>\n",
       "    <tr>\n",
       "      <th>Europe</th>\n",
       "      <td>2375</td>\n",
       "    </tr>\n",
       "    <tr>\n",
       "      <th>North America</th>\n",
       "      <td>1872</td>\n",
       "    </tr>\n",
       "    <tr>\n",
       "      <th>South Asia</th>\n",
       "      <td>1073</td>\n",
       "    </tr>\n",
       "  </tbody>\n",
       "</table>\n",
       "</div><br><label><b>dtype:</b> int64</label>"
      ],
      "text/plain": [
       "Region\n",
       "Asean            19305\n",
       "East Asia         7336\n",
       "Others            4396\n",
       "Europe            2375\n",
       "North America     1872\n",
       "South Asia        1073\n",
       "Name: count, dtype: int64"
      ]
     },
     "execution_count": 25,
     "metadata": {},
     "output_type": "execute_result"
    }
   ],
   "source": [
    "# Check 'Region'\n",
    "travel['Region'].value_counts()"
   ]
  },
  {
   "cell_type": "code",
   "execution_count": null,
   "metadata": {
    "collapsed": true,
    "id": "K1yFlxUclykE"
   },
   "outputs": [],
   "source": [
    "travel.drop(columns='Destination', inplace=True)"
   ]
  },
  {
   "cell_type": "markdown",
   "metadata": {
    "id": "AmrCh9TRNzcd"
   },
   "source": [
    "###Product Name"
   ]
  },
  {
   "cell_type": "code",
   "execution_count": null,
   "metadata": {
    "colab": {
     "base_uri": "https://localhost:8080/",
     "height": 429
    },
    "id": "icfUEdX4CnP0",
    "outputId": "0b8f7abf-9ed9-4d97-ede1-a27c3f42f3b1"
   },
   "outputs": [
    {
     "data": {
      "text/html": [
       "<div>\n",
       "<style scoped>\n",
       "    .dataframe tbody tr th:only-of-type {\n",
       "        vertical-align: middle;\n",
       "    }\n",
       "\n",
       "    .dataframe tbody tr th {\n",
       "        vertical-align: top;\n",
       "    }\n",
       "\n",
       "    .dataframe thead th {\n",
       "        text-align: right;\n",
       "    }\n",
       "</style>\n",
       "<table border=\"1\" class=\"dataframe\">\n",
       "  <thead>\n",
       "    <tr style=\"text-align: right;\">\n",
       "      <th></th>\n",
       "      <th>count</th>\n",
       "    </tr>\n",
       "    <tr>\n",
       "      <th>Product Name</th>\n",
       "      <th></th>\n",
       "    </tr>\n",
       "  </thead>\n",
       "  <tbody>\n",
       "    <tr>\n",
       "      <th>Cancellation Plan</th>\n",
       "      <td>10751</td>\n",
       "    </tr>\n",
       "    <tr>\n",
       "      <th>2 way Comprehensive Plan</th>\n",
       "      <td>7933</td>\n",
       "    </tr>\n",
       "    <tr>\n",
       "      <th>Rental Vehicle Excess Insurance</th>\n",
       "      <td>4779</td>\n",
       "    </tr>\n",
       "    <tr>\n",
       "      <th>Basic Plan</th>\n",
       "      <td>3528</td>\n",
       "    </tr>\n",
       "    <tr>\n",
       "      <th>Bronze Plan</th>\n",
       "      <td>2578</td>\n",
       "    </tr>\n",
       "    <tr>\n",
       "      <th>1 way Comprehensive Plan</th>\n",
       "      <td>1802</td>\n",
       "    </tr>\n",
       "    <tr>\n",
       "      <th>Silver Plan</th>\n",
       "      <td>1456</td>\n",
       "    </tr>\n",
       "    <tr>\n",
       "      <th>Value Plan</th>\n",
       "      <td>1183</td>\n",
       "    </tr>\n",
       "    <tr>\n",
       "      <th>Ticket Protector</th>\n",
       "      <td>691</td>\n",
       "    </tr>\n",
       "    <tr>\n",
       "      <th>Travel Cruise Protect</th>\n",
       "      <td>321</td>\n",
       "    </tr>\n",
       "  </tbody>\n",
       "</table>\n",
       "</div><br><label><b>dtype:</b> int64</label>"
      ],
      "text/plain": [
       "Product Name\n",
       "Cancellation Plan                  10751\n",
       "2 way Comprehensive Plan            7933\n",
       "Rental Vehicle Excess Insurance     4779\n",
       "Basic Plan                          3528\n",
       "Bronze Plan                         2578\n",
       "1 way Comprehensive Plan            1802\n",
       "Silver Plan                         1456\n",
       "Value Plan                          1183\n",
       "Ticket Protector                     691\n",
       "Travel Cruise Protect                321\n",
       "Name: count, dtype: int64"
      ]
     },
     "execution_count": 27,
     "metadata": {},
     "output_type": "execute_result"
    }
   ],
   "source": [
    "# Top10 Product Name by counts\n",
    "travel['Product Name'].value_counts().head(10)"
   ]
  },
  {
   "cell_type": "code",
   "execution_count": null,
   "metadata": {
    "id": "wctvK4Aa_eIJ"
   },
   "outputs": [],
   "source": [
    "# List from Top9 Product name\n",
    "top9 = travel['Product Name'].value_counts().head(9).index\n",
    "\n",
    "# Change outside top9 to 'Others'\n",
    "def get_product(product):\n",
    "  if product in top9:\n",
    "    return product\n",
    "  else:\n",
    "    return \"Others Product\"\n",
    "\n",
    "# Reset column 'Product Name'\n",
    "travel['Product Name'] = travel['Product Name'].apply(get_product)"
   ]
  },
  {
   "cell_type": "code",
   "execution_count": null,
   "metadata": {
    "colab": {
     "base_uri": "https://localhost:8080/",
     "height": 429
    },
    "id": "JUBpOarZBuBO",
    "outputId": "3938bc2e-4800-4a5c-b32a-adc2944fffec"
   },
   "outputs": [
    {
     "data": {
      "text/html": [
       "<div>\n",
       "<style scoped>\n",
       "    .dataframe tbody tr th:only-of-type {\n",
       "        vertical-align: middle;\n",
       "    }\n",
       "\n",
       "    .dataframe tbody tr th {\n",
       "        vertical-align: top;\n",
       "    }\n",
       "\n",
       "    .dataframe thead th {\n",
       "        text-align: right;\n",
       "    }\n",
       "</style>\n",
       "<table border=\"1\" class=\"dataframe\">\n",
       "  <thead>\n",
       "    <tr style=\"text-align: right;\">\n",
       "      <th></th>\n",
       "      <th>count</th>\n",
       "    </tr>\n",
       "    <tr>\n",
       "      <th>Product Name</th>\n",
       "      <th></th>\n",
       "    </tr>\n",
       "  </thead>\n",
       "  <tbody>\n",
       "    <tr>\n",
       "      <th>Cancellation Plan</th>\n",
       "      <td>10751</td>\n",
       "    </tr>\n",
       "    <tr>\n",
       "      <th>2 way Comprehensive Plan</th>\n",
       "      <td>7933</td>\n",
       "    </tr>\n",
       "    <tr>\n",
       "      <th>Rental Vehicle Excess Insurance</th>\n",
       "      <td>4779</td>\n",
       "    </tr>\n",
       "    <tr>\n",
       "      <th>Basic Plan</th>\n",
       "      <td>3528</td>\n",
       "    </tr>\n",
       "    <tr>\n",
       "      <th>Bronze Plan</th>\n",
       "      <td>2578</td>\n",
       "    </tr>\n",
       "    <tr>\n",
       "      <th>1 way Comprehensive Plan</th>\n",
       "      <td>1802</td>\n",
       "    </tr>\n",
       "    <tr>\n",
       "      <th>Others Product</th>\n",
       "      <td>1656</td>\n",
       "    </tr>\n",
       "    <tr>\n",
       "      <th>Silver Plan</th>\n",
       "      <td>1456</td>\n",
       "    </tr>\n",
       "    <tr>\n",
       "      <th>Value Plan</th>\n",
       "      <td>1183</td>\n",
       "    </tr>\n",
       "    <tr>\n",
       "      <th>Ticket Protector</th>\n",
       "      <td>691</td>\n",
       "    </tr>\n",
       "  </tbody>\n",
       "</table>\n",
       "</div><br><label><b>dtype:</b> int64</label>"
      ],
      "text/plain": [
       "Product Name\n",
       "Cancellation Plan                  10751\n",
       "2 way Comprehensive Plan            7933\n",
       "Rental Vehicle Excess Insurance     4779\n",
       "Basic Plan                          3528\n",
       "Bronze Plan                         2578\n",
       "1 way Comprehensive Plan            1802\n",
       "Others Product                      1656\n",
       "Silver Plan                         1456\n",
       "Value Plan                          1183\n",
       "Ticket Protector                     691\n",
       "Name: count, dtype: int64"
      ]
     },
     "execution_count": 29,
     "metadata": {},
     "output_type": "execute_result"
    }
   ],
   "source": [
    "travel['Product Name'].value_counts()"
   ]
  },
  {
   "cell_type": "markdown",
   "metadata": {
    "id": "vlun00cSCRx4"
   },
   "source": [
    "###Agency"
   ]
  },
  {
   "cell_type": "code",
   "execution_count": null,
   "metadata": {
    "colab": {
     "base_uri": "https://localhost:8080/",
     "height": 304
    },
    "id": "ugUupfzOzV_k",
    "outputId": "c66a18da-c072-4362-8058-192c1ebb6adf"
   },
   "outputs": [
    {
     "data": {
      "text/html": [
       "<div>\n",
       "<style scoped>\n",
       "    .dataframe tbody tr th:only-of-type {\n",
       "        vertical-align: middle;\n",
       "    }\n",
       "\n",
       "    .dataframe tbody tr th {\n",
       "        vertical-align: top;\n",
       "    }\n",
       "\n",
       "    .dataframe thead th {\n",
       "        text-align: right;\n",
       "    }\n",
       "</style>\n",
       "<table border=\"1\" class=\"dataframe\">\n",
       "  <thead>\n",
       "    <tr style=\"text-align: right;\">\n",
       "      <th></th>\n",
       "      <th>count</th>\n",
       "    </tr>\n",
       "    <tr>\n",
       "      <th>Agency</th>\n",
       "      <th></th>\n",
       "    </tr>\n",
       "  </thead>\n",
       "  <tbody>\n",
       "    <tr>\n",
       "      <th>EPX</th>\n",
       "      <td>20486</td>\n",
       "    </tr>\n",
       "    <tr>\n",
       "      <th>CWT</th>\n",
       "      <td>4779</td>\n",
       "    </tr>\n",
       "    <tr>\n",
       "      <th>C2B</th>\n",
       "      <td>4535</td>\n",
       "    </tr>\n",
       "    <tr>\n",
       "      <th>JZI</th>\n",
       "      <td>4090</td>\n",
       "    </tr>\n",
       "    <tr>\n",
       "      <th>SSI</th>\n",
       "      <td>691</td>\n",
       "    </tr>\n",
       "    <tr>\n",
       "      <th>RAB</th>\n",
       "      <td>435</td>\n",
       "    </tr>\n",
       "  </tbody>\n",
       "</table>\n",
       "</div><br><label><b>dtype:</b> int64</label>"
      ],
      "text/plain": [
       "Agency\n",
       "EPX    20486\n",
       "CWT     4779\n",
       "C2B     4535\n",
       "JZI     4090\n",
       "SSI      691\n",
       "RAB      435\n",
       "Name: count, dtype: int64"
      ]
     },
     "execution_count": 30,
     "metadata": {},
     "output_type": "execute_result"
    }
   ],
   "source": [
    "# Counts of Agency\n",
    "travel['Agency'].value_counts().head(6)"
   ]
  },
  {
   "cell_type": "code",
   "execution_count": null,
   "metadata": {
    "id": "z7U8dY_dLa0t"
   },
   "outputs": [],
   "source": [
    "# List Top4 Agency\n",
    "agency_unchanged = ['EPX','CWT','C2B','JZI']\n",
    "\n",
    "# Change outside top4 to 'Others'\n",
    "def get_agency(agency):\n",
    "  if agency in agency_unchanged:\n",
    "    return agency\n",
    "  else:\n",
    "    return \"Others\"\n",
    "\n",
    "# Reset column 'Agency'\n",
    "travel['Agency'] = travel['Agency'].apply(get_agency)"
   ]
  },
  {
   "cell_type": "code",
   "execution_count": null,
   "metadata": {
    "colab": {
     "base_uri": "https://localhost:8080/",
     "height": 272
    },
    "id": "ca09QwgdGulh",
    "outputId": "56464240-a193-4e83-919e-e876f0aaa70f"
   },
   "outputs": [
    {
     "data": {
      "text/html": [
       "<div>\n",
       "<style scoped>\n",
       "    .dataframe tbody tr th:only-of-type {\n",
       "        vertical-align: middle;\n",
       "    }\n",
       "\n",
       "    .dataframe tbody tr th {\n",
       "        vertical-align: top;\n",
       "    }\n",
       "\n",
       "    .dataframe thead th {\n",
       "        text-align: right;\n",
       "    }\n",
       "</style>\n",
       "<table border=\"1\" class=\"dataframe\">\n",
       "  <thead>\n",
       "    <tr style=\"text-align: right;\">\n",
       "      <th></th>\n",
       "      <th>count</th>\n",
       "    </tr>\n",
       "    <tr>\n",
       "      <th>Agency</th>\n",
       "      <th></th>\n",
       "    </tr>\n",
       "  </thead>\n",
       "  <tbody>\n",
       "    <tr>\n",
       "      <th>EPX</th>\n",
       "      <td>20486</td>\n",
       "    </tr>\n",
       "    <tr>\n",
       "      <th>CWT</th>\n",
       "      <td>4779</td>\n",
       "    </tr>\n",
       "    <tr>\n",
       "      <th>C2B</th>\n",
       "      <td>4535</td>\n",
       "    </tr>\n",
       "    <tr>\n",
       "      <th>JZI</th>\n",
       "      <td>4090</td>\n",
       "    </tr>\n",
       "    <tr>\n",
       "      <th>Others</th>\n",
       "      <td>2467</td>\n",
       "    </tr>\n",
       "  </tbody>\n",
       "</table>\n",
       "</div><br><label><b>dtype:</b> int64</label>"
      ],
      "text/plain": [
       "Agency\n",
       "EPX       20486\n",
       "CWT        4779\n",
       "C2B        4535\n",
       "JZI        4090\n",
       "Others     2467\n",
       "Name: count, dtype: int64"
      ]
     },
     "execution_count": 32,
     "metadata": {},
     "output_type": "execute_result"
    }
   ],
   "source": [
    "# Check 'Agency' after modifying\n",
    "travel['Agency'].value_counts()"
   ]
  },
  {
   "cell_type": "markdown",
   "metadata": {
    "id": "hjBECa1F9lNF"
   },
   "source": [
    "##Summary Data Cleaning"
   ]
  },
  {
   "cell_type": "markdown",
   "metadata": {
    "id": "IvdQBcedzSPR"
   },
   "source": [
    "**Summary of Data Cleaning Process:**\n",
    "1. Raw data before cleaning:\n",
    "  - Total data points before cleaning : 44.328\n",
    "\n",
    "2. Data Removed During Cleaning\n",
    "  - Duplicate Data : 5.004 (Identical Duplicates)\n",
    "  - Missing Value : 0 (No Data Removed)\n",
    "  - Outlier : 2.967 (Outlier)\n",
    "  - Total Data removed: 7.971\n",
    "\n",
    "3. Target and Feature Modifying\n",
    "  - Claim (Target) : convert from Yes/No Option to Binary Number.\n",
    "  - Destination : convert from 138 n-unique to 7 n-unique\n",
    "  - Product : convert from 26 n-unique to 10 n-unique\n",
    "  - Agency : convert from 16 n-unique to 5 n-unique\n",
    "\n",
    "4. Current data after cleaning and modifying:\n",
    "  - Total data points : 36.357\n",
    "  - Percentage of remaining data : 82,02% from Raw Data"
   ]
  },
  {
   "cell_type": "code",
   "execution_count": null,
   "metadata": {
    "id": "CbED2p_z9gDp"
   },
   "outputs": [],
   "source": [
    "# Download the cleaning dataset\n",
    "travel.to_csv('New travel cleaned.csv', index=False)"
   ]
  },
  {
   "cell_type": "markdown",
   "metadata": {
    "id": "rGfXimIYAdJ-"
   },
   "source": [
    "#Modelling Process and Optimalization"
   ]
  },
  {
   "cell_type": "markdown",
   "metadata": {
    "id": "wNwrSv7ONYae"
   },
   "source": [
    "**Import Library**"
   ]
  },
  {
   "cell_type": "code",
   "execution_count": null,
   "metadata": {
    "colab": {
     "base_uri": "https://localhost:8080/"
    },
    "collapsed": true,
    "id": "bd2yXKwnNX5_",
    "outputId": "8d22b9ec-2319-4173-b9f3-dd5507309b89"
   },
   "outputs": [
    {
     "name": "stdout",
     "output_type": "stream",
     "text": [
      "Requirement already satisfied: category_encoders in /usr/local/lib/python3.11/dist-packages (2.8.0)\n",
      "Requirement already satisfied: numpy>=1.14.0 in /usr/local/lib/python3.11/dist-packages (from category_encoders) (1.26.4)\n",
      "Requirement already satisfied: pandas>=1.0.5 in /usr/local/lib/python3.11/dist-packages (from category_encoders) (2.2.2)\n",
      "Requirement already satisfied: patsy>=0.5.1 in /usr/local/lib/python3.11/dist-packages (from category_encoders) (1.0.1)\n",
      "Collecting scikit-learn>=1.6.0 (from category_encoders)\n",
      "  Using cached scikit_learn-1.6.1-cp311-cp311-manylinux_2_17_x86_64.manylinux2014_x86_64.whl.metadata (18 kB)\n",
      "Requirement already satisfied: scipy>=1.0.0 in /usr/local/lib/python3.11/dist-packages (from category_encoders) (1.13.1)\n",
      "Requirement already satisfied: statsmodels>=0.9.0 in /usr/local/lib/python3.11/dist-packages (from category_encoders) (0.14.4)\n",
      "Requirement already satisfied: python-dateutil>=2.8.2 in /usr/local/lib/python3.11/dist-packages (from pandas>=1.0.5->category_encoders) (2.8.2)\n",
      "Requirement already satisfied: pytz>=2020.1 in /usr/local/lib/python3.11/dist-packages (from pandas>=1.0.5->category_encoders) (2024.2)\n",
      "Requirement already satisfied: tzdata>=2022.7 in /usr/local/lib/python3.11/dist-packages (from pandas>=1.0.5->category_encoders) (2024.2)\n",
      "Requirement already satisfied: joblib>=1.2.0 in /usr/local/lib/python3.11/dist-packages (from scikit-learn>=1.6.0->category_encoders) (1.4.2)\n",
      "Requirement already satisfied: threadpoolctl>=3.1.0 in /usr/local/lib/python3.11/dist-packages (from scikit-learn>=1.6.0->category_encoders) (3.5.0)\n",
      "Requirement already satisfied: packaging>=21.3 in /usr/local/lib/python3.11/dist-packages (from statsmodels>=0.9.0->category_encoders) (24.2)\n",
      "Requirement already satisfied: six>=1.5 in /usr/local/lib/python3.11/dist-packages (from python-dateutil>=2.8.2->pandas>=1.0.5->category_encoders) (1.17.0)\n",
      "Using cached scikit_learn-1.6.1-cp311-cp311-manylinux_2_17_x86_64.manylinux2014_x86_64.whl (13.5 MB)\n",
      "Installing collected packages: scikit-learn\n",
      "  Attempting uninstall: scikit-learn\n",
      "    Found existing installation: scikit-learn 1.3.0\n",
      "    Uninstalling scikit-learn-1.3.0:\n",
      "      Successfully uninstalled scikit-learn-1.3.0\n",
      "Successfully installed scikit-learn-1.6.1\n"
     ]
    }
   ],
   "source": [
    "pip install category_encoders"
   ]
  },
  {
   "cell_type": "code",
   "execution_count": null,
   "metadata": {
    "colab": {
     "base_uri": "https://localhost:8080/",
     "height": 428
    },
    "id": "gcVl5ri9L31Q",
    "outputId": "e4f50409-82ec-4098-9856-ed0884d6f7de"
   },
   "outputs": [
    {
     "name": "stdout",
     "output_type": "stream",
     "text": [
      "Collecting scikit-learn==1.3.0\n",
      "  Using cached scikit_learn-1.3.0-cp311-cp311-manylinux_2_17_x86_64.manylinux2014_x86_64.whl.metadata (11 kB)\n",
      "Requirement already satisfied: numpy>=1.17.3 in /usr/local/lib/python3.11/dist-packages (from scikit-learn==1.3.0) (1.26.4)\n",
      "Requirement already satisfied: scipy>=1.5.0 in /usr/local/lib/python3.11/dist-packages (from scikit-learn==1.3.0) (1.13.1)\n",
      "Requirement already satisfied: joblib>=1.1.1 in /usr/local/lib/python3.11/dist-packages (from scikit-learn==1.3.0) (1.4.2)\n",
      "Requirement already satisfied: threadpoolctl>=2.0.0 in /usr/local/lib/python3.11/dist-packages (from scikit-learn==1.3.0) (3.5.0)\n",
      "Using cached scikit_learn-1.3.0-cp311-cp311-manylinux_2_17_x86_64.manylinux2014_x86_64.whl (10.9 MB)\n",
      "Installing collected packages: scikit-learn\n",
      "  Attempting uninstall: scikit-learn\n",
      "    Found existing installation: scikit-learn 1.6.1\n",
      "    Uninstalling scikit-learn-1.6.1:\n",
      "      Successfully uninstalled scikit-learn-1.6.1\n",
      "\u001b[31mERROR: pip's dependency resolver does not currently take into account all the packages that are installed. This behaviour is the source of the following dependency conflicts.\n",
      "category-encoders 2.8.0 requires scikit-learn>=1.6.0, but you have scikit-learn 1.3.0 which is incompatible.\n",
      "imbalanced-learn 0.13.0 requires scikit-learn<2,>=1.3.2, but you have scikit-learn 1.3.0 which is incompatible.\n",
      "mlxtend 0.23.3 requires scikit-learn>=1.3.1, but you have scikit-learn 1.3.0 which is incompatible.\u001b[0m\u001b[31m\n",
      "\u001b[0mSuccessfully installed scikit-learn-1.3.0\n"
     ]
    },
    {
     "data": {
      "application/vnd.colab-display-data+json": {
       "id": "f8a6d7ba82314b7881e3638083dca947",
       "pip_warning": {
        "packages": [
         "sklearn"
        ]
       }
      }
     },
     "metadata": {},
     "output_type": "display_data"
    }
   ],
   "source": [
    "!pip install scikit-learn==1.3.0"
   ]
  },
  {
   "cell_type": "code",
   "execution_count": null,
   "metadata": {
    "colab": {
     "background_save": true
    },
    "collapsed": true,
    "id": "P3SljDieNdB5"
   },
   "outputs": [],
   "source": [
    "# Library : Split\n",
    "from sklearn.model_selection import train_test_split\n",
    "\n",
    "# Library : Modular\n",
    "from sklearn.compose import ColumnTransformer\n",
    "from imblearn.pipeline import Pipeline\n",
    "\n",
    "# Library : Feature Engineering\n",
    "from sklearn.preprocessing import OneHotEncoder     #One Hot Encoding\n",
    "from sklearn.preprocessing import StandardScaler    #Standar Scalling\n",
    "\n",
    "# Library : Imbalanced Data Handling\n",
    "from imblearn.over_sampling import RandomOverSampler, SMOTE\n",
    "from imblearn.under_sampling import RandomUnderSampler, NearMiss\n",
    "\n",
    "# Library : Various classification models\n",
    "from sklearn.linear_model import LogisticRegression\n",
    "from sklearn.tree import DecisionTreeClassifier\n",
    "from sklearn.neighbors import KNeighborsClassifier\n",
    "from sklearn.ensemble import RandomForestClassifier\n",
    "from xgboost import XGBClassifier\n",
    "import lightgbm as lgb\n",
    "\n",
    "# Library : Model Evaluation\n",
    "from sklearn.metrics import accuracy_score, recall_score, precision_score, f1_score    #Accuracy, Recall, Precision, F1\n",
    "from sklearn.metrics import RocCurveDisplay,roc_auc_score,PrecisionRecallDisplay\n",
    "from sklearn.metrics import fbeta_score,average_precision_score,make_scorer\n",
    "from sklearn.metrics import confusion_matrix, classification_report\n",
    "\n",
    "# Library : Cross Validation\n",
    "from sklearn.model_selection import cross_val_score, StratifiedKFold\n",
    "\n",
    "# Library : Hyperparameter Tuning\n",
    "from sklearn.model_selection import RandomizedSearchCV"
   ]
  },
  {
   "cell_type": "markdown",
   "metadata": {
    "id": "UsBAjNbPTAbI"
   },
   "source": [
    "##Preparation Before Modelling"
   ]
  },
  {
   "cell_type": "markdown",
   "metadata": {
    "id": "nU9lxqa2Ccf5"
   },
   "source": [
    "###Encoding and Scaling"
   ]
  },
  {
   "cell_type": "markdown",
   "metadata": {
    "id": "ax2Al-f8Cm03"
   },
   "source": [
    "**Encoding**"
   ]
  },
  {
   "cell_type": "markdown",
   "metadata": {
    "id": "27926VC1Lh01"
   },
   "source": [
    "| **No** | **Column Name**      | **Unique Sample**                                                                 | **Type Data** | **n-unique** | **Type Encoding** |\n",
    "|--------|-----------------------|----------------------------------------------------------------------------------|--------------|-------------|-------------------|\n",
    "| 1      | Agency               | C2B, EPX, JZI, CWT, LWC, ART, CSR, SSI, RAB                                       | Nominal      | 15           | One-hot Encoding  |\n",
    "| 2      | Agency Type          | Airlines, Travel Agency                                                          | Nominal      | 2           | One-hot Encoding  |\n",
    "| 3      | Distribution Channel | Online, Offline                                                                  | Nominal      | 2           | One-hot Encoding  |\n",
    "| 4      | Product Name         | Annual Silver Plan, Cancellation Plan, Basic                             | Nominal      | 26          | One-hot Encoding  |\n",
    "| 5      | Destination          | SINGAPORE, MALAYSIA, INDIA, UNITED STATES                            | Nominal      | 138         | One-hot Encoding  |"
   ]
  },
  {
   "cell_type": "code",
   "execution_count": null,
   "metadata": {
    "colab": {
     "background_save": true
    },
    "id": "3ZcTV2hHI_4D"
   },
   "outputs": [],
   "source": [
    "# List for One-hot Encoding\n",
    "onehot_var = ['Agency','Agency Type','Distribution Channel','Product Name','Region']\n",
    "\n",
    "# One-Hot Encoding\n",
    "onehot_encoder = OneHotEncoder(drop='first')"
   ]
  },
  {
   "cell_type": "code",
   "execution_count": null,
   "metadata": {
    "colab": {
     "background_save": true
    },
    "id": "O3C2YfB4JaQB"
   },
   "outputs": [],
   "source": [
    "# Transformer\n",
    "transformer = ColumnTransformer([\n",
    "    ('Onehot', onehot_encoder, onehot_var)],\n",
    "    remainder='passthrough')"
   ]
  },
  {
   "cell_type": "markdown",
   "metadata": {
    "id": "_cgSzLnwa8Vl"
   },
   "source": [
    "**Scaling**"
   ]
  },
  {
   "cell_type": "code",
   "execution_count": null,
   "metadata": {
    "colab": {
     "background_save": true
    },
    "id": "wNEzyCf3aiyi"
   },
   "outputs": [],
   "source": [
    "# Scaling data\n",
    "scaler = StandardScaler()"
   ]
  },
  {
   "cell_type": "markdown",
   "metadata": {
    "id": "Jtm-DtmN9nfZ"
   },
   "source": [
    "###Handling Imbalance Classification"
   ]
  },
  {
   "cell_type": "code",
   "execution_count": null,
   "metadata": {
    "colab": {
     "background_save": true
    },
    "id": "EBpwJ0Vm9Xtw"
   },
   "outputs": [],
   "source": [
    "# Define Sampling Candidate\n",
    "smote = SMOTE(random_state=0)\n",
    "rus = RandomUnderSampler(random_state=0)\n",
    "ros = RandomOverSampler(random_state=0)"
   ]
  },
  {
   "cell_type": "markdown",
   "metadata": {
    "id": "KhTNPuCe_dYT"
   },
   "source": [
    "###Define Algorithms and Metrics Evaluation"
   ]
  },
  {
   "cell_type": "markdown",
   "metadata": {
    "id": "APq5bSZEZm8u"
   },
   "source": [
    "**Define Model Candidate**"
   ]
  },
  {
   "cell_type": "code",
   "execution_count": null,
   "metadata": {
    "colab": {
     "background_save": true
    },
    "id": "ZKAVGF1k_3Bz"
   },
   "outputs": [],
   "source": [
    "# Define Algorithm candidate for Classification Model\n",
    "lor = LogisticRegression()\n",
    "knn = KNeighborsClassifier()\n",
    "dt = DecisionTreeClassifier(random_state=1)\n",
    "rf = RandomForestClassifier(random_state=1)\n",
    "xgb = XGBClassifier(random_state=1, objective='binary:logistic')\n",
    "lgbm = lgb.LGBMClassifier()\n",
    "\n",
    "# All the algorithm\n",
    "models = [lor, knn, dt, rf, xgb, lgbm]"
   ]
  },
  {
   "cell_type": "markdown",
   "metadata": {
    "id": "M1tDPgbEZsQp"
   },
   "source": [
    "**Define Metric for Model Evaluation**"
   ]
  },
  {
   "cell_type": "code",
   "execution_count": null,
   "metadata": {
    "id": "1WHtOXGVaC8F"
   },
   "outputs": [],
   "source": [
    "# Metric : ROC AUC\n",
    "score_recall = []\n",
    "mean_recall = []\n",
    "std_recall = []"
   ]
  },
  {
   "cell_type": "markdown",
   "metadata": {
    "id": "zhHxPvaLbAtS"
   },
   "source": [
    "###Data Splitting"
   ]
  },
  {
   "cell_type": "code",
   "execution_count": null,
   "metadata": {
    "id": "Hnk5QtdybHQw"
   },
   "outputs": [],
   "source": [
    "# Define Target (y) and Feature (X)\n",
    "X = travel.drop(['Claim'], axis=1)\n",
    "y = travel['Claim']"
   ]
  },
  {
   "cell_type": "code",
   "execution_count": null,
   "metadata": {
    "id": "iYs0lz4z_aTD"
   },
   "outputs": [],
   "source": [
    "# Split data : Train (80%) dan Test (20%) dengan random_state=1\n",
    "X_train, X_test, y_train, y_test = train_test_split(\n",
    "    X,\n",
    "    y,\n",
    "    test_size=0.2,\n",
    "    random_state=1)"
   ]
  },
  {
   "cell_type": "markdown",
   "metadata": {
    "id": "KSiGNZhDLvC1"
   },
   "source": [
    "##Base Model Fitting and Evaluation"
   ]
  },
  {
   "cell_type": "markdown",
   "metadata": {
    "id": "L2x2giyiTZAj"
   },
   "source": [
    "**Build Candidate Models with Train Set**"
   ]
  },
  {
   "cell_type": "code",
   "execution_count": null,
   "metadata": {
    "colab": {
     "base_uri": "https://localhost:8080/"
    },
    "collapsed": true,
    "id": "EbOMbrJNLu0z",
    "outputId": "f28c77a1-c208-4291-bce7-53c1d1178bbc"
   },
   "outputs": [
    {
     "name": "stdout",
     "output_type": "stream",
     "text": [
      "[LightGBM] [Info] Number of positive: 22895, number of negative: 22895\n",
      "[LightGBM] [Info] Auto-choosing row-wise multi-threading, the overhead of testing was 0.009327 seconds.\n",
      "You can set `force_row_wise=true` to remove the overhead.\n",
      "And if memory is not enough, you can set `force_col_wise=true`.\n",
      "[LightGBM] [Info] Total Bins 2603\n",
      "[LightGBM] [Info] Number of data points in the train set: 45790, number of used features: 24\n",
      "[LightGBM] [Info] [binary:BoostFromScore]: pavg=0.500000 -> initscore=0.000000\n",
      "[LightGBM] [Info] Number of positive: 22895, number of negative: 22895\n",
      "[LightGBM] [Info] Auto-choosing row-wise multi-threading, the overhead of testing was 0.009791 seconds.\n",
      "You can set `force_row_wise=true` to remove the overhead.\n",
      "And if memory is not enough, you can set `force_col_wise=true`.\n",
      "[LightGBM] [Info] Total Bins 3011\n",
      "[LightGBM] [Info] Number of data points in the train set: 45790, number of used features: 24\n",
      "[LightGBM] [Info] [binary:BoostFromScore]: pavg=0.500000 -> initscore=0.000000\n",
      "[LightGBM] [Info] Number of positive: 22895, number of negative: 22895\n",
      "[LightGBM] [Info] Auto-choosing row-wise multi-threading, the overhead of testing was 0.009517 seconds.\n",
      "You can set `force_row_wise=true` to remove the overhead.\n",
      "And if memory is not enough, you can set `force_col_wise=true`.\n",
      "[LightGBM] [Info] Total Bins 3015\n",
      "[LightGBM] [Info] Number of data points in the train set: 45790, number of used features: 24\n",
      "[LightGBM] [Info] [binary:BoostFromScore]: pavg=0.500000 -> initscore=0.000000\n",
      "[LightGBM] [Info] Number of positive: 22895, number of negative: 22895\n",
      "[LightGBM] [Info] Auto-choosing row-wise multi-threading, the overhead of testing was 0.009690 seconds.\n",
      "You can set `force_row_wise=true` to remove the overhead.\n",
      "And if memory is not enough, you can set `force_col_wise=true`.\n",
      "[LightGBM] [Info] Total Bins 2821\n",
      "[LightGBM] [Info] Number of data points in the train set: 45790, number of used features: 24\n",
      "[LightGBM] [Info] [binary:BoostFromScore]: pavg=0.500000 -> initscore=0.000000\n",
      "[LightGBM] [Info] Number of positive: 22896, number of negative: 22896\n",
      "[LightGBM] [Info] Auto-choosing row-wise multi-threading, the overhead of testing was 0.009518 seconds.\n",
      "You can set `force_row_wise=true` to remove the overhead.\n",
      "And if memory is not enough, you can set `force_col_wise=true`.\n",
      "[LightGBM] [Info] Total Bins 2633\n",
      "[LightGBM] [Info] Number of data points in the train set: 45792, number of used features: 24\n",
      "[LightGBM] [Info] [binary:BoostFromScore]: pavg=0.500000 -> initscore=0.000000\n"
     ]
    }
   ],
   "source": [
    "for i in models:\n",
    "    skfold=StratifiedKFold(n_splits=5)\n",
    "    estimator=Pipeline([                #Pipeline\n",
    "        ('preprocess',transformer),     #Step-1: Preprocessing\n",
    "        ('scaler', scaler),             #Step-2: Scalling\n",
    "        ('resampler', smote),           #Step-3: Resampling\n",
    "        ('model',i),                    #Step-4: Modelling\n",
    "        ])\n",
    "\n",
    "    model_cv=cross_val_score(\n",
    "        estimator,\n",
    "        X_train,\n",
    "        y_train,\n",
    "        cv=skfold,\n",
    "        scoring='recall'\n",
    "        )\n",
    "\n",
    "    score_recall.append(model_cv)\n",
    "    mean_recall.append(model_cv.mean())\n",
    "    std_recall.append(model_cv.std())"
   ]
  },
  {
   "cell_type": "code",
   "execution_count": null,
   "metadata": {
    "colab": {
     "base_uri": "https://localhost:8080/",
     "height": 238
    },
    "id": "cTBJzv3Ce4sN",
    "outputId": "4809a04d-8204-482b-d7a1-530f0e3b0b4a"
   },
   "outputs": [
    {
     "data": {
      "application/vnd.google.colaboratory.intrinsic+json": {
       "summary": "{\n  \"name\": \"})\",\n  \"rows\": 6,\n  \"fields\": [\n    {\n      \"column\": \"models\",\n      \"properties\": {\n        \"dtype\": \"string\",\n        \"num_unique_values\": 6,\n        \"samples\": [\n          \"Logistic Regression\",\n          \"KNN\",\n          \"LightGBM\"\n        ],\n        \"semantic_type\": \"\",\n        \"description\": \"\"\n      }\n    },\n    {\n      \"column\": \"Mean_Recall\",\n      \"properties\": {\n        \"dtype\": \"number\",\n        \"std\": 0.20003866987462898,\n        \"min\": 0.12450240219629376,\n        \"max\": 0.6631663234957675,\n        \"num_unique_values\": 6,\n        \"samples\": [\n          0.6631663234957675,\n          0.3219858156028369,\n          0.24250743536948066\n        ],\n        \"semantic_type\": \"\",\n        \"description\": \"\"\n      }\n    },\n    {\n      \"column\": \"Std_Recall\",\n      \"properties\": {\n        \"dtype\": \"number\",\n        \"std\": 0.005762237047679727,\n        \"min\": 0.019761135339979374,\n        \"max\": 0.03476760636176853,\n        \"num_unique_values\": 6,\n        \"samples\": [\n          0.022875726259379326,\n          0.03476760636176853,\n          0.031724866391873496\n        ],\n        \"semantic_type\": \"\",\n        \"description\": \"\"\n      }\n    }\n  ]\n}",
       "type": "dataframe"
      },
      "text/html": [
       "\n",
       "  <div id=\"df-54dcc227-a221-4852-830b-951da1dccd37\" class=\"colab-df-container\">\n",
       "    <div>\n",
       "<style scoped>\n",
       "    .dataframe tbody tr th:only-of-type {\n",
       "        vertical-align: middle;\n",
       "    }\n",
       "\n",
       "    .dataframe tbody tr th {\n",
       "        vertical-align: top;\n",
       "    }\n",
       "\n",
       "    .dataframe thead th {\n",
       "        text-align: right;\n",
       "    }\n",
       "</style>\n",
       "<table border=\"1\" class=\"dataframe\">\n",
       "  <thead>\n",
       "    <tr style=\"text-align: right;\">\n",
       "      <th></th>\n",
       "      <th>models</th>\n",
       "      <th>Mean_Recall</th>\n",
       "      <th>Std_Recall</th>\n",
       "    </tr>\n",
       "  </thead>\n",
       "  <tbody>\n",
       "    <tr>\n",
       "      <th>0</th>\n",
       "      <td>Logistic Regression</td>\n",
       "      <td>0.663166</td>\n",
       "      <td>0.022876</td>\n",
       "    </tr>\n",
       "    <tr>\n",
       "      <th>1</th>\n",
       "      <td>KNN</td>\n",
       "      <td>0.321986</td>\n",
       "      <td>0.034768</td>\n",
       "    </tr>\n",
       "    <tr>\n",
       "      <th>2</th>\n",
       "      <td>Decision Tree</td>\n",
       "      <td>0.124548</td>\n",
       "      <td>0.027965</td>\n",
       "    </tr>\n",
       "    <tr>\n",
       "      <th>3</th>\n",
       "      <td>Random Forest</td>\n",
       "      <td>0.124502</td>\n",
       "      <td>0.023336</td>\n",
       "    </tr>\n",
       "    <tr>\n",
       "      <th>4</th>\n",
       "      <td>XGBoost</td>\n",
       "      <td>0.236102</td>\n",
       "      <td>0.019761</td>\n",
       "    </tr>\n",
       "    <tr>\n",
       "      <th>5</th>\n",
       "      <td>LightGBM</td>\n",
       "      <td>0.242507</td>\n",
       "      <td>0.031725</td>\n",
       "    </tr>\n",
       "  </tbody>\n",
       "</table>\n",
       "</div>\n",
       "    <div class=\"colab-df-buttons\">\n",
       "\n",
       "  <div class=\"colab-df-container\">\n",
       "    <button class=\"colab-df-convert\" onclick=\"convertToInteractive('df-54dcc227-a221-4852-830b-951da1dccd37')\"\n",
       "            title=\"Convert this dataframe to an interactive table.\"\n",
       "            style=\"display:none;\">\n",
       "\n",
       "  <svg xmlns=\"http://www.w3.org/2000/svg\" height=\"24px\" viewBox=\"0 -960 960 960\">\n",
       "    <path d=\"M120-120v-720h720v720H120Zm60-500h600v-160H180v160Zm220 220h160v-160H400v160Zm0 220h160v-160H400v160ZM180-400h160v-160H180v160Zm440 0h160v-160H620v160ZM180-180h160v-160H180v160Zm440 0h160v-160H620v160Z\"/>\n",
       "  </svg>\n",
       "    </button>\n",
       "\n",
       "  <style>\n",
       "    .colab-df-container {\n",
       "      display:flex;\n",
       "      gap: 12px;\n",
       "    }\n",
       "\n",
       "    .colab-df-convert {\n",
       "      background-color: #E8F0FE;\n",
       "      border: none;\n",
       "      border-radius: 50%;\n",
       "      cursor: pointer;\n",
       "      display: none;\n",
       "      fill: #1967D2;\n",
       "      height: 32px;\n",
       "      padding: 0 0 0 0;\n",
       "      width: 32px;\n",
       "    }\n",
       "\n",
       "    .colab-df-convert:hover {\n",
       "      background-color: #E2EBFA;\n",
       "      box-shadow: 0px 1px 2px rgba(60, 64, 67, 0.3), 0px 1px 3px 1px rgba(60, 64, 67, 0.15);\n",
       "      fill: #174EA6;\n",
       "    }\n",
       "\n",
       "    .colab-df-buttons div {\n",
       "      margin-bottom: 4px;\n",
       "    }\n",
       "\n",
       "    [theme=dark] .colab-df-convert {\n",
       "      background-color: #3B4455;\n",
       "      fill: #D2E3FC;\n",
       "    }\n",
       "\n",
       "    [theme=dark] .colab-df-convert:hover {\n",
       "      background-color: #434B5C;\n",
       "      box-shadow: 0px 1px 3px 1px rgba(0, 0, 0, 0.15);\n",
       "      filter: drop-shadow(0px 1px 2px rgba(0, 0, 0, 0.3));\n",
       "      fill: #FFFFFF;\n",
       "    }\n",
       "  </style>\n",
       "\n",
       "    <script>\n",
       "      const buttonEl =\n",
       "        document.querySelector('#df-54dcc227-a221-4852-830b-951da1dccd37 button.colab-df-convert');\n",
       "      buttonEl.style.display =\n",
       "        google.colab.kernel.accessAllowed ? 'block' : 'none';\n",
       "\n",
       "      async function convertToInteractive(key) {\n",
       "        const element = document.querySelector('#df-54dcc227-a221-4852-830b-951da1dccd37');\n",
       "        const dataTable =\n",
       "          await google.colab.kernel.invokeFunction('convertToInteractive',\n",
       "                                                    [key], {});\n",
       "        if (!dataTable) return;\n",
       "\n",
       "        const docLinkHtml = 'Like what you see? Visit the ' +\n",
       "          '<a target=\"_blank\" href=https://colab.research.google.com/notebooks/data_table.ipynb>data table notebook</a>'\n",
       "          + ' to learn more about interactive tables.';\n",
       "        element.innerHTML = '';\n",
       "        dataTable['output_type'] = 'display_data';\n",
       "        await google.colab.output.renderOutput(dataTable, element);\n",
       "        const docLink = document.createElement('div');\n",
       "        docLink.innerHTML = docLinkHtml;\n",
       "        element.appendChild(docLink);\n",
       "      }\n",
       "    </script>\n",
       "  </div>\n",
       "\n",
       "\n",
       "<div id=\"df-f94af0da-c260-403a-9c86-207651bccd68\">\n",
       "  <button class=\"colab-df-quickchart\" onclick=\"quickchart('df-f94af0da-c260-403a-9c86-207651bccd68')\"\n",
       "            title=\"Suggest charts\"\n",
       "            style=\"display:none;\">\n",
       "\n",
       "<svg xmlns=\"http://www.w3.org/2000/svg\" height=\"24px\"viewBox=\"0 0 24 24\"\n",
       "     width=\"24px\">\n",
       "    <g>\n",
       "        <path d=\"M19 3H5c-1.1 0-2 .9-2 2v14c0 1.1.9 2 2 2h14c1.1 0 2-.9 2-2V5c0-1.1-.9-2-2-2zM9 17H7v-7h2v7zm4 0h-2V7h2v10zm4 0h-2v-4h2v4z\"/>\n",
       "    </g>\n",
       "</svg>\n",
       "  </button>\n",
       "\n",
       "<style>\n",
       "  .colab-df-quickchart {\n",
       "      --bg-color: #E8F0FE;\n",
       "      --fill-color: #1967D2;\n",
       "      --hover-bg-color: #E2EBFA;\n",
       "      --hover-fill-color: #174EA6;\n",
       "      --disabled-fill-color: #AAA;\n",
       "      --disabled-bg-color: #DDD;\n",
       "  }\n",
       "\n",
       "  [theme=dark] .colab-df-quickchart {\n",
       "      --bg-color: #3B4455;\n",
       "      --fill-color: #D2E3FC;\n",
       "      --hover-bg-color: #434B5C;\n",
       "      --hover-fill-color: #FFFFFF;\n",
       "      --disabled-bg-color: #3B4455;\n",
       "      --disabled-fill-color: #666;\n",
       "  }\n",
       "\n",
       "  .colab-df-quickchart {\n",
       "    background-color: var(--bg-color);\n",
       "    border: none;\n",
       "    border-radius: 50%;\n",
       "    cursor: pointer;\n",
       "    display: none;\n",
       "    fill: var(--fill-color);\n",
       "    height: 32px;\n",
       "    padding: 0;\n",
       "    width: 32px;\n",
       "  }\n",
       "\n",
       "  .colab-df-quickchart:hover {\n",
       "    background-color: var(--hover-bg-color);\n",
       "    box-shadow: 0 1px 2px rgba(60, 64, 67, 0.3), 0 1px 3px 1px rgba(60, 64, 67, 0.15);\n",
       "    fill: var(--button-hover-fill-color);\n",
       "  }\n",
       "\n",
       "  .colab-df-quickchart-complete:disabled,\n",
       "  .colab-df-quickchart-complete:disabled:hover {\n",
       "    background-color: var(--disabled-bg-color);\n",
       "    fill: var(--disabled-fill-color);\n",
       "    box-shadow: none;\n",
       "  }\n",
       "\n",
       "  .colab-df-spinner {\n",
       "    border: 2px solid var(--fill-color);\n",
       "    border-color: transparent;\n",
       "    border-bottom-color: var(--fill-color);\n",
       "    animation:\n",
       "      spin 1s steps(1) infinite;\n",
       "  }\n",
       "\n",
       "  @keyframes spin {\n",
       "    0% {\n",
       "      border-color: transparent;\n",
       "      border-bottom-color: var(--fill-color);\n",
       "      border-left-color: var(--fill-color);\n",
       "    }\n",
       "    20% {\n",
       "      border-color: transparent;\n",
       "      border-left-color: var(--fill-color);\n",
       "      border-top-color: var(--fill-color);\n",
       "    }\n",
       "    30% {\n",
       "      border-color: transparent;\n",
       "      border-left-color: var(--fill-color);\n",
       "      border-top-color: var(--fill-color);\n",
       "      border-right-color: var(--fill-color);\n",
       "    }\n",
       "    40% {\n",
       "      border-color: transparent;\n",
       "      border-right-color: var(--fill-color);\n",
       "      border-top-color: var(--fill-color);\n",
       "    }\n",
       "    60% {\n",
       "      border-color: transparent;\n",
       "      border-right-color: var(--fill-color);\n",
       "    }\n",
       "    80% {\n",
       "      border-color: transparent;\n",
       "      border-right-color: var(--fill-color);\n",
       "      border-bottom-color: var(--fill-color);\n",
       "    }\n",
       "    90% {\n",
       "      border-color: transparent;\n",
       "      border-bottom-color: var(--fill-color);\n",
       "    }\n",
       "  }\n",
       "</style>\n",
       "\n",
       "  <script>\n",
       "    async function quickchart(key) {\n",
       "      const quickchartButtonEl =\n",
       "        document.querySelector('#' + key + ' button');\n",
       "      quickchartButtonEl.disabled = true;  // To prevent multiple clicks.\n",
       "      quickchartButtonEl.classList.add('colab-df-spinner');\n",
       "      try {\n",
       "        const charts = await google.colab.kernel.invokeFunction(\n",
       "            'suggestCharts', [key], {});\n",
       "      } catch (error) {\n",
       "        console.error('Error during call to suggestCharts:', error);\n",
       "      }\n",
       "      quickchartButtonEl.classList.remove('colab-df-spinner');\n",
       "      quickchartButtonEl.classList.add('colab-df-quickchart-complete');\n",
       "    }\n",
       "    (() => {\n",
       "      let quickchartButtonEl =\n",
       "        document.querySelector('#df-f94af0da-c260-403a-9c86-207651bccd68 button');\n",
       "      quickchartButtonEl.style.display =\n",
       "        google.colab.kernel.accessAllowed ? 'block' : 'none';\n",
       "    })();\n",
       "  </script>\n",
       "</div>\n",
       "\n",
       "    </div>\n",
       "  </div>\n"
      ],
      "text/plain": [
       "                models  Mean_Recall  Std_Recall\n",
       "0  Logistic Regression     0.663166    0.022876\n",
       "1                  KNN     0.321986    0.034768\n",
       "2        Decision Tree     0.124548    0.027965\n",
       "3        Random Forest     0.124502    0.023336\n",
       "4              XGBoost     0.236102    0.019761\n",
       "5             LightGBM     0.242507    0.031725"
      ]
     },
     "execution_count": 46,
     "metadata": {},
     "output_type": "execute_result"
    }
   ],
   "source": [
    "# Dataframe of Result Any Candidate\n",
    "pd.DataFrame({\n",
    "    'models':['Logistic Regression', 'KNN', 'Decision Tree', 'Random Forest', 'XGBoost', 'LightGBM'],\n",
    "    'Mean_Recall': mean_recall,\n",
    "    'Std_Recall':std_recall,\n",
    "})"
   ]
  },
  {
   "cell_type": "markdown",
   "metadata": {
    "id": "v-8qBCN-TdJT"
   },
   "source": [
    "**Testing Candidate Models with Test Set**"
   ]
  },
  {
   "cell_type": "code",
   "execution_count": 73,
   "metadata": {
    "colab": {
     "base_uri": "https://localhost:8080/",
     "height": 359
    },
    "id": "p54u2KXIYS-d",
    "outputId": "44840c6d-9078-454e-97e8-eeadd581d05a"
   },
   "outputs": [
    {
     "name": "stdout",
     "output_type": "stream",
     "text": [
      "[LightGBM] [Info] Number of positive: 28619, number of negative: 28619\n",
      "[LightGBM] [Info] Auto-choosing row-wise multi-threading, the overhead of testing was 0.011946 seconds.\n",
      "You can set `force_row_wise=true` to remove the overhead.\n",
      "And if memory is not enough, you can set `force_col_wise=true`.\n",
      "[LightGBM] [Info] Total Bins 2968\n",
      "[LightGBM] [Info] Number of data points in the train set: 57238, number of used features: 24\n",
      "[LightGBM] [Info] [binary:BoostFromScore]: pavg=0.500000 -> initscore=0.000000\n"
     ]
    },
    {
     "data": {
      "application/vnd.google.colaboratory.intrinsic+json": {
       "summary": "{\n  \"name\": \"score_before_tuning\",\n  \"rows\": 6,\n  \"fields\": [\n    {\n      \"column\": \"Recall\",\n      \"properties\": {\n        \"dtype\": \"number\",\n        \"std\": 0.2250731285487823,\n        \"min\": 0.09174311926605505,\n        \"max\": 0.7064220183486238,\n        \"num_unique_values\": 6,\n        \"samples\": [\n          0.7064220183486238,\n          0.30275229357798167,\n          0.25688073394495414\n        ],\n        \"semantic_type\": \"\",\n        \"description\": \"\"\n      }\n    },\n    {\n      \"column\": \"Accuracy\",\n      \"properties\": {\n        \"dtype\": \"number\",\n        \"std\": 0.05674540677076139,\n        \"min\": 0.8045929592959296,\n        \"max\": 0.9454070407040704,\n        \"num_unique_values\": 6,\n        \"samples\": [\n          0.8045929592959296,\n          0.8567106710671067,\n          0.9304180418041804\n        ],\n        \"semantic_type\": \"\",\n        \"description\": \"\"\n      }\n    },\n    {\n      \"column\": \"ROC-AUC\",\n      \"properties\": {\n        \"dtype\": \"number\",\n        \"std\": 0.08465360935031568,\n        \"min\": 0.5250702194124496,\n        \"max\": 0.7562544267367857,\n        \"num_unique_values\": 6,\n        \"samples\": [\n          0.7562544267367857,\n          0.5839462989598689,\n          0.5987740260538675\n        ],\n        \"semantic_type\": \"\",\n        \"description\": \"\"\n      }\n    }\n  ]\n}",
       "type": "dataframe",
       "variable_name": "score_before_tuning"
      },
      "text/html": [
       "\n",
       "  <div id=\"df-0d40d6c5-2cca-40e2-ae20-97dd357cf7a9\" class=\"colab-df-container\">\n",
       "    <div>\n",
       "<style scoped>\n",
       "    .dataframe tbody tr th:only-of-type {\n",
       "        vertical-align: middle;\n",
       "    }\n",
       "\n",
       "    .dataframe tbody tr th {\n",
       "        vertical-align: top;\n",
       "    }\n",
       "\n",
       "    .dataframe thead th {\n",
       "        text-align: right;\n",
       "    }\n",
       "</style>\n",
       "<table border=\"1\" class=\"dataframe\">\n",
       "  <thead>\n",
       "    <tr style=\"text-align: right;\">\n",
       "      <th></th>\n",
       "      <th>Recall</th>\n",
       "      <th>Accuracy</th>\n",
       "      <th>ROC-AUC</th>\n",
       "    </tr>\n",
       "  </thead>\n",
       "  <tbody>\n",
       "    <tr>\n",
       "      <th>Logistic Regression</th>\n",
       "      <td>0.706422</td>\n",
       "      <td>0.804593</td>\n",
       "      <td>0.756254</td>\n",
       "    </tr>\n",
       "    <tr>\n",
       "      <th>KNN</th>\n",
       "      <td>0.302752</td>\n",
       "      <td>0.856711</td>\n",
       "      <td>0.583946</td>\n",
       "    </tr>\n",
       "    <tr>\n",
       "      <th>Decision Tree</th>\n",
       "      <td>0.110092</td>\n",
       "      <td>0.938669</td>\n",
       "      <td>0.530685</td>\n",
       "    </tr>\n",
       "    <tr>\n",
       "      <th>Random Forest</th>\n",
       "      <td>0.091743</td>\n",
       "      <td>0.945407</td>\n",
       "      <td>0.525070</td>\n",
       "    </tr>\n",
       "    <tr>\n",
       "      <th>XGB</th>\n",
       "      <td>0.201835</td>\n",
       "      <td>0.925330</td>\n",
       "      <td>0.569087</td>\n",
       "    </tr>\n",
       "    <tr>\n",
       "      <th>LGBM</th>\n",
       "      <td>0.256881</td>\n",
       "      <td>0.930418</td>\n",
       "      <td>0.598774</td>\n",
       "    </tr>\n",
       "  </tbody>\n",
       "</table>\n",
       "</div>\n",
       "    <div class=\"colab-df-buttons\">\n",
       "\n",
       "  <div class=\"colab-df-container\">\n",
       "    <button class=\"colab-df-convert\" onclick=\"convertToInteractive('df-0d40d6c5-2cca-40e2-ae20-97dd357cf7a9')\"\n",
       "            title=\"Convert this dataframe to an interactive table.\"\n",
       "            style=\"display:none;\">\n",
       "\n",
       "  <svg xmlns=\"http://www.w3.org/2000/svg\" height=\"24px\" viewBox=\"0 -960 960 960\">\n",
       "    <path d=\"M120-120v-720h720v720H120Zm60-500h600v-160H180v160Zm220 220h160v-160H400v160Zm0 220h160v-160H400v160ZM180-400h160v-160H180v160Zm440 0h160v-160H620v160ZM180-180h160v-160H180v160Zm440 0h160v-160H620v160Z\"/>\n",
       "  </svg>\n",
       "    </button>\n",
       "\n",
       "  <style>\n",
       "    .colab-df-container {\n",
       "      display:flex;\n",
       "      gap: 12px;\n",
       "    }\n",
       "\n",
       "    .colab-df-convert {\n",
       "      background-color: #E8F0FE;\n",
       "      border: none;\n",
       "      border-radius: 50%;\n",
       "      cursor: pointer;\n",
       "      display: none;\n",
       "      fill: #1967D2;\n",
       "      height: 32px;\n",
       "      padding: 0 0 0 0;\n",
       "      width: 32px;\n",
       "    }\n",
       "\n",
       "    .colab-df-convert:hover {\n",
       "      background-color: #E2EBFA;\n",
       "      box-shadow: 0px 1px 2px rgba(60, 64, 67, 0.3), 0px 1px 3px 1px rgba(60, 64, 67, 0.15);\n",
       "      fill: #174EA6;\n",
       "    }\n",
       "\n",
       "    .colab-df-buttons div {\n",
       "      margin-bottom: 4px;\n",
       "    }\n",
       "\n",
       "    [theme=dark] .colab-df-convert {\n",
       "      background-color: #3B4455;\n",
       "      fill: #D2E3FC;\n",
       "    }\n",
       "\n",
       "    [theme=dark] .colab-df-convert:hover {\n",
       "      background-color: #434B5C;\n",
       "      box-shadow: 0px 1px 3px 1px rgba(0, 0, 0, 0.15);\n",
       "      filter: drop-shadow(0px 1px 2px rgba(0, 0, 0, 0.3));\n",
       "      fill: #FFFFFF;\n",
       "    }\n",
       "  </style>\n",
       "\n",
       "    <script>\n",
       "      const buttonEl =\n",
       "        document.querySelector('#df-0d40d6c5-2cca-40e2-ae20-97dd357cf7a9 button.colab-df-convert');\n",
       "      buttonEl.style.display =\n",
       "        google.colab.kernel.accessAllowed ? 'block' : 'none';\n",
       "\n",
       "      async function convertToInteractive(key) {\n",
       "        const element = document.querySelector('#df-0d40d6c5-2cca-40e2-ae20-97dd357cf7a9');\n",
       "        const dataTable =\n",
       "          await google.colab.kernel.invokeFunction('convertToInteractive',\n",
       "                                                    [key], {});\n",
       "        if (!dataTable) return;\n",
       "\n",
       "        const docLinkHtml = 'Like what you see? Visit the ' +\n",
       "          '<a target=\"_blank\" href=https://colab.research.google.com/notebooks/data_table.ipynb>data table notebook</a>'\n",
       "          + ' to learn more about interactive tables.';\n",
       "        element.innerHTML = '';\n",
       "        dataTable['output_type'] = 'display_data';\n",
       "        await google.colab.output.renderOutput(dataTable, element);\n",
       "        const docLink = document.createElement('div');\n",
       "        docLink.innerHTML = docLinkHtml;\n",
       "        element.appendChild(docLink);\n",
       "      }\n",
       "    </script>\n",
       "  </div>\n",
       "\n",
       "\n",
       "<div id=\"df-060d72ff-a841-4d5a-82a2-047b6e82848e\">\n",
       "  <button class=\"colab-df-quickchart\" onclick=\"quickchart('df-060d72ff-a841-4d5a-82a2-047b6e82848e')\"\n",
       "            title=\"Suggest charts\"\n",
       "            style=\"display:none;\">\n",
       "\n",
       "<svg xmlns=\"http://www.w3.org/2000/svg\" height=\"24px\"viewBox=\"0 0 24 24\"\n",
       "     width=\"24px\">\n",
       "    <g>\n",
       "        <path d=\"M19 3H5c-1.1 0-2 .9-2 2v14c0 1.1.9 2 2 2h14c1.1 0 2-.9 2-2V5c0-1.1-.9-2-2-2zM9 17H7v-7h2v7zm4 0h-2V7h2v10zm4 0h-2v-4h2v4z\"/>\n",
       "    </g>\n",
       "</svg>\n",
       "  </button>\n",
       "\n",
       "<style>\n",
       "  .colab-df-quickchart {\n",
       "      --bg-color: #E8F0FE;\n",
       "      --fill-color: #1967D2;\n",
       "      --hover-bg-color: #E2EBFA;\n",
       "      --hover-fill-color: #174EA6;\n",
       "      --disabled-fill-color: #AAA;\n",
       "      --disabled-bg-color: #DDD;\n",
       "  }\n",
       "\n",
       "  [theme=dark] .colab-df-quickchart {\n",
       "      --bg-color: #3B4455;\n",
       "      --fill-color: #D2E3FC;\n",
       "      --hover-bg-color: #434B5C;\n",
       "      --hover-fill-color: #FFFFFF;\n",
       "      --disabled-bg-color: #3B4455;\n",
       "      --disabled-fill-color: #666;\n",
       "  }\n",
       "\n",
       "  .colab-df-quickchart {\n",
       "    background-color: var(--bg-color);\n",
       "    border: none;\n",
       "    border-radius: 50%;\n",
       "    cursor: pointer;\n",
       "    display: none;\n",
       "    fill: var(--fill-color);\n",
       "    height: 32px;\n",
       "    padding: 0;\n",
       "    width: 32px;\n",
       "  }\n",
       "\n",
       "  .colab-df-quickchart:hover {\n",
       "    background-color: var(--hover-bg-color);\n",
       "    box-shadow: 0 1px 2px rgba(60, 64, 67, 0.3), 0 1px 3px 1px rgba(60, 64, 67, 0.15);\n",
       "    fill: var(--button-hover-fill-color);\n",
       "  }\n",
       "\n",
       "  .colab-df-quickchart-complete:disabled,\n",
       "  .colab-df-quickchart-complete:disabled:hover {\n",
       "    background-color: var(--disabled-bg-color);\n",
       "    fill: var(--disabled-fill-color);\n",
       "    box-shadow: none;\n",
       "  }\n",
       "\n",
       "  .colab-df-spinner {\n",
       "    border: 2px solid var(--fill-color);\n",
       "    border-color: transparent;\n",
       "    border-bottom-color: var(--fill-color);\n",
       "    animation:\n",
       "      spin 1s steps(1) infinite;\n",
       "  }\n",
       "\n",
       "  @keyframes spin {\n",
       "    0% {\n",
       "      border-color: transparent;\n",
       "      border-bottom-color: var(--fill-color);\n",
       "      border-left-color: var(--fill-color);\n",
       "    }\n",
       "    20% {\n",
       "      border-color: transparent;\n",
       "      border-left-color: var(--fill-color);\n",
       "      border-top-color: var(--fill-color);\n",
       "    }\n",
       "    30% {\n",
       "      border-color: transparent;\n",
       "      border-left-color: var(--fill-color);\n",
       "      border-top-color: var(--fill-color);\n",
       "      border-right-color: var(--fill-color);\n",
       "    }\n",
       "    40% {\n",
       "      border-color: transparent;\n",
       "      border-right-color: var(--fill-color);\n",
       "      border-top-color: var(--fill-color);\n",
       "    }\n",
       "    60% {\n",
       "      border-color: transparent;\n",
       "      border-right-color: var(--fill-color);\n",
       "    }\n",
       "    80% {\n",
       "      border-color: transparent;\n",
       "      border-right-color: var(--fill-color);\n",
       "      border-bottom-color: var(--fill-color);\n",
       "    }\n",
       "    90% {\n",
       "      border-color: transparent;\n",
       "      border-bottom-color: var(--fill-color);\n",
       "    }\n",
       "  }\n",
       "</style>\n",
       "\n",
       "  <script>\n",
       "    async function quickchart(key) {\n",
       "      const quickchartButtonEl =\n",
       "        document.querySelector('#' + key + ' button');\n",
       "      quickchartButtonEl.disabled = true;  // To prevent multiple clicks.\n",
       "      quickchartButtonEl.classList.add('colab-df-spinner');\n",
       "      try {\n",
       "        const charts = await google.colab.kernel.invokeFunction(\n",
       "            'suggestCharts', [key], {});\n",
       "      } catch (error) {\n",
       "        console.error('Error during call to suggestCharts:', error);\n",
       "      }\n",
       "      quickchartButtonEl.classList.remove('colab-df-spinner');\n",
       "      quickchartButtonEl.classList.add('colab-df-quickchart-complete');\n",
       "    }\n",
       "    (() => {\n",
       "      let quickchartButtonEl =\n",
       "        document.querySelector('#df-060d72ff-a841-4d5a-82a2-047b6e82848e button');\n",
       "      quickchartButtonEl.style.display =\n",
       "        google.colab.kernel.accessAllowed ? 'block' : 'none';\n",
       "    })();\n",
       "  </script>\n",
       "</div>\n",
       "\n",
       "  <div id=\"id_a1d2c912-252f-48e8-8fd0-ec6a4c08e495\">\n",
       "    <style>\n",
       "      .colab-df-generate {\n",
       "        background-color: #E8F0FE;\n",
       "        border: none;\n",
       "        border-radius: 50%;\n",
       "        cursor: pointer;\n",
       "        display: none;\n",
       "        fill: #1967D2;\n",
       "        height: 32px;\n",
       "        padding: 0 0 0 0;\n",
       "        width: 32px;\n",
       "      }\n",
       "\n",
       "      .colab-df-generate:hover {\n",
       "        background-color: #E2EBFA;\n",
       "        box-shadow: 0px 1px 2px rgba(60, 64, 67, 0.3), 0px 1px 3px 1px rgba(60, 64, 67, 0.15);\n",
       "        fill: #174EA6;\n",
       "      }\n",
       "\n",
       "      [theme=dark] .colab-df-generate {\n",
       "        background-color: #3B4455;\n",
       "        fill: #D2E3FC;\n",
       "      }\n",
       "\n",
       "      [theme=dark] .colab-df-generate:hover {\n",
       "        background-color: #434B5C;\n",
       "        box-shadow: 0px 1px 3px 1px rgba(0, 0, 0, 0.15);\n",
       "        filter: drop-shadow(0px 1px 2px rgba(0, 0, 0, 0.3));\n",
       "        fill: #FFFFFF;\n",
       "      }\n",
       "    </style>\n",
       "    <button class=\"colab-df-generate\" onclick=\"generateWithVariable('score_before_tuning')\"\n",
       "            title=\"Generate code using this dataframe.\"\n",
       "            style=\"display:none;\">\n",
       "\n",
       "  <svg xmlns=\"http://www.w3.org/2000/svg\" height=\"24px\"viewBox=\"0 0 24 24\"\n",
       "       width=\"24px\">\n",
       "    <path d=\"M7,19H8.4L18.45,9,17,7.55,7,17.6ZM5,21V16.75L18.45,3.32a2,2,0,0,1,2.83,0l1.4,1.43a1.91,1.91,0,0,1,.58,1.4,1.91,1.91,0,0,1-.58,1.4L9.25,21ZM18.45,9,17,7.55Zm-12,3A5.31,5.31,0,0,0,4.9,8.1,5.31,5.31,0,0,0,1,6.5,5.31,5.31,0,0,0,4.9,4.9,5.31,5.31,0,0,0,6.5,1,5.31,5.31,0,0,0,8.1,4.9,5.31,5.31,0,0,0,12,6.5,5.46,5.46,0,0,0,6.5,12Z\"/>\n",
       "  </svg>\n",
       "    </button>\n",
       "    <script>\n",
       "      (() => {\n",
       "      const buttonEl =\n",
       "        document.querySelector('#id_a1d2c912-252f-48e8-8fd0-ec6a4c08e495 button.colab-df-generate');\n",
       "      buttonEl.style.display =\n",
       "        google.colab.kernel.accessAllowed ? 'block' : 'none';\n",
       "\n",
       "      buttonEl.onclick = () => {\n",
       "        google.colab.notebook.generateWithVariable('score_before_tuning');\n",
       "      }\n",
       "      })();\n",
       "    </script>\n",
       "  </div>\n",
       "\n",
       "    </div>\n",
       "  </div>\n"
      ],
      "text/plain": [
       "                       Recall  Accuracy   ROC-AUC\n",
       "Logistic Regression  0.706422  0.804593  0.756254\n",
       "KNN                  0.302752  0.856711  0.583946\n",
       "Decision Tree        0.110092  0.938669  0.530685\n",
       "Random Forest        0.091743  0.945407  0.525070\n",
       "XGB                  0.201835  0.925330  0.569087\n",
       "LGBM                 0.256881  0.930418  0.598774"
      ]
     },
     "execution_count": 73,
     "metadata": {},
     "output_type": "execute_result"
    }
   ],
   "source": [
    "# Setting for model\n",
    "models = {\n",
    "    'Logistic Regression' : LogisticRegression(),\n",
    "    'KNN' : KNeighborsClassifier(),\n",
    "    'Decision Tree' : DecisionTreeClassifier(random_state=1),\n",
    "    'Random Forest' : RandomForestClassifier(random_state=1),\n",
    "    'XGB' : XGBClassifier(random_state=1, objective='binary:logistic'),\n",
    "    'LGBM' : lgb.LGBMClassifier()\n",
    "}\n",
    "\n",
    "score_recall_ts = []\n",
    "score_accuracy_ts = []\n",
    "score_rocauc_ts = []\n",
    "y_predict = []\n",
    "\n",
    "# Prediction in Test Set\n",
    "for i in models:\n",
    "    model = Pipeline([\n",
    "        ('preprocessing', transformer),\n",
    "        ('scaler', scaler),\n",
    "        ('resampler', smote),\n",
    "        ('model', models[i])\n",
    "        ])\n",
    "\n",
    "    model.fit(X_train, y_train)\n",
    "    y_pred = model.predict(X_test)\n",
    "\n",
    "    score_recall_ts.append(recall_score(y_test, y_pred))\n",
    "    score_accuracy_ts.append(accuracy_score(y_test, y_pred))\n",
    "    score_rocauc_ts.append(roc_auc_score(y_test, y_pred))\n",
    "\n",
    "score_before_tuning = pd.DataFrame({\n",
    "    'Recall': score_recall_ts,\n",
    "    'Accuracy': score_accuracy_ts,\n",
    "    'ROC-AUC': score_rocauc_ts\n",
    "    },index=models.keys())\n",
    "\n",
    "# Show Dataframe for result\n",
    "score_before_tuning"
   ]
  },
  {
   "cell_type": "markdown",
   "metadata": {
    "id": "YzsX6k0VIuiE"
   },
   "source": [
    "##Hyperparameter Tuning"
   ]
  },
  {
   "cell_type": "markdown",
   "metadata": {
    "id": "Bvra97ttI9U8"
   },
   "source": [
    "**Preparation for Hyperparameter Tuning**"
   ]
  },
  {
   "cell_type": "code",
   "execution_count": null,
   "metadata": {
    "id": "yeFLffbMI9JJ"
   },
   "outputs": [],
   "source": [
    "# Hyperparameter Setting\n",
    "hp_space_logreg = [{\n",
    "    'model__penalty': ['l1','l2','elasticnet','none'],                    #HP - Penalty\n",
    "    'model__C': np.logspace(-100,100,10),                                   #HP - C Value\n",
    "    'model__solver': ['lbfgs', 'liblinear', 'newton-cg', 'sag', 'saga'],  #HP - Solver\n",
    "    'model__max_iter': [10,100,500,1000]                                    #HP - Max Iterations\n",
    "}]"
   ]
  },
  {
   "cell_type": "code",
   "execution_count": null,
   "metadata": {
    "id": "To_QMlFUIwkP"
   },
   "outputs": [],
   "source": [
    "# Algorithm that we choose\n",
    "lor = LogisticRegression()\n",
    "\n",
    "# Algorithm chains\n",
    "estimator_lor = Pipeline([\n",
    "    ('preprocessing', transformer),\n",
    "    ('scaler', scaler),\n",
    "    ('resampler', smote),\n",
    "    ('model', lor)\n",
    "])\n",
    "\n",
    "# Cross-validation with n-split = 5\n",
    "crossval = StratifiedKFold(n_splits=10, shuffle=True, random_state=42)"
   ]
  },
  {
   "cell_type": "markdown",
   "metadata": {
    "id": "RE1nuI9FPiFP"
   },
   "source": [
    "**Model for Hyperparameter Tuning**"
   ]
  },
  {
   "cell_type": "code",
   "execution_count": null,
   "metadata": {
    "id": "FrP3y7Rn956o"
   },
   "outputs": [],
   "source": [
    "# Hyperparameter tuning Setting\n",
    "random_lor = RandomizedSearchCV(\n",
    "    estimator_lor,\n",
    "    param_distributions=hp_space_logreg,\n",
    "    n_iter=25,                            # Number of iteration for random search\n",
    "    cv=crossval,\n",
    "    scoring='recall',                  # Evaluation Metric, just 1 so without refit\n",
    "    n_jobs=-1,\n",
    "    random_state=1\n",
    ")"
   ]
  },
  {
   "cell_type": "markdown",
   "metadata": {
    "id": "3uBS-Oi3Pre2"
   },
   "source": [
    "**Hyperparameter Tuning Process**"
   ]
  },
  {
   "cell_type": "code",
   "execution_count": null,
   "metadata": {
    "colab": {
     "background_save": true
    },
    "collapsed": true,
    "id": "ZRrdN5ZZWa8V",
    "outputId": "4303d896-a295-4f04-90b7-cb691186bf19"
   },
   "outputs": [
    {
     "name": "stderr",
     "output_type": "stream",
     "text": [
      "/usr/local/lib/python3.11/dist-packages/sklearn/model_selection/_validation.py:425: FitFailedWarning:\n",
      "\n",
      "\n",
      "90 fits failed out of a total of 250.\n",
      "The score on these train-test partitions for these parameters will be set to nan.\n",
      "If these failures are not expected, you can try to debug them by setting error_score='raise'.\n",
      "\n",
      "Below are more details about the failures:\n",
      "--------------------------------------------------------------------------------\n",
      "10 fits failed with the following error:\n",
      "Traceback (most recent call last):\n",
      "  File \"/usr/local/lib/python3.11/dist-packages/sklearn/model_selection/_validation.py\", line 732, in _fit_and_score\n",
      "    estimator.fit(X_train, y_train, **fit_params)\n",
      "  File \"/usr/local/lib/python3.11/dist-packages/sklearn/base.py\", line 1151, in wrapper\n",
      "    return fit_method(estimator, *args, **kwargs)\n",
      "           ^^^^^^^^^^^^^^^^^^^^^^^^^^^^^^^^^^^^^^\n",
      "  File \"/usr/local/lib/python3.11/dist-packages/imblearn/pipeline.py\", line 526, in fit\n",
      "    self._final_estimator.fit(Xt, yt, **last_step_params[\"fit\"])\n",
      "  File \"/usr/local/lib/python3.11/dist-packages/sklearn/base.py\", line 1151, in wrapper\n",
      "    return fit_method(estimator, *args, **kwargs)\n",
      "           ^^^^^^^^^^^^^^^^^^^^^^^^^^^^^^^^^^^^^^\n",
      "  File \"/usr/local/lib/python3.11/dist-packages/sklearn/linear_model/_logistic.py\", line 1302, in fit\n",
      "    fold_coefs_ = Parallel(n_jobs=self.n_jobs, verbose=self.verbose, prefer=prefer)(\n",
      "                  ^^^^^^^^^^^^^^^^^^^^^^^^^^^^^^^^^^^^^^^^^^^^^^^^^^^^^^^^^^^^^^^^^^\n",
      "  File \"/usr/local/lib/python3.11/dist-packages/sklearn/utils/parallel.py\", line 65, in __call__\n",
      "    return super().__call__(iterable_with_config)\n",
      "           ^^^^^^^^^^^^^^^^^^^^^^^^^^^^^^^^^^^^^^\n",
      "  File \"/usr/local/lib/python3.11/dist-packages/joblib/parallel.py\", line 1918, in __call__\n",
      "    return output if self.return_generator else list(output)\n",
      "                                                ^^^^^^^^^^^^\n",
      "  File \"/usr/local/lib/python3.11/dist-packages/joblib/parallel.py\", line 1847, in _get_sequential_output\n",
      "    res = func(*args, **kwargs)\n",
      "          ^^^^^^^^^^^^^^^^^^^^^\n",
      "  File \"/usr/local/lib/python3.11/dist-packages/sklearn/utils/parallel.py\", line 127, in __call__\n",
      "    return self.function(*args, **kwargs)\n",
      "           ^^^^^^^^^^^^^^^^^^^^^^^^^^^^^^\n",
      "  File \"/usr/local/lib/python3.11/dist-packages/sklearn/linear_model/_logistic.py\", line 533, in _logistic_regression_path\n",
      "    w0, n_iter_i, warm_start_sag = sag_solver(\n",
      "                                   ^^^^^^^^^^^\n",
      "  File \"/usr/local/lib/python3.11/dist-packages/sklearn/linear_model/_sag.py\", line 319, in sag_solver\n",
      "    raise ZeroDivisionError(\n",
      "ZeroDivisionError: Current sag implementation does not handle the case step_size * alpha_scaled == 1\n",
      "\n",
      "--------------------------------------------------------------------------------\n",
      "20 fits failed with the following error:\n",
      "Traceback (most recent call last):\n",
      "  File \"/usr/local/lib/python3.11/dist-packages/sklearn/model_selection/_validation.py\", line 732, in _fit_and_score\n",
      "    estimator.fit(X_train, y_train, **fit_params)\n",
      "  File \"/usr/local/lib/python3.11/dist-packages/sklearn/base.py\", line 1151, in wrapper\n",
      "    return fit_method(estimator, *args, **kwargs)\n",
      "           ^^^^^^^^^^^^^^^^^^^^^^^^^^^^^^^^^^^^^^\n",
      "  File \"/usr/local/lib/python3.11/dist-packages/imblearn/pipeline.py\", line 526, in fit\n",
      "    self._final_estimator.fit(Xt, yt, **last_step_params[\"fit\"])\n",
      "  File \"/usr/local/lib/python3.11/dist-packages/sklearn/base.py\", line 1151, in wrapper\n",
      "    return fit_method(estimator, *args, **kwargs)\n",
      "           ^^^^^^^^^^^^^^^^^^^^^^^^^^^^^^^^^^^^^^\n",
      "  File \"/usr/local/lib/python3.11/dist-packages/sklearn/linear_model/_logistic.py\", line 1168, in fit\n",
      "    solver = _check_solver(self.solver, self.penalty, self.dual)\n",
      "             ^^^^^^^^^^^^^^^^^^^^^^^^^^^^^^^^^^^^^^^^^^^^^^^^^^^\n",
      "  File \"/usr/local/lib/python3.11/dist-packages/sklearn/linear_model/_logistic.py\", line 56, in _check_solver\n",
      "    raise ValueError(\n",
      "ValueError: Solver lbfgs supports only 'l2' or 'none' penalties, got elasticnet penalty.\n",
      "\n",
      "--------------------------------------------------------------------------------\n",
      "20 fits failed with the following error:\n",
      "Traceback (most recent call last):\n",
      "  File \"/usr/local/lib/python3.11/dist-packages/sklearn/model_selection/_validation.py\", line 732, in _fit_and_score\n",
      "    estimator.fit(X_train, y_train, **fit_params)\n",
      "  File \"/usr/local/lib/python3.11/dist-packages/sklearn/base.py\", line 1151, in wrapper\n",
      "    return fit_method(estimator, *args, **kwargs)\n",
      "           ^^^^^^^^^^^^^^^^^^^^^^^^^^^^^^^^^^^^^^\n",
      "  File \"/usr/local/lib/python3.11/dist-packages/imblearn/pipeline.py\", line 526, in fit\n",
      "    self._final_estimator.fit(Xt, yt, **last_step_params[\"fit\"])\n",
      "  File \"/usr/local/lib/python3.11/dist-packages/sklearn/base.py\", line 1151, in wrapper\n",
      "    return fit_method(estimator, *args, **kwargs)\n",
      "           ^^^^^^^^^^^^^^^^^^^^^^^^^^^^^^^^^^^^^^\n",
      "  File \"/usr/local/lib/python3.11/dist-packages/sklearn/linear_model/_logistic.py\", line 1168, in fit\n",
      "    solver = _check_solver(self.solver, self.penalty, self.dual)\n",
      "             ^^^^^^^^^^^^^^^^^^^^^^^^^^^^^^^^^^^^^^^^^^^^^^^^^^^\n",
      "  File \"/usr/local/lib/python3.11/dist-packages/sklearn/linear_model/_logistic.py\", line 56, in _check_solver\n",
      "    raise ValueError(\n",
      "ValueError: Solver newton-cg supports only 'l2' or 'none' penalties, got l1 penalty.\n",
      "\n",
      "--------------------------------------------------------------------------------\n",
      "10 fits failed with the following error:\n",
      "Traceback (most recent call last):\n",
      "  File \"/usr/local/lib/python3.11/dist-packages/sklearn/model_selection/_validation.py\", line 732, in _fit_and_score\n",
      "    estimator.fit(X_train, y_train, **fit_params)\n",
      "  File \"/usr/local/lib/python3.11/dist-packages/sklearn/base.py\", line 1151, in wrapper\n",
      "    return fit_method(estimator, *args, **kwargs)\n",
      "           ^^^^^^^^^^^^^^^^^^^^^^^^^^^^^^^^^^^^^^\n",
      "  File \"/usr/local/lib/python3.11/dist-packages/imblearn/pipeline.py\", line 526, in fit\n",
      "    self._final_estimator.fit(Xt, yt, **last_step_params[\"fit\"])\n",
      "  File \"/usr/local/lib/python3.11/dist-packages/sklearn/base.py\", line 1151, in wrapper\n",
      "    return fit_method(estimator, *args, **kwargs)\n",
      "           ^^^^^^^^^^^^^^^^^^^^^^^^^^^^^^^^^^^^^^\n",
      "  File \"/usr/local/lib/python3.11/dist-packages/sklearn/linear_model/_logistic.py\", line 1168, in fit\n",
      "    solver = _check_solver(self.solver, self.penalty, self.dual)\n",
      "             ^^^^^^^^^^^^^^^^^^^^^^^^^^^^^^^^^^^^^^^^^^^^^^^^^^^\n",
      "  File \"/usr/local/lib/python3.11/dist-packages/sklearn/linear_model/_logistic.py\", line 56, in _check_solver\n",
      "    raise ValueError(\n",
      "ValueError: Solver lbfgs supports only 'l2' or 'none' penalties, got l1 penalty.\n",
      "\n",
      "--------------------------------------------------------------------------------\n",
      "20 fits failed with the following error:\n",
      "Traceback (most recent call last):\n",
      "  File \"/usr/local/lib/python3.11/dist-packages/sklearn/model_selection/_validation.py\", line 732, in _fit_and_score\n",
      "    estimator.fit(X_train, y_train, **fit_params)\n",
      "  File \"/usr/local/lib/python3.11/dist-packages/sklearn/base.py\", line 1151, in wrapper\n",
      "    return fit_method(estimator, *args, **kwargs)\n",
      "           ^^^^^^^^^^^^^^^^^^^^^^^^^^^^^^^^^^^^^^\n",
      "  File \"/usr/local/lib/python3.11/dist-packages/imblearn/pipeline.py\", line 526, in fit\n",
      "    self._final_estimator.fit(Xt, yt, **last_step_params[\"fit\"])\n",
      "  File \"/usr/local/lib/python3.11/dist-packages/sklearn/base.py\", line 1151, in wrapper\n",
      "    return fit_method(estimator, *args, **kwargs)\n",
      "           ^^^^^^^^^^^^^^^^^^^^^^^^^^^^^^^^^^^^^^\n",
      "  File \"/usr/local/lib/python3.11/dist-packages/sklearn/linear_model/_logistic.py\", line 1168, in fit\n",
      "    solver = _check_solver(self.solver, self.penalty, self.dual)\n",
      "             ^^^^^^^^^^^^^^^^^^^^^^^^^^^^^^^^^^^^^^^^^^^^^^^^^^^\n",
      "  File \"/usr/local/lib/python3.11/dist-packages/sklearn/linear_model/_logistic.py\", line 66, in _check_solver\n",
      "    raise ValueError(\n",
      "ValueError: Only 'saga' solver supports elasticnet penalty, got solver=liblinear.\n",
      "\n",
      "--------------------------------------------------------------------------------\n",
      "10 fits failed with the following error:\n",
      "Traceback (most recent call last):\n",
      "  File \"/usr/local/lib/python3.11/dist-packages/sklearn/model_selection/_validation.py\", line 732, in _fit_and_score\n",
      "    estimator.fit(X_train, y_train, **fit_params)\n",
      "  File \"/usr/local/lib/python3.11/dist-packages/sklearn/base.py\", line 1151, in wrapper\n",
      "    return fit_method(estimator, *args, **kwargs)\n",
      "           ^^^^^^^^^^^^^^^^^^^^^^^^^^^^^^^^^^^^^^\n",
      "  File \"/usr/local/lib/python3.11/dist-packages/imblearn/pipeline.py\", line 526, in fit\n",
      "    self._final_estimator.fit(Xt, yt, **last_step_params[\"fit\"])\n",
      "  File \"/usr/local/lib/python3.11/dist-packages/sklearn/base.py\", line 1151, in wrapper\n",
      "    return fit_method(estimator, *args, **kwargs)\n",
      "           ^^^^^^^^^^^^^^^^^^^^^^^^^^^^^^^^^^^^^^\n",
      "  File \"/usr/local/lib/python3.11/dist-packages/sklearn/linear_model/_logistic.py\", line 1168, in fit\n",
      "    solver = _check_solver(self.solver, self.penalty, self.dual)\n",
      "             ^^^^^^^^^^^^^^^^^^^^^^^^^^^^^^^^^^^^^^^^^^^^^^^^^^^\n",
      "  File \"/usr/local/lib/python3.11/dist-packages/sklearn/linear_model/_logistic.py\", line 56, in _check_solver\n",
      "    raise ValueError(\n",
      "ValueError: Solver sag supports only 'l2' or 'none' penalties, got l1 penalty.\n",
      "\n",
      "\n",
      "/usr/local/lib/python3.11/dist-packages/sklearn/model_selection/_search.py:976: UserWarning:\n",
      "\n",
      "One or more of the test scores are non-finite: [       nan        nan 0.66901018 0.66901018        nan 0.66692877\n",
      "        nan        nan 0.5               nan 0.66901018        nan\n",
      " 0.2        0.51489362        nan 0.66692877 0.66692877 0.66901018\n",
      " 0.4               nan 0.         0.66692877 0.         0.66692877\n",
      " 0.66692877]\n",
      "\n",
      "/usr/local/lib/python3.11/dist-packages/sklearn/linear_model/_logistic.py:1182: FutureWarning:\n",
      "\n",
      "`penalty='none'`has been deprecated in 1.2 and will be removed in 1.4. To keep the past behaviour, set `penalty=None`.\n",
      "\n",
      "/usr/local/lib/python3.11/dist-packages/sklearn/linear_model/_logistic.py:1192: UserWarning:\n",
      "\n",
      "Setting penalty=None will ignore the C and l1_ratio parameters\n",
      "\n",
      "/usr/local/lib/python3.11/dist-packages/sklearn/linear_model/_logistic.py:460: ConvergenceWarning:\n",
      "\n",
      "lbfgs failed to converge (status=1):\n",
      "STOP: TOTAL NO. of ITERATIONS REACHED LIMIT.\n",
      "\n",
      "Increase the number of iterations (max_iter) or scale the data as shown in:\n",
      "    https://scikit-learn.org/stable/modules/preprocessing.html\n",
      "Please also refer to the documentation for alternative solver options:\n",
      "    https://scikit-learn.org/stable/modules/linear_model.html#logistic-regression\n",
      "\n"
     ]
    },
    {
     "data": {
      "text/html": [
       "<style>#sk-container-id-1 {color: black;}#sk-container-id-1 pre{padding: 0;}#sk-container-id-1 div.sk-toggleable {background-color: white;}#sk-container-id-1 label.sk-toggleable__label {cursor: pointer;display: block;width: 100%;margin-bottom: 0;padding: 0.3em;box-sizing: border-box;text-align: center;}#sk-container-id-1 label.sk-toggleable__label-arrow:before {content: \"▸\";float: left;margin-right: 0.25em;color: #696969;}#sk-container-id-1 label.sk-toggleable__label-arrow:hover:before {color: black;}#sk-container-id-1 div.sk-estimator:hover label.sk-toggleable__label-arrow:before {color: black;}#sk-container-id-1 div.sk-toggleable__content {max-height: 0;max-width: 0;overflow: hidden;text-align: left;background-color: #f0f8ff;}#sk-container-id-1 div.sk-toggleable__content pre {margin: 0.2em;color: black;border-radius: 0.25em;background-color: #f0f8ff;}#sk-container-id-1 input.sk-toggleable__control:checked~div.sk-toggleable__content {max-height: 200px;max-width: 100%;overflow: auto;}#sk-container-id-1 input.sk-toggleable__control:checked~label.sk-toggleable__label-arrow:before {content: \"▾\";}#sk-container-id-1 div.sk-estimator input.sk-toggleable__control:checked~label.sk-toggleable__label {background-color: #d4ebff;}#sk-container-id-1 div.sk-label input.sk-toggleable__control:checked~label.sk-toggleable__label {background-color: #d4ebff;}#sk-container-id-1 input.sk-hidden--visually {border: 0;clip: rect(1px 1px 1px 1px);clip: rect(1px, 1px, 1px, 1px);height: 1px;margin: -1px;overflow: hidden;padding: 0;position: absolute;width: 1px;}#sk-container-id-1 div.sk-estimator {font-family: monospace;background-color: #f0f8ff;border: 1px dotted black;border-radius: 0.25em;box-sizing: border-box;margin-bottom: 0.5em;}#sk-container-id-1 div.sk-estimator:hover {background-color: #d4ebff;}#sk-container-id-1 div.sk-parallel-item::after {content: \"\";width: 100%;border-bottom: 1px solid gray;flex-grow: 1;}#sk-container-id-1 div.sk-label:hover label.sk-toggleable__label {background-color: #d4ebff;}#sk-container-id-1 div.sk-serial::before {content: \"\";position: absolute;border-left: 1px solid gray;box-sizing: border-box;top: 0;bottom: 0;left: 50%;z-index: 0;}#sk-container-id-1 div.sk-serial {display: flex;flex-direction: column;align-items: center;background-color: white;padding-right: 0.2em;padding-left: 0.2em;position: relative;}#sk-container-id-1 div.sk-item {position: relative;z-index: 1;}#sk-container-id-1 div.sk-parallel {display: flex;align-items: stretch;justify-content: center;background-color: white;position: relative;}#sk-container-id-1 div.sk-item::before, #sk-container-id-1 div.sk-parallel-item::before {content: \"\";position: absolute;border-left: 1px solid gray;box-sizing: border-box;top: 0;bottom: 0;left: 50%;z-index: -1;}#sk-container-id-1 div.sk-parallel-item {display: flex;flex-direction: column;z-index: 1;position: relative;background-color: white;}#sk-container-id-1 div.sk-parallel-item:first-child::after {align-self: flex-end;width: 50%;}#sk-container-id-1 div.sk-parallel-item:last-child::after {align-self: flex-start;width: 50%;}#sk-container-id-1 div.sk-parallel-item:only-child::after {width: 0;}#sk-container-id-1 div.sk-dashed-wrapped {border: 1px dashed gray;margin: 0 0.4em 0.5em 0.4em;box-sizing: border-box;padding-bottom: 0.4em;background-color: white;}#sk-container-id-1 div.sk-label label {font-family: monospace;font-weight: bold;display: inline-block;line-height: 1.2em;}#sk-container-id-1 div.sk-label-container {text-align: center;}#sk-container-id-1 div.sk-container {/* jupyter's `normalize.less` sets `[hidden] { display: none; }` but bootstrap.min.css set `[hidden] { display: none !important; }` so we also need the `!important` here to be able to override the default hidden behavior on the sphinx rendered scikit-learn.org. See: https://github.com/scikit-learn/scikit-learn/issues/21755 */display: inline-block !important;position: relative;}#sk-container-id-1 div.sk-text-repr-fallback {display: none;}</style><div id=\"sk-container-id-1\" class=\"sk-top-container\"><div class=\"sk-text-repr-fallback\"><pre>RandomizedSearchCV(cv=StratifiedKFold(n_splits=10, random_state=42, shuffle=True),\n",
       "                   estimator=Pipeline(steps=[(&#x27;preprocessing&#x27;,\n",
       "                                              ColumnTransformer(remainder=&#x27;passthrough&#x27;,\n",
       "                                                                transformers=[(&#x27;Onehot&#x27;,\n",
       "                                                                               OneHotEncoder(drop=&#x27;first&#x27;),\n",
       "                                                                               [&#x27;Agency&#x27;,\n",
       "                                                                                &#x27;Agency &#x27;\n",
       "                                                                                &#x27;Type&#x27;,\n",
       "                                                                                &#x27;Distribution &#x27;\n",
       "                                                                                &#x27;Channel&#x27;,\n",
       "                                                                                &#x27;Product &#x27;\n",
       "                                                                                &#x27;Name&#x27;,\n",
       "                                                                                &#x27;Region&#x27;])])),\n",
       "                                             (&#x27;scaler&#x27;, StandardScaler()),\n",
       "                                             (&#x27;resampler&#x27;,\n",
       "                                              SMOTE(random_...\n",
       "                   param_distributions=[{&#x27;model__C&#x27;: array([1.00000000e-100, 1.66810054e-078, 2.78255940e-056, 4.64158883e-034,\n",
       "       7.74263683e-012, 1.29154967e+011, 2.15443469e+033, 3.59381366e+055,\n",
       "       5.99484250e+077, 1.00000000e+100]),\n",
       "                                         &#x27;model__max_iter&#x27;: [10, 100, 500,\n",
       "                                                             1000],\n",
       "                                         &#x27;model__penalty&#x27;: [&#x27;l1&#x27;, &#x27;l2&#x27;,\n",
       "                                                            &#x27;elasticnet&#x27;,\n",
       "                                                            &#x27;none&#x27;],\n",
       "                                         &#x27;model__solver&#x27;: [&#x27;lbfgs&#x27;, &#x27;liblinear&#x27;,\n",
       "                                                           &#x27;newton-cg&#x27;, &#x27;sag&#x27;,\n",
       "                                                           &#x27;saga&#x27;]}],\n",
       "                   random_state=1, scoring=&#x27;recall&#x27;)</pre><b>In a Jupyter environment, please rerun this cell to show the HTML representation or trust the notebook. <br />On GitHub, the HTML representation is unable to render, please try loading this page with nbviewer.org.</b></div><div class=\"sk-container\" hidden><div class=\"sk-item sk-dashed-wrapped\"><div class=\"sk-label-container\"><div class=\"sk-label sk-toggleable\"><input class=\"sk-toggleable__control sk-hidden--visually\" id=\"sk-estimator-id-1\" type=\"checkbox\" ><label for=\"sk-estimator-id-1\" class=\"sk-toggleable__label sk-toggleable__label-arrow\">RandomizedSearchCV</label><div class=\"sk-toggleable__content\"><pre>RandomizedSearchCV(cv=StratifiedKFold(n_splits=10, random_state=42, shuffle=True),\n",
       "                   estimator=Pipeline(steps=[(&#x27;preprocessing&#x27;,\n",
       "                                              ColumnTransformer(remainder=&#x27;passthrough&#x27;,\n",
       "                                                                transformers=[(&#x27;Onehot&#x27;,\n",
       "                                                                               OneHotEncoder(drop=&#x27;first&#x27;),\n",
       "                                                                               [&#x27;Agency&#x27;,\n",
       "                                                                                &#x27;Agency &#x27;\n",
       "                                                                                &#x27;Type&#x27;,\n",
       "                                                                                &#x27;Distribution &#x27;\n",
       "                                                                                &#x27;Channel&#x27;,\n",
       "                                                                                &#x27;Product &#x27;\n",
       "                                                                                &#x27;Name&#x27;,\n",
       "                                                                                &#x27;Region&#x27;])])),\n",
       "                                             (&#x27;scaler&#x27;, StandardScaler()),\n",
       "                                             (&#x27;resampler&#x27;,\n",
       "                                              SMOTE(random_...\n",
       "                   param_distributions=[{&#x27;model__C&#x27;: array([1.00000000e-100, 1.66810054e-078, 2.78255940e-056, 4.64158883e-034,\n",
       "       7.74263683e-012, 1.29154967e+011, 2.15443469e+033, 3.59381366e+055,\n",
       "       5.99484250e+077, 1.00000000e+100]),\n",
       "                                         &#x27;model__max_iter&#x27;: [10, 100, 500,\n",
       "                                                             1000],\n",
       "                                         &#x27;model__penalty&#x27;: [&#x27;l1&#x27;, &#x27;l2&#x27;,\n",
       "                                                            &#x27;elasticnet&#x27;,\n",
       "                                                            &#x27;none&#x27;],\n",
       "                                         &#x27;model__solver&#x27;: [&#x27;lbfgs&#x27;, &#x27;liblinear&#x27;,\n",
       "                                                           &#x27;newton-cg&#x27;, &#x27;sag&#x27;,\n",
       "                                                           &#x27;saga&#x27;]}],\n",
       "                   random_state=1, scoring=&#x27;recall&#x27;)</pre></div></div></div><div class=\"sk-parallel\"><div class=\"sk-parallel-item\"><div class=\"sk-item\"><div class=\"sk-label-container\"><div class=\"sk-label sk-toggleable\"><input class=\"sk-toggleable__control sk-hidden--visually\" id=\"sk-estimator-id-2\" type=\"checkbox\" ><label for=\"sk-estimator-id-2\" class=\"sk-toggleable__label sk-toggleable__label-arrow\">estimator: Pipeline</label><div class=\"sk-toggleable__content\"><pre>Pipeline(steps=[(&#x27;preprocessing&#x27;,\n",
       "                 ColumnTransformer(remainder=&#x27;passthrough&#x27;,\n",
       "                                   transformers=[(&#x27;Onehot&#x27;,\n",
       "                                                  OneHotEncoder(drop=&#x27;first&#x27;),\n",
       "                                                  [&#x27;Agency&#x27;, &#x27;Agency Type&#x27;,\n",
       "                                                   &#x27;Distribution Channel&#x27;,\n",
       "                                                   &#x27;Product Name&#x27;,\n",
       "                                                   &#x27;Region&#x27;])])),\n",
       "                (&#x27;scaler&#x27;, StandardScaler()),\n",
       "                (&#x27;resampler&#x27;, SMOTE(random_state=0)),\n",
       "                (&#x27;model&#x27;, LogisticRegression())])</pre></div></div></div><div class=\"sk-serial\"><div class=\"sk-item\"><div class=\"sk-serial\"><div class=\"sk-item sk-dashed-wrapped\"><div class=\"sk-label-container\"><div class=\"sk-label sk-toggleable\"><input class=\"sk-toggleable__control sk-hidden--visually\" id=\"sk-estimator-id-3\" type=\"checkbox\" ><label for=\"sk-estimator-id-3\" class=\"sk-toggleable__label sk-toggleable__label-arrow\">preprocessing: ColumnTransformer</label><div class=\"sk-toggleable__content\"><pre>ColumnTransformer(remainder=&#x27;passthrough&#x27;,\n",
       "                  transformers=[(&#x27;Onehot&#x27;, OneHotEncoder(drop=&#x27;first&#x27;),\n",
       "                                 [&#x27;Agency&#x27;, &#x27;Agency Type&#x27;,\n",
       "                                  &#x27;Distribution Channel&#x27;, &#x27;Product Name&#x27;,\n",
       "                                  &#x27;Region&#x27;])])</pre></div></div></div><div class=\"sk-parallel\"><div class=\"sk-parallel-item\"><div class=\"sk-item\"><div class=\"sk-label-container\"><div class=\"sk-label sk-toggleable\"><input class=\"sk-toggleable__control sk-hidden--visually\" id=\"sk-estimator-id-4\" type=\"checkbox\" ><label for=\"sk-estimator-id-4\" class=\"sk-toggleable__label sk-toggleable__label-arrow\">Onehot</label><div class=\"sk-toggleable__content\"><pre>[&#x27;Agency&#x27;, &#x27;Agency Type&#x27;, &#x27;Distribution Channel&#x27;, &#x27;Product Name&#x27;, &#x27;Region&#x27;]</pre></div></div></div><div class=\"sk-serial\"><div class=\"sk-item\"><div class=\"sk-estimator sk-toggleable\"><input class=\"sk-toggleable__control sk-hidden--visually\" id=\"sk-estimator-id-5\" type=\"checkbox\" ><label for=\"sk-estimator-id-5\" class=\"sk-toggleable__label sk-toggleable__label-arrow\">OneHotEncoder</label><div class=\"sk-toggleable__content\"><pre>OneHotEncoder(drop=&#x27;first&#x27;)</pre></div></div></div></div></div></div><div class=\"sk-parallel-item\"><div class=\"sk-item\"><div class=\"sk-label-container\"><div class=\"sk-label sk-toggleable\"><input class=\"sk-toggleable__control sk-hidden--visually\" id=\"sk-estimator-id-6\" type=\"checkbox\" ><label for=\"sk-estimator-id-6\" class=\"sk-toggleable__label sk-toggleable__label-arrow\">remainder</label><div class=\"sk-toggleable__content\"><pre>[&#x27;Duration&#x27;, &#x27;Net Sales&#x27;, &#x27;Commision (in value)&#x27;, &#x27;Age&#x27;]</pre></div></div></div><div class=\"sk-serial\"><div class=\"sk-item\"><div class=\"sk-estimator sk-toggleable\"><input class=\"sk-toggleable__control sk-hidden--visually\" id=\"sk-estimator-id-7\" type=\"checkbox\" ><label for=\"sk-estimator-id-7\" class=\"sk-toggleable__label sk-toggleable__label-arrow\">passthrough</label><div class=\"sk-toggleable__content\"><pre>passthrough</pre></div></div></div></div></div></div></div></div><div class=\"sk-item\"><div class=\"sk-estimator sk-toggleable\"><input class=\"sk-toggleable__control sk-hidden--visually\" id=\"sk-estimator-id-8\" type=\"checkbox\" ><label for=\"sk-estimator-id-8\" class=\"sk-toggleable__label sk-toggleable__label-arrow\">StandardScaler</label><div class=\"sk-toggleable__content\"><pre>StandardScaler()</pre></div></div></div><div class=\"sk-item\"><div class=\"sk-estimator sk-toggleable\"><input class=\"sk-toggleable__control sk-hidden--visually\" id=\"sk-estimator-id-9\" type=\"checkbox\" ><label for=\"sk-estimator-id-9\" class=\"sk-toggleable__label sk-toggleable__label-arrow\">SMOTE</label><div class=\"sk-toggleable__content\"><pre>SMOTE(random_state=0)</pre></div></div></div><div class=\"sk-item\"><div class=\"sk-estimator sk-toggleable\"><input class=\"sk-toggleable__control sk-hidden--visually\" id=\"sk-estimator-id-10\" type=\"checkbox\" ><label for=\"sk-estimator-id-10\" class=\"sk-toggleable__label sk-toggleable__label-arrow\">LogisticRegression</label><div class=\"sk-toggleable__content\"><pre>LogisticRegression()</pre></div></div></div></div></div></div></div></div></div></div></div></div>"
      ],
      "text/plain": [
       "RandomizedSearchCV(cv=StratifiedKFold(n_splits=10, random_state=42, shuffle=True),\n",
       "                   estimator=Pipeline(steps=[('preprocessing',\n",
       "                                              ColumnTransformer(remainder='passthrough',\n",
       "                                                                transformers=[('Onehot',\n",
       "                                                                               OneHotEncoder(drop='first'),\n",
       "                                                                               ['Agency',\n",
       "                                                                                'Agency '\n",
       "                                                                                'Type',\n",
       "                                                                                'Distribution '\n",
       "                                                                                'Channel',\n",
       "                                                                                'Product '\n",
       "                                                                                'Name',\n",
       "                                                                                'Region'])])),\n",
       "                                             ('scaler', StandardScaler()),\n",
       "                                             ('resampler',\n",
       "                                              SMOTE(random_...\n",
       "                   param_distributions=[{'model__C': array([1.00000000e-100, 1.66810054e-078, 2.78255940e-056, 4.64158883e-034,\n",
       "       7.74263683e-012, 1.29154967e+011, 2.15443469e+033, 3.59381366e+055,\n",
       "       5.99484250e+077, 1.00000000e+100]),\n",
       "                                         'model__max_iter': [10, 100, 500,\n",
       "                                                             1000],\n",
       "                                         'model__penalty': ['l1', 'l2',\n",
       "                                                            'elasticnet',\n",
       "                                                            'none'],\n",
       "                                         'model__solver': ['lbfgs', 'liblinear',\n",
       "                                                           'newton-cg', 'sag',\n",
       "                                                           'saga']}],\n",
       "                   random_state=1, scoring='recall')"
      ]
     },
     "execution_count": 51,
     "metadata": {},
     "output_type": "execute_result"
    }
   ],
   "source": [
    "# Running Hyperparameter Tuning\n",
    "random_lor.fit(X_train, y_train)"
   ]
  },
  {
   "cell_type": "markdown",
   "metadata": {
    "id": "06nL6KYfPy9A"
   },
   "source": [
    "**Result Hyperparameter Tuning**"
   ]
  },
  {
   "cell_type": "code",
   "execution_count": null,
   "metadata": {
    "colab": {
     "background_save": true
    },
    "id": "BlW9SoMPOIx4",
    "outputId": "e9c3a239-2cd4-4910-aec2-fc948b1739ab"
   },
   "outputs": [
    {
     "data": {
      "text/plain": [
       "{'model__solver': 'lbfgs',\n",
       " 'model__penalty': 'none',\n",
       " 'model__max_iter': 10,\n",
       " 'model__C': 2.7825594022071145e-56}"
      ]
     },
     "execution_count": 52,
     "metadata": {},
     "output_type": "execute_result"
    }
   ],
   "source": [
    "# Result - Best parameters\n",
    "random_lor.best_params_"
   ]
  },
  {
   "cell_type": "code",
   "execution_count": null,
   "metadata": {
    "colab": {
     "background_save": true
    },
    "id": "nzi_7GMFOXRs",
    "outputId": "d9871383-f457-4fb6-c546-74576d198917"
   },
   "outputs": [
    {
     "name": "stdout",
     "output_type": "stream",
     "text": [
      "Recall in Best parameter combination: 0.6690101757631822\n"
     ]
    }
   ],
   "source": [
    "# Result - Best Score (Recall)\n",
    "print(f'Recall in Best parameter combination: {random_lor.best_score_}')"
   ]
  },
  {
   "cell_type": "markdown",
   "metadata": {
    "id": "VO5Y95vVUnHy"
   },
   "source": [
    "**Predict Test Set with the Tuned Model**"
   ]
  },
  {
   "cell_type": "code",
   "execution_count": null,
   "metadata": {
    "colab": {
     "background_save": true
    },
    "id": "q7VI34SivPX8"
   },
   "outputs": [],
   "source": [
    "# Logistic Regression Tuned Model\n",
    "model_jagoan = random_lor.best_estimator_"
   ]
  },
  {
   "cell_type": "code",
   "execution_count": null,
   "metadata": {
    "colab": {
     "background_save": true
    },
    "id": "6sxfgMoYUKz7",
    "outputId": "70792144-a6cf-4717-ca28-65e45b246cdf"
   },
   "outputs": [
    {
     "name": "stderr",
     "output_type": "stream",
     "text": [
      "/usr/local/lib/python3.11/dist-packages/sklearn/linear_model/_logistic.py:1182: FutureWarning:\n",
      "\n",
      "`penalty='none'`has been deprecated in 1.2 and will be removed in 1.4. To keep the past behaviour, set `penalty=None`.\n",
      "\n",
      "/usr/local/lib/python3.11/dist-packages/sklearn/linear_model/_logistic.py:1192: UserWarning:\n",
      "\n",
      "Setting penalty=None will ignore the C and l1_ratio parameters\n",
      "\n",
      "/usr/local/lib/python3.11/dist-packages/sklearn/linear_model/_logistic.py:460: ConvergenceWarning:\n",
      "\n",
      "lbfgs failed to converge (status=1):\n",
      "STOP: TOTAL NO. of ITERATIONS REACHED LIMIT.\n",
      "\n",
      "Increase the number of iterations (max_iter) or scale the data as shown in:\n",
      "    https://scikit-learn.org/stable/modules/preprocessing.html\n",
      "Please also refer to the documentation for alternative solver options:\n",
      "    https://scikit-learn.org/stable/modules/linear_model.html#logistic-regression\n",
      "\n"
     ]
    }
   ],
   "source": [
    "# Fitting model\n",
    "model_jagoan.fit(X_train, y_train)\n",
    "\n",
    "# Predict test set\n",
    "y_pred_lor_tuned = model_jagoan.predict(X_test)"
   ]
  },
  {
   "cell_type": "code",
   "execution_count": null,
   "metadata": {
    "colab": {
     "background_save": true
    },
    "id": "wu93NJQpjq4E",
    "outputId": "21b854ef-14e2-4b94-a88d-fd8318fd5325"
   },
   "outputs": [
    {
     "data": {
      "application/vnd.google.colaboratory.intrinsic+json": {
       "summary": "{\n  \"name\": \"score_after_tuning\",\n  \"rows\": 1,\n  \"fields\": [\n    {\n      \"column\": \"Recall\",\n      \"properties\": {\n        \"dtype\": \"number\",\n        \"std\": null,\n        \"min\": 0.7064220183486238,\n        \"max\": 0.7064220183486238,\n        \"num_unique_values\": 1,\n        \"samples\": [\n          0.7064220183486238\n        ],\n        \"semantic_type\": \"\",\n        \"description\": \"\"\n      }\n    },\n    {\n      \"column\": \"Accuracy\",\n      \"properties\": {\n        \"dtype\": \"number\",\n        \"std\": null,\n        \"min\": 0.8012926292629263,\n        \"max\": 0.8012926292629263,\n        \"num_unique_values\": 1,\n        \"samples\": [\n          0.8012926292629263\n        ],\n        \"semantic_type\": \"\",\n        \"description\": \"\"\n      }\n    },\n    {\n      \"column\": \"ROC-AUC\",\n      \"properties\": {\n        \"dtype\": \"number\",\n        \"std\": null,\n        \"min\": 0.754579151014323,\n        \"max\": 0.754579151014323,\n        \"num_unique_values\": 1,\n        \"samples\": [\n          0.754579151014323\n        ],\n        \"semantic_type\": \"\",\n        \"description\": \"\"\n      }\n    }\n  ]\n}",
       "type": "dataframe",
       "variable_name": "score_after_tuning"
      },
      "text/html": [
       "\n",
       "  <div id=\"df-b9caa6d0-a66b-42d3-88b9-9cc82bdd0768\" class=\"colab-df-container\">\n",
       "    <div>\n",
       "<style scoped>\n",
       "    .dataframe tbody tr th:only-of-type {\n",
       "        vertical-align: middle;\n",
       "    }\n",
       "\n",
       "    .dataframe tbody tr th {\n",
       "        vertical-align: top;\n",
       "    }\n",
       "\n",
       "    .dataframe thead th {\n",
       "        text-align: right;\n",
       "    }\n",
       "</style>\n",
       "<table border=\"1\" class=\"dataframe\">\n",
       "  <thead>\n",
       "    <tr style=\"text-align: right;\">\n",
       "      <th></th>\n",
       "      <th>Recall</th>\n",
       "      <th>Accuracy</th>\n",
       "      <th>ROC-AUC</th>\n",
       "    </tr>\n",
       "  </thead>\n",
       "  <tbody>\n",
       "    <tr>\n",
       "      <th>Logistic Regression</th>\n",
       "      <td>0.706422</td>\n",
       "      <td>0.801293</td>\n",
       "      <td>0.754579</td>\n",
       "    </tr>\n",
       "  </tbody>\n",
       "</table>\n",
       "</div>\n",
       "    <div class=\"colab-df-buttons\">\n",
       "\n",
       "  <div class=\"colab-df-container\">\n",
       "    <button class=\"colab-df-convert\" onclick=\"convertToInteractive('df-b9caa6d0-a66b-42d3-88b9-9cc82bdd0768')\"\n",
       "            title=\"Convert this dataframe to an interactive table.\"\n",
       "            style=\"display:none;\">\n",
       "\n",
       "  <svg xmlns=\"http://www.w3.org/2000/svg\" height=\"24px\" viewBox=\"0 -960 960 960\">\n",
       "    <path d=\"M120-120v-720h720v720H120Zm60-500h600v-160H180v160Zm220 220h160v-160H400v160Zm0 220h160v-160H400v160ZM180-400h160v-160H180v160Zm440 0h160v-160H620v160ZM180-180h160v-160H180v160Zm440 0h160v-160H620v160Z\"/>\n",
       "  </svg>\n",
       "    </button>\n",
       "\n",
       "  <style>\n",
       "    .colab-df-container {\n",
       "      display:flex;\n",
       "      gap: 12px;\n",
       "    }\n",
       "\n",
       "    .colab-df-convert {\n",
       "      background-color: #E8F0FE;\n",
       "      border: none;\n",
       "      border-radius: 50%;\n",
       "      cursor: pointer;\n",
       "      display: none;\n",
       "      fill: #1967D2;\n",
       "      height: 32px;\n",
       "      padding: 0 0 0 0;\n",
       "      width: 32px;\n",
       "    }\n",
       "\n",
       "    .colab-df-convert:hover {\n",
       "      background-color: #E2EBFA;\n",
       "      box-shadow: 0px 1px 2px rgba(60, 64, 67, 0.3), 0px 1px 3px 1px rgba(60, 64, 67, 0.15);\n",
       "      fill: #174EA6;\n",
       "    }\n",
       "\n",
       "    .colab-df-buttons div {\n",
       "      margin-bottom: 4px;\n",
       "    }\n",
       "\n",
       "    [theme=dark] .colab-df-convert {\n",
       "      background-color: #3B4455;\n",
       "      fill: #D2E3FC;\n",
       "    }\n",
       "\n",
       "    [theme=dark] .colab-df-convert:hover {\n",
       "      background-color: #434B5C;\n",
       "      box-shadow: 0px 1px 3px 1px rgba(0, 0, 0, 0.15);\n",
       "      filter: drop-shadow(0px 1px 2px rgba(0, 0, 0, 0.3));\n",
       "      fill: #FFFFFF;\n",
       "    }\n",
       "  </style>\n",
       "\n",
       "    <script>\n",
       "      const buttonEl =\n",
       "        document.querySelector('#df-b9caa6d0-a66b-42d3-88b9-9cc82bdd0768 button.colab-df-convert');\n",
       "      buttonEl.style.display =\n",
       "        google.colab.kernel.accessAllowed ? 'block' : 'none';\n",
       "\n",
       "      async function convertToInteractive(key) {\n",
       "        const element = document.querySelector('#df-b9caa6d0-a66b-42d3-88b9-9cc82bdd0768');\n",
       "        const dataTable =\n",
       "          await google.colab.kernel.invokeFunction('convertToInteractive',\n",
       "                                                    [key], {});\n",
       "        if (!dataTable) return;\n",
       "\n",
       "        const docLinkHtml = 'Like what you see? Visit the ' +\n",
       "          '<a target=\"_blank\" href=https://colab.research.google.com/notebooks/data_table.ipynb>data table notebook</a>'\n",
       "          + ' to learn more about interactive tables.';\n",
       "        element.innerHTML = '';\n",
       "        dataTable['output_type'] = 'display_data';\n",
       "        await google.colab.output.renderOutput(dataTable, element);\n",
       "        const docLink = document.createElement('div');\n",
       "        docLink.innerHTML = docLinkHtml;\n",
       "        element.appendChild(docLink);\n",
       "      }\n",
       "    </script>\n",
       "  </div>\n",
       "\n",
       "\n",
       "  <div id=\"id_a66c9ed5-252c-4512-a8dc-39553e7c18d2\">\n",
       "    <style>\n",
       "      .colab-df-generate {\n",
       "        background-color: #E8F0FE;\n",
       "        border: none;\n",
       "        border-radius: 50%;\n",
       "        cursor: pointer;\n",
       "        display: none;\n",
       "        fill: #1967D2;\n",
       "        height: 32px;\n",
       "        padding: 0 0 0 0;\n",
       "        width: 32px;\n",
       "      }\n",
       "\n",
       "      .colab-df-generate:hover {\n",
       "        background-color: #E2EBFA;\n",
       "        box-shadow: 0px 1px 2px rgba(60, 64, 67, 0.3), 0px 1px 3px 1px rgba(60, 64, 67, 0.15);\n",
       "        fill: #174EA6;\n",
       "      }\n",
       "\n",
       "      [theme=dark] .colab-df-generate {\n",
       "        background-color: #3B4455;\n",
       "        fill: #D2E3FC;\n",
       "      }\n",
       "\n",
       "      [theme=dark] .colab-df-generate:hover {\n",
       "        background-color: #434B5C;\n",
       "        box-shadow: 0px 1px 3px 1px rgba(0, 0, 0, 0.15);\n",
       "        filter: drop-shadow(0px 1px 2px rgba(0, 0, 0, 0.3));\n",
       "        fill: #FFFFFF;\n",
       "      }\n",
       "    </style>\n",
       "    <button class=\"colab-df-generate\" onclick=\"generateWithVariable('score_after_tuning')\"\n",
       "            title=\"Generate code using this dataframe.\"\n",
       "            style=\"display:none;\">\n",
       "\n",
       "  <svg xmlns=\"http://www.w3.org/2000/svg\" height=\"24px\"viewBox=\"0 0 24 24\"\n",
       "       width=\"24px\">\n",
       "    <path d=\"M7,19H8.4L18.45,9,17,7.55,7,17.6ZM5,21V16.75L18.45,3.32a2,2,0,0,1,2.83,0l1.4,1.43a1.91,1.91,0,0,1,.58,1.4,1.91,1.91,0,0,1-.58,1.4L9.25,21ZM18.45,9,17,7.55Zm-12,3A5.31,5.31,0,0,0,4.9,8.1,5.31,5.31,0,0,0,1,6.5,5.31,5.31,0,0,0,4.9,4.9,5.31,5.31,0,0,0,6.5,1,5.31,5.31,0,0,0,8.1,4.9,5.31,5.31,0,0,0,12,6.5,5.46,5.46,0,0,0,6.5,12Z\"/>\n",
       "  </svg>\n",
       "    </button>\n",
       "    <script>\n",
       "      (() => {\n",
       "      const buttonEl =\n",
       "        document.querySelector('#id_a66c9ed5-252c-4512-a8dc-39553e7c18d2 button.colab-df-generate');\n",
       "      buttonEl.style.display =\n",
       "        google.colab.kernel.accessAllowed ? 'block' : 'none';\n",
       "\n",
       "      buttonEl.onclick = () => {\n",
       "        google.colab.notebook.generateWithVariable('score_after_tuning');\n",
       "      }\n",
       "      })();\n",
       "    </script>\n",
       "  </div>\n",
       "\n",
       "    </div>\n",
       "  </div>\n"
      ],
      "text/plain": [
       "                       Recall  Accuracy   ROC-AUC\n",
       "Logistic Regression  0.706422  0.801293  0.754579"
      ]
     },
     "execution_count": 56,
     "metadata": {},
     "output_type": "execute_result"
    }
   ],
   "source": [
    "# Model Random Forest\n",
    "model = {'Logistic Regression' : LogisticRegression()}\n",
    "\n",
    "# Variable Evaluation Metrics\n",
    "recall_lor_tuned = recall_score(y_test, y_pred_lor_tuned)\n",
    "accuracy_lor_tuned = accuracy_score(y_test, y_pred_lor_tuned)\n",
    "roc_auc_lor_tuned = roc_auc_score(y_test, y_pred_lor_tuned)\n",
    "\n",
    "# Score Evaluation Metric\n",
    "score_after_tuning = pd.DataFrame({\n",
    "    'Recall': recall_lor_tuned,\n",
    "    'Accuracy': accuracy_lor_tuned,\n",
    "    'ROC-AUC': roc_auc_lor_tuned\n",
    "    }, index=model.keys())\n",
    "\n",
    "#show Table\n",
    "score_after_tuning"
   ]
  },
  {
   "cell_type": "markdown",
   "metadata": {
    "id": "4AhbBlCtbhN_"
   },
   "source": [
    "**Result from Tuned Model**"
   ]
  },
  {
   "cell_type": "code",
   "execution_count": null,
   "metadata": {
    "colab": {
     "background_save": true
    },
    "id": "ExjnSJNzNuoj",
    "outputId": "c65e0bb4-3915-49b6-8c99-2883a922b8b8"
   },
   "outputs": [
    {
     "name": "stdout",
     "output_type": "stream",
     "text": [
      "              precision    recall  f1-score   support\n",
      "\n",
      "           0       0.99      0.80      0.89      7163\n",
      "           1       0.05      0.71      0.10       109\n",
      "\n",
      "    accuracy                           0.80      7272\n",
      "   macro avg       0.52      0.75      0.49      7272\n",
      "weighted avg       0.98      0.80      0.88      7272\n",
      "\n"
     ]
    }
   ],
   "source": [
    "# Variable Summary\n",
    "summary_after_tuned = classification_report(y_test, y_pred_lor_tuned)\n",
    "\n",
    "#Show Evaluation Tuned Model\n",
    "print(summary_after_tuned)"
   ]
  },
  {
   "cell_type": "markdown",
   "metadata": {
    "id": "eK5xG2cjn5o-"
   },
   "source": [
    "##Summary Modelling Process and Optimalization"
   ]
  },
  {
   "cell_type": "markdown",
   "metadata": {
    "id": "bQ3lvO_Cn-sv"
   },
   "source": [
    "**Summary of Modelling Process and Optimalization:**\n",
    "1. Choose Model: Logistic Regression\n",
    "  - Train Set: Logistic Regression achieved 66.31%, while other models ranged from 12-32%.\n",
    "  - Test Set: Logistic Regression achieved 70.64%, while other models ranged from 9-30%.\n",
    "2. Hyperparameter Tuning for Logistic Regression:\n",
    "  - Best Parameters:\n",
    "    - model__solver: 'lbfgs'\n",
    "    - model__penalty: 'none'\n",
    "    - model__max_iter: 10\n",
    "    - model__C: 2,78 x 1e-56\n",
    "  - Best Results (Recall):\n",
    "    - Train Set: 66.31%\n",
    "    - Test Set: 70.64%"
   ]
  },
  {
   "cell_type": "markdown",
   "metadata": {
    "id": "oAkwFtzcbjj3"
   },
   "source": [
    "#Explain AI"
   ]
  },
  {
   "cell_type": "markdown",
   "metadata": {
    "id": "kdpuL4Abbshg"
   },
   "source": [
    "##Confusion Matrix"
   ]
  },
  {
   "cell_type": "code",
   "execution_count": null,
   "metadata": {
    "colab": {
     "background_save": true
    },
    "id": "ZzKdT6Ffafh_",
    "outputId": "81ef836e-5af2-45a7-b750-6329bcc6eab4"
   },
   "outputs": [
    {
     "data": {
      "image/png": "[encoded data removed]",
      "text/plain": [
       "<Figure size 640x480 with 2 Axes>"
      ]
     },
     "metadata": {},
     "output_type": "display_data"
    }
   ],
   "source": [
    "# Confusion Matrix from Tuned Model\n",
    "conf_matrix = confusion_matrix(y_test, y_pred_lor_tuned)\n",
    "\n",
    "# Heatmap for Conf Matrix\n",
    "sns.heatmap(conf_matrix,                            #Source data\n",
    "            annot=True,                             #Show number\n",
    "            fmt='d',                                #Round number\n",
    "            cmap='Blues',                           #Cell Colour\n",
    "            xticklabels=['Not Claim', 'Claim'],     #X-Label\n",
    "            yticklabels=['Not Claim', 'Claim'])     #Y-Label\n",
    "\n",
    "# Setting Addition\n",
    "plt.title('Confusion Matrix')\n",
    "plt.xlabel('Predicted')\n",
    "plt.ylabel('Actual')\n",
    "\n",
    "# Show\n",
    "plt.show()"
   ]
  },
  {
   "cell_type": "markdown",
   "metadata": {
    "id": "lfhuRCiylzBm"
   },
   "source": [
    "##SHAP"
   ]
  },
  {
   "cell_type": "markdown",
   "metadata": {
    "id": "WbzxbqVGl1wW"
   },
   "source": [
    "**Import Library**"
   ]
  },
  {
   "cell_type": "code",
   "execution_count": null,
   "metadata": {
    "colab": {
     "background_save": true
    },
    "id": "YUSJRertl0P_"
   },
   "outputs": [],
   "source": [
    "import shap"
   ]
  },
  {
   "cell_type": "markdown",
   "metadata": {
    "id": "GgAjzFmRa1nR"
   },
   "source": [
    "**SHAP Configuration and Calculation**"
   ]
  },
  {
   "cell_type": "code",
   "execution_count": null,
   "metadata": {
    "id": "NOcDL436mNSg"
   },
   "outputs": [],
   "source": [
    "# SHAP Explainer Configuration\n",
    "explainer = shap.Explainer(\n",
    "    model_jagoan[-1].predict,\n",
    "    model_jagoan[0].transform(X_test)\n",
    ")\n",
    "\n",
    "# SHAP Values\n",
    "shap_values = explainer(model_jagoan[0].transform(X_test))"
   ]
  },
  {
   "cell_type": "markdown",
   "metadata": {
    "id": "bjoQxOmzlIT4"
   },
   "source": [
    "**Get Feature Names**"
   ]
  },
  {
   "cell_type": "code",
   "execution_count": null,
   "metadata": {
    "colab": {
     "background_save": true
    },
    "id": "QdxChe68lElr",
    "outputId": "addddf77-f736-4154-eefa-eaa1079e53aa"
   },
   "outputs": [
    {
     "data": {
      "text/plain": [
       "array(['Onehot__Agency_CWT', 'Onehot__Agency_EPX', 'Onehot__Agency_JZI',\n",
       "       'Onehot__Agency_Others', 'Onehot__Agency Type_Travel Agency',\n",
       "       'Onehot__Distribution Channel_Online',\n",
       "       'Onehot__Product Name_2 way Comprehensive Plan',\n",
       "       'Onehot__Product Name_Basic Plan',\n",
       "       'Onehot__Product Name_Bronze Plan',\n",
       "       'Onehot__Product Name_Cancellation Plan',\n",
       "       'Onehot__Product Name_Others Product',\n",
       "       'Onehot__Product Name_Rental Vehicle Excess Insurance',\n",
       "       'Onehot__Product Name_Silver Plan',\n",
       "       'Onehot__Product Name_Ticket Protector',\n",
       "       'Onehot__Product Name_Value Plan', 'Onehot__Region_East Asia',\n",
       "       'Onehot__Region_Europe', 'Onehot__Region_North America',\n",
       "       'Onehot__Region_Others', 'Onehot__Region_South Asia',\n",
       "       'remainder__Duration', 'remainder__Net Sales',\n",
       "       'remainder__Commision (in value)', 'remainder__Age'], dtype=object)"
      ]
     },
     "execution_count": 61,
     "metadata": {},
     "output_type": "execute_result"
    }
   ],
   "source": [
    "# Nama Column di Transformer\n",
    "transformer.get_feature_names_out()"
   ]
  },
  {
   "cell_type": "code",
   "execution_count": null,
   "metadata": {
    "colab": {
     "background_save": true
    },
    "id": "XFBC9iM1lHZQ",
    "outputId": "a8f6334d-1d70-46fd-f44e-d42342de74cc"
   },
   "outputs": [
    {
     "data": {
      "text/plain": [
       "['Agency_CWT',\n",
       " 'Agency_EPX',\n",
       " 'Agency_JZI',\n",
       " 'Agency_Others',\n",
       " 'Agency Type_Travel Agency',\n",
       " 'Distribution Channel_Online',\n",
       " 'Product Name_2 way Comprehensive Plan',\n",
       " 'Product Name_Basic Plan',\n",
       " 'Product Name_Bronze Plan',\n",
       " 'Product Name_Cancellation Plan',\n",
       " 'Product Name_Others Product',\n",
       " 'Product Name_Rental Vehicle Excess Insurance',\n",
       " 'Product Name_Silver Plan',\n",
       " 'Product Name_Ticket Protector',\n",
       " 'Product Name_Value Plan',\n",
       " 'Region_East Asia',\n",
       " 'Region_Europe',\n",
       " 'Region_North America',\n",
       " 'Region_Others',\n",
       " 'Region_South Asia',\n",
       " 'Duration',\n",
       " 'Net Sales',\n",
       " 'Commision (in value)',\n",
       " 'Age']"
      ]
     },
     "execution_count": 62,
     "metadata": {},
     "output_type": "execute_result"
    }
   ],
   "source": [
    "# nama features\n",
    "features = list(transformer.get_feature_names_out())\n",
    "\n",
    "list_features = []\n",
    "\n",
    "for feature in features:\n",
    "    list_features.append('_'.join(feature.split('_')[2:]))\n",
    "\n",
    "list_features"
   ]
  },
  {
   "cell_type": "markdown",
   "metadata": {
    "id": "d6JgNlWAmErF"
   },
   "source": [
    "**SHAP - Violin Plot Overview**"
   ]
  },
  {
   "cell_type": "code",
   "execution_count": null,
   "metadata": {
    "colab": {
     "background_save": true
    },
    "id": "lR0t6shTmpCF",
    "outputId": "cab48a57-2fb4-434b-fb2f-3d53d9a55c75"
   },
   "outputs": [
    {
     "data": {
      "image/png": "[encoded data removed]",
      "text/plain": [
       "<Figure size 800x950 with 2 Axes>"
      ]
     },
     "metadata": {},
     "output_type": "display_data"
    }
   ],
   "source": [
    "# SHAP : Violin Plot\n",
    "shap.summary_plot(\n",
    "    shap_values,\n",
    "    feature_names = list_features,\n",
    "    plot_type='violin'\n",
    ")"
   ]
  }
 ],
 "metadata": {
  "colab": {
   "provenance": [],
   "toc_visible": true
  },
  "kernelspec": {
   "display_name": "Python 3",
   "name": "python3"
  },
  "language_info": {
   "name": "python"
  }
 },
 "nbformat": 4,
 "nbformat_minor": 0
}
